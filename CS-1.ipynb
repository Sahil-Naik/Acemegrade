{
 "cells": [
  {
   "cell_type": "markdown",
   "id": "f689f12a",
   "metadata": {},
   "source": [
    "## Case Studies - 1"
   ]
  },
  {
   "cell_type": "markdown",
   "id": "994559dc",
   "metadata": {},
   "source": [
    "### Q1. Write a Python program to get the Python version you are using."
   ]
  },
  {
   "cell_type": "code",
   "execution_count": 3,
   "id": "df2f1a5f",
   "metadata": {},
   "outputs": [
    {
     "name": "stdout",
     "output_type": "stream",
     "text": [
      "Python version is 3.8.8 (default, Apr 13 2021, 15:08:03) [MSC v.1916 64 bit (AMD64)].\n",
      "Version info is sys.version_info(major=3, minor=8, micro=8, releaselevel='final', serial=0).\n"
     ]
    }
   ],
   "source": [
    "import sys\n",
    "print(\"Python version is {}.\".format(sys.version))\n",
    "print(\"Version info is {}.\".format(sys.version_info))"
   ]
  },
  {
   "cell_type": "markdown",
   "id": "a77eed2d",
   "metadata": {},
   "source": [
    "---"
   ]
  },
  {
   "cell_type": "markdown",
   "id": "4608df92",
   "metadata": {},
   "source": [
    "### Q2. Write a Python program to display the current date and time."
   ]
  },
  {
   "cell_type": "code",
   "execution_count": 8,
   "id": "058099dd",
   "metadata": {},
   "outputs": [
    {
     "name": "stdout",
     "output_type": "stream",
     "text": [
      "Current time is 16:19:02 and its 18/04/22.\n",
      "Today is Monday.\n",
      "Have a nice day :)\n"
     ]
    }
   ],
   "source": [
    "import datetime as dt\n",
    "current = dt.datetime.now()\n",
    "print(\"Current time is {} and its {}.\".format(current.strftime(\"%H:%M:%S\"), current.strftime(\"%d/%m/%y\")))\n",
    "print(\"Today is {}.\\nHave a nice day :)\".format(current.strftime(\"%A\")))"
   ]
  },
  {
   "cell_type": "markdown",
   "id": "de60bb40",
   "metadata": {},
   "source": [
    "---"
   ]
  },
  {
   "cell_type": "markdown",
   "id": "3de4249e",
   "metadata": {},
   "source": [
    "### Q3. Write a Python program which accepts the radius of a circle from the user and compute the area. "
   ]
  },
  {
   "cell_type": "code",
   "execution_count": 70,
   "id": "b9ef3d10",
   "metadata": {},
   "outputs": [
    {
     "name": "stdout",
     "output_type": "stream",
     "text": [
      "Enter radius: 3.54\n",
      "Area of circle is 39.349.\n"
     ]
    }
   ],
   "source": [
    "pi = 3.14\n",
    "circ_area = 0\n",
    "\n",
    "get_radii = float(input(\"Enter radius: \"))\n",
    "area = pi*(get_radii**2)\n",
    "\n",
    "print(\"Area of circle is {}.\".format(round(area,3)))"
   ]
  },
  {
   "cell_type": "markdown",
   "id": "911a11f1",
   "metadata": {},
   "source": [
    "---"
   ]
  },
  {
   "cell_type": "markdown",
   "id": "c00bcfaa",
   "metadata": {},
   "source": [
    "### Q4. Write a Python program which accepts the user's first and last name and print them in reverse order with a space between them ."
   ]
  },
  {
   "cell_type": "code",
   "execution_count": 21,
   "id": "07527f61",
   "metadata": {},
   "outputs": [
    {
     "name": "stdout",
     "output_type": "stream",
     "text": [
      "Enter your first name: Sahil Naik\n",
      "Last name is Naik, First name is Sahil\n"
     ]
    }
   ],
   "source": [
    "get_first, get_last = input(\"Enter your first name: \").split(\" \")\n",
    "print(\"Last name is {}, First name is {}\".format(get_last,get_first))"
   ]
  },
  {
   "cell_type": "markdown",
   "id": "5397181b",
   "metadata": {},
   "source": [
    "---"
   ]
  },
  {
   "cell_type": "markdown",
   "id": "6dcc729b",
   "metadata": {},
   "source": [
    "### Q5. Write a Python program which accepts a sequence of comma-separated numbers from user and generate a list and a tuple with those numbers."
   ]
  },
  {
   "cell_type": "markdown",
   "id": "d29d9771",
   "metadata": {},
   "source": [
    "#### Method-1"
   ]
  },
  {
   "cell_type": "code",
   "execution_count": 35,
   "id": "602423ba",
   "metadata": {},
   "outputs": [
    {
     "name": "stdout",
     "output_type": "stream",
     "text": [
      "Enter sequence: 2,9,5,4,12\n",
      "Sequence is [2, 9, 5, 4, 1, 2]\n"
     ]
    }
   ],
   "source": [
    "get_seq = input(\"Enter sequence: \")\n",
    "store_seq = []\n",
    "for i in get_seq:\n",
    "    if i != \",\":\n",
    "        store_seq.append(int(i))\n",
    "print(\"Sequence is {}\".format(store_seq))"
   ]
  },
  {
   "cell_type": "markdown",
   "id": "f4863522",
   "metadata": {},
   "source": [
    "#### Method-2"
   ]
  },
  {
   "cell_type": "code",
   "execution_count": 36,
   "id": "abff61ef",
   "metadata": {},
   "outputs": [
    {
     "name": "stdout",
     "output_type": "stream",
     "text": [
      "Enter sequence: 23,15,95,100\n",
      "Sequence is ['23', '15', '95', '100'].\n"
     ]
    }
   ],
   "source": [
    "seq = input(\"Enter sequence: \")\n",
    "seq_list = seq.split(\",\")\n",
    "list(seq_list)\n",
    "print(\"Sequence is {}.\".format(seq_list))"
   ]
  },
  {
   "cell_type": "markdown",
   "id": "bb57081f",
   "metadata": {},
   "source": [
    "---"
   ]
  },
  {
   "cell_type": "markdown",
   "id": "ae39e643",
   "metadata": {},
   "source": [
    "### Q6. Write a Python program to accept a filename from the user and print the extension of that."
   ]
  },
  {
   "cell_type": "code",
   "execution_count": 39,
   "id": "2930f74e",
   "metadata": {},
   "outputs": [
    {
     "name": "stdout",
     "output_type": "stream",
     "text": [
      "Enter filename: mypython.ipynb\n",
      "Extension is ipynb.\n"
     ]
    }
   ],
   "source": [
    "get_file = input(\"Enter filename: \")\n",
    "extension = get_file.split(\".\")\n",
    "print(\"Extension is {}.\".format(extension[-1]))"
   ]
  },
  {
   "cell_type": "markdown",
   "id": "0026d174",
   "metadata": {},
   "source": [
    "---"
   ]
  },
  {
   "cell_type": "markdown",
   "id": "6094c325",
   "metadata": {},
   "source": [
    "### Q7. Write a Python program to display the first and last colors from the following list."
   ]
  },
  {
   "cell_type": "code",
   "execution_count": 43,
   "id": "03206f17",
   "metadata": {},
   "outputs": [
    {
     "name": "stdout",
     "output_type": "stream",
     "text": [
      "Enter colors: Red,Yellow,Blue,Cyan\n",
      "First color is Red, Last color is Cyan.\n"
     ]
    }
   ],
   "source": [
    "get_color = input(\"Enter colors: \")\n",
    "color = get_color.split(\",\")\n",
    "print(\"First color is {}, Last color is {}.\".format(color[0],color[-1]))"
   ]
  },
  {
   "cell_type": "markdown",
   "id": "ebb7e27a",
   "metadata": {},
   "source": [
    "---"
   ]
  },
  {
   "cell_type": "markdown",
   "id": "3c304cd1",
   "metadata": {},
   "source": [
    "### Q8. Write a Python program that accepts an integer (n) and computes the value of n+nn+nnn."
   ]
  },
  {
   "cell_type": "markdown",
   "id": "8d27fc87",
   "metadata": {},
   "source": [
    "**For n+nn+nnn**"
   ]
  },
  {
   "cell_type": "code",
   "execution_count": 68,
   "id": "a39ee5fb",
   "metadata": {},
   "outputs": [
    {
     "name": "stdout",
     "output_type": "stream",
     "text": [
      "Enter value of 'n': 5\n",
      "Value of n+nn+nnn is 615.\n"
     ]
    }
   ],
   "source": [
    "lim = input(\"Enter value of 'n': \")\n",
    "computational = []\n",
    "get_sum = 0\n",
    "\n",
    "for i in range(4):\n",
    "    if i !=0:\n",
    "        computational.append(lim*i)\n",
    "\n",
    "for j in computational:\n",
    "    k = int(j)\n",
    "    get_sum += k\n",
    "    \n",
    "print(\"Value of n+nn+nnn is {}.\".format((get_sum)))"
   ]
  },
  {
   "cell_type": "markdown",
   "id": "43795354",
   "metadata": {},
   "source": [
    "**For n+nn+nnn+...**"
   ]
  },
  {
   "cell_type": "code",
   "execution_count": 69,
   "id": "52f049e0",
   "metadata": {},
   "outputs": [
    {
     "name": "stdout",
     "output_type": "stream",
     "text": [
      "Enter value of 'n': 1\n",
      "Enter how many times to repeat: 2\n",
      "Value of n+nn+nnn... is 12.\n"
     ]
    }
   ],
   "source": [
    "lim = input(\"Enter value of 'n': \")\n",
    "computational = []\n",
    "get_sum = 0\n",
    "rep = int(input(\"Enter how many times to repeat: \"))\n",
    "\n",
    "for i in range(rep+1):\n",
    "    if i !=0:\n",
    "        computational.append(lim*i)\n",
    "\n",
    "for j in computational:\n",
    "    k = int(j)\n",
    "    get_sum += k\n",
    "    \n",
    "print(\"Value of n+nn+nnn... is {}.\".format((get_sum)))"
   ]
  },
  {
   "cell_type": "markdown",
   "id": "1a94cee2",
   "metadata": {},
   "source": [
    "---"
   ]
  },
  {
   "cell_type": "markdown",
   "id": "18e813a2",
   "metadata": {},
   "source": [
    "### Q9. Write a Python program to get the volume of a sphere with radius 6."
   ]
  },
  {
   "cell_type": "code",
   "execution_count": 72,
   "id": "8badc05a",
   "metadata": {},
   "outputs": [
    {
     "name": "stdout",
     "output_type": "stream",
     "text": [
      "Volume of a sphere with radius 6 is 904.32\n"
     ]
    }
   ],
   "source": [
    "pi = 3.14\n",
    "radius = 6.0\n",
    "\n",
    "vol = float((4/3)*pi*(radius**3))\n",
    "print(\"Volume of a sphere with radius 6 is {}\".format(round(vol,3)))"
   ]
  },
  {
   "cell_type": "markdown",
   "id": "96a0a40d",
   "metadata": {},
   "source": [
    "---"
   ]
  },
  {
   "cell_type": "markdown",
   "id": "599d1fa8",
   "metadata": {},
   "source": [
    "### Q10. Write a Python program to convert seconds to day, hour, minutes and seconds."
   ]
  },
  {
   "cell_type": "code",
   "execution_count": 102,
   "id": "76431c88",
   "metadata": {},
   "outputs": [
    {
     "name": "stdout",
     "output_type": "stream",
     "text": [
      "Enter Seconds: 892040\n",
      "Sec: 20\n",
      "Min: 47\n",
      "Hrs: 7\n",
      "Days: 10\n"
     ]
    }
   ],
   "source": [
    "total_seconds = int(input(\"Enter Seconds: \"))\n",
    "seconds = int(total_seconds % 60)\n",
    "minutes = int((total_seconds % 3600)/60)\n",
    "hours = int((total_seconds % 86400)/3600)\n",
    "days = int((total_seconds % (86400 * 30))/86400)\n",
    "\n",
    "print(\"Sec: {}\".format(seconds))\n",
    "print(\"Min: {}\".format(minutes))\n",
    "print(\"Hrs: {}\".format(hours))\n",
    "print(\"Days: {}\".format(days))"
   ]
  },
  {
   "cell_type": "markdown",
   "id": "f7cac001",
   "metadata": {},
   "source": [
    "---"
   ]
  }
 ],
 "metadata": {
  "kernelspec": {
   "display_name": "Python 3",
   "language": "python",
   "name": "python3"
  },
  "language_info": {
   "codemirror_mode": {
    "name": "ipython",
    "version": 3
   },
   "file_extension": ".py",
   "mimetype": "text/x-python",
   "name": "python",
   "nbconvert_exporter": "python",
   "pygments_lexer": "ipython3",
   "version": "3.8.8"
  }
 },
 "nbformat": 4,
 "nbformat_minor": 5
}
