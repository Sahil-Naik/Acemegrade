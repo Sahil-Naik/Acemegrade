{
 "cells": [
  {
   "cell_type": "markdown",
   "id": "51fd69ba",
   "metadata": {},
   "source": [
    "### Q1. Write a NumPy program to get the numpy version and show numpy build configuration."
   ]
  },
  {
   "cell_type": "code",
   "execution_count": 5,
   "id": "d1e909ca",
   "metadata": {},
   "outputs": [
    {
     "name": "stdout",
     "output_type": "stream",
     "text": [
      "Current Numpy Version is: 1.19.5\n",
      "blas_mkl_info:\n",
      "  NOT AVAILABLE\n",
      "blis_info:\n",
      "  NOT AVAILABLE\n",
      "openblas_info:\n",
      "    library_dirs = ['D:\\\\a\\\\1\\\\s\\\\numpy\\\\build\\\\openblas_info']\n",
      "    libraries = ['openblas_info']\n",
      "    language = f77\n",
      "    define_macros = [('HAVE_CBLAS', None)]\n",
      "blas_opt_info:\n",
      "    library_dirs = ['D:\\\\a\\\\1\\\\s\\\\numpy\\\\build\\\\openblas_info']\n",
      "    libraries = ['openblas_info']\n",
      "    language = f77\n",
      "    define_macros = [('HAVE_CBLAS', None)]\n",
      "lapack_mkl_info:\n",
      "  NOT AVAILABLE\n",
      "openblas_lapack_info:\n",
      "    library_dirs = ['D:\\\\a\\\\1\\\\s\\\\numpy\\\\build\\\\openblas_lapack_info']\n",
      "    libraries = ['openblas_lapack_info']\n",
      "    language = f77\n",
      "    define_macros = [('HAVE_CBLAS', None)]\n",
      "lapack_opt_info:\n",
      "    library_dirs = ['D:\\\\a\\\\1\\\\s\\\\numpy\\\\build\\\\openblas_lapack_info']\n",
      "    libraries = ['openblas_lapack_info']\n",
      "    language = f77\n",
      "    define_macros = [('HAVE_CBLAS', None)]\n",
      "\n",
      "Current Numpy Config is: None\n"
     ]
    }
   ],
   "source": [
    "import numpy as np\n",
    "print(\"Current Numpy Version is: {}\".format(np.__version__))\n",
    "print(\"\\nCurrent Numpy Config is: {}\".format(np.show_config()))"
   ]
  },
  {
   "cell_type": "markdown",
   "id": "aa06d1de",
   "metadata": {},
   "source": [
    "---"
   ]
  },
  {
   "cell_type": "markdown",
   "id": "1aadf645",
   "metadata": {},
   "source": [
    "### Q2. Write a NumPy program to  get help on the add function. "
   ]
  },
  {
   "cell_type": "code",
   "execution_count": 7,
   "id": "391c22e3",
   "metadata": {},
   "outputs": [
    {
     "name": "stdout",
     "output_type": "stream",
     "text": [
      "add(x1, x2, /, out=None, *, where=True, casting='same_kind', order='K', dtype=None, subok=True[, signature, extobj])\n",
      "\n",
      "Add arguments element-wise.\n",
      "\n",
      "Parameters\n",
      "----------\n",
      "x1, x2 : array_like\n",
      "    The arrays to be added.\n",
      "    If ``x1.shape != x2.shape``, they must be broadcastable to a common\n",
      "    shape (which becomes the shape of the output).\n",
      "out : ndarray, None, or tuple of ndarray and None, optional\n",
      "    A location into which the result is stored. If provided, it must have\n",
      "    a shape that the inputs broadcast to. If not provided or None,\n",
      "    a freshly-allocated array is returned. A tuple (possible only as a\n",
      "    keyword argument) must have length equal to the number of outputs.\n",
      "where : array_like, optional\n",
      "    This condition is broadcast over the input. At locations where the\n",
      "    condition is True, the `out` array will be set to the ufunc result.\n",
      "    Elsewhere, the `out` array will retain its original value.\n",
      "    Note that if an uninitialized `out` array is created via the default\n",
      "    ``out=None``, locations within it where the condition is False will\n",
      "    remain uninitialized.\n",
      "**kwargs\n",
      "    For other keyword-only arguments, see the\n",
      "    :ref:`ufunc docs <ufuncs.kwargs>`.\n",
      "\n",
      "Returns\n",
      "-------\n",
      "add : ndarray or scalar\n",
      "    The sum of `x1` and `x2`, element-wise.\n",
      "    This is a scalar if both `x1` and `x2` are scalars.\n",
      "\n",
      "Notes\n",
      "-----\n",
      "Equivalent to `x1` + `x2` in terms of array broadcasting.\n",
      "\n",
      "Examples\n",
      "--------\n",
      ">>> np.add(1.0, 4.0)\n",
      "5.0\n",
      ">>> x1 = np.arange(9.0).reshape((3, 3))\n",
      ">>> x2 = np.arange(3.0)\n",
      ">>> np.add(x1, x2)\n",
      "array([[  0.,   2.,   4.],\n",
      "       [  3.,   5.,   7.],\n",
      "       [  6.,   8.,  10.]])\n",
      "Help on add function is: None\n"
     ]
    }
   ],
   "source": [
    "import numpy as np\n",
    "print(\"Help on add function is: {}\".format(np.info(np.add)))"
   ]
  },
  {
   "cell_type": "markdown",
   "id": "20eb1e85",
   "metadata": {},
   "source": [
    "---"
   ]
  },
  {
   "cell_type": "markdown",
   "id": "8476615a",
   "metadata": {},
   "source": [
    "### Q3.Write a NumPy program to test whether none of the elements of a given array is zero."
   ]
  },
  {
   "cell_type": "code",
   "execution_count": 15,
   "id": "821afd9b",
   "metadata": {},
   "outputs": [
    {
     "name": "stdout",
     "output_type": "stream",
     "text": [
      "Given array is: [1 2 3 4 5]\n",
      "All element in 'arr1' is non-zero: True\n",
      "\n",
      "Given array is: [1 0 3 4 5]\n",
      "All element in 'arr2' is non-zero: False\n"
     ]
    }
   ],
   "source": [
    "import numpy as np\n",
    "arr1 = np.array([1,2,3,4,5])\n",
    "print(\"Given array is: {}\".format(arr1))\n",
    "print(\"All element in 'arr1' is non-zero: {}\".format(np.all(arr1)))\n",
    "\n",
    "arr2 = np.array([1,0,3,4,5])\n",
    "print(\"\\nGiven array is: {}\".format(arr2))\n",
    "print(\"All element in 'arr2' is non-zero: {}\".format(np.all(arr2)))"
   ]
  },
  {
   "cell_type": "markdown",
   "id": "4ff87384",
   "metadata": {},
   "source": [
    "---"
   ]
  },
  {
   "cell_type": "markdown",
   "id": "fc2321a6",
   "metadata": {},
   "source": [
    "### Q4. Write a NumPy program to test whether any of the elements of a given array is non-zero. "
   ]
  },
  {
   "cell_type": "code",
   "execution_count": 16,
   "id": "751baecf",
   "metadata": {},
   "outputs": [
    {
     "name": "stdout",
     "output_type": "stream",
     "text": [
      "Given array is: [1 2 3 4 5]\n",
      "Any element in 'arr1' is non-zero: True\n",
      "\n",
      "Given array is: [1 0 3 4 5]\n",
      "Any element in 'arr2' is non-zero: True\n"
     ]
    }
   ],
   "source": [
    "import numpy as np\n",
    "arr1 = np.array([1,2,3,4,5])\n",
    "print(\"Given array is: {}\".format(arr1))\n",
    "print(\"Any element in 'arr1' is non-zero: {}\".format(np.any(arr1)))\n",
    "\n",
    "arr2 = np.array([1,0,3,4,5])\n",
    "print(\"\\nGiven array is: {}\".format(arr2))\n",
    "print(\"Any element in 'arr2' is non-zero: {}\".format(np.any(arr2)))"
   ]
  },
  {
   "cell_type": "markdown",
   "id": "470be3f1",
   "metadata": {},
   "source": [
    "---"
   ]
  },
  {
   "cell_type": "markdown",
   "id": "8e90e814",
   "metadata": {},
   "source": [
    "### Q5. Write a NumPy program to test a given array element-wise for finiteness (not infinity or not a Number)."
   ]
  },
  {
   "cell_type": "code",
   "execution_count": 23,
   "id": "2705b721",
   "metadata": {},
   "outputs": [
    {
     "name": "stdout",
     "output_type": "stream",
     "text": [
      "Given array is: [ 1.  0. nan inf]\n",
      "Test a given array element-wise for finiteness: [ True  True False False]\n",
      "\n",
      "Given array is: [ 1  0 56 12]\n",
      "Test a given array element-wise for finiteness: [ True  True  True  True]\n"
     ]
    }
   ],
   "source": [
    "import numpy as np\n",
    "\n",
    "arr1 = np.array([1, 0, np.nan, np.inf])\n",
    "print(\"Given array is: {}\".format(arr1))\n",
    "print(\"Test a given array element-wise for finiteness: {}\".format(np.isfinite(arr1)))\n",
    "\n",
    "arr2 = np.array([1, 0, 56, 12])\n",
    "print(\"\\nGiven array is: {}\".format(arr2))\n",
    "print(\"Test a given array element-wise for finiteness: {}\".format(np.isfinite(arr2)))"
   ]
  },
  {
   "cell_type": "markdown",
   "id": "ac6a1008",
   "metadata": {},
   "source": [
    "---"
   ]
  },
  {
   "cell_type": "markdown",
   "id": "58b1239b",
   "metadata": {},
   "source": [
    "### Q6. Write a NumPy program to test element-wise for positive or negative infinity."
   ]
  },
  {
   "cell_type": "code",
   "execution_count": 28,
   "id": "a2d256be",
   "metadata": {},
   "outputs": [
    {
     "name": "stdout",
     "output_type": "stream",
     "text": [
      "Given array is: [ 1.  0. nan inf]\n",
      "Test a given array element-wise for positive or negative infinity: [False False False  True]\n"
     ]
    }
   ],
   "source": [
    "import numpy as np\n",
    "\n",
    "arr1 = np.array([1, 0, np.nan, np.inf])\n",
    "print(\"Given array is: {}\".format(arr1))\n",
    "print(\"Test a given array element-wise for positive or negative infinity: {}\".format(np.isinf(arr1)))"
   ]
  },
  {
   "cell_type": "markdown",
   "id": "d7ab79a7",
   "metadata": {},
   "source": [
    "---"
   ]
  },
  {
   "cell_type": "markdown",
   "id": "53a6a2a2",
   "metadata": {},
   "source": [
    "### Q7. Write a NumPy program to test element-wise for NaN of a given array."
   ]
  },
  {
   "cell_type": "code",
   "execution_count": 30,
   "id": "8538f3aa",
   "metadata": {},
   "outputs": [
    {
     "name": "stdout",
     "output_type": "stream",
     "text": [
      "Given array is: [ 1.  0. nan inf]\n",
      "Test a given array element-wise for NaN: [False False  True False]\n"
     ]
    }
   ],
   "source": [
    "import numpy as np\n",
    "\n",
    "arr1 = np.array([1, 0, np.nan, np.inf])\n",
    "print(\"Given array is: {}\".format(arr1))\n",
    "print(\"Test a given array element-wise for NaN: {}\".format(np.isnan(arr1)))"
   ]
  },
  {
   "cell_type": "markdown",
   "id": "53984f7f",
   "metadata": {},
   "source": [
    "---"
   ]
  },
  {
   "cell_type": "markdown",
   "id": "e022fd26",
   "metadata": {},
   "source": [
    "### Q8. Write a NumPy program to test element-wise for complex number, real number of a given array. Also test whether a given number is a scalar type or not."
   ]
  },
  {
   "cell_type": "code",
   "execution_count": 42,
   "id": "bc7da1bb",
   "metadata": {},
   "outputs": [
    {
     "name": "stdout",
     "output_type": "stream",
     "text": [
      "Given array is: [1. +1.j 1. +0.j 4.5+0.j 3. +0.j 2. +0.j 0. +2.j]\n",
      "\n",
      "Checking for Complex number: [ True False False False False  True]\n",
      "Checking for Real number: [False  True  True  True  True False]\n",
      "\n",
      "Is 4.5 a Scalar type: True\n",
      "Is [4] a Scalar type: False\n"
     ]
    }
   ],
   "source": [
    "import numpy as np\n",
    "\n",
    "arr1 = np.array([1+1j, 1+0j, 4.5, 3, 2, 2j])\n",
    "print(\"Given array is: {}\\n\".format(arr1))\n",
    "print(\"Checking for Complex number: {}\".format(np.iscomplex(arr1)))\n",
    "print(\"Checking for Real number: {}\\n\".format(np.isreal(arr1)))\n",
    "\n",
    "print(\"Is 4.5 a Scalar type: {}\".format(np.isscalar(4.5)))\n",
    "print(\"Is [4] a Scalar type: {}\".format(np.isscalar([4])))"
   ]
  },
  {
   "cell_type": "markdown",
   "id": "4e04375c",
   "metadata": {},
   "source": [
    "---"
   ]
  },
  {
   "cell_type": "markdown",
   "id": "805afd31",
   "metadata": {},
   "source": [
    "### Q9. Write a NumPy program to create an element-wise comparison (greater, greater_equal, less and less_equal) of two given arrays."
   ]
  },
  {
   "cell_type": "code",
   "execution_count": 45,
   "id": "3ea89e91",
   "metadata": {},
   "outputs": [
    {
     "name": "stdout",
     "output_type": "stream",
     "text": [
      "Given Array 1: [31 57]\n",
      "Given Array 2: [23 57]\n",
      "\n",
      "Comparison for greater: [ True False]\n",
      "Comparison for greater_equal: [ True  True]\n",
      "Comparison for less: [False False]\n",
      "Comparison for less_equal: [False  True]\n"
     ]
    }
   ],
   "source": [
    "import numpy as np\n",
    "\n",
    "arr1 = np.array([31, 57])\n",
    "arr2 = np.array([23, 57])\n",
    "\n",
    "print(\"Given Array 1: {}\\nGiven Array 2: {}\\n\".format(arr1,arr2))\n",
    "print(\"Comparison for greater: {}\".format(np.greater(arr1,arr2)))\n",
    "print(\"Comparison for greater_equal: {}\".format(np.greater_equal(arr1,arr2)))\n",
    "print(\"Comparison for less: {}\".format(np.less(arr1,arr2)))\n",
    "print(\"Comparison for less_equal: {}\".format(np.less_equal(arr1,arr2)))"
   ]
  },
  {
   "cell_type": "markdown",
   "id": "2e04bac6",
   "metadata": {},
   "source": [
    "---"
   ]
  },
  {
   "cell_type": "markdown",
   "id": "823750e5",
   "metadata": {},
   "source": [
    "### Q10. Write a NumPy program to create an element-wise comparison (equal, equal within a tolerance) of two given arrays."
   ]
  },
  {
   "cell_type": "code",
   "execution_count": 51,
   "id": "0347b67a",
   "metadata": {},
   "outputs": [
    {
     "name": "stdout",
     "output_type": "stream",
     "text": [
      "Given Array 1: [  72   79   85   90  150 -135  120  -10   60  100]\n",
      "Given Array 2:[  72.         79.         85.         90.        150.       -135.\n",
      "  120.        -10.         60.        100.000001]\n",
      "\n",
      "Comparison for equal: [ True  True  True  True  True  True  True  True  True False]\n",
      "\n",
      "Comparison for equal within tolerance: True\n"
     ]
    }
   ],
   "source": [
    "import numpy as np\n",
    "\n",
    "arr1 = np.array([72, 79, 85, 90, 150, -135, 120, -10, 60, 100])\n",
    "arr2 = np.array([72, 79, 85, 90, 150, -135, 120, -10, 60, 100.000001])\n",
    "\n",
    "print(\"Given Array 1: {}\\nGiven Array 2:{}\\n\".format(arr1,arr2))\n",
    "print(\"Comparison for equal: {}\\n\".format(np.equal(arr1,arr2)))\n",
    "print(\"Comparison for equal within tolerance: {}\".format(np.allclose(arr1,arr2)))"
   ]
  },
  {
   "cell_type": "markdown",
   "id": "5915378d",
   "metadata": {},
   "source": [
    "---"
   ]
  },
  {
   "cell_type": "markdown",
   "id": "f9b1d477",
   "metadata": {},
   "source": [
    "### Q11. Write a NumPy program to create an array with the values 1, 7, 13, 105 and determine the size of the memory occupied by the array."
   ]
  },
  {
   "cell_type": "code",
   "execution_count": 56,
   "id": "430571ee",
   "metadata": {},
   "outputs": [
    {
     "name": "stdout",
     "output_type": "stream",
     "text": [
      "Given array is: [ 72  79  85  90 150]\n",
      "Size of the memory occupied by the array is: 20.0 bytes\n"
     ]
    }
   ],
   "source": [
    "import numpy as np\n",
    "\n",
    "arr1 = np.array([72, 79, 85, 90, 150])\n",
    "print(\"Given array is: {}\".format(arr1))\n",
    "print(\"Size of the memory occupied by the array is: {} bytes\".format(float(arr1.size*arr1.itemsize)))"
   ]
  },
  {
   "cell_type": "markdown",
   "id": "eed1365d",
   "metadata": {},
   "source": [
    "---"
   ]
  },
  {
   "cell_type": "markdown",
   "id": "bef45255",
   "metadata": {},
   "source": [
    "### Q12. Write a NumPy program to create an array of 10 zeros,10 ones, 10 fives."
   ]
  },
  {
   "cell_type": "code",
   "execution_count": 58,
   "id": "637c1fca",
   "metadata": {},
   "outputs": [
    {
     "name": "stdout",
     "output_type": "stream",
     "text": [
      "Array with 10 zeros: [0. 0. 0. 0. 0. 0. 0. 0. 0. 0.]\n",
      "Array with 10 ones: [1. 1. 1. 1. 1. 1. 1. 1. 1. 1.]\n",
      "Array with 10 Fives: [5. 5. 5. 5. 5. 5. 5. 5. 5. 5.]\n"
     ]
    }
   ],
   "source": [
    "import numpy as np\n",
    "\n",
    "arr_of_zero = np.zeros(10)\n",
    "print(\"Array with 10 zeros: {}\".format(arr_of_zero))\n",
    "\n",
    "arr_of_one = np.ones(10)\n",
    "print(\"Array with 10 ones: {}\".format(arr_of_one))\n",
    "\n",
    "arr_of_five = np.ones(10)*5\n",
    "print(\"Array with 10 Fives: {}\".format(arr_of_five))"
   ]
  },
  {
   "cell_type": "markdown",
   "id": "917bf43a",
   "metadata": {},
   "source": [
    "---"
   ]
  },
  {
   "cell_type": "markdown",
   "id": "2d5c7e80",
   "metadata": {},
   "source": [
    "### Q13. Write a NumPy program to create an array of the integers from 30 to70."
   ]
  },
  {
   "cell_type": "code",
   "execution_count": 59,
   "id": "a3c17a65",
   "metadata": {},
   "outputs": [
    {
     "name": "stdout",
     "output_type": "stream",
     "text": [
      "Array from 30 to 70 is: [30 31 32 33 34 35 36 37 38 39 40 41 42 43 44 45 46 47 48 49 50 51 52 53\n",
      " 54 55 56 57 58 59 60 61 62 63 64 65 66 67 68 69 70]\n"
     ]
    }
   ],
   "source": [
    "import numpy as np\n",
    "\n",
    "arr1 = np.arange(30,71)\n",
    "print(\"Array from 30 to 70 is: {}\".format(arr1))"
   ]
  },
  {
   "cell_type": "markdown",
   "id": "27e483f9",
   "metadata": {},
   "source": [
    "---"
   ]
  },
  {
   "cell_type": "markdown",
   "id": "8d299600",
   "metadata": {},
   "source": [
    "### Q14. Write a NumPy program to create an array of all the even integers from 30 to 70. "
   ]
  },
  {
   "cell_type": "code",
   "execution_count": 60,
   "id": "36d9ece2",
   "metadata": {},
   "outputs": [
    {
     "name": "stdout",
     "output_type": "stream",
     "text": [
      "Array for even numbers from 30 to 70 is: [30 32 34 36 38 40 42 44 46 48 50 52 54 56 58 60 62 64 66 68 70]\n"
     ]
    }
   ],
   "source": [
    "import numpy as np\n",
    "\n",
    "arr1 = np.arange(30,71,2)\n",
    "print(\"Array for even numbers from 30 to 70 is: {}\".format(arr1))"
   ]
  },
  {
   "cell_type": "markdown",
   "id": "576cd21b",
   "metadata": {},
   "source": [
    "---"
   ]
  }
 ],
 "metadata": {
  "kernelspec": {
   "display_name": "Python 3",
   "language": "python",
   "name": "python3"
  },
  "language_info": {
   "codemirror_mode": {
    "name": "ipython",
    "version": 3
   },
   "file_extension": ".py",
   "mimetype": "text/x-python",
   "name": "python",
   "nbconvert_exporter": "python",
   "pygments_lexer": "ipython3",
   "version": "3.8.8"
  }
 },
 "nbformat": 4,
 "nbformat_minor": 5
}
