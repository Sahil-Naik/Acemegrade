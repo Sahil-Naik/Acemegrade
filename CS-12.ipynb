{
 "cells": [
  {
   "cell_type": "markdown",
   "id": "7bf1e964",
   "metadata": {},
   "source": [
    "### Q1. Write a NumPy program to convert a list of numeric value into a one-dimensional NumPy array."
   ]
  },
  {
   "cell_type": "code",
   "execution_count": 3,
   "id": "4783415b",
   "metadata": {},
   "outputs": [
    {
     "name": "stdout",
     "output_type": "stream",
     "text": [
      "Given list is: [1, 2, 3, 4, 5, 6, 99]\n",
      "Give list to one-dimensional NumPy array is: [ 1  2  3  4  5  6 99]\n"
     ]
    }
   ],
   "source": [
    "import numpy as np\n",
    "\n",
    "give_list = [1,2,3,4,5,6,99]\n",
    "print(\"Given list is: {}\".format(give_list))\n",
    "\n",
    "list_to_arr = np.array(give_list)\n",
    "print(\"Give list to one-dimensional NumPy array is: {}\".format(list_to_arr))"
   ]
  },
  {
   "cell_type": "markdown",
   "id": "e8f9514b",
   "metadata": {},
   "source": [
    "---"
   ]
  },
  {
   "cell_type": "markdown",
   "id": "269c595c",
   "metadata": {},
   "source": [
    "### Q2. Write a NumPy program to create a 3x3 matrix with values ranging from 2 to 10."
   ]
  },
  {
   "cell_type": "code",
   "execution_count": 23,
   "id": "7f326abf",
   "metadata": {},
   "outputs": [
    {
     "name": "stdout",
     "output_type": "stream",
     "text": [
      "Give array with values ranging from 2 to 10 is: [ 2  3  4  5  6  7  8  9 10]\n",
      "\n",
      "3x3 Matrix is: \n",
      "[[ 2  3  4]\n",
      " [ 5  6  7]\n",
      " [ 8  9 10]]\n"
     ]
    }
   ],
   "source": [
    "import numpy as np\n",
    "\n",
    "arr1 = np.arange(2,11)\n",
    "print(\"Give array with values ranging from 2 to 10 is: {}\".format(arr1))\n",
    "print(\"\\n3x3 Matrix is: \\n{}\".format(arr1.reshape(3,3)))\n"
   ]
  },
  {
   "cell_type": "markdown",
   "id": "a7aec5fd",
   "metadata": {},
   "source": [
    "---"
   ]
  },
  {
   "cell_type": "markdown",
   "id": "28a2f9df",
   "metadata": {},
   "source": [
    "### Q3. Write a NumPy program to create a null vector of size 10 and update sixth value to 11."
   ]
  },
  {
   "cell_type": "code",
   "execution_count": 30,
   "id": "52d18d78",
   "metadata": {},
   "outputs": [
    {
     "name": "stdout",
     "output_type": "stream",
     "text": [
      "Array with 10 Null values is: [0. 0. 0. 0. 0. 0. 0. 0. 0. 0.]\n",
      "Updated array is: [ 0.  0.  0.  0.  0. 11.  0.  0.  0.  0.]\n"
     ]
    }
   ],
   "source": [
    "import numpy as np\n",
    "\n",
    "arr_with_zero = np.zeros(10)\n",
    "print(\"Array with 10 Null values is: {}\".format(arr_with_zero))\n",
    "\n",
    "arr_with_zero[5] = 11\n",
    "print(\"Updated array is: {}\".format(arr_with_zero))"
   ]
  },
  {
   "cell_type": "markdown",
   "id": "fd8ceb48",
   "metadata": {},
   "source": [
    "---"
   ]
  },
  {
   "cell_type": "markdown",
   "id": "d41c9577",
   "metadata": {},
   "source": [
    "### Q4. Write a NumPy program to create an array with values ranging from 12 to 38."
   ]
  },
  {
   "cell_type": "code",
   "execution_count": 34,
   "id": "53dd54a4",
   "metadata": {},
   "outputs": [
    {
     "name": "stdout",
     "output_type": "stream",
     "text": [
      "Array with values ranging from 12 to 38 is: [12 13 14 15 16 17 18 19 20 21 22 23 24 25 26 27 28 29 30 31 32 33 34 35\n",
      " 36 37 38]\n"
     ]
    }
   ],
   "source": [
    "import numpy as np\n",
    "\n",
    "arr1 = np.arange(12,39)\n",
    "print(\"Array with values ranging from 12 to 38 is: {}\".format(arr1))"
   ]
  },
  {
   "cell_type": "markdown",
   "id": "59770f49",
   "metadata": {},
   "source": [
    "---"
   ]
  },
  {
   "cell_type": "markdown",
   "id": "7ceb2b4e",
   "metadata": {},
   "source": [
    "### Q5. Write a NumPy program to reverse an array (first element becomes last)."
   ]
  },
  {
   "cell_type": "code",
   "execution_count": 36,
   "id": "425ccecd",
   "metadata": {},
   "outputs": [
    {
     "name": "stdout",
     "output_type": "stream",
     "text": [
      "Give array is: [ 1  6 11 16 21 26 31 36 41 46 51 56 61 66 71 76 81 86 91 96]\n",
      "Reverse of 'arr1' is: [96 91 86 81 76 71 66 61 56 51 46 41 36 31 26 21 16 11  6  1]\n"
     ]
    }
   ],
   "source": [
    "import numpy as np\n",
    "\n",
    "arr1 = np.arange(1,98,5)\n",
    "print(\"Give array is: {}\".format(arr1))\n",
    "\n",
    "rev_arr1 = arr1[::-1]\n",
    "print(\"Reverse of 'arr1' is: {}\".format(rev_arr1))"
   ]
  },
  {
   "cell_type": "markdown",
   "id": "7b0942fe",
   "metadata": {},
   "source": [
    "---"
   ]
  },
  {
   "cell_type": "markdown",
   "id": "6c9aff9e",
   "metadata": {},
   "source": [
    "### Q6. Write a NumPy program to convert an array to a float type."
   ]
  },
  {
   "cell_type": "code",
   "execution_count": 38,
   "id": "0140f13b",
   "metadata": {},
   "outputs": [
    {
     "name": "stdout",
     "output_type": "stream",
     "text": [
      "Given array is: [12 16 20 24 28 32 36 40 44 48 52]\n",
      "Converted 'arr1' to float type is: [12. 16. 20. 24. 28. 32. 36. 40. 44. 48. 52.]\n"
     ]
    }
   ],
   "source": [
    "import numpy as np\n",
    "\n",
    "arr1 = np.arange(12,54,4)\n",
    "print(\"Given array is: {}\".format(arr1))\n",
    "\n",
    "arr2 = np.asfarray(arr1)\n",
    "print(\"Converted 'arr1' to float type is: {}\".format(arr2))"
   ]
  },
  {
   "cell_type": "markdown",
   "id": "c682a011",
   "metadata": {},
   "source": [
    "---"
   ]
  },
  {
   "cell_type": "markdown",
   "id": "9ec27b68",
   "metadata": {},
   "source": [
    "### Q7. Write a NumPy program to create a 2d array with 1 on the border and 0 inside."
   ]
  },
  {
   "cell_type": "code",
   "execution_count": 45,
   "id": "9bf80576",
   "metadata": {},
   "outputs": [
    {
     "name": "stdout",
     "output_type": "stream",
     "text": [
      "Original array is:\n",
      "[[1. 1. 1. 1. 1. 1.]\n",
      " [1. 1. 1. 1. 1. 1.]\n",
      " [1. 1. 1. 1. 1. 1.]\n",
      " [1. 1. 1. 1. 1. 1.]\n",
      " [1. 1. 1. 1. 1. 1.]\n",
      " [1. 1. 1. 1. 1. 1.]]\n",
      "\n",
      "1 on the border and 0 inside in the array:\n",
      "[[1. 1. 1. 1. 1. 1.]\n",
      " [1. 0. 0. 0. 0. 1.]\n",
      " [1. 0. 0. 0. 0. 1.]\n",
      " [1. 0. 0. 0. 0. 1.]\n",
      " [1. 0. 0. 0. 0. 1.]\n",
      " [1. 1. 1. 1. 1. 1.]]\n"
     ]
    }
   ],
   "source": [
    "import numpy as np\n",
    "\n",
    "arr1 = np.ones((6,6))\n",
    "print(\"Original array is:\\n{}\".format(arr1))\n",
    "arr1[1:-1,1:-1] = 0\n",
    "print(\"\\n1 on the border and 0 inside in the array:\\n{}\".format(arr1))"
   ]
  },
  {
   "cell_type": "markdown",
   "id": "2ec25f35",
   "metadata": {},
   "source": [
    "---"
   ]
  },
  {
   "cell_type": "markdown",
   "id": "34b829c9",
   "metadata": {},
   "source": [
    "### Q8. Write a NumPy program to add a border (filled with 0's) around an existing array."
   ]
  },
  {
   "cell_type": "code",
   "execution_count": 54,
   "id": "e8382097",
   "metadata": {},
   "outputs": [
    {
     "name": "stdout",
     "output_type": "stream",
     "text": [
      "Original array is:\n",
      "[[1. 1. 1.]\n",
      " [1. 1. 1.]\n",
      " [1. 1. 1.]]\n",
      "\n",
      "0 on the border and 1 inside in the array:\n",
      "[[0. 0. 0. 0. 0.]\n",
      " [0. 1. 1. 1. 0.]\n",
      " [0. 1. 1. 1. 0.]\n",
      " [0. 1. 1. 1. 0.]\n",
      " [0. 0. 0. 0. 0.]]\n"
     ]
    }
   ],
   "source": [
    "import numpy as np\n",
    "\n",
    "arr1 = np.ones((3,3))\n",
    "print(\"Original array is:\\n{}\".format(arr1))\n",
    "arr1 = np.pad(arr1, pad_width=1, mode='constant', constant_values=0)\n",
    "print(\"\\n0 on the border and 1 inside in the array:\\n{}\".format(arr1))"
   ]
  },
  {
   "cell_type": "markdown",
   "id": "d0264bcb",
   "metadata": {},
   "source": [
    "---"
   ]
  },
  {
   "cell_type": "markdown",
   "id": "f6328bd6",
   "metadata": {},
   "source": [
    "### Q9. Write a NumPy program to create a 8x8 matrix and fill it with a checkerboard pattern."
   ]
  },
  {
   "cell_type": "code",
   "execution_count": 58,
   "id": "3f12cd80",
   "metadata": {},
   "outputs": [
    {
     "name": "stdout",
     "output_type": "stream",
     "text": [
      "Checkerboard pattern:\n",
      "[[0 1 0 1 0 1 0 1]\n",
      " [1 0 1 0 1 0 1 0]\n",
      " [0 1 0 1 0 1 0 1]\n",
      " [1 0 1 0 1 0 1 0]\n",
      " [0 1 0 1 0 1 0 1]\n",
      " [1 0 1 0 1 0 1 0]\n",
      " [0 1 0 1 0 1 0 1]\n",
      " [1 0 1 0 1 0 1 0]]\n"
     ]
    }
   ],
   "source": [
    "import numpy as np\n",
    "\n",
    "arr1 = np.ones((3,3))\n",
    "arr1 = np.zeros((8,8),dtype=int)\n",
    "arr1[1::2,::2] = 1\n",
    "arr1[::2,1::2] = 1\n",
    "print(\"Checkerboard pattern:\\n{}\".format(arr1))"
   ]
  },
  {
   "cell_type": "markdown",
   "id": "6c3afc7d",
   "metadata": {},
   "source": [
    "---"
   ]
  },
  {
   "cell_type": "markdown",
   "id": "b9c7e012",
   "metadata": {},
   "source": [
    "### Q10. Write a NumPy program to convert a list and tuple into arrays."
   ]
  },
  {
   "cell_type": "code",
   "execution_count": 61,
   "id": "c4754854",
   "metadata": {},
   "outputs": [
    {
     "name": "stdout",
     "output_type": "stream",
     "text": [
      "Given List is: [0, 3, 6, 9]\n",
      "Given Tuple is: ([1, 2], [4, 5])\n",
      "\n",
      "List to array is: [0 3 6 9]\n",
      "Tuple to Array is:\n",
      "[[1 2]\n",
      " [4 5]]\n"
     ]
    }
   ],
   "source": [
    "import numpy as np\n",
    "given_list = [x for x in range(0,12,3)]\n",
    "given_tuple = ([1,2],[4,5])\n",
    "\n",
    "print(\"Given List is: {}\\nGiven Tuple is: {}\\n\".format(given_list,given_tuple))\n",
    "print(\"List to array is: {}\\nTuple to Array is:\\n{}\".format(np.asarray(given_list),np.asarray(given_tuple)))"
   ]
  },
  {
   "cell_type": "markdown",
   "id": "e6884f9c",
   "metadata": {},
   "source": [
    "---"
   ]
  },
  {
   "cell_type": "markdown",
   "id": "e0df418d",
   "metadata": {},
   "source": [
    "### Q11. Write a NumPy program to append values to the end of an array."
   ]
  },
  {
   "cell_type": "code",
   "execution_count": 66,
   "id": "6dbb3096",
   "metadata": {},
   "outputs": [
    {
     "name": "stdout",
     "output_type": "stream",
     "text": [
      "Original Array is: [1 2 3]\n",
      "Updated Array is: [  1   2   3  20  30 999 122]\n"
     ]
    }
   ],
   "source": [
    "import numpy as np\n",
    "\n",
    "arr1 = np.array([1,2,3])\n",
    "print(\"Original Array is: {}\".format(arr1))\n",
    "\n",
    "arr1 = np.append(arr1,[[20,30],[999,122]])\n",
    "print(\"Updated Array is: {}\".format(arr1))"
   ]
  },
  {
   "cell_type": "markdown",
   "id": "df6e56bb",
   "metadata": {},
   "source": [
    "---"
   ]
  },
  {
   "cell_type": "markdown",
   "id": "1b93e058",
   "metadata": {},
   "source": [
    "### Q12. Write a NumPy program to create an empty and a full array."
   ]
  },
  {
   "cell_type": "code",
   "execution_count": 70,
   "id": "49a87bef",
   "metadata": {},
   "outputs": [
    {
     "name": "stdout",
     "output_type": "stream",
     "text": [
      "Empty array is: [[0.000e+000 0.000e+000 0.000e+000 0.000e+000]\n",
      " [0.000e+000 7.075e-321 0.000e+000 0.000e+000]]\n",
      "\n",
      "Full array is:\n",
      "[[5 5 5 5]\n",
      " [5 5 5 5]\n",
      " [5 5 5 5]]\n"
     ]
    }
   ],
   "source": [
    "import numpy as np\n",
    "\n",
    "empty_arr = np.empty((2,4))\n",
    "print(\"Empty array is: {}\".format(empty_arr))\n",
    "\n",
    "full_arr = np.full((3,4),5)\n",
    "print(\"\\nFull array is:\\n{}\".format(full_arr))"
   ]
  },
  {
   "cell_type": "markdown",
   "id": "af8347b2",
   "metadata": {},
   "source": [
    "---"
   ]
  },
  {
   "cell_type": "markdown",
   "id": "b59ba2c5",
   "metadata": {},
   "source": [
    "### Q13. Write a NumPy program to convert the values of Centigrade degrees into Fahrenheit degrees. Centigrade values are stored into a NumPy array."
   ]
  },
  {
   "cell_type": "code",
   "execution_count": 81,
   "id": "ac4bd450",
   "metadata": {},
   "outputs": [
    {
     "name": "stdout",
     "output_type": "stream",
     "text": [
      "Centigrade Values are: [ 0.  62.1  7.3 95.  37.7]\n",
      "Centigrade to Fahrenheit Values are: [ 32.   143.78  45.14 203.    99.86]\n"
     ]
    }
   ],
   "source": [
    "import numpy as np\n",
    "\n",
    "centi_arr = np.array([0, 62.1, 7.3, 95, 37.7])\n",
    "print(\"Centigrade Values are: {}\".format(centi_arr))\n",
    "print(\"Centigrade to Fahrenheit Values are: {}\".format(centi_arr*1.8+32))"
   ]
  },
  {
   "cell_type": "markdown",
   "id": "58201eb8",
   "metadata": {},
   "source": [
    "---"
   ]
  },
  {
   "cell_type": "markdown",
   "id": "0e04433f",
   "metadata": {},
   "source": [
    "### Q14. Write a NumPy program to find the real and imaginary parts of an array of complex numbers."
   ]
  },
  {
   "cell_type": "code",
   "execution_count": 87,
   "id": "a45d5ae7",
   "metadata": {},
   "outputs": [
    {
     "name": "stdout",
     "output_type": "stream",
     "text": [
      "Original array-1: [1.+0.j]\n",
      "Original array-2: [0.70710678+0.70710678j]\n",
      "\n",
      "Real part of the array:\n",
      "[1.]\n",
      "[0.70710678]\n",
      "\n",
      "Imaginary part of the array:\n",
      "[0.]\n",
      "[0.70710678]\n"
     ]
    }
   ],
   "source": [
    "import numpy as np\n",
    "\n",
    "arr1 = np.sqrt([1+0j])\n",
    "arr2 = np.sqrt([0+1j])\n",
    "print(\"Original array-1: {}\".format(x))\n",
    "print(\"Original array-2: {}\".format(y))\n",
    "print(\"\\nReal part of the array:\")\n",
    "print(arr1.real)\n",
    "print(arr2.real)\n",
    "print(\"\\nImaginary part of the array:\")\n",
    "print(arr1.imag)\n",
    "print(arr2.imag)"
   ]
  },
  {
   "cell_type": "markdown",
   "id": "1a367567",
   "metadata": {},
   "source": [
    "---"
   ]
  },
  {
   "cell_type": "code",
   "execution_count": null,
   "id": "c67dd6df",
   "metadata": {},
   "outputs": [],
   "source": []
  }
 ],
 "metadata": {
  "kernelspec": {
   "display_name": "Python 3",
   "language": "python",
   "name": "python3"
  },
  "language_info": {
   "codemirror_mode": {
    "name": "ipython",
    "version": 3
   },
   "file_extension": ".py",
   "mimetype": "text/x-python",
   "name": "python",
   "nbconvert_exporter": "python",
   "pygments_lexer": "ipython3",
   "version": "3.8.8"
  }
 },
 "nbformat": 4,
 "nbformat_minor": 5
}
