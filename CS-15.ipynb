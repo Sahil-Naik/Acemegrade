{
 "cells": [
  {
   "cell_type": "markdown",
   "id": "0d07d645",
   "metadata": {},
   "source": [
    "### Q1. Extract data from the given SalaryGender CSV file and store the data from each column in a separate NumPy array."
   ]
  },
  {
   "cell_type": "code",
   "execution_count": 2,
   "id": "e7591706",
   "metadata": {},
   "outputs": [
    {
     "name": "stdout",
     "output_type": "stream",
     "text": [
      "My Current Working Directory is: C:\\Users\\sahil\\Jupyter_Programs\\Acemegrade\n",
      "\n",
      "Loaded dataset is:\n",
      "    Salary  Gender  Age  PhD\n",
      "0    140.0       1   47    1\n",
      "1     30.0       0   65    1\n",
      "2     35.1       0   56    0\n",
      "3     30.0       1   23    0\n",
      "4     80.0       0   53    1\n",
      "..     ...     ...  ...  ...\n",
      "95    18.6       1   26    0\n",
      "96   152.0       1   56    1\n",
      "97     1.8       1   28    0\n",
      "98    35.0       0   44    0\n",
      "99     4.0       0   24    0\n",
      "\n",
      "[100 rows x 4 columns]\n",
      "\n",
      "\n",
      "Salary Column:\n",
      "[140.    30.    35.1   30.    80.    30.    60.    31.1  125.    51.\n",
      "   3.    46.   150.     3.   130.    15.   130.    84.   190.    74.\n",
      "  73.    10.    50.     7.     9.5   15.2   28.6   20.    72.    81.\n",
      " 100.    90.    90.    35.    30.    25.    52.     9.    63.    72.\n",
      "  16.    92.   106.     2.5    9.    32.    32.    55.    52.    28.\n",
      "  20.    14.7   22.3   34.8   84.    19.   160.    65.    55.     4.6\n",
      " 102.    20.    62.    55.    45.6   40.    24.    35.    48.    20.\n",
      "  40.7   15.     0.25 152.    39.8   12.    30.   120.     1.7   36.\n",
      "  96.    38.    90.     9.    25.8   22.    38.8   72.    89.    41.\n",
      "  89.    25.    52.   115.    66.    18.6  152.     1.8   35.     4.  ]\n",
      "\n",
      "Gender Column:\n",
      "[1 0 0 1 0 0 1 0 1 1 1 1 1 1 1 0 1 0 1 1 0 0 0 0 0 1 1 0 0 1 0 0 0 1 0 1 0\n",
      " 0 1 1 1 0 1 1 0 0 0 1 1 0 0 0 1 0 0 1 1 0 0 1 1 1 0 1 1 0 0 1 0 0 0 1 0 1\n",
      " 0 0 1 1 1 1 1 0 1 1 0 0 0 1 1 0 1 0 1 0 0 1 1 1 0 0]\n",
      "\n",
      "Age Column:\n",
      "[47 65 56 23 53 27 53 30 44 63 22 59 60 28 65 25 65 47 66 45 46 24 60 63\n",
      " 27 66 36 30 51 65 45 52 54 30 52 26 49 22 34 60 28 58 77 67 27 48 45 49\n",
      " 36 65 32 49 67 22 49 43 61 43 52 51 66 29 62 56 61 56 41 24 60 43 57 23\n",
      " 53 71 20 27 69 58 37 32 33 32 60 71 30 62 54 42 62 51 71 29 55 54 55 26\n",
      " 56 28 44 24]\n",
      "\n",
      "PhD Column:\n",
      "[1 1 0 0 1 0 0 0 1 1 0 0 1 0 0 0 0 1 1 1 0 0 0 0 0 1 1 0 1 1 1 1 1 0 0 0 0\n",
      " 0 1 0 0 1 1 0 0 1 0 1 0 1 0 0 0 0 1 0 1 1 0 0 1 0 0 1 0 0 0 0 0 0 0 0 0 1\n",
      " 0 0 1 1 0 1 1 1 0 0 0 0 0 1 0 1 1 0 1 0 1 0 1 0 0 0]\n",
      "\n"
     ]
    }
   ],
   "source": [
    "import pandas as pd\n",
    "import matplotlib.pyplot as plt\n",
    "import numpy as np\n",
    "import os\n",
    "\n",
    "print(\"My Current Working Directory is: {}\\n\".format(os.getcwd()))\n",
    "\n",
    "dataframe = pd.read_csv(\"datasets\\SalaryGender.csv\")\n",
    "print(\"Loaded dataset is:\\n{}\\n\\n\".format(dataframe))\n",
    "\n",
    "salary = np.array(dataframe['Salary'])\n",
    "print(\"Salary Column:\\n{}\\n\".format(salary))\n",
    "\n",
    "gender = np.array(dataframe['Gender'])\n",
    "print(\"Gender Column:\\n{}\\n\".format(gender))\n",
    "\n",
    "age = np.array(dataframe['Age'])\n",
    "print(\"Age Column:\\n{}\\n\".format(age))\n",
    "\n",
    "phd = np.array(dataframe['PhD'])\n",
    "print(\"PhD Column:\\n{}\\n\".format(phd))"
   ]
  },
  {
   "cell_type": "markdown",
   "id": "1470a85e",
   "metadata": {},
   "source": [
    "---"
   ]
  },
  {
   "cell_type": "markdown",
   "id": "973ba5bb",
   "metadata": {},
   "source": [
    "### Q2. Find:\n",
    "**i.The number of men with a PhD.<br>\n",
    "ii.The number of women with a PhD.**"
   ]
  },
  {
   "cell_type": "code",
   "execution_count": 3,
   "id": "ba39cc84",
   "metadata": {},
   "outputs": [
    {
     "name": "stdout",
     "output_type": "stream",
     "text": [
      "Loaded dataset is:\n",
      "    Salary  Gender  Age  PhD\n",
      "0    140.0       1   47    1\n",
      "1     30.0       0   65    1\n",
      "2     35.1       0   56    0\n",
      "3     30.0       1   23    0\n",
      "4     80.0       0   53    1\n",
      "..     ...     ...  ...  ...\n",
      "95    18.6       1   26    0\n",
      "96   152.0       1   56    1\n",
      "97     1.8       1   28    0\n",
      "98    35.0       0   44    0\n",
      "99     4.0       0   24    0\n",
      "\n",
      "[100 rows x 4 columns]\n",
      "\n",
      "\n",
      "Total Men with PhD are: 24\n",
      "Total Women with PhD are: 15.\n"
     ]
    }
   ],
   "source": [
    "import pandas as pd\n",
    "import matplotlib.pyplot as plt\n",
    "import numpy as np\n",
    "import os\n",
    "\n",
    "dataframe = pd.read_csv(\"datasets\\SalaryGender.csv\")\n",
    "print(\"Loaded dataset is:\\n{}\\n\\n\".format(dataframe))\n",
    "\n",
    "salary = np.array(dataframe['Salary'])\n",
    "gender = np.array(dataframe['Gender'])\n",
    "age = np.array(dataframe['Age'])\n",
    "phd = np.array(dataframe['PhD'])\n",
    "\n",
    "men_count = 0\n",
    "women_count = 0\n",
    "\n",
    "# Gender = 0 means Women\n",
    "# Gender = 1 means Men\n",
    "\n",
    "for i in range(len(gender)):\n",
    "    if gender[i] == 1 and phd[i] == 1:\n",
    "        men_count+=1\n",
    "    elif gender[i] == 0 and phd[i] == 1:\n",
    "        women_count+=1\n",
    "        \n",
    "print(\"Total Men with PhD are: {}\\nTotal Women with PhD are: {}.\".format(men_count,women_count))    "
   ]
  },
  {
   "cell_type": "markdown",
   "id": "b2c03f45",
   "metadata": {},
   "source": [
    "---"
   ]
  },
  {
   "cell_type": "markdown",
   "id": "105ea23a",
   "metadata": {},
   "source": [
    "### Q3. Use SalaryGender CSV file. Store the “Age” and “PhD” columns in one DataFrame and delete the data of all people who don’t have a PhD."
   ]
  },
  {
   "cell_type": "code",
   "execution_count": 4,
   "id": "3ca9c9ba",
   "metadata": {},
   "outputs": [
    {
     "name": "stdout",
     "output_type": "stream",
     "text": [
      "Total records are: 39.\n",
      "\n",
      "New Dataset is:\n",
      "    Salary  Gender  Age  PhD\n",
      "0    140.0       1   47    1\n",
      "1     30.0       0   65    1\n",
      "4     80.0       0   53    1\n",
      "8    125.0       1   44    1\n",
      "9     51.0       1   63    1\n",
      "12   150.0       1   60    1\n",
      "17    84.0       0   47    1\n",
      "18   190.0       1   66    1\n",
      "19    74.0       1   45    1\n",
      "25    15.2       1   66    1\n",
      "26    28.6       1   36    1\n",
      "28    72.0       0   51    1\n",
      "29    81.0       1   65    1\n",
      "30   100.0       0   45    1\n",
      "31    90.0       0   52    1\n",
      "32    90.0       0   54    1\n",
      "38    63.0       1   34    1\n",
      "41    92.0       0   58    1\n",
      "42   106.0       1   77    1\n",
      "45    32.0       0   48    1\n",
      "47    55.0       1   49    1\n",
      "49    28.0       0   65    1\n",
      "54    84.0       0   49    1\n",
      "56   160.0       1   61    1\n",
      "57    65.0       0   43    1\n",
      "60   102.0       1   66    1\n",
      "63    55.0       1   56    1\n",
      "73   152.0       1   71    1\n",
      "76    30.0       1   69    1\n",
      "77   120.0       1   58    1\n",
      "79    36.0       1   32    1\n",
      "80    96.0       1   33    1\n",
      "81    38.0       0   32    1\n",
      "87    72.0       1   42    1\n",
      "89    41.0       0   51    1\n",
      "90    89.0       1   71    1\n",
      "92    52.0       1   55    1\n",
      "94    66.0       0   55    1\n",
      "96   152.0       1   56    1\n"
     ]
    }
   ],
   "source": [
    "import pandas as pd\n",
    "import matplotlib.pyplot as plt\n",
    "import numpy as np\n",
    "import os\n",
    "\n",
    "dataframe = pd.read_csv(\"datasets\\SalaryGender.csv\")\n",
    "\n",
    "dataframe['Age'] = age\n",
    "dataframe['PhD'] = phd\n",
    "\n",
    "for i in range(len(age)):\n",
    "    if dataframe.loc[i]['PhD'] == 0:\n",
    "        dataframe = dataframe.drop(i)\n",
    "\n",
    "print(\"Total records are: {}.\\n\".format(len(dataframe)))\n",
    "print(\"New Dataset is:\\n{}\".format(dataframe))"
   ]
  },
  {
   "cell_type": "markdown",
   "id": "179224e5",
   "metadata": {},
   "source": [
    "---"
   ]
  },
  {
   "cell_type": "markdown",
   "id": "5f0d9f0c",
   "metadata": {},
   "source": [
    "### Q4. Calculate the total number of people who have a PhD degree from SalaryGender CSV file."
   ]
  },
  {
   "cell_type": "code",
   "execution_count": 5,
   "id": "9632830e",
   "metadata": {},
   "outputs": [
    {
     "name": "stdout",
     "output_type": "stream",
     "text": [
      "Total number of people with PhD are: 39.\n"
     ]
    }
   ],
   "source": [
    "import pandas as pd\n",
    "import matplotlib.pyplot as plt\n",
    "import numpy as np\n",
    "\n",
    "dataframe = pd.read_csv(\"datasets\\SalaryGender.csv\")\n",
    "\n",
    "salary = np.array(dataframe['Salary'])\n",
    "gender = np.array(dataframe['Gender'])\n",
    "age = np.array(dataframe['Age'])\n",
    "phd = np.array(dataframe['PhD'])\n",
    "\n",
    "have_phd = 0\n",
    "\n",
    "\n",
    "for i in range(len(gender)):\n",
    "    if gender[i] == 1 and phd[i] == 1:\n",
    "        have_phd+=1\n",
    "    elif gender[i] == 0 and phd[i] == 1:\n",
    "        have_phd+=1\n",
    "        \n",
    "print(\"Total number of people with PhD are: {}.\".format(have_phd))"
   ]
  },
  {
   "cell_type": "markdown",
   "id": "53237225",
   "metadata": {},
   "source": [
    "---"
   ]
  },
  {
   "cell_type": "markdown",
   "id": "a8c2c920",
   "metadata": {},
   "source": [
    "### Q5. How do you Count The Number Of Times Each Value Appears In An Array Of Integers?<BR> [0, 5, 4, 0, 4, 4, 3, 0, 0, 5, 2, 1, 1, 9]"
   ]
  },
  {
   "cell_type": "code",
   "execution_count": 6,
   "id": "48268866",
   "metadata": {},
   "outputs": [
    {
     "name": "stdout",
     "output_type": "stream",
     "text": [
      "Given array is: [0 5 4 0 4 4 3 0 0 5 2 1 1 9]\n",
      "\n",
      "Count of numbers each time they appears is: [4 2 1 1 3 2 0 0 0 1]\n"
     ]
    }
   ],
   "source": [
    "import numpy as np\n",
    "\n",
    "given_array = np.array([0, 5, 4, 0, 4, 4, 3, 0, 0, 5, 2, 1, 1, 9])\n",
    "print(\"Given array is: {}\\n\".format(given_array))\n",
    "print(\"Count of numbers each time they appears is: {}\".format(np.bincount(given_array)))"
   ]
  },
  {
   "cell_type": "markdown",
   "id": "6c259d9f",
   "metadata": {},
   "source": [
    "---"
   ]
  },
  {
   "cell_type": "markdown",
   "id": "e04f345e",
   "metadata": {},
   "source": [
    "### Q6. Create a numpy array [[0, 1, 2], [ 3, 4, 5], [ 6, 7, 8],[ 9, 10, 11]]) and filter the elements greater than 5."
   ]
  },
  {
   "cell_type": "code",
   "execution_count": 7,
   "id": "651cd9ae",
   "metadata": {},
   "outputs": [
    {
     "name": "stdout",
     "output_type": "stream",
     "text": [
      "Given array is:\n",
      "[[ 0  1  2]\n",
      " [ 3  4  5]\n",
      " [ 6  7  8]\n",
      " [ 9 10 11]]\n",
      "\n",
      "Elements greater than 5 are: [ 6  7  8  9 10 11]\n"
     ]
    }
   ],
   "source": [
    "import numpy as np\n",
    "\n",
    "given_arr = np.array([[0, 1, 2], [ 3, 4, 5], [ 6, 7, 8],[ 9, 10, 11]])\n",
    "print(\"Given array is:\\n{}\".format(given_arr))\n",
    "\n",
    "print(\"\\nElements greater than 5 are: {}\".format(given_arr[given_arr>5]))"
   ]
  },
  {
   "cell_type": "markdown",
   "id": "e280e00b",
   "metadata": {},
   "source": [
    "---"
   ]
  },
  {
   "cell_type": "markdown",
   "id": "deb8b847",
   "metadata": {},
   "source": [
    "### Q7. Create a numpy array having NaN (Not a Number) and print it."
   ]
  },
  {
   "cell_type": "code",
   "execution_count": 8,
   "id": "c03eab58",
   "metadata": {},
   "outputs": [
    {
     "name": "stdout",
     "output_type": "stream",
     "text": [
      "Given array is: [ 1.  2. nan  4.  5. nan]\n",
      "Same array without NaN value is: [1. 2. 4. 5.]\n"
     ]
    }
   ],
   "source": [
    "import numpy as np\n",
    "\n",
    "given_arr = np.array([1,2,np.nan,4,5,np.nan])\n",
    "print(\"Given array is: {}\".format(given_arr))\n",
    "\n",
    "print(\"Same array without NaN value is: {}\".format(given_arr[~np.isnan(given_arr)]))"
   ]
  },
  {
   "cell_type": "markdown",
   "id": "079be49b",
   "metadata": {},
   "source": [
    "---"
   ]
  },
  {
   "cell_type": "markdown",
   "id": "340ec7f1",
   "metadata": {},
   "source": [
    "### Q8. Create a 10x10 array with random values and find the minimum and maximum values."
   ]
  },
  {
   "cell_type": "code",
   "execution_count": 9,
   "id": "05263c90",
   "metadata": {},
   "outputs": [
    {
     "name": "stdout",
     "output_type": "stream",
     "text": [
      "Array with random values is:\n",
      "[[0.1119189  0.03736216 0.99034837 0.51213384 0.16457499 0.36934816\n",
      "  0.8454035  0.51529683 0.13485568 0.25736803]\n",
      " [0.14676305 0.69248412 0.8480387  0.01408453 0.47745195 0.02763605\n",
      "  0.67677234 0.88349055 0.47830537 0.0436136 ]\n",
      " [0.75725162 0.42380337 0.07766793 0.20432766 0.47524084 0.214689\n",
      "  0.29053128 0.53821608 0.47275575 0.49049365]\n",
      " [0.71592922 0.41437011 0.21036483 0.29999732 0.410016   0.2477324\n",
      "  0.62929068 0.01912532 0.90822514 0.64684224]\n",
      " [0.52148177 0.24845961 0.29076719 0.93674243 0.20586696 0.48577796\n",
      "  0.28694183 0.84015615 0.50589792 0.91380186]\n",
      " [0.19937644 0.63291077 0.49519916 0.37294198 0.44383187 0.13521172\n",
      "  0.9140422  0.8062549  0.23931627 0.35310601]\n",
      " [0.99259498 0.35109229 0.54906599 0.42143462 0.75690141 0.71449312\n",
      "  0.85622302 0.56959822 0.63729132 0.32351693]\n",
      " [0.11183533 0.34180714 0.40889455 0.19441901 0.23677877 0.12175431\n",
      "  0.58165344 0.08985434 0.75380303 0.78730606]\n",
      " [0.59730754 0.42453485 0.88365443 0.57640276 0.30723066 0.64937435\n",
      "  0.54009795 0.2257372  0.44880137 0.79307853]\n",
      " [0.45574144 0.13993537 0.30290774 0.87810133 0.20699867 0.07987306\n",
      "  0.52229062 0.44917848 0.05308576 0.3638254 ]]\n",
      "\n",
      "\n",
      "Maximum value is: 0.9925949843802666.\n",
      "Minimum Value is: 0.01408453305744195.\n"
     ]
    }
   ],
   "source": [
    "import numpy as np\n",
    "\n",
    "rand = np.random.random((10,10))\n",
    "print(\"Array with random values is:\\n{}\".format(rand))\n",
    "\n",
    "num_max = rand.max()\n",
    "num_min = rand.min()\n",
    "\n",
    "print(\"\\n\\nMaximum value is: {}.\\nMinimum Value is: {}.\".format(num_max,num_min))"
   ]
  },
  {
   "cell_type": "markdown",
   "id": "6873414d",
   "metadata": {},
   "source": [
    "---"
   ]
  },
  {
   "cell_type": "markdown",
   "id": "8250bd6f",
   "metadata": {},
   "source": [
    "### Q9. Create a random vector of size 30 and find the mean value."
   ]
  },
  {
   "cell_type": "code",
   "execution_count": 10,
   "id": "99b6dc2a",
   "metadata": {},
   "outputs": [
    {
     "name": "stdout",
     "output_type": "stream",
     "text": [
      "Random vector is:\n",
      "[0.43050667 0.21722885 0.21995728 0.72335353 0.95679519 0.44138613\n",
      " 0.49073277 0.05392647 0.29781635 0.20997548 0.4853837  0.39584111\n",
      " 0.80911178 0.80230267 0.85836062 0.9728978  0.21426067 0.53068679\n",
      " 0.0463952  0.72202182 0.48990862 0.77952823 0.80656961 0.64175662\n",
      " 0.87388471 0.98845582 0.59881452 0.51675392 0.40414594 0.49010067]\n",
      "\n",
      "\n",
      "Mean of given random vector is: 0.5489619843822575\n"
     ]
    }
   ],
   "source": [
    "import numpy as np\n",
    "\n",
    "rand_vec = np.random.random(30)\n",
    "print(\"Random vector is:\\n{}\".format(rand_vec))\n",
    "\n",
    "vec_mean = rand_vec.mean()\n",
    "print(\"\\n\\nMean of given random vector is: {}\".format(vec_mean))"
   ]
  },
  {
   "cell_type": "markdown",
   "id": "f7c67e27",
   "metadata": {},
   "source": [
    "---"
   ]
  },
  {
   "cell_type": "markdown",
   "id": "3fa9d75d",
   "metadata": {},
   "source": [
    "### Q10. Create numpy array having elements 0 to 10 And negate all the elements between 3 and 9."
   ]
  },
  {
   "cell_type": "code",
   "execution_count": 11,
   "id": "ad65806d",
   "metadata": {},
   "outputs": [
    {
     "name": "stdout",
     "output_type": "stream",
     "text": [
      "Original Array: [ 0  1  2  3  4  5  6  7  8  9 10]\n",
      "Negated Array: [ 0  1  2  3 -4 -5 -6 -7 -8  9 10]\n"
     ]
    }
   ],
   "source": [
    "import numpy as np\n",
    "\n",
    "arr = np.arange(0,11)\n",
    "print(\"Original Array: {}\".format(arr))\n",
    "\n",
    "arr[(3<arr) & (arr<=8)] *= -1\n",
    "print(\"Negated Array: {}\".format(arr))"
   ]
  },
  {
   "cell_type": "markdown",
   "id": "6657e2af",
   "metadata": {},
   "source": [
    "---"
   ]
  },
  {
   "cell_type": "markdown",
   "id": "aa594f51",
   "metadata": {},
   "source": [
    "### Q11. Create a random array of 3 rows and 3 columns and sort it according to 1st column, 2nd column or 3rd column."
   ]
  },
  {
   "cell_type": "code",
   "execution_count": 12,
   "id": "9b6d0e27",
   "metadata": {},
   "outputs": [
    {
     "name": "stdout",
     "output_type": "stream",
     "text": [
      "Given array:\n",
      "[[3 3 1]\n",
      " [9 8 1]\n",
      " [7 7 8]]\n",
      "\n",
      "Sorted array:\n",
      "[[3 3 1]\n",
      " [7 7 8]\n",
      " [9 8 1]]\n"
     ]
    }
   ],
   "source": [
    "import numpy as np\n",
    "\n",
    "rand = np.random.randint(0,10,(3,3))\n",
    "print(\"Given array:\\n{}\".format(rand))\n",
    "\n",
    "sorted_rand = rand[rand[:,1].argsort()]\n",
    "print(\"\\nSorted array:\\n{}\".format(sorted_rand))"
   ]
  },
  {
   "cell_type": "markdown",
   "id": "9d61fe17",
   "metadata": {},
   "source": [
    "---"
   ]
  },
  {
   "cell_type": "markdown",
   "id": "04babf08",
   "metadata": {},
   "source": [
    "### Q12. Create a four dimensions array (2,2,2,2) get sum over the last two axis at once."
   ]
  },
  {
   "cell_type": "code",
   "execution_count": 13,
   "id": "fcfe0efb",
   "metadata": {},
   "outputs": [
    {
     "name": "stdout",
     "output_type": "stream",
     "text": [
      "4-Dimensional array is:\n",
      "[[[[9 9]\n",
      "   [4 1]]\n",
      "\n",
      "  [[3 5]\n",
      "   [5 5]]]\n",
      "\n",
      "\n",
      " [[[9 7]\n",
      "   [6 5]]\n",
      "\n",
      "  [[4 4]\n",
      "   [3 1]]]]\n",
      "\n",
      "\n",
      "Sum is:\n",
      "[[23 18]\n",
      " [27 12]]\n"
     ]
    }
   ],
   "source": [
    "import numpy as np\n",
    "d4_arr = np.random.randint(0,10,(2,2,2,2))\n",
    "\n",
    "print(\"4-Dimensional array is:\\n{}\".format(d4_arr))\n",
    "\n",
    "d4_sum = d4_arr.reshape(d4_arr.shape[:-2]+(-1,)).sum(axis=-1)\n",
    "print(\"\\n\\nSum is:\\n{}\".format(d4_sum))"
   ]
  },
  {
   "cell_type": "markdown",
   "id": "1fc8a940",
   "metadata": {},
   "source": [
    "---"
   ]
  },
  {
   "cell_type": "markdown",
   "id": "ba3301f8",
   "metadata": {},
   "source": [
    "### Q13. Create a random array ( 5,5) and swap two rows of an array."
   ]
  },
  {
   "cell_type": "code",
   "execution_count": 14,
   "id": "8e413d6c",
   "metadata": {},
   "outputs": [
    {
     "name": "stdout",
     "output_type": "stream",
     "text": [
      "Random array is:\n",
      "[[ 5 16 14 18 12]\n",
      " [ 6 10 19 18  7]\n",
      " [16 10  4 12  3]\n",
      " [ 7 11  6  2  5]\n",
      " [10 18 18 18 18]]\n",
      "\n",
      "Swapped array is:\n",
      "[[ 6 10 19 18  7]\n",
      " [ 5 16 14 18 12]\n",
      " [16 10  4 12  3]\n",
      " [ 7 11  6  2  5]\n",
      " [10 18 18 18 18]]\n"
     ]
    }
   ],
   "source": [
    "import numpy as np\n",
    "\n",
    "rand_arr = np.random.randint(0,20,(5,5))\n",
    "print(\"Random array is:\\n{}\".format(rand_arr))\n",
    "\n",
    "rand_arr[[0,1]] = rand_arr[[1,0]]\n",
    "print(\"\\nSwapped array is:\\n{}\".format(rand_arr))"
   ]
  },
  {
   "cell_type": "markdown",
   "id": "c959a9d1",
   "metadata": {},
   "source": [
    "---"
   ]
  },
  {
   "cell_type": "markdown",
   "id": "02a30518",
   "metadata": {},
   "source": [
    "### Q14. \n",
    "**Analyse various school outcomes in Tennessee using pandas. Suppose you are a public school administrator. Some schools in your state of Tennessee are performing below average academically. Your superintendent, under pressure from frustrated parents and voters, approached you with the task of understanding why these schools are under-performing. To improve school performance, you need to learn more about these schools and their students, just as a business needs to understand its own strengths and weaknesses and its customers. Though you is eager to build an impressive explanatory model, you know the importance of conducting preliminary research to prevent possible pitfalls or blind spots. Thus, you engages in a thorough exploratory analysis, which includes: a lit review, data collection, descriptive and inferential statistics, and data visualization.**"
   ]
  },
  {
   "cell_type": "markdown",
   "id": "31c2dd60",
   "metadata": {},
   "source": [
    "### Phase 1 - Data Collection\n",
    "Here is a data of every public school in middle Tennessee. The data also includes various demographic, school faculty, and income variables. You need to convert the data into useful information.\n",
    "\n",
    "Read the data in pandas data frame (middle_tn_schools.csv).\n",
    "\n",
    "Describe the data to find more details."
   ]
  },
  {
   "cell_type": "code",
   "execution_count": 15,
   "id": "2e55f57e",
   "metadata": {},
   "outputs": [
    {
     "data": {
      "text/html": [
       "<div>\n",
       "<style scoped>\n",
       "    .dataframe tbody tr th:only-of-type {\n",
       "        vertical-align: middle;\n",
       "    }\n",
       "\n",
       "    .dataframe tbody tr th {\n",
       "        vertical-align: top;\n",
       "    }\n",
       "\n",
       "    .dataframe thead th {\n",
       "        text-align: right;\n",
       "    }\n",
       "</style>\n",
       "<table border=\"1\" class=\"dataframe\">\n",
       "  <thead>\n",
       "    <tr style=\"text-align: right;\">\n",
       "      <th></th>\n",
       "      <th>school_rating</th>\n",
       "      <th>size</th>\n",
       "      <th>reduced_lunch</th>\n",
       "      <th>state_percentile_16</th>\n",
       "      <th>state_percentile_15</th>\n",
       "      <th>stu_teach_ratio</th>\n",
       "      <th>avg_score_15</th>\n",
       "      <th>avg_score_16</th>\n",
       "      <th>full_time_teachers</th>\n",
       "      <th>percent_black</th>\n",
       "      <th>percent_white</th>\n",
       "      <th>percent_asian</th>\n",
       "      <th>percent_hispanic</th>\n",
       "    </tr>\n",
       "  </thead>\n",
       "  <tbody>\n",
       "    <tr>\n",
       "      <th>count</th>\n",
       "      <td>347.000000</td>\n",
       "      <td>347.000000</td>\n",
       "      <td>347.000000</td>\n",
       "      <td>347.000000</td>\n",
       "      <td>341.000000</td>\n",
       "      <td>347.000000</td>\n",
       "      <td>341.000000</td>\n",
       "      <td>347.000000</td>\n",
       "      <td>347.000000</td>\n",
       "      <td>347.000000</td>\n",
       "      <td>347.000000</td>\n",
       "      <td>347.000000</td>\n",
       "      <td>347.000000</td>\n",
       "    </tr>\n",
       "    <tr>\n",
       "      <th>mean</th>\n",
       "      <td>2.968300</td>\n",
       "      <td>699.472622</td>\n",
       "      <td>50.279539</td>\n",
       "      <td>58.801729</td>\n",
       "      <td>58.249267</td>\n",
       "      <td>15.461671</td>\n",
       "      <td>57.004692</td>\n",
       "      <td>57.049856</td>\n",
       "      <td>44.939481</td>\n",
       "      <td>21.197983</td>\n",
       "      <td>61.673487</td>\n",
       "      <td>2.642651</td>\n",
       "      <td>11.164553</td>\n",
       "    </tr>\n",
       "    <tr>\n",
       "      <th>std</th>\n",
       "      <td>1.690377</td>\n",
       "      <td>400.598636</td>\n",
       "      <td>25.480236</td>\n",
       "      <td>32.540747</td>\n",
       "      <td>32.702630</td>\n",
       "      <td>5.725170</td>\n",
       "      <td>26.696450</td>\n",
       "      <td>27.968974</td>\n",
       "      <td>22.053386</td>\n",
       "      <td>23.562538</td>\n",
       "      <td>27.274859</td>\n",
       "      <td>3.109629</td>\n",
       "      <td>12.030608</td>\n",
       "    </tr>\n",
       "    <tr>\n",
       "      <th>min</th>\n",
       "      <td>0.000000</td>\n",
       "      <td>53.000000</td>\n",
       "      <td>2.000000</td>\n",
       "      <td>0.200000</td>\n",
       "      <td>0.600000</td>\n",
       "      <td>4.700000</td>\n",
       "      <td>1.500000</td>\n",
       "      <td>0.100000</td>\n",
       "      <td>2.000000</td>\n",
       "      <td>0.000000</td>\n",
       "      <td>1.100000</td>\n",
       "      <td>0.000000</td>\n",
       "      <td>0.000000</td>\n",
       "    </tr>\n",
       "    <tr>\n",
       "      <th>25%</th>\n",
       "      <td>2.000000</td>\n",
       "      <td>420.500000</td>\n",
       "      <td>30.000000</td>\n",
       "      <td>30.950000</td>\n",
       "      <td>27.100000</td>\n",
       "      <td>13.700000</td>\n",
       "      <td>37.600000</td>\n",
       "      <td>37.000000</td>\n",
       "      <td>30.000000</td>\n",
       "      <td>3.600000</td>\n",
       "      <td>40.600000</td>\n",
       "      <td>0.750000</td>\n",
       "      <td>3.800000</td>\n",
       "    </tr>\n",
       "    <tr>\n",
       "      <th>50%</th>\n",
       "      <td>3.000000</td>\n",
       "      <td>595.000000</td>\n",
       "      <td>51.000000</td>\n",
       "      <td>66.400000</td>\n",
       "      <td>65.800000</td>\n",
       "      <td>15.000000</td>\n",
       "      <td>61.800000</td>\n",
       "      <td>60.700000</td>\n",
       "      <td>40.000000</td>\n",
       "      <td>13.500000</td>\n",
       "      <td>68.700000</td>\n",
       "      <td>1.600000</td>\n",
       "      <td>6.400000</td>\n",
       "    </tr>\n",
       "    <tr>\n",
       "      <th>75%</th>\n",
       "      <td>4.000000</td>\n",
       "      <td>851.000000</td>\n",
       "      <td>71.500000</td>\n",
       "      <td>88.000000</td>\n",
       "      <td>88.600000</td>\n",
       "      <td>16.700000</td>\n",
       "      <td>79.600000</td>\n",
       "      <td>80.250000</td>\n",
       "      <td>54.000000</td>\n",
       "      <td>28.350000</td>\n",
       "      <td>85.950000</td>\n",
       "      <td>3.100000</td>\n",
       "      <td>13.800000</td>\n",
       "    </tr>\n",
       "    <tr>\n",
       "      <th>max</th>\n",
       "      <td>5.000000</td>\n",
       "      <td>2314.000000</td>\n",
       "      <td>98.000000</td>\n",
       "      <td>99.800000</td>\n",
       "      <td>99.800000</td>\n",
       "      <td>111.000000</td>\n",
       "      <td>99.000000</td>\n",
       "      <td>98.900000</td>\n",
       "      <td>140.000000</td>\n",
       "      <td>97.400000</td>\n",
       "      <td>99.700000</td>\n",
       "      <td>21.100000</td>\n",
       "      <td>65.200000</td>\n",
       "    </tr>\n",
       "  </tbody>\n",
       "</table>\n",
       "</div>"
      ],
      "text/plain": [
       "       school_rating         size  reduced_lunch  state_percentile_16  \\\n",
       "count     347.000000   347.000000     347.000000           347.000000   \n",
       "mean        2.968300   699.472622      50.279539            58.801729   \n",
       "std         1.690377   400.598636      25.480236            32.540747   \n",
       "min         0.000000    53.000000       2.000000             0.200000   \n",
       "25%         2.000000   420.500000      30.000000            30.950000   \n",
       "50%         3.000000   595.000000      51.000000            66.400000   \n",
       "75%         4.000000   851.000000      71.500000            88.000000   \n",
       "max         5.000000  2314.000000      98.000000            99.800000   \n",
       "\n",
       "       state_percentile_15  stu_teach_ratio  avg_score_15  avg_score_16  \\\n",
       "count           341.000000       347.000000    341.000000    347.000000   \n",
       "mean             58.249267        15.461671     57.004692     57.049856   \n",
       "std              32.702630         5.725170     26.696450     27.968974   \n",
       "min               0.600000         4.700000      1.500000      0.100000   \n",
       "25%              27.100000        13.700000     37.600000     37.000000   \n",
       "50%              65.800000        15.000000     61.800000     60.700000   \n",
       "75%              88.600000        16.700000     79.600000     80.250000   \n",
       "max              99.800000       111.000000     99.000000     98.900000   \n",
       "\n",
       "       full_time_teachers  percent_black  percent_white  percent_asian  \\\n",
       "count          347.000000     347.000000     347.000000     347.000000   \n",
       "mean            44.939481      21.197983      61.673487       2.642651   \n",
       "std             22.053386      23.562538      27.274859       3.109629   \n",
       "min              2.000000       0.000000       1.100000       0.000000   \n",
       "25%             30.000000       3.600000      40.600000       0.750000   \n",
       "50%             40.000000      13.500000      68.700000       1.600000   \n",
       "75%             54.000000      28.350000      85.950000       3.100000   \n",
       "max            140.000000      97.400000      99.700000      21.100000   \n",
       "\n",
       "       percent_hispanic  \n",
       "count        347.000000  \n",
       "mean          11.164553  \n",
       "std           12.030608  \n",
       "min            0.000000  \n",
       "25%            3.800000  \n",
       "50%            6.400000  \n",
       "75%           13.800000  \n",
       "max           65.200000  "
      ]
     },
     "execution_count": 15,
     "metadata": {},
     "output_type": "execute_result"
    }
   ],
   "source": [
    "import numpy as np\n",
    "import pandas as pd\n",
    "import matplotlib.pyplot as plt\n",
    "import seaborn as sns\n",
    "\n",
    "df = pd.read_csv(\"datasets\\middle_tn_schools.csv\")\n",
    "df.describe()"
   ]
  },
  {
   "cell_type": "markdown",
   "id": "38b4a82b",
   "metadata": {},
   "source": [
    "### Phase 2 - Group data by school ratings\n",
    "Chooses indicators that describe the student body (for example, reduced_lunch) or school administration (stu_teach_ratio) hoping they will explain school_rating. reduced_lunch is a variable measuring the average percentage of students per school enrolled in a federal program that provides lunches for students from lower-income households. In short, reduced_lunch is a good proxy for household income.Isolates ‘reduced_lunch’ and groups the data by ‘school_rating’ using pandas groupby method and then uses describe on the re-shaped data."
   ]
  },
  {
   "cell_type": "code",
   "execution_count": 16,
   "id": "469270f6",
   "metadata": {},
   "outputs": [
    {
     "data": {
      "text/html": [
       "<div>\n",
       "<style scoped>\n",
       "    .dataframe tbody tr th:only-of-type {\n",
       "        vertical-align: middle;\n",
       "    }\n",
       "\n",
       "    .dataframe tbody tr th {\n",
       "        vertical-align: top;\n",
       "    }\n",
       "\n",
       "    .dataframe thead tr th {\n",
       "        text-align: left;\n",
       "    }\n",
       "\n",
       "    .dataframe thead tr:last-of-type th {\n",
       "        text-align: right;\n",
       "    }\n",
       "</style>\n",
       "<table border=\"1\" class=\"dataframe\">\n",
       "  <thead>\n",
       "    <tr>\n",
       "      <th></th>\n",
       "      <th colspan=\"8\" halign=\"left\">reduced_lunch</th>\n",
       "    </tr>\n",
       "    <tr>\n",
       "      <th></th>\n",
       "      <th>count</th>\n",
       "      <th>mean</th>\n",
       "      <th>std</th>\n",
       "      <th>min</th>\n",
       "      <th>25%</th>\n",
       "      <th>50%</th>\n",
       "      <th>75%</th>\n",
       "      <th>max</th>\n",
       "    </tr>\n",
       "    <tr>\n",
       "      <th>school_rating</th>\n",
       "      <th></th>\n",
       "      <th></th>\n",
       "      <th></th>\n",
       "      <th></th>\n",
       "      <th></th>\n",
       "      <th></th>\n",
       "      <th></th>\n",
       "      <th></th>\n",
       "    </tr>\n",
       "  </thead>\n",
       "  <tbody>\n",
       "    <tr>\n",
       "      <th>0.0</th>\n",
       "      <td>43.0</td>\n",
       "      <td>83.581395</td>\n",
       "      <td>8.813498</td>\n",
       "      <td>53.0</td>\n",
       "      <td>79.50</td>\n",
       "      <td>86.0</td>\n",
       "      <td>90.00</td>\n",
       "      <td>98.0</td>\n",
       "    </tr>\n",
       "    <tr>\n",
       "      <th>1.0</th>\n",
       "      <td>40.0</td>\n",
       "      <td>74.950000</td>\n",
       "      <td>11.644191</td>\n",
       "      <td>53.0</td>\n",
       "      <td>65.00</td>\n",
       "      <td>74.5</td>\n",
       "      <td>84.25</td>\n",
       "      <td>98.0</td>\n",
       "    </tr>\n",
       "    <tr>\n",
       "      <th>2.0</th>\n",
       "      <td>44.0</td>\n",
       "      <td>64.272727</td>\n",
       "      <td>11.956051</td>\n",
       "      <td>37.0</td>\n",
       "      <td>54.75</td>\n",
       "      <td>62.5</td>\n",
       "      <td>74.00</td>\n",
       "      <td>88.0</td>\n",
       "    </tr>\n",
       "    <tr>\n",
       "      <th>3.0</th>\n",
       "      <td>56.0</td>\n",
       "      <td>50.285714</td>\n",
       "      <td>13.550866</td>\n",
       "      <td>24.0</td>\n",
       "      <td>41.00</td>\n",
       "      <td>48.5</td>\n",
       "      <td>63.00</td>\n",
       "      <td>78.0</td>\n",
       "    </tr>\n",
       "    <tr>\n",
       "      <th>4.0</th>\n",
       "      <td>86.0</td>\n",
       "      <td>41.000000</td>\n",
       "      <td>16.681092</td>\n",
       "      <td>4.0</td>\n",
       "      <td>30.00</td>\n",
       "      <td>41.5</td>\n",
       "      <td>50.00</td>\n",
       "      <td>87.0</td>\n",
       "    </tr>\n",
       "    <tr>\n",
       "      <th>5.0</th>\n",
       "      <td>78.0</td>\n",
       "      <td>21.602564</td>\n",
       "      <td>17.651268</td>\n",
       "      <td>2.0</td>\n",
       "      <td>8.00</td>\n",
       "      <td>19.0</td>\n",
       "      <td>29.75</td>\n",
       "      <td>87.0</td>\n",
       "    </tr>\n",
       "  </tbody>\n",
       "</table>\n",
       "</div>"
      ],
      "text/plain": [
       "              reduced_lunch                                                  \\\n",
       "                      count       mean        std   min    25%   50%    75%   \n",
       "school_rating                                                                 \n",
       "0.0                    43.0  83.581395   8.813498  53.0  79.50  86.0  90.00   \n",
       "1.0                    40.0  74.950000  11.644191  53.0  65.00  74.5  84.25   \n",
       "2.0                    44.0  64.272727  11.956051  37.0  54.75  62.5  74.00   \n",
       "3.0                    56.0  50.285714  13.550866  24.0  41.00  48.5  63.00   \n",
       "4.0                    86.0  41.000000  16.681092   4.0  30.00  41.5  50.00   \n",
       "5.0                    78.0  21.602564  17.651268   2.0   8.00  19.0  29.75   \n",
       "\n",
       "                     \n",
       "                max  \n",
       "school_rating        \n",
       "0.0            98.0  \n",
       "1.0            98.0  \n",
       "2.0            88.0  \n",
       "3.0            78.0  \n",
       "4.0            87.0  \n",
       "5.0            87.0  "
      ]
     },
     "execution_count": 16,
     "metadata": {},
     "output_type": "execute_result"
    }
   ],
   "source": [
    "df[['reduced_lunch', 'school_rating']].groupby(['school_rating']).describe()"
   ]
  },
  {
   "cell_type": "markdown",
   "id": "ecf05035",
   "metadata": {},
   "source": [
    "### Phase 3 – Correlation analysis\n",
    "\n",
    "Find the correlation between ‘reduced_lunch’ and ‘school_rating’. The values in the correlation matrix table will be between -1 and 1. A value of -1 indicates the strongest possible negative correlation, meaning as one variable decreases the other increases. And a value of 1 indicates the opposite."
   ]
  },
  {
   "cell_type": "code",
   "execution_count": 17,
   "id": "f27b9fcd",
   "metadata": {},
   "outputs": [
    {
     "data": {
      "text/html": [
       "<div>\n",
       "<style scoped>\n",
       "    .dataframe tbody tr th:only-of-type {\n",
       "        vertical-align: middle;\n",
       "    }\n",
       "\n",
       "    .dataframe tbody tr th {\n",
       "        vertical-align: top;\n",
       "    }\n",
       "\n",
       "    .dataframe thead th {\n",
       "        text-align: right;\n",
       "    }\n",
       "</style>\n",
       "<table border=\"1\" class=\"dataframe\">\n",
       "  <thead>\n",
       "    <tr style=\"text-align: right;\">\n",
       "      <th></th>\n",
       "      <th>reduced_lunch</th>\n",
       "      <th>school_rating</th>\n",
       "    </tr>\n",
       "  </thead>\n",
       "  <tbody>\n",
       "    <tr>\n",
       "      <th>reduced_lunch</th>\n",
       "      <td>1.000000</td>\n",
       "      <td>-0.815757</td>\n",
       "    </tr>\n",
       "    <tr>\n",
       "      <th>school_rating</th>\n",
       "      <td>-0.815757</td>\n",
       "      <td>1.000000</td>\n",
       "    </tr>\n",
       "  </tbody>\n",
       "</table>\n",
       "</div>"
      ],
      "text/plain": [
       "               reduced_lunch  school_rating\n",
       "reduced_lunch       1.000000      -0.815757\n",
       "school_rating      -0.815757       1.000000"
      ]
     },
     "execution_count": 17,
     "metadata": {},
     "output_type": "execute_result"
    }
   ],
   "source": [
    "df[['reduced_lunch', 'school_rating']].corr()"
   ]
  },
  {
   "cell_type": "markdown",
   "id": "42c0a2b6",
   "metadata": {},
   "source": [
    "### Phase 4 – Scatter Plot\n",
    "\n",
    "Find the relationship between school_rating and reduced_lunch, Plot a graph with the two variables on a scatter plot. Each dot represents a school. The placement of the dot represents that school's rating (Y-axis) and the percentage of its students on reduced lunch (x-axis). The downward trend line shows the negative correlation between school_rating and reduced_lunch (as one increases, the other decreases). The slope of the trend line indicates how much school_rating decreases\n",
    "\n",
    "as reduced_lunch increases. A steeper slope would indicate that a small change in reduced_lunch has a big impact on school_rating while a more horizontal slope would indicate that the same small change in reduced_lunch has a smaller impact on school_rating."
   ]
  },
  {
   "cell_type": "code",
   "execution_count": 18,
   "id": "e8008746",
   "metadata": {},
   "outputs": [
    {
     "data": {
      "image/png": "[encoded data removed]",
      "text/plain": [
       "<Figure size 1008x576 with 1 Axes>"
      ]
     },
     "metadata": {
      "needs_background": "light"
     },
     "output_type": "display_data"
    }
   ],
   "source": [
    "plt.figure(figsize=(14,8))\n",
    "sns.regplot(data=df, x='reduced_lunch', y='school_rating')\n",
    "plt.show()"
   ]
  },
  {
   "cell_type": "markdown",
   "id": "3f6c4771",
   "metadata": {},
   "source": [
    "### Phase 5 – Correlation Matrix\n",
    "\n",
    "An efficient graph for assessing relationships is the correlation matrix, as seen below; its color-coded cells make it easier to interpret than the tabular correlation matrix above. Red cells indicate positive correlation; blue cells indicate negative correlation; white cells indicate no correlation. The darker the colors, the stronger the correlation (positive or negative) between those two variables. Draw a graph of correlation matrix having all important fields of data frame."
   ]
  },
  {
   "cell_type": "code",
   "execution_count": 36,
   "id": "78ce6f70",
   "metadata": {},
   "outputs": [
    {
     "data": {
      "image/png": "[encoded data removed]",
      "text/plain": [
       "<Figure size 720x720 with 2 Axes>"
      ]
     },
     "metadata": {
      "needs_background": "light"
     },
     "output_type": "display_data"
    }
   ],
   "source": [
    "corr = df.corr()\n",
    "plt.figure(figsize = (10,10))\n",
    "sns.heatmap(corr,xticklabels=corr.columns.values, yticklabels=corr.columns.values)\n",
    "plt.show()"
   ]
  },
  {
   "cell_type": "markdown",
   "id": "03450ab0",
   "metadata": {},
   "source": [
    "---"
   ]
  }
 ],
 "metadata": {
  "kernelspec": {
   "display_name": "Python 3",
   "language": "python",
   "name": "python3"
  },
  "language_info": {
   "codemirror_mode": {
    "name": "ipython",
    "version": 3
   },
   "file_extension": ".py",
   "mimetype": "text/x-python",
   "name": "python",
   "nbconvert_exporter": "python",
   "pygments_lexer": "ipython3",
   "version": "3.8.8"
  }
 },
 "nbformat": 4,
 "nbformat_minor": 5
}
