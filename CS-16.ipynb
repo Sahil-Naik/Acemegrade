{
 "cells": [
  {
   "cell_type": "markdown",
   "id": "e50e361e",
   "metadata": {},
   "source": [
    "## Data Transformation"
   ]
  },
  {
   "cell_type": "markdown",
   "id": "7b7a1601",
   "metadata": {},
   "source": [
    "**Business challenge/requirement:**<br>\n",
    "You are a data analyst with University of Cal USA (Not a machine learning expert yet as you still have not completed ML with Python Course -_-).The University has data of Math, Physics and Data Structure score of sophomore students. This data is stored in different files. The University has hired a data science company to do analysis of scores and find if there is any correlation of score with age, ethnicity etc. Before the data is given to the company you have to do data wrangling."
   ]
  },
  {
   "cell_type": "markdown",
   "id": "d127d2aa",
   "metadata": {},
   "source": [
    "### 1. Read the three csv files which contains the score of same students in term1 for each Subject."
   ]
  },
  {
   "cell_type": "code",
   "execution_count": 44,
   "id": "10217584",
   "metadata": {},
   "outputs": [],
   "source": [
    "import pandas as pd\n",
    "import numpy as np\n",
    "\n",
    "# Reading/loading the 3 CSV files\n",
    "math_df = pd.read_csv(\"datasets/MathScoreTerm1.csv\")\n",
    "phy_df = pd.read_csv(\"datasets/PhysicsScoreTerm1.csv\")\n",
    "ds_df = pd.read_csv(\"datasets/DSScoreTerm1.csv\")"
   ]
  },
  {
   "cell_type": "markdown",
   "id": "b9603b7b",
   "metadata": {},
   "source": [
    "### 2. Remove the 'Name' and 'Ethinicity' column (to ensure confidentiality)."
   ]
  },
  {
   "cell_type": "code",
   "execution_count": 45,
   "id": "69dcacf0",
   "metadata": {},
   "outputs": [],
   "source": [
    "math_df = math_df.drop(['Name', 'Ethinicity'], axis='columns')\n",
    "phy_df = phy_df.drop(['Name', 'Ethinicity'], axis='columns')\n",
    "ds_df = ds_df.drop(['Name', 'Ethinicity'], axis='columns')"
   ]
  },
  {
   "cell_type": "markdown",
   "id": "ed408c56",
   "metadata": {},
   "source": [
    "### 3. Fill missing 'Score' data with zero."
   ]
  },
  {
   "cell_type": "code",
   "execution_count": 46,
   "id": "142261e6",
   "metadata": {},
   "outputs": [],
   "source": [
    "math_df['Score'] = math_df['Score'].fillna(0)\n",
    "phy_df['Score'] = phy_df['Score'].fillna(0)\n",
    "ds_df['Score'] = ds_df['Score'].fillna(0)\n",
    "\n",
    "# Missing Values have been fixed"
   ]
  },
  {
   "cell_type": "code",
   "execution_count": 47,
   "id": "06ba8c0e",
   "metadata": {},
   "outputs": [
    {
     "data": {
      "text/plain": [
       "Score      0\n",
       "Age        0\n",
       "Subject    0\n",
       "Sex        0\n",
       "ID         0\n",
       "dtype: int64"
      ]
     },
     "execution_count": 47,
     "metadata": {},
     "output_type": "execute_result"
    }
   ],
   "source": [
    "math_df.isnull().sum()"
   ]
  },
  {
   "cell_type": "markdown",
   "id": "3623d218",
   "metadata": {},
   "source": [
    "### 4. Merge the three files."
   ]
  },
  {
   "cell_type": "code",
   "execution_count": 48,
   "id": "cc619188",
   "metadata": {},
   "outputs": [
    {
     "data": {
      "text/plain": [
       "[     Score  Age Subject Sex   ID\n",
       " 0     88.0   18   Maths   M    1\n",
       " 1     85.0   19   Maths   M    2\n",
       " 2     45.0   19   Maths   M    3\n",
       " 3     82.0   18   Maths   M    4\n",
       " 4     82.0   18   Maths   F    5\n",
       " ..     ...  ...     ...  ..  ...\n",
       " 594   45.0   19   Maths   F  595\n",
       " 595   75.0   18   Maths   M  596\n",
       " 596   53.0   20   Maths   M  597\n",
       " 597   75.0   20   Maths   M  598\n",
       " 598   88.0   19   Maths   M  599\n",
       " \n",
       " [599 rows x 5 columns],\n",
       "      Score  Age  Subject Sex   ID\n",
       " 0     84.0   18  Physics   M    1\n",
       " 1     81.0   19  Physics   M    2\n",
       " 2     41.0   19  Physics   M    3\n",
       " 3     78.0   18  Physics   M    4\n",
       " 4     78.0   18  Physics   F    5\n",
       " ..     ...  ...      ...  ..  ...\n",
       " 594   41.0   19  Physics   F  595\n",
       " 595   71.0   18  Physics   M  596\n",
       " 596   49.0   20  Physics   M  597\n",
       " 597   71.0   20  Physics   M  598\n",
       " 598   69.0   19  Physics   M  599\n",
       " \n",
       " [599 rows x 5 columns],\n",
       "      Score  Age        Subject Sex   ID\n",
       " 0     82.0   18  Data Structue   M    1\n",
       " 1     79.0   19  Data Structue   M    2\n",
       " 2     39.0   19  Data Structue   M    3\n",
       " 3     76.0   18  Data Structue   M    4\n",
       " 4     76.0   18  Data Structue   F    5\n",
       " ..     ...  ...            ...  ..  ...\n",
       " 594   39.0   19  Data Structue   F  595\n",
       " 595   69.0   18  Data Structue   M  596\n",
       " 596   47.0   20  Data Structue   M  597\n",
       " 597   69.0   20  Data Structue   M  598\n",
       " 598    0.0   19  Data Structue   M  599\n",
       " \n",
       " [599 rows x 5 columns]]"
      ]
     },
     "execution_count": 48,
     "metadata": {},
     "output_type": "execute_result"
    }
   ],
   "source": [
    "all_subs = [math_df, phy_df, ds_df]\n",
    "all_subs"
   ]
  },
  {
   "cell_type": "markdown",
   "id": "9f2fa0c4",
   "metadata": {},
   "source": [
    "### 5. Change 'Sex(M/F)' Column to 1 or 2 for further analysis. Where M is 1 and F is 2."
   ]
  },
  {
   "cell_type": "code",
   "execution_count": 49,
   "id": "05789af7",
   "metadata": {},
   "outputs": [
    {
     "data": {
      "text/html": [
       "<div>\n",
       "<style scoped>\n",
       "    .dataframe tbody tr th:only-of-type {\n",
       "        vertical-align: middle;\n",
       "    }\n",
       "\n",
       "    .dataframe tbody tr th {\n",
       "        vertical-align: top;\n",
       "    }\n",
       "\n",
       "    .dataframe thead th {\n",
       "        text-align: right;\n",
       "    }\n",
       "</style>\n",
       "<table border=\"1\" class=\"dataframe\">\n",
       "  <thead>\n",
       "    <tr style=\"text-align: right;\">\n",
       "      <th></th>\n",
       "      <th>Score</th>\n",
       "      <th>Age</th>\n",
       "      <th>Subject</th>\n",
       "      <th>Sex</th>\n",
       "      <th>ID</th>\n",
       "    </tr>\n",
       "  </thead>\n",
       "  <tbody>\n",
       "    <tr>\n",
       "      <th>0</th>\n",
       "      <td>88.0</td>\n",
       "      <td>18</td>\n",
       "      <td>Maths</td>\n",
       "      <td>1</td>\n",
       "      <td>1</td>\n",
       "    </tr>\n",
       "    <tr>\n",
       "      <th>1</th>\n",
       "      <td>85.0</td>\n",
       "      <td>19</td>\n",
       "      <td>Maths</td>\n",
       "      <td>1</td>\n",
       "      <td>2</td>\n",
       "    </tr>\n",
       "    <tr>\n",
       "      <th>2</th>\n",
       "      <td>45.0</td>\n",
       "      <td>19</td>\n",
       "      <td>Maths</td>\n",
       "      <td>1</td>\n",
       "      <td>3</td>\n",
       "    </tr>\n",
       "    <tr>\n",
       "      <th>3</th>\n",
       "      <td>82.0</td>\n",
       "      <td>18</td>\n",
       "      <td>Maths</td>\n",
       "      <td>1</td>\n",
       "      <td>4</td>\n",
       "    </tr>\n",
       "    <tr>\n",
       "      <th>4</th>\n",
       "      <td>82.0</td>\n",
       "      <td>18</td>\n",
       "      <td>Maths</td>\n",
       "      <td>2</td>\n",
       "      <td>5</td>\n",
       "    </tr>\n",
       "    <tr>\n",
       "      <th>...</th>\n",
       "      <td>...</td>\n",
       "      <td>...</td>\n",
       "      <td>...</td>\n",
       "      <td>...</td>\n",
       "      <td>...</td>\n",
       "    </tr>\n",
       "    <tr>\n",
       "      <th>594</th>\n",
       "      <td>39.0</td>\n",
       "      <td>19</td>\n",
       "      <td>Data Structue</td>\n",
       "      <td>2</td>\n",
       "      <td>595</td>\n",
       "    </tr>\n",
       "    <tr>\n",
       "      <th>595</th>\n",
       "      <td>69.0</td>\n",
       "      <td>18</td>\n",
       "      <td>Data Structue</td>\n",
       "      <td>1</td>\n",
       "      <td>596</td>\n",
       "    </tr>\n",
       "    <tr>\n",
       "      <th>596</th>\n",
       "      <td>47.0</td>\n",
       "      <td>20</td>\n",
       "      <td>Data Structue</td>\n",
       "      <td>1</td>\n",
       "      <td>597</td>\n",
       "    </tr>\n",
       "    <tr>\n",
       "      <th>597</th>\n",
       "      <td>69.0</td>\n",
       "      <td>20</td>\n",
       "      <td>Data Structue</td>\n",
       "      <td>1</td>\n",
       "      <td>598</td>\n",
       "    </tr>\n",
       "    <tr>\n",
       "      <th>598</th>\n",
       "      <td>0.0</td>\n",
       "      <td>19</td>\n",
       "      <td>Data Structue</td>\n",
       "      <td>1</td>\n",
       "      <td>599</td>\n",
       "    </tr>\n",
       "  </tbody>\n",
       "</table>\n",
       "<p>1797 rows × 5 columns</p>\n",
       "</div>"
      ],
      "text/plain": [
       "     Score  Age        Subject  Sex   ID\n",
       "0     88.0   18          Maths    1    1\n",
       "1     85.0   19          Maths    1    2\n",
       "2     45.0   19          Maths    1    3\n",
       "3     82.0   18          Maths    1    4\n",
       "4     82.0   18          Maths    2    5\n",
       "..     ...  ...            ...  ...  ...\n",
       "594   39.0   19  Data Structue    2  595\n",
       "595   69.0   18  Data Structue    1  596\n",
       "596   47.0   20  Data Structue    1  597\n",
       "597   69.0   20  Data Structue    1  598\n",
       "598    0.0   19  Data Structue    1  599\n",
       "\n",
       "[1797 rows x 5 columns]"
      ]
     },
     "execution_count": 49,
     "metadata": {},
     "output_type": "execute_result"
    }
   ],
   "source": [
    "for data in all_subs:\n",
    "    data['Sex'] = data['Sex'].map({'M':1, 'F':2}).astype(int)\n",
    "    \n",
    "final_data = pd.concat(all_subs)\n",
    "\n",
    "final_data"
   ]
  },
  {
   "cell_type": "markdown",
   "id": "9d96d415",
   "metadata": {},
   "source": [
    "### 6. Store the data in new file as ScoreFinal.csv."
   ]
  },
  {
   "cell_type": "code",
   "execution_count": 51,
   "id": "e2e64242",
   "metadata": {},
   "outputs": [
    {
     "name": "stdout",
     "output_type": "stream",
     "text": [
      "File saved Successfully!\n"
     ]
    }
   ],
   "source": [
    "final_data.to_csv(\"datasets/processed/ScoreFinal.csv\",index=False)\n",
    "print(\"File saved Successfully!\")"
   ]
  },
  {
   "cell_type": "markdown",
   "id": "4611d0c9",
   "metadata": {},
   "source": [
    "---"
   ]
  }
 ],
 "metadata": {
  "kernelspec": {
   "display_name": "Python 3",
   "language": "python",
   "name": "python3"
  },
  "language_info": {
   "codemirror_mode": {
    "name": "ipython",
    "version": 3
   },
   "file_extension": ".py",
   "mimetype": "text/x-python",
   "name": "python",
   "nbconvert_exporter": "python",
   "pygments_lexer": "ipython3",
   "version": "3.8.8"
  }
 },
 "nbformat": 4,
 "nbformat_minor": 5
}
