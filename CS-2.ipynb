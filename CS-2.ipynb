{
 "cells": [
  {
   "cell_type": "markdown",
   "id": "dc500c51",
   "metadata": {},
   "source": [
    "### Q1. Write a Python program to count the number 4 in a given list."
   ]
  },
  {
   "cell_type": "code",
   "execution_count": 6,
   "id": "9002da4a",
   "metadata": {},
   "outputs": [
    {
     "name": "stdout",
     "output_type": "stream",
     "text": [
      "Number of 4 are: 3\n"
     ]
    }
   ],
   "source": [
    "def count_4(give_list):\n",
    "    count = 0\n",
    "    for i in give_list:\n",
    "        if i == 4:\n",
    "            count += 1\n",
    "    return print(\"Number of 4 are: {}\".format(count))\n",
    "    \n",
    "sample_list = [2,4,5,1,67,2,24,4,21,8,4]\n",
    "count_4(sample_list)"
   ]
  },
  {
   "cell_type": "markdown",
   "id": "13fcb0ce",
   "metadata": {},
   "source": [
    "---"
   ]
  },
  {
   "cell_type": "markdown",
   "id": "1222c759",
   "metadata": {},
   "source": [
    "### Q2. Write a Python program to test whether a passed letter is a vowel or not."
   ]
  },
  {
   "cell_type": "code",
   "execution_count": 7,
   "id": "ae1962ac",
   "metadata": {},
   "outputs": [
    {
     "name": "stdout",
     "output_type": "stream",
     "text": [
      "Given letter t is not a Vowel!\n",
      "Given letter e is a Vowel!\n"
     ]
    }
   ],
   "source": [
    "def is_vowel(get_let):\n",
    "    vowi = \"aeiou\"\n",
    "    if get_let in vowi:\n",
    "        return print(\"Given letter {} is a Vowel!\".format(get_let))\n",
    "    else:\n",
    "        return print(\"Given letter {} is not a Vowel!\".format(get_let))\n",
    "    \n",
    "is_vowel('t')\n",
    "is_vowel('e')"
   ]
  },
  {
   "cell_type": "markdown",
   "id": "1407cf35",
   "metadata": {},
   "source": [
    "---"
   ]
  },
  {
   "cell_type": "markdown",
   "id": "ed9b6e3b",
   "metadata": {},
   "source": [
    "### Q3. Write a Python program to check whether a specified value is contained in a group of values."
   ]
  },
  {
   "cell_type": "code",
   "execution_count": 9,
   "id": "ae6c22da",
   "metadata": {},
   "outputs": [
    {
     "name": "stdout",
     "output_type": "stream",
     "text": [
      "2 is present in [1, 2, 3, 4, 5].\n",
      "4 is not present in [1, 2, 8].\n"
     ]
    }
   ],
   "source": [
    "def is_present(num, num_grp):\n",
    "    if num in num_grp:\n",
    "        return print(\"{} is present in {}.\".format(num,num_grp))\n",
    "    else:\n",
    "        return print(\"{} is not present in {}.\".format(num,num_grp))\n",
    "    \n",
    "is_present(2,[1,2,3,4,5])\n",
    "is_present(4,[1,2,8])"
   ]
  },
  {
   "cell_type": "markdown",
   "id": "1df94301",
   "metadata": {},
   "source": [
    "---"
   ]
  },
  {
   "cell_type": "markdown",
   "id": "e3a65eaf",
   "metadata": {},
   "source": [
    "### Q4. Write a Python program to create a histogram from a given list of integers."
   ]
  },
  {
   "cell_type": "code",
   "execution_count": 21,
   "id": "53159155",
   "metadata": {},
   "outputs": [
    {
     "name": "stdout",
     "output_type": "stream",
     "text": [
      "3: [][][]\n",
      "\n",
      "2: [][]\n",
      "\n",
      "4: [][][][]\n",
      "\n",
      "6: [][][][][][]\n",
      "\n",
      "1: []\n",
      "\n"
     ]
    }
   ],
   "source": [
    "def histo(get_num_list):\n",
    "    for i in get_num_list:\n",
    "        print(i,end=\": \")\n",
    "        for j in range(i):\n",
    "            print(\"[]\",end=\"\")\n",
    "        print(\"\\n\")\n",
    "            \n",
    "histo([3,2,4,6,1])"
   ]
  },
  {
   "cell_type": "markdown",
   "id": "84b9cd3a",
   "metadata": {},
   "source": [
    "---"
   ]
  },
  {
   "cell_type": "markdown",
   "id": "ea42996a",
   "metadata": {},
   "source": [
    "### Q5. Write a Python program to concatenate all elements in a list into a string and return it."
   ]
  },
  {
   "cell_type": "code",
   "execution_count": 26,
   "id": "8094e9ea",
   "metadata": {},
   "outputs": [
    {
     "name": "stdout",
     "output_type": "stream",
     "text": [
      "String is: 123\n",
      "Type: <class 'str'>\n"
     ]
    }
   ],
   "source": [
    "def can_cot(take_list):\n",
    "    hmm_str = \"\"\n",
    "    for i in take_list:\n",
    "        temp = str(i)\n",
    "        hmm_str += temp\n",
    "    return print(\"String is: {}\\nType: {}\".format(hmm_str, type(hmm_str)))\n",
    "    \n",
    "can_cot([1,2,3])"
   ]
  },
  {
   "cell_type": "markdown",
   "id": "fe94e93c",
   "metadata": {},
   "source": [
    "---"
   ]
  },
  {
   "cell_type": "markdown",
   "id": "588d3414",
   "metadata": {},
   "source": [
    "### Q6. Write a Python program that will accept the base and height of a triangle and compute the area."
   ]
  },
  {
   "cell_type": "code",
   "execution_count": 35,
   "id": "76dee4d2",
   "metadata": {},
   "outputs": [
    {
     "name": "stdout",
     "output_type": "stream",
     "text": [
      "Enter base: 2\n",
      "Enter height: 6.1\n",
      "Area of Triangle with base 2.0 and height 6.1 is 6.1 units.\n"
     ]
    }
   ],
   "source": [
    "def compute_area(base,height):\n",
    "    area = float((base*height)/2)\n",
    "    return print(\"Area of Triangle with base {} and height {} is {} units.\".format(base,height,round(area,3)))\n",
    "\n",
    "get_base = float(input(\"Enter base: \"))\n",
    "get_height = float(input(\"Enter height: \"))\n",
    "\n",
    "compute_area(get_base,get_height)"
   ]
  },
  {
   "cell_type": "markdown",
   "id": "b7fec4b0",
   "metadata": {},
   "source": [
    "---"
   ]
  },
  {
   "cell_type": "markdown",
   "id": "baffa2bd",
   "metadata": {},
   "source": [
    "### Q7. Write a Python program to sum of three given integers. However, if two values are equal sum will be zero."
   ]
  },
  {
   "cell_type": "code",
   "execution_count": 40,
   "id": "a1800ca8",
   "metadata": {},
   "outputs": [
    {
     "name": "stdout",
     "output_type": "stream",
     "text": [
      "Sum of 4+1+6 is: 11.\n",
      "Sum of 1+2+1 is: 0. Since 2 values are equal.\n"
     ]
    }
   ],
   "source": [
    "def get_sum(num1, num2, num3):\n",
    "    if num1 == num2 or num2 == num3 or num1 == num3:\n",
    "        return print(\"Sum of {}+{}+{} is: 0. Since 2 values are equal.\".format(num1,num2,num3))\n",
    "    else:\n",
    "        return print(\"Sum of {}+{}+{} is: {}.\".format(num1,num2,num3,num1+num2+num3))\n",
    "    \n",
    "get_sum(4,1,6)\n",
    "get_sum(1,2,1)"
   ]
  },
  {
   "cell_type": "markdown",
   "id": "53d46505",
   "metadata": {},
   "source": [
    "---"
   ]
  },
  {
   "cell_type": "markdown",
   "id": "f07e2751",
   "metadata": {},
   "source": [
    "### Q8. Write a Python program to sum of two given integers. However, if the sum is between 15 to 20 it will return 20."
   ]
  },
  {
   "cell_type": "code",
   "execution_count": 44,
   "id": "dfdd0e89",
   "metadata": {},
   "outputs": [
    {
     "name": "stdout",
     "output_type": "stream",
     "text": [
      "Sum is: 13.\n",
      "Sum is: 20.\n"
     ]
    }
   ],
   "source": [
    "def sum_two(int1, int2):\n",
    "    temp = int1+int2\n",
    "    if temp>=15 and temp<=20:\n",
    "        return print(\"Sum is: 20.\")\n",
    "    else:\n",
    "        return print(\"Sum is: {}.\".format(temp))\n",
    "    \n",
    "sum_two(4,9)\n",
    "sum_two(11,5)\n"
   ]
  },
  {
   "cell_type": "markdown",
   "id": "9c7c2b2c",
   "metadata": {},
   "source": [
    "---"
   ]
  },
  {
   "cell_type": "markdown",
   "id": "474483e4",
   "metadata": {},
   "source": [
    "### Q9. Write a Python program that will return true if the two given integer values are equal or their sum or difference is 5."
   ]
  },
  {
   "cell_type": "code",
   "execution_count": 51,
   "id": "7e5cdcb5",
   "metadata": {},
   "outputs": [
    {
     "name": "stdout",
     "output_type": "stream",
     "text": [
      "False!\n",
      "True!\n",
      "True!\n",
      "True!\n"
     ]
    }
   ],
   "source": [
    "def is_true(num1,num2):\n",
    "    if num1 == num2 or num1+num2==5 or num1-num2==5:\n",
    "        return print(\"True!\")\n",
    "    else:\n",
    "        return print(\"False!\")\n",
    "    \n",
    "is_true(1,5)\n",
    "is_true(9,9)\n",
    "is_true(9,4)\n",
    "is_true(1,4)"
   ]
  },
  {
   "cell_type": "markdown",
   "id": "339775b8",
   "metadata": {},
   "source": [
    "---"
   ]
  },
  {
   "cell_type": "markdown",
   "id": "2ccff657",
   "metadata": {},
   "source": [
    "### Q10. Write a Python program to compute the distance between the points (x1, y1) and (x2, y2)."
   ]
  },
  {
   "cell_type": "code",
   "execution_count": 55,
   "id": "768c5b77",
   "metadata": {},
   "outputs": [
    {
     "name": "stdout",
     "output_type": "stream",
     "text": [
      "Distance between (4,0) & (6,6) is 6.3246.\n"
     ]
    }
   ],
   "source": [
    "def cal_dist(x1,y1,x2,y2):\n",
    "    diffX = float((x2-x1)**2)\n",
    "    diffY = float((y2-y1)**2)\n",
    "    dist = float((diffX+diffY)**(0.5))\n",
    "    return print(\"Distance between ({},{}) & ({},{}) is {}.\".format(x1,y1,x2,y2,round(dist,4)))\n",
    "\n",
    "cal_dist(4,0,6,6)"
   ]
  },
  {
   "cell_type": "markdown",
   "id": "4bc292ca",
   "metadata": {},
   "source": [
    "---"
   ]
  }
 ],
 "metadata": {
  "kernelspec": {
   "display_name": "Python 3",
   "language": "python",
   "name": "python3"
  },
  "language_info": {
   "codemirror_mode": {
    "name": "ipython",
    "version": 3
   },
   "file_extension": ".py",
   "mimetype": "text/x-python",
   "name": "python",
   "nbconvert_exporter": "python",
   "pygments_lexer": "ipython3",
   "version": "3.8.8"
  }
 },
 "nbformat": 4,
 "nbformat_minor": 5
}
