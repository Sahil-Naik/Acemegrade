{
 "cells": [
  {
   "cell_type": "markdown",
   "id": "c18a6b61",
   "metadata": {},
   "source": [
    "## Introduction to Machine Learning"
   ]
  },
  {
   "cell_type": "markdown",
   "id": "04a0bcd1",
   "metadata": {},
   "source": [
    "### Case Study- 2"
   ]
  },
  {
   "cell_type": "markdown",
   "id": "9255550e",
   "metadata": {},
   "source": [
    "---"
   ]
  },
  {
   "cell_type": "markdown",
   "id": "c4ecb7f4",
   "metadata": {},
   "source": [
    "### Importing libraries and loading data"
   ]
  },
  {
   "cell_type": "code",
   "execution_count": 100,
   "id": "dbc848a7",
   "metadata": {},
   "outputs": [],
   "source": [
    "import pandas as pd\n",
    "import matplotlib.pyplot as plt\n",
    "import os"
   ]
  },
  {
   "cell_type": "code",
   "execution_count": 101,
   "id": "b0787a48",
   "metadata": {},
   "outputs": [
    {
     "data": {
      "text/html": [
       "<div>\n",
       "<style scoped>\n",
       "    .dataframe tbody tr th:only-of-type {\n",
       "        vertical-align: middle;\n",
       "    }\n",
       "\n",
       "    .dataframe tbody tr th {\n",
       "        vertical-align: top;\n",
       "    }\n",
       "\n",
       "    .dataframe thead th {\n",
       "        text-align: right;\n",
       "    }\n",
       "</style>\n",
       "<table border=\"1\" class=\"dataframe\">\n",
       "  <thead>\n",
       "    <tr style=\"text-align: right;\">\n",
       "      <th></th>\n",
       "      <th>calories</th>\n",
       "      <th>protein</th>\n",
       "      <th>fat</th>\n",
       "      <th>sodium</th>\n",
       "      <th>fiber</th>\n",
       "      <th>carbo</th>\n",
       "      <th>sugars</th>\n",
       "      <th>potass</th>\n",
       "      <th>vitamins</th>\n",
       "      <th>shelf</th>\n",
       "      <th>weight</th>\n",
       "      <th>cups</th>\n",
       "      <th>rating</th>\n",
       "    </tr>\n",
       "  </thead>\n",
       "  <tbody>\n",
       "    <tr>\n",
       "      <th>count</th>\n",
       "      <td>77.000000</td>\n",
       "      <td>77.000000</td>\n",
       "      <td>77.000000</td>\n",
       "      <td>77.000000</td>\n",
       "      <td>77.000000</td>\n",
       "      <td>77.000000</td>\n",
       "      <td>77.000000</td>\n",
       "      <td>77.000000</td>\n",
       "      <td>77.000000</td>\n",
       "      <td>77.000000</td>\n",
       "      <td>77.000000</td>\n",
       "      <td>77.000000</td>\n",
       "      <td>77.000000</td>\n",
       "    </tr>\n",
       "    <tr>\n",
       "      <th>mean</th>\n",
       "      <td>106.883117</td>\n",
       "      <td>2.545455</td>\n",
       "      <td>1.012987</td>\n",
       "      <td>159.675325</td>\n",
       "      <td>2.151948</td>\n",
       "      <td>14.597403</td>\n",
       "      <td>6.922078</td>\n",
       "      <td>96.077922</td>\n",
       "      <td>28.246753</td>\n",
       "      <td>2.207792</td>\n",
       "      <td>1.029610</td>\n",
       "      <td>0.821039</td>\n",
       "      <td>42.665705</td>\n",
       "    </tr>\n",
       "    <tr>\n",
       "      <th>std</th>\n",
       "      <td>19.484119</td>\n",
       "      <td>1.094790</td>\n",
       "      <td>1.006473</td>\n",
       "      <td>83.832295</td>\n",
       "      <td>2.383364</td>\n",
       "      <td>4.278956</td>\n",
       "      <td>4.444885</td>\n",
       "      <td>71.286813</td>\n",
       "      <td>22.342523</td>\n",
       "      <td>0.832524</td>\n",
       "      <td>0.150477</td>\n",
       "      <td>0.232716</td>\n",
       "      <td>14.047289</td>\n",
       "    </tr>\n",
       "    <tr>\n",
       "      <th>min</th>\n",
       "      <td>50.000000</td>\n",
       "      <td>1.000000</td>\n",
       "      <td>0.000000</td>\n",
       "      <td>0.000000</td>\n",
       "      <td>0.000000</td>\n",
       "      <td>-1.000000</td>\n",
       "      <td>-1.000000</td>\n",
       "      <td>-1.000000</td>\n",
       "      <td>0.000000</td>\n",
       "      <td>1.000000</td>\n",
       "      <td>0.500000</td>\n",
       "      <td>0.250000</td>\n",
       "      <td>18.042851</td>\n",
       "    </tr>\n",
       "    <tr>\n",
       "      <th>25%</th>\n",
       "      <td>100.000000</td>\n",
       "      <td>2.000000</td>\n",
       "      <td>0.000000</td>\n",
       "      <td>130.000000</td>\n",
       "      <td>1.000000</td>\n",
       "      <td>12.000000</td>\n",
       "      <td>3.000000</td>\n",
       "      <td>40.000000</td>\n",
       "      <td>25.000000</td>\n",
       "      <td>1.000000</td>\n",
       "      <td>1.000000</td>\n",
       "      <td>0.670000</td>\n",
       "      <td>33.174094</td>\n",
       "    </tr>\n",
       "    <tr>\n",
       "      <th>50%</th>\n",
       "      <td>110.000000</td>\n",
       "      <td>3.000000</td>\n",
       "      <td>1.000000</td>\n",
       "      <td>180.000000</td>\n",
       "      <td>2.000000</td>\n",
       "      <td>14.000000</td>\n",
       "      <td>7.000000</td>\n",
       "      <td>90.000000</td>\n",
       "      <td>25.000000</td>\n",
       "      <td>2.000000</td>\n",
       "      <td>1.000000</td>\n",
       "      <td>0.750000</td>\n",
       "      <td>40.400208</td>\n",
       "    </tr>\n",
       "    <tr>\n",
       "      <th>75%</th>\n",
       "      <td>110.000000</td>\n",
       "      <td>3.000000</td>\n",
       "      <td>2.000000</td>\n",
       "      <td>210.000000</td>\n",
       "      <td>3.000000</td>\n",
       "      <td>17.000000</td>\n",
       "      <td>11.000000</td>\n",
       "      <td>120.000000</td>\n",
       "      <td>25.000000</td>\n",
       "      <td>3.000000</td>\n",
       "      <td>1.000000</td>\n",
       "      <td>1.000000</td>\n",
       "      <td>50.828392</td>\n",
       "    </tr>\n",
       "    <tr>\n",
       "      <th>max</th>\n",
       "      <td>160.000000</td>\n",
       "      <td>6.000000</td>\n",
       "      <td>5.000000</td>\n",
       "      <td>320.000000</td>\n",
       "      <td>14.000000</td>\n",
       "      <td>23.000000</td>\n",
       "      <td>15.000000</td>\n",
       "      <td>330.000000</td>\n",
       "      <td>100.000000</td>\n",
       "      <td>3.000000</td>\n",
       "      <td>1.500000</td>\n",
       "      <td>1.500000</td>\n",
       "      <td>93.704912</td>\n",
       "    </tr>\n",
       "  </tbody>\n",
       "</table>\n",
       "</div>"
      ],
      "text/plain": [
       "         calories    protein        fat      sodium      fiber      carbo  \\\n",
       "count   77.000000  77.000000  77.000000   77.000000  77.000000  77.000000   \n",
       "mean   106.883117   2.545455   1.012987  159.675325   2.151948  14.597403   \n",
       "std     19.484119   1.094790   1.006473   83.832295   2.383364   4.278956   \n",
       "min     50.000000   1.000000   0.000000    0.000000   0.000000  -1.000000   \n",
       "25%    100.000000   2.000000   0.000000  130.000000   1.000000  12.000000   \n",
       "50%    110.000000   3.000000   1.000000  180.000000   2.000000  14.000000   \n",
       "75%    110.000000   3.000000   2.000000  210.000000   3.000000  17.000000   \n",
       "max    160.000000   6.000000   5.000000  320.000000  14.000000  23.000000   \n",
       "\n",
       "          sugars      potass    vitamins      shelf     weight       cups  \\\n",
       "count  77.000000   77.000000   77.000000  77.000000  77.000000  77.000000   \n",
       "mean    6.922078   96.077922   28.246753   2.207792   1.029610   0.821039   \n",
       "std     4.444885   71.286813   22.342523   0.832524   0.150477   0.232716   \n",
       "min    -1.000000   -1.000000    0.000000   1.000000   0.500000   0.250000   \n",
       "25%     3.000000   40.000000   25.000000   1.000000   1.000000   0.670000   \n",
       "50%     7.000000   90.000000   25.000000   2.000000   1.000000   0.750000   \n",
       "75%    11.000000  120.000000   25.000000   3.000000   1.000000   1.000000   \n",
       "max    15.000000  330.000000  100.000000   3.000000   1.500000   1.500000   \n",
       "\n",
       "          rating  \n",
       "count  77.000000  \n",
       "mean   42.665705  \n",
       "std    14.047289  \n",
       "min    18.042851  \n",
       "25%    33.174094  \n",
       "50%    40.400208  \n",
       "75%    50.828392  \n",
       "max    93.704912  "
      ]
     },
     "execution_count": 101,
     "metadata": {},
     "output_type": "execute_result"
    }
   ],
   "source": [
    "df = pd.read_csv(\"datasets/cereal.csv\")\n",
    "df.describe()"
   ]
  },
  {
   "cell_type": "code",
   "execution_count": 102,
   "id": "90f5dcd8",
   "metadata": {},
   "outputs": [
    {
     "data": {
      "text/plain": [
       "Index(['name', 'mfr', 'type', 'calories', 'protein', 'fat', 'sodium', 'fiber',\n",
       "       'carbo', 'sugars', 'potass', 'vitamins', 'shelf', 'weight', 'cups',\n",
       "       'rating'],\n",
       "      dtype='object')"
      ]
     },
     "execution_count": 102,
     "metadata": {},
     "output_type": "execute_result"
    }
   ],
   "source": [
    "df.columns"
   ]
  },
  {
   "cell_type": "code",
   "execution_count": 103,
   "id": "5051953c",
   "metadata": {},
   "outputs": [
    {
     "name": "stdout",
     "output_type": "stream",
     "text": [
      "<class 'pandas.core.frame.DataFrame'>\n",
      "RangeIndex: 77 entries, 0 to 76\n",
      "Data columns (total 16 columns):\n",
      " #   Column    Non-Null Count  Dtype  \n",
      "---  ------    --------------  -----  \n",
      " 0   name      77 non-null     object \n",
      " 1   mfr       77 non-null     object \n",
      " 2   type      77 non-null     object \n",
      " 3   calories  77 non-null     int64  \n",
      " 4   protein   77 non-null     int64  \n",
      " 5   fat       77 non-null     int64  \n",
      " 6   sodium    77 non-null     int64  \n",
      " 7   fiber     77 non-null     float64\n",
      " 8   carbo     77 non-null     float64\n",
      " 9   sugars    77 non-null     int64  \n",
      " 10  potass    77 non-null     int64  \n",
      " 11  vitamins  77 non-null     int64  \n",
      " 12  shelf     77 non-null     int64  \n",
      " 13  weight    77 non-null     float64\n",
      " 14  cups      77 non-null     float64\n",
      " 15  rating    77 non-null     float64\n",
      "dtypes: float64(5), int64(8), object(3)\n",
      "memory usage: 9.8+ KB\n"
     ]
    }
   ],
   "source": [
    "df.info()"
   ]
  },
  {
   "cell_type": "markdown",
   "id": "f0eb386b",
   "metadata": {},
   "source": [
    "---"
   ]
  },
  {
   "cell_type": "markdown",
   "id": "602312cd",
   "metadata": {},
   "source": [
    "### Q1. Load the data from “cereal.csv” and plot histograms of 'sugars' and 'vitamins' content across different cereals."
   ]
  },
  {
   "cell_type": "code",
   "execution_count": 104,
   "id": "2c5422b3",
   "metadata": {},
   "outputs": [
    {
     "data": {
      "image/png": "[encoded data removed]",
      "text/plain": [
       "<Figure size 576x576 with 1 Axes>"
      ]
     },
     "metadata": {
      "needs_background": "light"
     },
     "output_type": "display_data"
    }
   ],
   "source": [
    "# Histogram of 'sugars'\n",
    "\n",
    "plt.figure(figsize=(8,8))\n",
    "plt.hist(df['sugars'])\n",
    "plt.title(\"Sugars\")\n",
    "plt.show()"
   ]
  },
  {
   "cell_type": "code",
   "execution_count": 105,
   "id": "b72d8b7c",
   "metadata": {},
   "outputs": [
    {
     "data": {
      "image/png": "[encoded data removed]",
      "text/plain": [
       "<Figure size 576x576 with 1 Axes>"
      ]
     },
     "metadata": {
      "needs_background": "light"
     },
     "output_type": "display_data"
    }
   ],
   "source": [
    "# Histogram of 'vitamins'\n",
    "\n",
    "plt.figure(figsize=(8,8))\n",
    "plt.hist(df['vitamins'])\n",
    "plt.title(\"Vitamins\")\n",
    "plt.show()"
   ]
  },
  {
   "cell_type": "markdown",
   "id": "709c8229",
   "metadata": {},
   "source": [
    "### Q2. The names of the manufactures are coded using alphabets, create a new column with their full name using the below mapping.\n",
    "\n",
    "'N': 'Nabisco',\n",
    "\n",
    "'Q': 'Quaker Oats',\n",
    "\n",
    "'K': 'Kelloggs',\n",
    "\n",
    "'R': 'Raslston Purina',\n",
    "\n",
    "'G': 'General Mills' ,\n",
    "\n",
    "'P' :'Post' ,\n",
    "\n",
    "'A':'American Home Foods Products'\n",
    "\n",
    "### Create a bar plot where each manufacturer is on the y axis and the height of the bars depict the number of cereals manufactured by them."
   ]
  },
  {
   "cell_type": "code",
   "execution_count": 106,
   "id": "286a4185",
   "metadata": {},
   "outputs": [
    {
     "data": {
      "text/html": [
       "<div>\n",
       "<style scoped>\n",
       "    .dataframe tbody tr th:only-of-type {\n",
       "        vertical-align: middle;\n",
       "    }\n",
       "\n",
       "    .dataframe tbody tr th {\n",
       "        vertical-align: top;\n",
       "    }\n",
       "\n",
       "    .dataframe thead th {\n",
       "        text-align: right;\n",
       "    }\n",
       "</style>\n",
       "<table border=\"1\" class=\"dataframe\">\n",
       "  <thead>\n",
       "    <tr style=\"text-align: right;\">\n",
       "      <th></th>\n",
       "      <th>name</th>\n",
       "      <th>mfr</th>\n",
       "      <th>type</th>\n",
       "      <th>calories</th>\n",
       "      <th>protein</th>\n",
       "      <th>fat</th>\n",
       "      <th>sodium</th>\n",
       "      <th>fiber</th>\n",
       "      <th>carbo</th>\n",
       "      <th>sugars</th>\n",
       "      <th>potass</th>\n",
       "      <th>vitamins</th>\n",
       "      <th>shelf</th>\n",
       "      <th>weight</th>\n",
       "      <th>cups</th>\n",
       "      <th>rating</th>\n",
       "      <th>mfr_name</th>\n",
       "    </tr>\n",
       "  </thead>\n",
       "  <tbody>\n",
       "    <tr>\n",
       "      <th>0</th>\n",
       "      <td>100% Bran</td>\n",
       "      <td>N</td>\n",
       "      <td>C</td>\n",
       "      <td>70</td>\n",
       "      <td>4</td>\n",
       "      <td>1</td>\n",
       "      <td>130</td>\n",
       "      <td>10.0</td>\n",
       "      <td>5.0</td>\n",
       "      <td>6</td>\n",
       "      <td>280</td>\n",
       "      <td>25</td>\n",
       "      <td>3</td>\n",
       "      <td>1.0</td>\n",
       "      <td>0.33</td>\n",
       "      <td>68.402973</td>\n",
       "      <td>Nabisco</td>\n",
       "    </tr>\n",
       "    <tr>\n",
       "      <th>1</th>\n",
       "      <td>100% Natural Bran</td>\n",
       "      <td>Q</td>\n",
       "      <td>C</td>\n",
       "      <td>120</td>\n",
       "      <td>3</td>\n",
       "      <td>5</td>\n",
       "      <td>15</td>\n",
       "      <td>2.0</td>\n",
       "      <td>8.0</td>\n",
       "      <td>8</td>\n",
       "      <td>135</td>\n",
       "      <td>0</td>\n",
       "      <td>3</td>\n",
       "      <td>1.0</td>\n",
       "      <td>1.00</td>\n",
       "      <td>33.983679</td>\n",
       "      <td>Quaker Oats</td>\n",
       "    </tr>\n",
       "    <tr>\n",
       "      <th>2</th>\n",
       "      <td>All-Bran</td>\n",
       "      <td>K</td>\n",
       "      <td>C</td>\n",
       "      <td>70</td>\n",
       "      <td>4</td>\n",
       "      <td>1</td>\n",
       "      <td>260</td>\n",
       "      <td>9.0</td>\n",
       "      <td>7.0</td>\n",
       "      <td>5</td>\n",
       "      <td>320</td>\n",
       "      <td>25</td>\n",
       "      <td>3</td>\n",
       "      <td>1.0</td>\n",
       "      <td>0.33</td>\n",
       "      <td>59.425505</td>\n",
       "      <td>Kelloggs</td>\n",
       "    </tr>\n",
       "    <tr>\n",
       "      <th>3</th>\n",
       "      <td>All-Bran with Extra Fiber</td>\n",
       "      <td>K</td>\n",
       "      <td>C</td>\n",
       "      <td>50</td>\n",
       "      <td>4</td>\n",
       "      <td>0</td>\n",
       "      <td>140</td>\n",
       "      <td>14.0</td>\n",
       "      <td>8.0</td>\n",
       "      <td>0</td>\n",
       "      <td>330</td>\n",
       "      <td>25</td>\n",
       "      <td>3</td>\n",
       "      <td>1.0</td>\n",
       "      <td>0.50</td>\n",
       "      <td>93.704912</td>\n",
       "      <td>Kelloggs</td>\n",
       "    </tr>\n",
       "    <tr>\n",
       "      <th>4</th>\n",
       "      <td>Almond Delight</td>\n",
       "      <td>R</td>\n",
       "      <td>C</td>\n",
       "      <td>110</td>\n",
       "      <td>2</td>\n",
       "      <td>2</td>\n",
       "      <td>200</td>\n",
       "      <td>1.0</td>\n",
       "      <td>14.0</td>\n",
       "      <td>8</td>\n",
       "      <td>-1</td>\n",
       "      <td>25</td>\n",
       "      <td>3</td>\n",
       "      <td>1.0</td>\n",
       "      <td>0.75</td>\n",
       "      <td>34.384843</td>\n",
       "      <td>Raslston Purina</td>\n",
       "    </tr>\n",
       "    <tr>\n",
       "      <th>...</th>\n",
       "      <td>...</td>\n",
       "      <td>...</td>\n",
       "      <td>...</td>\n",
       "      <td>...</td>\n",
       "      <td>...</td>\n",
       "      <td>...</td>\n",
       "      <td>...</td>\n",
       "      <td>...</td>\n",
       "      <td>...</td>\n",
       "      <td>...</td>\n",
       "      <td>...</td>\n",
       "      <td>...</td>\n",
       "      <td>...</td>\n",
       "      <td>...</td>\n",
       "      <td>...</td>\n",
       "      <td>...</td>\n",
       "      <td>...</td>\n",
       "    </tr>\n",
       "    <tr>\n",
       "      <th>72</th>\n",
       "      <td>Triples</td>\n",
       "      <td>G</td>\n",
       "      <td>C</td>\n",
       "      <td>110</td>\n",
       "      <td>2</td>\n",
       "      <td>1</td>\n",
       "      <td>250</td>\n",
       "      <td>0.0</td>\n",
       "      <td>21.0</td>\n",
       "      <td>3</td>\n",
       "      <td>60</td>\n",
       "      <td>25</td>\n",
       "      <td>3</td>\n",
       "      <td>1.0</td>\n",
       "      <td>0.75</td>\n",
       "      <td>39.106174</td>\n",
       "      <td>General Mills</td>\n",
       "    </tr>\n",
       "    <tr>\n",
       "      <th>73</th>\n",
       "      <td>Trix</td>\n",
       "      <td>G</td>\n",
       "      <td>C</td>\n",
       "      <td>110</td>\n",
       "      <td>1</td>\n",
       "      <td>1</td>\n",
       "      <td>140</td>\n",
       "      <td>0.0</td>\n",
       "      <td>13.0</td>\n",
       "      <td>12</td>\n",
       "      <td>25</td>\n",
       "      <td>25</td>\n",
       "      <td>2</td>\n",
       "      <td>1.0</td>\n",
       "      <td>1.00</td>\n",
       "      <td>27.753301</td>\n",
       "      <td>General Mills</td>\n",
       "    </tr>\n",
       "    <tr>\n",
       "      <th>74</th>\n",
       "      <td>Wheat Chex</td>\n",
       "      <td>R</td>\n",
       "      <td>C</td>\n",
       "      <td>100</td>\n",
       "      <td>3</td>\n",
       "      <td>1</td>\n",
       "      <td>230</td>\n",
       "      <td>3.0</td>\n",
       "      <td>17.0</td>\n",
       "      <td>3</td>\n",
       "      <td>115</td>\n",
       "      <td>25</td>\n",
       "      <td>1</td>\n",
       "      <td>1.0</td>\n",
       "      <td>0.67</td>\n",
       "      <td>49.787445</td>\n",
       "      <td>Raslston Purina</td>\n",
       "    </tr>\n",
       "    <tr>\n",
       "      <th>75</th>\n",
       "      <td>Wheaties</td>\n",
       "      <td>G</td>\n",
       "      <td>C</td>\n",
       "      <td>100</td>\n",
       "      <td>3</td>\n",
       "      <td>1</td>\n",
       "      <td>200</td>\n",
       "      <td>3.0</td>\n",
       "      <td>17.0</td>\n",
       "      <td>3</td>\n",
       "      <td>110</td>\n",
       "      <td>25</td>\n",
       "      <td>1</td>\n",
       "      <td>1.0</td>\n",
       "      <td>1.00</td>\n",
       "      <td>51.592193</td>\n",
       "      <td>General Mills</td>\n",
       "    </tr>\n",
       "    <tr>\n",
       "      <th>76</th>\n",
       "      <td>Wheaties Honey Gold</td>\n",
       "      <td>G</td>\n",
       "      <td>C</td>\n",
       "      <td>110</td>\n",
       "      <td>2</td>\n",
       "      <td>1</td>\n",
       "      <td>200</td>\n",
       "      <td>1.0</td>\n",
       "      <td>16.0</td>\n",
       "      <td>8</td>\n",
       "      <td>60</td>\n",
       "      <td>25</td>\n",
       "      <td>1</td>\n",
       "      <td>1.0</td>\n",
       "      <td>0.75</td>\n",
       "      <td>36.187559</td>\n",
       "      <td>General Mills</td>\n",
       "    </tr>\n",
       "  </tbody>\n",
       "</table>\n",
       "<p>77 rows × 17 columns</p>\n",
       "</div>"
      ],
      "text/plain": [
       "                         name mfr type  calories  protein  fat  sodium  fiber  \\\n",
       "0                   100% Bran   N    C        70        4    1     130   10.0   \n",
       "1           100% Natural Bran   Q    C       120        3    5      15    2.0   \n",
       "2                    All-Bran   K    C        70        4    1     260    9.0   \n",
       "3   All-Bran with Extra Fiber   K    C        50        4    0     140   14.0   \n",
       "4              Almond Delight   R    C       110        2    2     200    1.0   \n",
       "..                        ...  ..  ...       ...      ...  ...     ...    ...   \n",
       "72                    Triples   G    C       110        2    1     250    0.0   \n",
       "73                       Trix   G    C       110        1    1     140    0.0   \n",
       "74                 Wheat Chex   R    C       100        3    1     230    3.0   \n",
       "75                   Wheaties   G    C       100        3    1     200    3.0   \n",
       "76        Wheaties Honey Gold   G    C       110        2    1     200    1.0   \n",
       "\n",
       "    carbo  sugars  potass  vitamins  shelf  weight  cups     rating  \\\n",
       "0     5.0       6     280        25      3     1.0  0.33  68.402973   \n",
       "1     8.0       8     135         0      3     1.0  1.00  33.983679   \n",
       "2     7.0       5     320        25      3     1.0  0.33  59.425505   \n",
       "3     8.0       0     330        25      3     1.0  0.50  93.704912   \n",
       "4    14.0       8      -1        25      3     1.0  0.75  34.384843   \n",
       "..    ...     ...     ...       ...    ...     ...   ...        ...   \n",
       "72   21.0       3      60        25      3     1.0  0.75  39.106174   \n",
       "73   13.0      12      25        25      2     1.0  1.00  27.753301   \n",
       "74   17.0       3     115        25      1     1.0  0.67  49.787445   \n",
       "75   17.0       3     110        25      1     1.0  1.00  51.592193   \n",
       "76   16.0       8      60        25      1     1.0  0.75  36.187559   \n",
       "\n",
       "           mfr_name  \n",
       "0           Nabisco  \n",
       "1       Quaker Oats  \n",
       "2          Kelloggs  \n",
       "3          Kelloggs  \n",
       "4   Raslston Purina  \n",
       "..              ...  \n",
       "72    General Mills  \n",
       "73    General Mills  \n",
       "74  Raslston Purina  \n",
       "75    General Mills  \n",
       "76    General Mills  \n",
       "\n",
       "[77 rows x 17 columns]"
      ]
     },
     "execution_count": 106,
     "metadata": {},
     "output_type": "execute_result"
    }
   ],
   "source": [
    "import seaborn as sns\n",
    "mfr_codes = {'N': 'Nabisco', 'Q': 'Quaker Oats',\n",
    "             'K': 'Kelloggs', 'R': 'Raslston Purina',\n",
    "             'G': 'General Mills' , 'P' :'Post' , 'A':'American Home Foods Products'}\n",
    "\n",
    "df['mfr_name'] = df['mfr'].map(mfr_codes)\n",
    "df"
   ]
  },
  {
   "cell_type": "code",
   "execution_count": 107,
   "id": "24707e05",
   "metadata": {},
   "outputs": [
    {
     "data": {
      "text/plain": [
       "<AxesSubplot:xlabel='count', ylabel='mfr_name'>"
      ]
     },
     "execution_count": 107,
     "metadata": {},
     "output_type": "execute_result"
    },
    {
     "data": {
      "image/png": "[encoded data removed]",
      "text/plain": [
       "<Figure size 432x288 with 1 Axes>"
      ]
     },
     "metadata": {
      "needs_background": "light"
     },
     "output_type": "display_data"
    }
   ],
   "source": [
    "sns.countplot(y = 'mfr_name' , hue = 'type' , data=df , palette ='cool')"
   ]
  },
  {
   "cell_type": "markdown",
   "id": "a2be7c65",
   "metadata": {},
   "source": [
    "---"
   ]
  },
  {
   "cell_type": "markdown",
   "id": "668f210a",
   "metadata": {},
   "source": [
    "### Q3. Extract the rating as your target variable ‘y’ and all numerical parameters as your predictors ‘x’. Separate 25% of your data as test set."
   ]
  },
  {
   "cell_type": "code",
   "execution_count": 108,
   "id": "716debd4",
   "metadata": {},
   "outputs": [
    {
     "data": {
      "text/plain": [
       "(77, 13)"
      ]
     },
     "execution_count": 108,
     "metadata": {},
     "output_type": "execute_result"
    }
   ],
   "source": [
    "dataset = df.iloc[:,3:-1]\n",
    "dataset.shape"
   ]
  },
  {
   "cell_type": "code",
   "execution_count": 109,
   "id": "e4992e9e",
   "metadata": {},
   "outputs": [
    {
     "name": "stdout",
     "output_type": "stream",
     "text": [
      "X-Shape = (77, 12).\n",
      "Y-Shape = (77,).\n"
     ]
    }
   ],
   "source": [
    "x = dataset.iloc[:,:-1]\n",
    "y = dataset.iloc[:,-1]\n",
    "\n",
    "print(\"X-Shape = {}.\".format(x.shape))\n",
    "print(\"Y-Shape = {}.\".format(y.shape))"
   ]
  },
  {
   "cell_type": "code",
   "execution_count": 110,
   "id": "b27c356a",
   "metadata": {},
   "outputs": [
    {
     "name": "stdout",
     "output_type": "stream",
     "text": [
      "X_train shape = (57, 12).\n",
      "X_test shape = (20, 12).\n"
     ]
    }
   ],
   "source": [
    "from sklearn.model_selection import train_test_split\n",
    "X_train, X_test, y_train, y_test = train_test_split(x, y, test_size=0.25, random_state=10)\n",
    "\n",
    "print(\"X_train shape = {}.\".format(X_train.shape))\n",
    "print(\"X_test shape = {}.\".format(X_test.shape))"
   ]
  },
  {
   "cell_type": "markdown",
   "id": "0063a9bd",
   "metadata": {},
   "source": [
    "---"
   ]
  },
  {
   "cell_type": "markdown",
   "id": "3145d33a",
   "metadata": {},
   "source": [
    "### Q4. Fit a linear regression module and measure the mean squared error on test dataset."
   ]
  },
  {
   "cell_type": "code",
   "execution_count": 111,
   "id": "599ba6f2",
   "metadata": {},
   "outputs": [
    {
     "name": "stdout",
     "output_type": "stream",
     "text": [
      "63   -1.246925e-07\n",
      "3     6.687267e-07\n",
      "35    3.375192e-07\n",
      "21   -3.959000e-07\n",
      "19    4.446044e-07\n",
      "38    4.025664e-07\n",
      "39    7.628051e-08\n",
      "26    5.444707e-07\n",
      "32   -2.823736e-07\n",
      "6     5.132218e-07\n",
      "2    -2.416088e-07\n",
      "41    2.759292e-07\n",
      "74    7.987429e-08\n",
      "20    7.260974e-08\n",
      "4     3.932073e-07\n",
      "55    4.560700e-07\n",
      "45   -5.591162e-07\n",
      "70   -3.442234e-07\n",
      "44    7.617759e-08\n",
      "42    4.429495e-07\n",
      "Name: rating, dtype: float64\n"
     ]
    },
    {
     "data": {
      "text/plain": [
       "{'copy_X': True,\n",
       " 'fit_intercept': True,\n",
       " 'n_jobs': None,\n",
       " 'normalize': False,\n",
       " 'positive': False}"
      ]
     },
     "execution_count": 111,
     "metadata": {},
     "output_type": "execute_result"
    }
   ],
   "source": [
    "from sklearn.linear_model import LinearRegression\n",
    "\n",
    "LR = LinearRegression()\n",
    "LR.fit(X_train, y_train)\n",
    "LR.score(X_test, y_test)\n",
    "\n",
    "y_predict = LR.predict(X_test)\n",
    "\n",
    "print(y_predict - y_test)\n",
    "\n",
    "LR.get_params()"
   ]
  },
  {
   "cell_type": "markdown",
   "id": "61d9e5ee",
   "metadata": {},
   "source": [
    "### Mean Squared Error"
   ]
  },
  {
   "cell_type": "code",
   "execution_count": 112,
   "id": "5bf232ca",
   "metadata": {},
   "outputs": [
    {
     "name": "stdout",
     "output_type": "stream",
     "text": [
      "Mean Squared Error = 1.4402071609016973e-13\n"
     ]
    }
   ],
   "source": [
    "from sklearn.metrics import mean_squared_error\n",
    "\n",
    "mse = mean_squared_error(y_test, y_predict)\n",
    "\n",
    "print(\"Mean Squared Error = {}\".format(mse))"
   ]
  },
  {
   "cell_type": "markdown",
   "id": "2a4b0fac",
   "metadata": {},
   "source": [
    "### Coefficient and Intercept"
   ]
  },
  {
   "cell_type": "code",
   "execution_count": 113,
   "id": "ade22091",
   "metadata": {},
   "outputs": [
    {
     "data": {
      "text/plain": [
       "array([-2.22724167e-01,  3.27317388e+00, -1.69140796e+00, -5.44927025e-02,\n",
       "        3.44347984e+00,  1.09245094e+00, -7.24895130e-01, -3.39933532e-02,\n",
       "       -5.12119681e-02, -3.23903438e-08, -2.41098217e-07,  1.42966918e-07])"
      ]
     },
     "execution_count": 113,
     "metadata": {},
     "output_type": "execute_result"
    }
   ],
   "source": [
    "LR.coef_"
   ]
  },
  {
   "cell_type": "code",
   "execution_count": 114,
   "id": "cf61e8dd",
   "metadata": {},
   "outputs": [
    {
     "data": {
      "text/plain": [
       "54.92718452436166"
      ]
     },
     "execution_count": 114,
     "metadata": {},
     "output_type": "execute_result"
    }
   ],
   "source": [
    "LR.intercept_"
   ]
  },
  {
   "cell_type": "markdown",
   "id": "9019af94",
   "metadata": {},
   "source": [
    "---"
   ]
  }
 ],
 "metadata": {
  "kernelspec": {
   "display_name": "Python 3",
   "language": "python",
   "name": "python3"
  },
  "language_info": {
   "codemirror_mode": {
    "name": "ipython",
    "version": 3
   },
   "file_extension": ".py",
   "mimetype": "text/x-python",
   "name": "python",
   "nbconvert_exporter": "python",
   "pygments_lexer": "ipython3",
   "version": "3.8.8"
  }
 },
 "nbformat": 4,
 "nbformat_minor": 5
}
