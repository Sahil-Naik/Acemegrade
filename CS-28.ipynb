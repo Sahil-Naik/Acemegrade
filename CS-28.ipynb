{
 "cells": [
  {
   "cell_type": "markdown",
   "id": "cb8212b5",
   "metadata": {},
   "source": [
    "## Random Forest - Regression"
   ]
  },
  {
   "cell_type": "markdown",
   "id": "096f7a62",
   "metadata": {},
   "source": [
    "### Case Study (CS-28)"
   ]
  },
  {
   "cell_type": "markdown",
   "id": "2b102bf8",
   "metadata": {},
   "source": [
    "---"
   ]
  },
  {
   "cell_type": "markdown",
   "id": "0c7800c3",
   "metadata": {},
   "source": [
    "### Importing libraries and loading dataset"
   ]
  },
  {
   "cell_type": "code",
   "execution_count": 15,
   "id": "4aa936ae",
   "metadata": {},
   "outputs": [],
   "source": [
    "import pandas as pd\n",
    "import numpy as np"
   ]
  },
  {
   "cell_type": "code",
   "execution_count": 27,
   "id": "04984411",
   "metadata": {},
   "outputs": [
    {
     "data": {
      "text/html": [
       "<div>\n",
       "<style scoped>\n",
       "    .dataframe tbody tr th:only-of-type {\n",
       "        vertical-align: middle;\n",
       "    }\n",
       "\n",
       "    .dataframe tbody tr th {\n",
       "        vertical-align: top;\n",
       "    }\n",
       "\n",
       "    .dataframe thead th {\n",
       "        text-align: right;\n",
       "    }\n",
       "</style>\n",
       "<table border=\"1\" class=\"dataframe\">\n",
       "  <thead>\n",
       "    <tr style=\"text-align: right;\">\n",
       "      <th></th>\n",
       "      <th>Petrol_tax</th>\n",
       "      <th>Average_income</th>\n",
       "      <th>Paved_Highways</th>\n",
       "      <th>Population_Driver_licence(%)</th>\n",
       "      <th>Petrol_Consumption</th>\n",
       "    </tr>\n",
       "  </thead>\n",
       "  <tbody>\n",
       "    <tr>\n",
       "      <th>0</th>\n",
       "      <td>9.0</td>\n",
       "      <td>3571</td>\n",
       "      <td>1976</td>\n",
       "      <td>0.525</td>\n",
       "      <td>541</td>\n",
       "    </tr>\n",
       "    <tr>\n",
       "      <th>1</th>\n",
       "      <td>9.0</td>\n",
       "      <td>4092</td>\n",
       "      <td>1250</td>\n",
       "      <td>0.572</td>\n",
       "      <td>524</td>\n",
       "    </tr>\n",
       "    <tr>\n",
       "      <th>2</th>\n",
       "      <td>9.0</td>\n",
       "      <td>3865</td>\n",
       "      <td>1586</td>\n",
       "      <td>0.580</td>\n",
       "      <td>561</td>\n",
       "    </tr>\n",
       "    <tr>\n",
       "      <th>3</th>\n",
       "      <td>7.5</td>\n",
       "      <td>4870</td>\n",
       "      <td>2351</td>\n",
       "      <td>0.529</td>\n",
       "      <td>414</td>\n",
       "    </tr>\n",
       "    <tr>\n",
       "      <th>4</th>\n",
       "      <td>8.0</td>\n",
       "      <td>4399</td>\n",
       "      <td>431</td>\n",
       "      <td>0.544</td>\n",
       "      <td>410</td>\n",
       "    </tr>\n",
       "  </tbody>\n",
       "</table>\n",
       "</div>"
      ],
      "text/plain": [
       "   Petrol_tax  Average_income  Paved_Highways  Population_Driver_licence(%)  \\\n",
       "0         9.0            3571            1976                         0.525   \n",
       "1         9.0            4092            1250                         0.572   \n",
       "2         9.0            3865            1586                         0.580   \n",
       "3         7.5            4870            2351                         0.529   \n",
       "4         8.0            4399             431                         0.544   \n",
       "\n",
       "   Petrol_Consumption  \n",
       "0                 541  \n",
       "1                 524  \n",
       "2                 561  \n",
       "3                 414  \n",
       "4                 410  "
      ]
     },
     "execution_count": 27,
     "metadata": {},
     "output_type": "execute_result"
    }
   ],
   "source": [
    "df = pd.read_csv('datasets/petrol_consumption.csv')\n",
    "df.head()"
   ]
  },
  {
   "cell_type": "code",
   "execution_count": 17,
   "id": "590fad8a",
   "metadata": {},
   "outputs": [
    {
     "name": "stdout",
     "output_type": "stream",
     "text": [
      "<class 'pandas.core.frame.DataFrame'>\n",
      "RangeIndex: 48 entries, 0 to 47\n",
      "Data columns (total 5 columns):\n",
      " #   Column                        Non-Null Count  Dtype  \n",
      "---  ------                        --------------  -----  \n",
      " 0   Petrol_tax                    48 non-null     float64\n",
      " 1   Average_income                48 non-null     int64  \n",
      " 2   Paved_Highways                48 non-null     int64  \n",
      " 3   Population_Driver_licence(%)  48 non-null     float64\n",
      " 4   Petrol_Consumption            48 non-null     int64  \n",
      "dtypes: float64(2), int64(3)\n",
      "memory usage: 2.0 KB\n"
     ]
    }
   ],
   "source": [
    "df.info()"
   ]
  },
  {
   "cell_type": "code",
   "execution_count": 18,
   "id": "60c8ff66",
   "metadata": {},
   "outputs": [
    {
     "data": {
      "text/html": [
       "<div>\n",
       "<style scoped>\n",
       "    .dataframe tbody tr th:only-of-type {\n",
       "        vertical-align: middle;\n",
       "    }\n",
       "\n",
       "    .dataframe tbody tr th {\n",
       "        vertical-align: top;\n",
       "    }\n",
       "\n",
       "    .dataframe thead th {\n",
       "        text-align: right;\n",
       "    }\n",
       "</style>\n",
       "<table border=\"1\" class=\"dataframe\">\n",
       "  <thead>\n",
       "    <tr style=\"text-align: right;\">\n",
       "      <th></th>\n",
       "      <th>Petrol_tax</th>\n",
       "      <th>Average_income</th>\n",
       "      <th>Paved_Highways</th>\n",
       "      <th>Population_Driver_licence(%)</th>\n",
       "      <th>Petrol_Consumption</th>\n",
       "    </tr>\n",
       "  </thead>\n",
       "  <tbody>\n",
       "    <tr>\n",
       "      <th>count</th>\n",
       "      <td>48.000000</td>\n",
       "      <td>48.000000</td>\n",
       "      <td>48.000000</td>\n",
       "      <td>48.000000</td>\n",
       "      <td>48.000000</td>\n",
       "    </tr>\n",
       "    <tr>\n",
       "      <th>mean</th>\n",
       "      <td>7.668333</td>\n",
       "      <td>4241.833333</td>\n",
       "      <td>5565.416667</td>\n",
       "      <td>0.570333</td>\n",
       "      <td>576.770833</td>\n",
       "    </tr>\n",
       "    <tr>\n",
       "      <th>std</th>\n",
       "      <td>0.950770</td>\n",
       "      <td>573.623768</td>\n",
       "      <td>3491.507166</td>\n",
       "      <td>0.055470</td>\n",
       "      <td>111.885816</td>\n",
       "    </tr>\n",
       "    <tr>\n",
       "      <th>min</th>\n",
       "      <td>5.000000</td>\n",
       "      <td>3063.000000</td>\n",
       "      <td>431.000000</td>\n",
       "      <td>0.451000</td>\n",
       "      <td>344.000000</td>\n",
       "    </tr>\n",
       "    <tr>\n",
       "      <th>25%</th>\n",
       "      <td>7.000000</td>\n",
       "      <td>3739.000000</td>\n",
       "      <td>3110.250000</td>\n",
       "      <td>0.529750</td>\n",
       "      <td>509.500000</td>\n",
       "    </tr>\n",
       "    <tr>\n",
       "      <th>50%</th>\n",
       "      <td>7.500000</td>\n",
       "      <td>4298.000000</td>\n",
       "      <td>4735.500000</td>\n",
       "      <td>0.564500</td>\n",
       "      <td>568.500000</td>\n",
       "    </tr>\n",
       "    <tr>\n",
       "      <th>75%</th>\n",
       "      <td>8.125000</td>\n",
       "      <td>4578.750000</td>\n",
       "      <td>7156.000000</td>\n",
       "      <td>0.595250</td>\n",
       "      <td>632.750000</td>\n",
       "    </tr>\n",
       "    <tr>\n",
       "      <th>max</th>\n",
       "      <td>10.000000</td>\n",
       "      <td>5342.000000</td>\n",
       "      <td>17782.000000</td>\n",
       "      <td>0.724000</td>\n",
       "      <td>968.000000</td>\n",
       "    </tr>\n",
       "  </tbody>\n",
       "</table>\n",
       "</div>"
      ],
      "text/plain": [
       "       Petrol_tax  Average_income  Paved_Highways  \\\n",
       "count   48.000000       48.000000       48.000000   \n",
       "mean     7.668333     4241.833333     5565.416667   \n",
       "std      0.950770      573.623768     3491.507166   \n",
       "min      5.000000     3063.000000      431.000000   \n",
       "25%      7.000000     3739.000000     3110.250000   \n",
       "50%      7.500000     4298.000000     4735.500000   \n",
       "75%      8.125000     4578.750000     7156.000000   \n",
       "max     10.000000     5342.000000    17782.000000   \n",
       "\n",
       "       Population_Driver_licence(%)  Petrol_Consumption  \n",
       "count                     48.000000           48.000000  \n",
       "mean                       0.570333          576.770833  \n",
       "std                        0.055470          111.885816  \n",
       "min                        0.451000          344.000000  \n",
       "25%                        0.529750          509.500000  \n",
       "50%                        0.564500          568.500000  \n",
       "75%                        0.595250          632.750000  \n",
       "max                        0.724000          968.000000  "
      ]
     },
     "execution_count": 18,
     "metadata": {},
     "output_type": "execute_result"
    }
   ],
   "source": [
    "df.describe()"
   ]
  },
  {
   "cell_type": "markdown",
   "id": "8a94dc95",
   "metadata": {},
   "source": [
    "### Creating x and y variable"
   ]
  },
  {
   "cell_type": "code",
   "execution_count": 19,
   "id": "4b159999",
   "metadata": {},
   "outputs": [
    {
     "data": {
      "text/plain": [
       "array([[9.0000e+00, 3.5710e+03, 1.9760e+03, 5.2500e-01],\n",
       "       [9.0000e+00, 4.0920e+03, 1.2500e+03, 5.7200e-01],\n",
       "       [9.0000e+00, 3.8650e+03, 1.5860e+03, 5.8000e-01],\n",
       "       [7.5000e+00, 4.8700e+03, 2.3510e+03, 5.2900e-01],\n",
       "       [8.0000e+00, 4.3990e+03, 4.3100e+02, 5.4400e-01],\n",
       "       [1.0000e+01, 5.3420e+03, 1.3330e+03, 5.7100e-01],\n",
       "       [8.0000e+00, 5.3190e+03, 1.1868e+04, 4.5100e-01],\n",
       "       [8.0000e+00, 5.1260e+03, 2.1380e+03, 5.5300e-01],\n",
       "       [8.0000e+00, 4.4470e+03, 8.5770e+03, 5.2900e-01],\n",
       "       [7.0000e+00, 4.5120e+03, 8.5070e+03, 5.5200e-01],\n",
       "       [8.0000e+00, 4.3910e+03, 5.9390e+03, 5.3000e-01],\n",
       "       [7.5000e+00, 5.1260e+03, 1.4186e+04, 5.2500e-01],\n",
       "       [7.0000e+00, 4.8170e+03, 6.9300e+03, 5.7400e-01],\n",
       "       [7.0000e+00, 4.2070e+03, 6.5800e+03, 5.4500e-01],\n",
       "       [7.0000e+00, 4.3320e+03, 8.1590e+03, 6.0800e-01],\n",
       "       [7.0000e+00, 4.3180e+03, 1.0340e+04, 5.8600e-01],\n",
       "       [7.0000e+00, 4.2060e+03, 8.5080e+03, 5.7200e-01],\n",
       "       [7.0000e+00, 3.7180e+03, 4.7250e+03, 5.4000e-01],\n",
       "       [7.0000e+00, 4.7160e+03, 5.9150e+03, 7.2400e-01],\n",
       "       [8.5000e+00, 4.3410e+03, 6.0100e+03, 6.7700e-01],\n",
       "       [7.0000e+00, 4.5930e+03, 7.8340e+03, 6.6300e-01],\n",
       "       [8.0000e+00, 4.9830e+03, 6.0200e+02, 6.0200e-01],\n",
       "       [9.0000e+00, 4.8970e+03, 2.4490e+03, 5.1100e-01],\n",
       "       [9.0000e+00, 4.2580e+03, 4.6860e+03, 5.1700e-01],\n",
       "       [8.5000e+00, 4.5740e+03, 2.6190e+03, 5.5100e-01],\n",
       "       [9.0000e+00, 3.7210e+03, 4.7460e+03, 5.4400e-01],\n",
       "       [8.0000e+00, 3.4480e+03, 5.3990e+03, 5.4800e-01],\n",
       "       [7.5000e+00, 3.8460e+03, 9.0610e+03, 5.7900e-01],\n",
       "       [8.0000e+00, 4.1880e+03, 5.9750e+03, 5.6300e-01],\n",
       "       [9.0000e+00, 3.6010e+03, 4.6500e+03, 4.9300e-01],\n",
       "       [7.0000e+00, 3.6400e+03, 6.9050e+03, 5.1800e-01],\n",
       "       [7.0000e+00, 3.3330e+03, 6.5940e+03, 5.1300e-01],\n",
       "       [8.0000e+00, 3.0630e+03, 6.5240e+03, 5.7800e-01],\n",
       "       [7.5000e+00, 3.3570e+03, 4.1210e+03, 5.4700e-01],\n",
       "       [8.0000e+00, 3.5280e+03, 3.4950e+03, 4.8700e-01],\n",
       "       [6.5800e+00, 3.8020e+03, 7.8340e+03, 6.2900e-01],\n",
       "       [5.0000e+00, 4.0450e+03, 1.7782e+04, 5.6600e-01],\n",
       "       [7.0000e+00, 3.8970e+03, 6.3850e+03, 5.8600e-01],\n",
       "       [8.5000e+00, 3.6350e+03, 3.2740e+03, 6.6300e-01],\n",
       "       [7.0000e+00, 4.3450e+03, 3.9050e+03, 6.7200e-01],\n",
       "       [7.0000e+00, 4.4490e+03, 4.6390e+03, 6.2600e-01],\n",
       "       [7.0000e+00, 3.6560e+03, 3.9850e+03, 5.6300e-01],\n",
       "       [7.0000e+00, 4.3000e+03, 3.6350e+03, 6.0300e-01],\n",
       "       [7.0000e+00, 3.7450e+03, 2.6110e+03, 5.0800e-01],\n",
       "       [6.0000e+00, 5.2150e+03, 2.3020e+03, 6.7200e-01],\n",
       "       [9.0000e+00, 4.4760e+03, 3.9420e+03, 5.7100e-01],\n",
       "       [7.0000e+00, 4.2960e+03, 4.0830e+03, 6.2300e-01],\n",
       "       [7.0000e+00, 5.0020e+03, 9.7940e+03, 5.9300e-01]])"
      ]
     },
     "execution_count": 19,
     "metadata": {},
     "output_type": "execute_result"
    }
   ],
   "source": [
    "x = df.iloc[:,0:4].values\n",
    "x"
   ]
  },
  {
   "cell_type": "code",
   "execution_count": 20,
   "id": "a3cae17e",
   "metadata": {},
   "outputs": [
    {
     "data": {
      "text/plain": [
       "array([541, 524, 561, 414, 410, 457, 344, 467, 464, 498, 580, 471, 525,\n",
       "       508, 566, 635, 603, 714, 865, 640, 649, 540, 464, 547, 460, 566,\n",
       "       577, 631, 574, 534, 571, 554, 577, 628, 487, 644, 640, 704, 648,\n",
       "       968, 587, 699, 632, 591, 782, 510, 610, 524], dtype=int64)"
      ]
     },
     "execution_count": 20,
     "metadata": {},
     "output_type": "execute_result"
    }
   ],
   "source": [
    "y = df.iloc[:,4].values\n",
    "y"
   ]
  },
  {
   "cell_type": "markdown",
   "id": "60dfd9db",
   "metadata": {},
   "source": [
    "### Creating Train-Test split"
   ]
  },
  {
   "cell_type": "code",
   "execution_count": 21,
   "id": "43946782",
   "metadata": {},
   "outputs": [
    {
     "name": "stdout",
     "output_type": "stream",
     "text": [
      "X_train shape = (36, 4).\n",
      "X_test shape = (12, 4).\n"
     ]
    }
   ],
   "source": [
    "from sklearn.model_selection import train_test_split\n",
    "\n",
    "X_train, X_test, y_train, y_test = train_test_split(x, y, test_size = 0.25, random_state=0)\n",
    "print(\"X_train shape = {}.\".format(X_train.shape))\n",
    "print(\"X_test shape = {}.\".format(X_test.shape))"
   ]
  },
  {
   "cell_type": "markdown",
   "id": "9896083d",
   "metadata": {},
   "source": [
    "### Feature Scaling"
   ]
  },
  {
   "cell_type": "code",
   "execution_count": 22,
   "id": "2063a77b",
   "metadata": {},
   "outputs": [
    {
     "name": "stdout",
     "output_type": "stream",
     "text": [
      "[[ 1.30515733 -1.41702663 -0.25500891 -1.54478042]\n",
      " [ 0.33478013  0.15042711 -1.44840819 -0.63777152]\n",
      " [ 0.33478013 -1.71755347 -0.04314447 -0.56663356]\n",
      " [-0.63559706 -1.34042174  0.3828473  -1.10016821]\n",
      " [ 0.33478013 -2.47378115  0.27507647 -0.03309891]\n",
      " [-0.63559706 -0.83561522  0.23575851  0.109177  ]\n",
      " [ 0.33478013 -1.56041525 -0.58171575 -1.65148735]\n",
      " [-0.63559706  0.24863849 -0.25812041  0.82055653]\n",
      " [ 0.33478013  1.57842067 -0.96556093 -0.47771112]\n",
      " [ 0.33478013  0.13471329  0.10960158 -0.88675435]\n",
      " [-0.15040847  1.57842067  2.44237329 -0.97567679]\n",
      " [-0.63559706 -1.94343966  0.29487689 -1.18909066]]\n"
     ]
    }
   ],
   "source": [
    "from sklearn.preprocessing import StandardScaler\n",
    "\n",
    "sc = StandardScaler()\n",
    "X_train = sc.fit_transform(X_train)\n",
    "X_test = sc.transform(X_test)\n",
    "print (X_test)"
   ]
  },
  {
   "cell_type": "markdown",
   "id": "f1a0563d",
   "metadata": {},
   "source": [
    "### Creating the model"
   ]
  },
  {
   "cell_type": "code",
   "execution_count": 23,
   "id": "64bfb04d",
   "metadata": {},
   "outputs": [],
   "source": [
    "from sklearn.ensemble import RandomForestRegressor\n",
    "\n",
    "regressor = RandomForestRegressor(n_estimators=20, random_state=0)\n",
    "regressor.fit(X_train, y_train)\n",
    "y_pred = regressor.predict(X_test)"
   ]
  },
  {
   "cell_type": "markdown",
   "id": "c7f99823",
   "metadata": {},
   "source": [
    "### Evaluating error"
   ]
  },
  {
   "cell_type": "code",
   "execution_count": 24,
   "id": "f5f9ebcb",
   "metadata": {},
   "outputs": [
    {
     "name": "stdout",
     "output_type": "stream",
     "text": [
      "Mean Absolute Error: 58.25833333333333.\n",
      "Mean Squared Error: 4823.389166666667.\n",
      "Root Mean Squared Error: 69.45062394728119.\n"
     ]
    }
   ],
   "source": [
    "from sklearn import metrics\n",
    "\n",
    "print('Mean Absolute Error: {}.'.format(metrics.mean_absolute_error(y_test, y_pred)))\n",
    "print('Mean Squared Error: {}.'.format(metrics.mean_squared_error(y_test, y_pred)))\n",
    "print('Root Mean Squared Error: {}.'.format(np.sqrt(metrics.mean_squared_error(y_test, y_pred))))"
   ]
  },
  {
   "cell_type": "markdown",
   "id": "7da755af",
   "metadata": {},
   "source": [
    "---"
   ]
  }
 ],
 "metadata": {
  "kernelspec": {
   "display_name": "Python 3",
   "language": "python",
   "name": "python3"
  },
  "language_info": {
   "codemirror_mode": {
    "name": "ipython",
    "version": 3
   },
   "file_extension": ".py",
   "mimetype": "text/x-python",
   "name": "python",
   "nbconvert_exporter": "python",
   "pygments_lexer": "ipython3",
   "version": "3.8.8"
  }
 },
 "nbformat": 4,
 "nbformat_minor": 5
}
