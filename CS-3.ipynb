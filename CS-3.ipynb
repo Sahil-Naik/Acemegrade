{
 "cells": [
  {
   "cell_type": "markdown",
   "id": "730d8197",
   "metadata": {},
   "source": [
    "### Q1. Write a Python program to sum all the items in a list."
   ]
  },
  {
   "cell_type": "code",
   "execution_count": 2,
   "id": "41149c64",
   "metadata": {},
   "outputs": [
    {
     "name": "stdout",
     "output_type": "stream",
     "text": [
      "Sum is: 6.\n"
     ]
    }
   ],
   "source": [
    "def list_sum(list1):\n",
    "    return print(\"Sum is: {}.\".format(sum(list1)))\n",
    "\n",
    "list_sum([1,2,3])"
   ]
  },
  {
   "cell_type": "markdown",
   "id": "6ba4b61e",
   "metadata": {},
   "source": [
    "---"
   ]
  },
  {
   "cell_type": "markdown",
   "id": "118564f7",
   "metadata": {},
   "source": [
    "### Q2. Write a Python program to multiply all the items in a list."
   ]
  },
  {
   "cell_type": "code",
   "execution_count": 5,
   "id": "cc4bfa69",
   "metadata": {},
   "outputs": [
    {
     "name": "stdout",
     "output_type": "stream",
     "text": [
      "Sum is: 18.\n"
     ]
    }
   ],
   "source": [
    "def mul_list(list1):\n",
    "    sum1 = 1\n",
    "    for i in list1:\n",
    "        sum1 *= i\n",
    "    return print(\"Sum is: {}.\".format(sum1))\n",
    "\n",
    "mul_list([3,2,3])"
   ]
  },
  {
   "cell_type": "markdown",
   "id": "28ccde4b",
   "metadata": {},
   "source": [
    "---"
   ]
  },
  {
   "cell_type": "markdown",
   "id": "6b61c75c",
   "metadata": {},
   "source": [
    "### Q3. Write a Python program to get the largest number from a list."
   ]
  },
  {
   "cell_type": "code",
   "execution_count": 11,
   "id": "502779bd",
   "metadata": {},
   "outputs": [
    {
     "name": "stdout",
     "output_type": "stream",
     "text": [
      "Largest elements is: 21.\n",
      "Largest elements is: 112.\n"
     ]
    }
   ],
   "source": [
    "def max_list(list1):\n",
    "    return print(\"Largest elements is: {}.\".format(max(list1)))\n",
    "\n",
    "max_list([2,9,21])\n",
    "max_list([1,112,90])"
   ]
  },
  {
   "cell_type": "markdown",
   "id": "01cf2f5d",
   "metadata": {},
   "source": [
    "---"
   ]
  },
  {
   "cell_type": "markdown",
   "id": "3e5f1342",
   "metadata": {},
   "source": [
    "### Q4. Write a Python program to get the smallest number from a list."
   ]
  },
  {
   "cell_type": "code",
   "execution_count": 15,
   "id": "45cdf2fa",
   "metadata": {},
   "outputs": [
    {
     "name": "stdout",
     "output_type": "stream",
     "text": [
      "Smallest number is: 1.\n",
      "Smallest number is: 63.\n"
     ]
    }
   ],
   "source": [
    "def get_smol(list1):\n",
    "    list1.sort()\n",
    "    return print(\"Smallest number is: {}.\".format(list1[0]))\n",
    "\n",
    "get_smol([4,7,1,9])\n",
    "get_smol([81,72,84,63,91])"
   ]
  },
  {
   "cell_type": "markdown",
   "id": "191771be",
   "metadata": {},
   "source": [
    "---"
   ]
  },
  {
   "cell_type": "markdown",
   "id": "a6d40f65",
   "metadata": {},
   "source": [
    "### Q5. Write a Python program to count the number of strings where the string length is 2 or more and the first and last character are same from a given list of strings."
   ]
  },
  {
   "cell_type": "code",
   "execution_count": 19,
   "id": "4d467075",
   "metadata": {},
   "outputs": [
    {
     "name": "stdout",
     "output_type": "stream",
     "text": [
      "There are 3 words whose first and last character are same.\n"
     ]
    }
   ],
   "source": [
    "def is_same(list1):\n",
    "    count = 0\n",
    "    for i in list1:\n",
    "        if len(i)>1 and i[0]==i[-1]:\n",
    "            count += 1\n",
    "    return print(\"There are {} words whose first and last character are same.\".format(count))\n",
    "\n",
    "is_same(['abba','xytx','gtt','3773'])"
   ]
  },
  {
   "cell_type": "markdown",
   "id": "d9c4b917",
   "metadata": {},
   "source": [
    "---"
   ]
  },
  {
   "cell_type": "markdown",
   "id": "8085387f",
   "metadata": {},
   "source": [
    "### Q6. Write a Python program to get a list, sorted in increasing order by the last element in each tuple from a given list of non-empty tuples."
   ]
  },
  {
   "cell_type": "code",
   "execution_count": 91,
   "id": "72cbefef",
   "metadata": {},
   "outputs": [
    {
     "name": "stdout",
     "output_type": "stream",
     "text": [
      "Increasing order is: [(1, 1), (5, 2), (2, 3), (4, 4)]\n"
     ]
    }
   ],
   "source": [
    "def inc_tup(list1):\n",
    "    return print(\"Increasing order is: {}\".format(sorted(list1,key=last)))\n",
    "    \n",
    "inc_tup([(2,3),(4,4),(1,1),(5,2)])"
   ]
  },
  {
   "cell_type": "markdown",
   "id": "53f0615d",
   "metadata": {},
   "source": [
    "---"
   ]
  },
  {
   "cell_type": "markdown",
   "id": "80d78570",
   "metadata": {},
   "source": [
    "### Q7. Write a Python program to remove duplicates from a list."
   ]
  },
  {
   "cell_type": "code",
   "execution_count": 37,
   "id": "9ddf191a",
   "metadata": {},
   "outputs": [
    {
     "name": "stdout",
     "output_type": "stream",
     "text": [
      "After removing duplicates: [1, 2, 5, 6, 7]\n"
     ]
    }
   ],
   "source": [
    "def rem_dups(list1):\n",
    "    temp = set(list1)\n",
    "    return print(\"After removing duplicates: {}\".format(list(temp)))\n",
    "\n",
    "rem_dups([1,1,5,2,7,5,6,7])"
   ]
  },
  {
   "cell_type": "markdown",
   "id": "d1906183",
   "metadata": {},
   "source": [
    "---"
   ]
  },
  {
   "cell_type": "markdown",
   "id": "0a8571f7",
   "metadata": {},
   "source": [
    "### Q8. Write a Python program to check a list is empty or not."
   ]
  },
  {
   "cell_type": "markdown",
   "id": "2087f60a",
   "metadata": {},
   "source": [
    "#### Method-1: Treating 0 as non-null element"
   ]
  },
  {
   "cell_type": "code",
   "execution_count": 42,
   "id": "e9e3ed27",
   "metadata": {},
   "outputs": [
    {
     "name": "stdout",
     "output_type": "stream",
     "text": [
      "List is not empty!\n",
      "List is not empty!\n",
      "List is empty!\n"
     ]
    }
   ],
   "source": [
    "def is_empty(list1):\n",
    "    if len(list1) == 0:\n",
    "        return print(\"List is empty!\")\n",
    "    else:\n",
    "        return print(\"List is not empty!\")\n",
    "    \n",
    "is_empty([1,4,6])\n",
    "is_empty([0])      # Taking zero as non-null element.\n",
    "is_empty([])"
   ]
  },
  {
   "cell_type": "markdown",
   "id": "1aa15454",
   "metadata": {},
   "source": [
    "#### Method-2: Treating 0 as null element"
   ]
  },
  {
   "cell_type": "code",
   "execution_count": 46,
   "id": "cfbef5e3",
   "metadata": {},
   "outputs": [
    {
     "name": "stdout",
     "output_type": "stream",
     "text": [
      "List is not empty!\n",
      "List is empty!\n",
      "List is empty!\n"
     ]
    }
   ],
   "source": [
    "def is_empty(list1):\n",
    "    if len(list1) == 0 or list1[-1]==0:\n",
    "        return print(\"List is empty!\")\n",
    "    else:\n",
    "        return print(\"List is not empty!\")\n",
    "    \n",
    "is_empty([1,4,6])\n",
    "is_empty([0])      # Taking zero as null element\n",
    "is_empty([])"
   ]
  },
  {
   "cell_type": "markdown",
   "id": "ee60cad1",
   "metadata": {},
   "source": [
    "---"
   ]
  },
  {
   "cell_type": "markdown",
   "id": "8b71a15c",
   "metadata": {},
   "source": [
    "### Q9. Write a Python program to clone or copy a list."
   ]
  },
  {
   "cell_type": "code",
   "execution_count": 48,
   "id": "a42199fd",
   "metadata": {},
   "outputs": [
    {
     "name": "stdout",
     "output_type": "stream",
     "text": [
      "Copied list is: [1, 2, 3, 8]\n"
     ]
    }
   ],
   "source": [
    "def copy_lists(list1):\n",
    "    list2 = list(list1)\n",
    "    return print(\"Copied list is: {}\".format(list2))\n",
    "\n",
    "copy_lists([1,2,3,8])"
   ]
  },
  {
   "cell_type": "markdown",
   "id": "d7a7866f",
   "metadata": {},
   "source": [
    "---"
   ]
  },
  {
   "cell_type": "markdown",
   "id": "b2b16ae9",
   "metadata": {},
   "source": [
    "### Q10. Write a Python program to find the list of words that are longer than n from a given list of words."
   ]
  },
  {
   "cell_type": "code",
   "execution_count": 57,
   "id": "01d889e9",
   "metadata": {},
   "outputs": [
    {
     "name": "stdout",
     "output_type": "stream",
     "text": [
      "There are 2 words, whose length is longer than 3.\n",
      "Words longer than 3 are ['words', 'wordle'].\n",
      "\n",
      "There are 3 words, whose length is longer than 4.\n",
      "Words longer than 4 are ['laziest', 'tenfour', 'delta'].\n",
      "\n"
     ]
    }
   ],
   "source": [
    "def long_than_n(n,list1):\n",
    "    temp_list = []\n",
    "    for i in list1:\n",
    "        if len(i) > n:\n",
    "            temp_list.append(i)\n",
    "    print(\"There are {} words, whose length is longer than {}.\".format(len(temp_list),n))\n",
    "    return print(\"Words longer than {} are {}.\\n\".format(n,temp_list))\n",
    "\n",
    "long_than_n(3,['words','wordle', 'git', 'hmm'])\n",
    "long_than_n(4,['laziest','tenfour','delta','carl'])"
   ]
  },
  {
   "cell_type": "markdown",
   "id": "febfae13",
   "metadata": {},
   "source": [
    "---"
   ]
  },
  {
   "cell_type": "markdown",
   "id": "6039ccdd",
   "metadata": {},
   "source": [
    "### Q11. Write a Python function that takes two lists and returns True if they have at least one common member."
   ]
  },
  {
   "cell_type": "code",
   "execution_count": 87,
   "id": "f1a403d7",
   "metadata": {},
   "outputs": [
    {
     "name": "stdout",
     "output_type": "stream",
     "text": [
      "True\n"
     ]
    }
   ],
   "source": [
    "def is_common(list1, list2):\n",
    "    for i in list1:\n",
    "        for j in list2:\n",
    "            if i==j:\n",
    "                print(\"True\")\n",
    "\n",
    "is_common([2,4,7],[5,6,7])"
   ]
  },
  {
   "cell_type": "markdown",
   "id": "d3c2ef6c",
   "metadata": {},
   "source": [
    "---"
   ]
  },
  {
   "cell_type": "markdown",
   "id": "7698f356",
   "metadata": {},
   "source": [
    "### Q12. Write a Python program to print a specified list after removing the 0th, 4th and 5th elements."
   ]
  },
  {
   "cell_type": "code",
   "execution_count": 86,
   "id": "c07d93bd",
   "metadata": {},
   "outputs": [
    {
     "name": "stdout",
     "output_type": "stream",
     "text": [
      "New list is: ['Green', 'White', 'Black'].\n"
     ]
    }
   ],
   "source": [
    "def rem_spec(list1):\n",
    "    list2 = []\n",
    "    for i in range(len(list1)):\n",
    "        if i==0 or i==4 or i==5:\n",
    "            pass\n",
    "        else:\n",
    "            list2.append(list1[i])\n",
    "    return print(\"New list is: {}.\".format(list2))\n",
    "    \n",
    "rem_spec(['Red', 'Green', 'White', 'Black', 'Pink', 'Yellow'])"
   ]
  },
  {
   "cell_type": "markdown",
   "id": "f1bad077",
   "metadata": {},
   "source": [
    "---"
   ]
  }
 ],
 "metadata": {
  "kernelspec": {
   "display_name": "Python 3",
   "language": "python",
   "name": "python3"
  },
  "language_info": {
   "codemirror_mode": {
    "name": "ipython",
    "version": 3
   },
   "file_extension": ".py",
   "mimetype": "text/x-python",
   "name": "python",
   "nbconvert_exporter": "python",
   "pygments_lexer": "ipython3",
   "version": "3.8.8"
  }
 },
 "nbformat": 4,
 "nbformat_minor": 5
}
