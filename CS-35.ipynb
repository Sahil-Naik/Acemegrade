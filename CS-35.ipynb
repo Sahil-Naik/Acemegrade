{
 "cells": [
  {
   "cell_type": "markdown",
   "id": "ba645903",
   "metadata": {},
   "source": [
    "## Supervised Learning \n",
    "### Case Study - 6 (CS 35)"
   ]
  },
  {
   "cell_type": "markdown",
   "id": "5d2dc258",
   "metadata": {},
   "source": [
    "**Objective:**\n",
    "\n",
    "\n",
    "Employ SVM from scikit learn for binary classification.\n",
    "\n",
    "Impact of preprocessing data and hyper paramter search using grid search and random search CV .\n",
    "\n",
    "**Questions:**\n",
    "\n",
    "\n",
    "1. Load the data from “college.csv” that has attributes collected about private and public colleges for a particular year. We will try to predict the private/public status of the college from other attributes.\n",
    "\n",
    "\n",
    "2. Use LabelEncoder to encode the target variable in to numerical form and split the data such that 20% of the data is set aside for testing.\n",
    "\n",
    "    \n",
    "3. Fit a linear svm from scikit learn and observe the accuracy. [Hint: Use Linear SVC]\n",
    "\n",
    "\n",
    "\n",
    "4. Preprocess the data using StandardScalar and fit the same model again and observe the change in accuracy.[Hint: Refer to scikitlearn’s preprocessing methods]\n",
    "\n",
    "\n",
    "\n",
    "5. Use scikit learn’s gridsearch and Random Search CV to select the best hyperparameter for a non-linear SVM, identify the model with best score and its parameters.[Hint: Refer to model_selection module of Scikit learn]"
   ]
  },
  {
   "cell_type": "markdown",
   "id": "ffd78ba6",
   "metadata": {},
   "source": [
    "### Importing libraries and loading data"
   ]
  },
  {
   "cell_type": "code",
   "execution_count": 2,
   "id": "7c2e7ff5",
   "metadata": {},
   "outputs": [],
   "source": [
    "import pandas as pd"
   ]
  },
  {
   "cell_type": "code",
   "execution_count": 3,
   "id": "843d1099",
   "metadata": {},
   "outputs": [
    {
     "data": {
      "text/html": [
       "<div>\n",
       "<style scoped>\n",
       "    .dataframe tbody tr th:only-of-type {\n",
       "        vertical-align: middle;\n",
       "    }\n",
       "\n",
       "    .dataframe tbody tr th {\n",
       "        vertical-align: top;\n",
       "    }\n",
       "\n",
       "    .dataframe thead th {\n",
       "        text-align: right;\n",
       "    }\n",
       "</style>\n",
       "<table border=\"1\" class=\"dataframe\">\n",
       "  <thead>\n",
       "    <tr style=\"text-align: right;\">\n",
       "      <th></th>\n",
       "      <th>Private</th>\n",
       "      <th>Apps</th>\n",
       "      <th>Accept</th>\n",
       "      <th>Enroll</th>\n",
       "      <th>Top10perc</th>\n",
       "      <th>Top25perc</th>\n",
       "      <th>F.Undergrad</th>\n",
       "      <th>P.Undergrad</th>\n",
       "      <th>Outstate</th>\n",
       "      <th>Room.Board</th>\n",
       "      <th>Books</th>\n",
       "      <th>Personal</th>\n",
       "      <th>PhD</th>\n",
       "      <th>Terminal</th>\n",
       "      <th>S.F.Ratio</th>\n",
       "      <th>perc.alumni</th>\n",
       "      <th>Expend</th>\n",
       "      <th>Grad.Rate</th>\n",
       "    </tr>\n",
       "  </thead>\n",
       "  <tbody>\n",
       "    <tr>\n",
       "      <th>0</th>\n",
       "      <td>Yes</td>\n",
       "      <td>1660</td>\n",
       "      <td>1232</td>\n",
       "      <td>721</td>\n",
       "      <td>23</td>\n",
       "      <td>52</td>\n",
       "      <td>2885</td>\n",
       "      <td>537</td>\n",
       "      <td>7440</td>\n",
       "      <td>3300</td>\n",
       "      <td>450</td>\n",
       "      <td>2200</td>\n",
       "      <td>70</td>\n",
       "      <td>78</td>\n",
       "      <td>18.1</td>\n",
       "      <td>12</td>\n",
       "      <td>7041</td>\n",
       "      <td>60</td>\n",
       "    </tr>\n",
       "    <tr>\n",
       "      <th>1</th>\n",
       "      <td>Yes</td>\n",
       "      <td>2186</td>\n",
       "      <td>1924</td>\n",
       "      <td>512</td>\n",
       "      <td>16</td>\n",
       "      <td>29</td>\n",
       "      <td>2683</td>\n",
       "      <td>1227</td>\n",
       "      <td>12280</td>\n",
       "      <td>6450</td>\n",
       "      <td>750</td>\n",
       "      <td>1500</td>\n",
       "      <td>29</td>\n",
       "      <td>30</td>\n",
       "      <td>12.2</td>\n",
       "      <td>16</td>\n",
       "      <td>10527</td>\n",
       "      <td>56</td>\n",
       "    </tr>\n",
       "    <tr>\n",
       "      <th>2</th>\n",
       "      <td>Yes</td>\n",
       "      <td>1428</td>\n",
       "      <td>1097</td>\n",
       "      <td>336</td>\n",
       "      <td>22</td>\n",
       "      <td>50</td>\n",
       "      <td>1036</td>\n",
       "      <td>99</td>\n",
       "      <td>11250</td>\n",
       "      <td>3750</td>\n",
       "      <td>400</td>\n",
       "      <td>1165</td>\n",
       "      <td>53</td>\n",
       "      <td>66</td>\n",
       "      <td>12.9</td>\n",
       "      <td>30</td>\n",
       "      <td>8735</td>\n",
       "      <td>54</td>\n",
       "    </tr>\n",
       "    <tr>\n",
       "      <th>3</th>\n",
       "      <td>Yes</td>\n",
       "      <td>417</td>\n",
       "      <td>349</td>\n",
       "      <td>137</td>\n",
       "      <td>60</td>\n",
       "      <td>89</td>\n",
       "      <td>510</td>\n",
       "      <td>63</td>\n",
       "      <td>12960</td>\n",
       "      <td>5450</td>\n",
       "      <td>450</td>\n",
       "      <td>875</td>\n",
       "      <td>92</td>\n",
       "      <td>97</td>\n",
       "      <td>7.7</td>\n",
       "      <td>37</td>\n",
       "      <td>19016</td>\n",
       "      <td>59</td>\n",
       "    </tr>\n",
       "    <tr>\n",
       "      <th>4</th>\n",
       "      <td>Yes</td>\n",
       "      <td>193</td>\n",
       "      <td>146</td>\n",
       "      <td>55</td>\n",
       "      <td>16</td>\n",
       "      <td>44</td>\n",
       "      <td>249</td>\n",
       "      <td>869</td>\n",
       "      <td>7560</td>\n",
       "      <td>4120</td>\n",
       "      <td>800</td>\n",
       "      <td>1500</td>\n",
       "      <td>76</td>\n",
       "      <td>72</td>\n",
       "      <td>11.9</td>\n",
       "      <td>2</td>\n",
       "      <td>10922</td>\n",
       "      <td>15</td>\n",
       "    </tr>\n",
       "    <tr>\n",
       "      <th>...</th>\n",
       "      <td>...</td>\n",
       "      <td>...</td>\n",
       "      <td>...</td>\n",
       "      <td>...</td>\n",
       "      <td>...</td>\n",
       "      <td>...</td>\n",
       "      <td>...</td>\n",
       "      <td>...</td>\n",
       "      <td>...</td>\n",
       "      <td>...</td>\n",
       "      <td>...</td>\n",
       "      <td>...</td>\n",
       "      <td>...</td>\n",
       "      <td>...</td>\n",
       "      <td>...</td>\n",
       "      <td>...</td>\n",
       "      <td>...</td>\n",
       "      <td>...</td>\n",
       "    </tr>\n",
       "    <tr>\n",
       "      <th>772</th>\n",
       "      <td>No</td>\n",
       "      <td>2197</td>\n",
       "      <td>1515</td>\n",
       "      <td>543</td>\n",
       "      <td>4</td>\n",
       "      <td>26</td>\n",
       "      <td>3089</td>\n",
       "      <td>2029</td>\n",
       "      <td>6797</td>\n",
       "      <td>3900</td>\n",
       "      <td>500</td>\n",
       "      <td>1200</td>\n",
       "      <td>60</td>\n",
       "      <td>60</td>\n",
       "      <td>21.0</td>\n",
       "      <td>14</td>\n",
       "      <td>4469</td>\n",
       "      <td>40</td>\n",
       "    </tr>\n",
       "    <tr>\n",
       "      <th>773</th>\n",
       "      <td>Yes</td>\n",
       "      <td>1959</td>\n",
       "      <td>1805</td>\n",
       "      <td>695</td>\n",
       "      <td>24</td>\n",
       "      <td>47</td>\n",
       "      <td>2849</td>\n",
       "      <td>1107</td>\n",
       "      <td>11520</td>\n",
       "      <td>4960</td>\n",
       "      <td>600</td>\n",
       "      <td>1250</td>\n",
       "      <td>73</td>\n",
       "      <td>75</td>\n",
       "      <td>13.3</td>\n",
       "      <td>31</td>\n",
       "      <td>9189</td>\n",
       "      <td>83</td>\n",
       "    </tr>\n",
       "    <tr>\n",
       "      <th>774</th>\n",
       "      <td>Yes</td>\n",
       "      <td>2097</td>\n",
       "      <td>1915</td>\n",
       "      <td>695</td>\n",
       "      <td>34</td>\n",
       "      <td>61</td>\n",
       "      <td>2793</td>\n",
       "      <td>166</td>\n",
       "      <td>6900</td>\n",
       "      <td>4200</td>\n",
       "      <td>617</td>\n",
       "      <td>781</td>\n",
       "      <td>67</td>\n",
       "      <td>75</td>\n",
       "      <td>14.4</td>\n",
       "      <td>20</td>\n",
       "      <td>8323</td>\n",
       "      <td>49</td>\n",
       "    </tr>\n",
       "    <tr>\n",
       "      <th>775</th>\n",
       "      <td>Yes</td>\n",
       "      <td>10705</td>\n",
       "      <td>2453</td>\n",
       "      <td>1317</td>\n",
       "      <td>95</td>\n",
       "      <td>99</td>\n",
       "      <td>5217</td>\n",
       "      <td>83</td>\n",
       "      <td>19840</td>\n",
       "      <td>6510</td>\n",
       "      <td>630</td>\n",
       "      <td>2115</td>\n",
       "      <td>96</td>\n",
       "      <td>96</td>\n",
       "      <td>5.8</td>\n",
       "      <td>49</td>\n",
       "      <td>40386</td>\n",
       "      <td>99</td>\n",
       "    </tr>\n",
       "    <tr>\n",
       "      <th>776</th>\n",
       "      <td>Yes</td>\n",
       "      <td>2989</td>\n",
       "      <td>1855</td>\n",
       "      <td>691</td>\n",
       "      <td>28</td>\n",
       "      <td>63</td>\n",
       "      <td>2988</td>\n",
       "      <td>1726</td>\n",
       "      <td>4990</td>\n",
       "      <td>3560</td>\n",
       "      <td>500</td>\n",
       "      <td>1250</td>\n",
       "      <td>75</td>\n",
       "      <td>75</td>\n",
       "      <td>18.1</td>\n",
       "      <td>28</td>\n",
       "      <td>4509</td>\n",
       "      <td>99</td>\n",
       "    </tr>\n",
       "  </tbody>\n",
       "</table>\n",
       "<p>777 rows × 18 columns</p>\n",
       "</div>"
      ],
      "text/plain": [
       "    Private   Apps  Accept  Enroll  Top10perc  Top25perc  F.Undergrad  \\\n",
       "0       Yes   1660    1232     721         23         52         2885   \n",
       "1       Yes   2186    1924     512         16         29         2683   \n",
       "2       Yes   1428    1097     336         22         50         1036   \n",
       "3       Yes    417     349     137         60         89          510   \n",
       "4       Yes    193     146      55         16         44          249   \n",
       "..      ...    ...     ...     ...        ...        ...          ...   \n",
       "772      No   2197    1515     543          4         26         3089   \n",
       "773     Yes   1959    1805     695         24         47         2849   \n",
       "774     Yes   2097    1915     695         34         61         2793   \n",
       "775     Yes  10705    2453    1317         95         99         5217   \n",
       "776     Yes   2989    1855     691         28         63         2988   \n",
       "\n",
       "     P.Undergrad  Outstate  Room.Board  Books  Personal  PhD  Terminal  \\\n",
       "0            537      7440        3300    450      2200   70        78   \n",
       "1           1227     12280        6450    750      1500   29        30   \n",
       "2             99     11250        3750    400      1165   53        66   \n",
       "3             63     12960        5450    450       875   92        97   \n",
       "4            869      7560        4120    800      1500   76        72   \n",
       "..           ...       ...         ...    ...       ...  ...       ...   \n",
       "772         2029      6797        3900    500      1200   60        60   \n",
       "773         1107     11520        4960    600      1250   73        75   \n",
       "774          166      6900        4200    617       781   67        75   \n",
       "775           83     19840        6510    630      2115   96        96   \n",
       "776         1726      4990        3560    500      1250   75        75   \n",
       "\n",
       "     S.F.Ratio  perc.alumni  Expend  Grad.Rate  \n",
       "0         18.1           12    7041         60  \n",
       "1         12.2           16   10527         56  \n",
       "2         12.9           30    8735         54  \n",
       "3          7.7           37   19016         59  \n",
       "4         11.9            2   10922         15  \n",
       "..         ...          ...     ...        ...  \n",
       "772       21.0           14    4469         40  \n",
       "773       13.3           31    9189         83  \n",
       "774       14.4           20    8323         49  \n",
       "775        5.8           49   40386         99  \n",
       "776       18.1           28    4509         99  \n",
       "\n",
       "[777 rows x 18 columns]"
      ]
     },
     "execution_count": 3,
     "metadata": {},
     "output_type": "execute_result"
    }
   ],
   "source": [
    "df = pd.read_csv(\"datasets/College.csv\")\n",
    "df"
   ]
  },
  {
   "cell_type": "code",
   "execution_count": 4,
   "id": "9fa6f64e",
   "metadata": {},
   "outputs": [
    {
     "data": {
      "text/plain": [
       "(777, 18)"
      ]
     },
     "execution_count": 4,
     "metadata": {},
     "output_type": "execute_result"
    }
   ],
   "source": [
    "df.shape"
   ]
  },
  {
   "cell_type": "code",
   "execution_count": 5,
   "id": "9e6a0329",
   "metadata": {},
   "outputs": [
    {
     "data": {
      "text/plain": [
       "Index(['Private', 'Apps', 'Accept', 'Enroll', 'Top10perc', 'Top25perc',\n",
       "       'F.Undergrad', 'P.Undergrad', 'Outstate', 'Room.Board', 'Books',\n",
       "       'Personal', 'PhD', 'Terminal', 'S.F.Ratio', 'perc.alumni', 'Expend',\n",
       "       'Grad.Rate'],\n",
       "      dtype='object')"
      ]
     },
     "execution_count": 5,
     "metadata": {},
     "output_type": "execute_result"
    }
   ],
   "source": [
    "df.columns"
   ]
  },
  {
   "cell_type": "code",
   "execution_count": 6,
   "id": "0f1b130d",
   "metadata": {},
   "outputs": [
    {
     "name": "stdout",
     "output_type": "stream",
     "text": [
      "<class 'pandas.core.frame.DataFrame'>\n",
      "RangeIndex: 777 entries, 0 to 776\n",
      "Data columns (total 18 columns):\n",
      " #   Column       Non-Null Count  Dtype  \n",
      "---  ------       --------------  -----  \n",
      " 0   Private      777 non-null    object \n",
      " 1   Apps         777 non-null    int64  \n",
      " 2   Accept       777 non-null    int64  \n",
      " 3   Enroll       777 non-null    int64  \n",
      " 4   Top10perc    777 non-null    int64  \n",
      " 5   Top25perc    777 non-null    int64  \n",
      " 6   F.Undergrad  777 non-null    int64  \n",
      " 7   P.Undergrad  777 non-null    int64  \n",
      " 8   Outstate     777 non-null    int64  \n",
      " 9   Room.Board   777 non-null    int64  \n",
      " 10  Books        777 non-null    int64  \n",
      " 11  Personal     777 non-null    int64  \n",
      " 12  PhD          777 non-null    int64  \n",
      " 13  Terminal     777 non-null    int64  \n",
      " 14  S.F.Ratio    777 non-null    float64\n",
      " 15  perc.alumni  777 non-null    int64  \n",
      " 16  Expend       777 non-null    int64  \n",
      " 17  Grad.Rate    777 non-null    int64  \n",
      "dtypes: float64(1), int64(16), object(1)\n",
      "memory usage: 109.4+ KB\n"
     ]
    }
   ],
   "source": [
    "df.info()"
   ]
  },
  {
   "cell_type": "code",
   "execution_count": 7,
   "id": "057d7968",
   "metadata": {},
   "outputs": [
    {
     "data": {
      "text/html": [
       "<div>\n",
       "<style scoped>\n",
       "    .dataframe tbody tr th:only-of-type {\n",
       "        vertical-align: middle;\n",
       "    }\n",
       "\n",
       "    .dataframe tbody tr th {\n",
       "        vertical-align: top;\n",
       "    }\n",
       "\n",
       "    .dataframe thead th {\n",
       "        text-align: right;\n",
       "    }\n",
       "</style>\n",
       "<table border=\"1\" class=\"dataframe\">\n",
       "  <thead>\n",
       "    <tr style=\"text-align: right;\">\n",
       "      <th></th>\n",
       "      <th>Apps</th>\n",
       "      <th>Accept</th>\n",
       "      <th>Enroll</th>\n",
       "      <th>Top10perc</th>\n",
       "      <th>Top25perc</th>\n",
       "      <th>F.Undergrad</th>\n",
       "      <th>P.Undergrad</th>\n",
       "      <th>Outstate</th>\n",
       "      <th>Room.Board</th>\n",
       "      <th>Books</th>\n",
       "      <th>Personal</th>\n",
       "      <th>PhD</th>\n",
       "      <th>Terminal</th>\n",
       "      <th>S.F.Ratio</th>\n",
       "      <th>perc.alumni</th>\n",
       "      <th>Expend</th>\n",
       "      <th>Grad.Rate</th>\n",
       "    </tr>\n",
       "  </thead>\n",
       "  <tbody>\n",
       "    <tr>\n",
       "      <th>count</th>\n",
       "      <td>777.000000</td>\n",
       "      <td>777.000000</td>\n",
       "      <td>777.000000</td>\n",
       "      <td>777.000000</td>\n",
       "      <td>777.000000</td>\n",
       "      <td>777.000000</td>\n",
       "      <td>777.000000</td>\n",
       "      <td>777.000000</td>\n",
       "      <td>777.000000</td>\n",
       "      <td>777.000000</td>\n",
       "      <td>777.000000</td>\n",
       "      <td>777.000000</td>\n",
       "      <td>777.000000</td>\n",
       "      <td>777.000000</td>\n",
       "      <td>777.000000</td>\n",
       "      <td>777.000000</td>\n",
       "      <td>777.00000</td>\n",
       "    </tr>\n",
       "    <tr>\n",
       "      <th>mean</th>\n",
       "      <td>3001.638353</td>\n",
       "      <td>2018.804376</td>\n",
       "      <td>779.972973</td>\n",
       "      <td>27.558559</td>\n",
       "      <td>55.796654</td>\n",
       "      <td>3699.907336</td>\n",
       "      <td>855.298584</td>\n",
       "      <td>10440.669241</td>\n",
       "      <td>4357.526384</td>\n",
       "      <td>549.380952</td>\n",
       "      <td>1340.642214</td>\n",
       "      <td>72.660232</td>\n",
       "      <td>79.702703</td>\n",
       "      <td>14.089704</td>\n",
       "      <td>22.743887</td>\n",
       "      <td>9660.171171</td>\n",
       "      <td>65.46332</td>\n",
       "    </tr>\n",
       "    <tr>\n",
       "      <th>std</th>\n",
       "      <td>3870.201484</td>\n",
       "      <td>2451.113971</td>\n",
       "      <td>929.176190</td>\n",
       "      <td>17.640364</td>\n",
       "      <td>19.804778</td>\n",
       "      <td>4850.420531</td>\n",
       "      <td>1522.431887</td>\n",
       "      <td>4023.016484</td>\n",
       "      <td>1096.696416</td>\n",
       "      <td>165.105360</td>\n",
       "      <td>677.071454</td>\n",
       "      <td>16.328155</td>\n",
       "      <td>14.722359</td>\n",
       "      <td>3.958349</td>\n",
       "      <td>12.391801</td>\n",
       "      <td>5221.768440</td>\n",
       "      <td>17.17771</td>\n",
       "    </tr>\n",
       "    <tr>\n",
       "      <th>min</th>\n",
       "      <td>81.000000</td>\n",
       "      <td>72.000000</td>\n",
       "      <td>35.000000</td>\n",
       "      <td>1.000000</td>\n",
       "      <td>9.000000</td>\n",
       "      <td>139.000000</td>\n",
       "      <td>1.000000</td>\n",
       "      <td>2340.000000</td>\n",
       "      <td>1780.000000</td>\n",
       "      <td>96.000000</td>\n",
       "      <td>250.000000</td>\n",
       "      <td>8.000000</td>\n",
       "      <td>24.000000</td>\n",
       "      <td>2.500000</td>\n",
       "      <td>0.000000</td>\n",
       "      <td>3186.000000</td>\n",
       "      <td>10.00000</td>\n",
       "    </tr>\n",
       "    <tr>\n",
       "      <th>25%</th>\n",
       "      <td>776.000000</td>\n",
       "      <td>604.000000</td>\n",
       "      <td>242.000000</td>\n",
       "      <td>15.000000</td>\n",
       "      <td>41.000000</td>\n",
       "      <td>992.000000</td>\n",
       "      <td>95.000000</td>\n",
       "      <td>7320.000000</td>\n",
       "      <td>3597.000000</td>\n",
       "      <td>470.000000</td>\n",
       "      <td>850.000000</td>\n",
       "      <td>62.000000</td>\n",
       "      <td>71.000000</td>\n",
       "      <td>11.500000</td>\n",
       "      <td>13.000000</td>\n",
       "      <td>6751.000000</td>\n",
       "      <td>53.00000</td>\n",
       "    </tr>\n",
       "    <tr>\n",
       "      <th>50%</th>\n",
       "      <td>1558.000000</td>\n",
       "      <td>1110.000000</td>\n",
       "      <td>434.000000</td>\n",
       "      <td>23.000000</td>\n",
       "      <td>54.000000</td>\n",
       "      <td>1707.000000</td>\n",
       "      <td>353.000000</td>\n",
       "      <td>9990.000000</td>\n",
       "      <td>4200.000000</td>\n",
       "      <td>500.000000</td>\n",
       "      <td>1200.000000</td>\n",
       "      <td>75.000000</td>\n",
       "      <td>82.000000</td>\n",
       "      <td>13.600000</td>\n",
       "      <td>21.000000</td>\n",
       "      <td>8377.000000</td>\n",
       "      <td>65.00000</td>\n",
       "    </tr>\n",
       "    <tr>\n",
       "      <th>75%</th>\n",
       "      <td>3624.000000</td>\n",
       "      <td>2424.000000</td>\n",
       "      <td>902.000000</td>\n",
       "      <td>35.000000</td>\n",
       "      <td>69.000000</td>\n",
       "      <td>4005.000000</td>\n",
       "      <td>967.000000</td>\n",
       "      <td>12925.000000</td>\n",
       "      <td>5050.000000</td>\n",
       "      <td>600.000000</td>\n",
       "      <td>1700.000000</td>\n",
       "      <td>85.000000</td>\n",
       "      <td>92.000000</td>\n",
       "      <td>16.500000</td>\n",
       "      <td>31.000000</td>\n",
       "      <td>10830.000000</td>\n",
       "      <td>78.00000</td>\n",
       "    </tr>\n",
       "    <tr>\n",
       "      <th>max</th>\n",
       "      <td>48094.000000</td>\n",
       "      <td>26330.000000</td>\n",
       "      <td>6392.000000</td>\n",
       "      <td>96.000000</td>\n",
       "      <td>100.000000</td>\n",
       "      <td>31643.000000</td>\n",
       "      <td>21836.000000</td>\n",
       "      <td>21700.000000</td>\n",
       "      <td>8124.000000</td>\n",
       "      <td>2340.000000</td>\n",
       "      <td>6800.000000</td>\n",
       "      <td>103.000000</td>\n",
       "      <td>100.000000</td>\n",
       "      <td>39.800000</td>\n",
       "      <td>64.000000</td>\n",
       "      <td>56233.000000</td>\n",
       "      <td>118.00000</td>\n",
       "    </tr>\n",
       "  </tbody>\n",
       "</table>\n",
       "</div>"
      ],
      "text/plain": [
       "               Apps        Accept       Enroll   Top10perc   Top25perc  \\\n",
       "count    777.000000    777.000000   777.000000  777.000000  777.000000   \n",
       "mean    3001.638353   2018.804376   779.972973   27.558559   55.796654   \n",
       "std     3870.201484   2451.113971   929.176190   17.640364   19.804778   \n",
       "min       81.000000     72.000000    35.000000    1.000000    9.000000   \n",
       "25%      776.000000    604.000000   242.000000   15.000000   41.000000   \n",
       "50%     1558.000000   1110.000000   434.000000   23.000000   54.000000   \n",
       "75%     3624.000000   2424.000000   902.000000   35.000000   69.000000   \n",
       "max    48094.000000  26330.000000  6392.000000   96.000000  100.000000   \n",
       "\n",
       "        F.Undergrad   P.Undergrad      Outstate   Room.Board        Books  \\\n",
       "count    777.000000    777.000000    777.000000   777.000000   777.000000   \n",
       "mean    3699.907336    855.298584  10440.669241  4357.526384   549.380952   \n",
       "std     4850.420531   1522.431887   4023.016484  1096.696416   165.105360   \n",
       "min      139.000000      1.000000   2340.000000  1780.000000    96.000000   \n",
       "25%      992.000000     95.000000   7320.000000  3597.000000   470.000000   \n",
       "50%     1707.000000    353.000000   9990.000000  4200.000000   500.000000   \n",
       "75%     4005.000000    967.000000  12925.000000  5050.000000   600.000000   \n",
       "max    31643.000000  21836.000000  21700.000000  8124.000000  2340.000000   \n",
       "\n",
       "          Personal         PhD    Terminal   S.F.Ratio  perc.alumni  \\\n",
       "count   777.000000  777.000000  777.000000  777.000000   777.000000   \n",
       "mean   1340.642214   72.660232   79.702703   14.089704    22.743887   \n",
       "std     677.071454   16.328155   14.722359    3.958349    12.391801   \n",
       "min     250.000000    8.000000   24.000000    2.500000     0.000000   \n",
       "25%     850.000000   62.000000   71.000000   11.500000    13.000000   \n",
       "50%    1200.000000   75.000000   82.000000   13.600000    21.000000   \n",
       "75%    1700.000000   85.000000   92.000000   16.500000    31.000000   \n",
       "max    6800.000000  103.000000  100.000000   39.800000    64.000000   \n",
       "\n",
       "             Expend  Grad.Rate  \n",
       "count    777.000000  777.00000  \n",
       "mean    9660.171171   65.46332  \n",
       "std     5221.768440   17.17771  \n",
       "min     3186.000000   10.00000  \n",
       "25%     6751.000000   53.00000  \n",
       "50%     8377.000000   65.00000  \n",
       "75%    10830.000000   78.00000  \n",
       "max    56233.000000  118.00000  "
      ]
     },
     "execution_count": 7,
     "metadata": {},
     "output_type": "execute_result"
    }
   ],
   "source": [
    "df.describe()"
   ]
  },
  {
   "cell_type": "markdown",
   "id": "6e61071d",
   "metadata": {},
   "source": [
    "---"
   ]
  },
  {
   "cell_type": "markdown",
   "id": "3d44fc69",
   "metadata": {},
   "source": [
    "### Train-Test Split"
   ]
  },
  {
   "cell_type": "code",
   "execution_count": 8,
   "id": "196ea5ca",
   "metadata": {},
   "outputs": [],
   "source": [
    "from sklearn.model_selection import train_test_split\n",
    "from sklearn.preprocessing import LabelEncoder"
   ]
  },
  {
   "cell_type": "code",
   "execution_count": 9,
   "id": "46906e95",
   "metadata": {},
   "outputs": [],
   "source": [
    "x = df.iloc[:,1:].values"
   ]
  },
  {
   "cell_type": "code",
   "execution_count": 10,
   "id": "24be1e66",
   "metadata": {},
   "outputs": [],
   "source": [
    "y = df.iloc[:,0].values"
   ]
  },
  {
   "cell_type": "markdown",
   "id": "af22520b",
   "metadata": {},
   "source": [
    "### Label Encoding"
   ]
  },
  {
   "cell_type": "code",
   "execution_count": 11,
   "id": "ec8891d6",
   "metadata": {},
   "outputs": [],
   "source": [
    "target_encoder = LabelEncoder()\n",
    "\n",
    "y = target_encoder.fit_transform(y)"
   ]
  },
  {
   "cell_type": "code",
   "execution_count": 12,
   "id": "560345a0",
   "metadata": {},
   "outputs": [
    {
     "name": "stdout",
     "output_type": "stream",
     "text": [
      "X_train shape: (582, 17)\n"
     ]
    }
   ],
   "source": [
    "X_train, X_test, y_train, y_test = train_test_split(x, y, test_size=0.25, random_state=1)\n",
    "\n",
    "print(\"X_train shape: {}\".format(X_train.shape))"
   ]
  },
  {
   "cell_type": "markdown",
   "id": "52f2a1bd",
   "metadata": {},
   "source": [
    "### Linear SVC Model"
   ]
  },
  {
   "cell_type": "code",
   "execution_count": 13,
   "id": "ebd1cd53",
   "metadata": {},
   "outputs": [
    {
     "name": "stderr",
     "output_type": "stream",
     "text": [
      "C:\\Users\\sahil\\anaconda3\\lib\\site-packages\\sklearn\\svm\\_base.py:985: ConvergenceWarning: Liblinear failed to converge, increase the number of iterations.\n",
      "  warnings.warn(\"Liblinear failed to converge, increase \"\n"
     ]
    },
    {
     "data": {
      "text/plain": [
       "LinearSVC()"
      ]
     },
     "execution_count": 13,
     "metadata": {},
     "output_type": "execute_result"
    }
   ],
   "source": [
    "from sklearn.svm import LinearSVC, SVC\n",
    "from sklearn.metrics import confusion_matrix\n",
    "from sklearn.metrics import accuracy_score\n",
    "from sklearn.metrics import classification_report\n",
    "\n",
    "model = LinearSVC()\n",
    "\n",
    "model.fit(X_train, y_train)"
   ]
  },
  {
   "cell_type": "markdown",
   "id": "f1e42176",
   "metadata": {},
   "source": [
    "### Predictions"
   ]
  },
  {
   "cell_type": "code",
   "execution_count": 14,
   "id": "d4b28b74",
   "metadata": {},
   "outputs": [
    {
     "name": "stdout",
     "output_type": "stream",
     "text": [
      "Predictions are:\n",
      "[0 1 0 0 0 1 1 1 1 1 0 1 0 0 0 1 0 0 0 1 0 0 1 1 0 1 0 1 0 1 0 1 1 1 1 1 0\n",
      " 0 1 0 0 1 1 1 0 0 1 0 0 0 1 1 0 0 1 1 0 1 0 0 1 0 1 0 1 1 0 0 1 1 1 0 1 1\n",
      " 0 0 0 1 0 0 0 1 1 0 0 1 1 0 1 1 1 1 1 1 0 0 1 0 1 1 0 0 1 0 1 0 0 0 0 0 1\n",
      " 0 1 0 1 1 1 0 0 0 1 0 1 0 0 1 1 0 0 0 0 1 1 1 1 1 0 0 1 1 0 0 1 0 1 0 1 1\n",
      " 0 0 1 0 1 1 1 0 1 1 1 1 0 1 1 0 0 0 0 0 1 0 1 0 0 0 0 1 1 1 1 0 0 1 1 1 0\n",
      " 1 0 0 0 1 1 0 1 0 0]\n"
     ]
    }
   ],
   "source": [
    "y_pred = model.predict(X_test)\n",
    "print(\"Predictions are:\\n{}\".format(y_pred))"
   ]
  },
  {
   "cell_type": "markdown",
   "id": "17d5f190",
   "metadata": {},
   "source": [
    "### Confusion Matrix"
   ]
  },
  {
   "cell_type": "code",
   "execution_count": 15,
   "id": "22ea44da",
   "metadata": {},
   "outputs": [
    {
     "name": "stdout",
     "output_type": "stream",
     "text": [
      "Confusion Matrix:\n",
      "[[51 47]\n",
      " [ 0 97]]\n"
     ]
    }
   ],
   "source": [
    "print(\"Confusion Matrix:\\n{}\".format(confusion_matrix(y_pred, y_test)))"
   ]
  },
  {
   "cell_type": "markdown",
   "id": "b309ce4a",
   "metadata": {},
   "source": [
    "### Accuracy Score"
   ]
  },
  {
   "cell_type": "code",
   "execution_count": 16,
   "id": "7dd467d3",
   "metadata": {},
   "outputs": [
    {
     "name": "stdout",
     "output_type": "stream",
     "text": [
      "Accuracy Score is: 0.7589743589743589\n"
     ]
    }
   ],
   "source": [
    "print(\"Accuracy Score is: {}\".format(accuracy_score(y_pred, y_test)))"
   ]
  },
  {
   "cell_type": "markdown",
   "id": "f3cca514",
   "metadata": {},
   "source": [
    "### Classification Reports"
   ]
  },
  {
   "cell_type": "code",
   "execution_count": 17,
   "id": "3fe03dc3",
   "metadata": {},
   "outputs": [
    {
     "name": "stdout",
     "output_type": "stream",
     "text": [
      "Classification reports:\n",
      "              precision    recall  f1-score   support\n",
      "\n",
      "           0       1.00      0.52      0.68        98\n",
      "           1       0.67      1.00      0.80        97\n",
      "\n",
      "    accuracy                           0.76       195\n",
      "   macro avg       0.84      0.76      0.74       195\n",
      "weighted avg       0.84      0.76      0.74       195\n",
      "\n"
     ]
    }
   ],
   "source": [
    "print(\"Classification reports:\\n{}\".format(classification_report(y_pred, y_test)))"
   ]
  },
  {
   "cell_type": "markdown",
   "id": "cef62c81",
   "metadata": {},
   "source": [
    "---"
   ]
  },
  {
   "cell_type": "markdown",
   "id": "f60a90a6",
   "metadata": {},
   "source": [
    "### SVC model with Kernel = Linear"
   ]
  },
  {
   "cell_type": "code",
   "execution_count": 18,
   "id": "136115f0",
   "metadata": {},
   "outputs": [
    {
     "data": {
      "text/plain": [
       "SVC(kernel='linear')"
      ]
     },
     "execution_count": 18,
     "metadata": {},
     "output_type": "execute_result"
    }
   ],
   "source": [
    "model2 = SVC(kernel='linear')\n",
    "model2.fit(X_train, y_train)"
   ]
  },
  {
   "cell_type": "markdown",
   "id": "f6e3a366",
   "metadata": {},
   "source": [
    "### Confusion Matrix"
   ]
  },
  {
   "cell_type": "code",
   "execution_count": 19,
   "id": "64effb83",
   "metadata": {},
   "outputs": [
    {
     "name": "stdout",
     "output_type": "stream",
     "text": [
      "Confusion matrix:\n",
      "[[51 47]\n",
      " [ 0 97]]\n"
     ]
    }
   ],
   "source": [
    "print(\"Confusion matrix:\\n{}\".format(confusion_matrix(y_pred, y_test)))"
   ]
  },
  {
   "cell_type": "markdown",
   "id": "cc402537",
   "metadata": {},
   "source": [
    "### Accuracy Score"
   ]
  },
  {
   "cell_type": "code",
   "execution_count": 20,
   "id": "ebbb15a3",
   "metadata": {},
   "outputs": [
    {
     "name": "stdout",
     "output_type": "stream",
     "text": [
      "Accuracy Score: 0.7589743589743589\n"
     ]
    }
   ],
   "source": [
    "print(\"Accuracy Score: {}\".format(accuracy_score(y_pred, y_test)))"
   ]
  },
  {
   "cell_type": "markdown",
   "id": "b7f1676a",
   "metadata": {},
   "source": [
    "### Classification Reports"
   ]
  },
  {
   "cell_type": "code",
   "execution_count": 21,
   "id": "9ed7f8cf",
   "metadata": {},
   "outputs": [
    {
     "name": "stdout",
     "output_type": "stream",
     "text": [
      "Classification report:\n",
      "              precision    recall  f1-score   support\n",
      "\n",
      "           0       1.00      0.52      0.68        98\n",
      "           1       0.67      1.00      0.80        97\n",
      "\n",
      "    accuracy                           0.76       195\n",
      "   macro avg       0.84      0.76      0.74       195\n",
      "weighted avg       0.84      0.76      0.74       195\n",
      "\n"
     ]
    }
   ],
   "source": [
    "print(\"Classification report:\\n{}\".format(classification_report(y_pred, y_test)))"
   ]
  },
  {
   "cell_type": "markdown",
   "id": "5c152d65",
   "metadata": {},
   "source": [
    "---"
   ]
  },
  {
   "cell_type": "markdown",
   "id": "1c9033fa",
   "metadata": {},
   "source": [
    "### SVC model with kernel = rbf"
   ]
  },
  {
   "cell_type": "code",
   "execution_count": 22,
   "id": "23743aa4",
   "metadata": {},
   "outputs": [
    {
     "data": {
      "text/plain": [
       "SVC()"
      ]
     },
     "execution_count": 22,
     "metadata": {},
     "output_type": "execute_result"
    }
   ],
   "source": [
    "model3 = SVC(kernel='rbf')\n",
    "model3.fit(X_train, y_train)"
   ]
  },
  {
   "cell_type": "markdown",
   "id": "f2ea3058",
   "metadata": {},
   "source": [
    "### Confusion Matrix"
   ]
  },
  {
   "cell_type": "code",
   "execution_count": 23,
   "id": "829a8b11",
   "metadata": {},
   "outputs": [
    {
     "name": "stdout",
     "output_type": "stream",
     "text": [
      "Confusion matrix:\n",
      "[[51 47]\n",
      " [ 0 97]]\n"
     ]
    }
   ],
   "source": [
    "print(\"Confusion matrix:\\n{}\".format(confusion_matrix(y_pred, y_test)))"
   ]
  },
  {
   "cell_type": "markdown",
   "id": "81a2e282",
   "metadata": {},
   "source": [
    "### Accuracy Score"
   ]
  },
  {
   "cell_type": "code",
   "execution_count": 24,
   "id": "25930075",
   "metadata": {},
   "outputs": [
    {
     "name": "stdout",
     "output_type": "stream",
     "text": [
      "Accuracy Score: 0.7589743589743589\n"
     ]
    }
   ],
   "source": [
    "print(\"Accuracy Score: {}\".format(accuracy_score(y_pred, y_test)))"
   ]
  },
  {
   "cell_type": "markdown",
   "id": "35837332",
   "metadata": {},
   "source": [
    "### Classification Reports"
   ]
  },
  {
   "cell_type": "code",
   "execution_count": 25,
   "id": "793255a6",
   "metadata": {},
   "outputs": [
    {
     "name": "stdout",
     "output_type": "stream",
     "text": [
      "Classification report:\n",
      "              precision    recall  f1-score   support\n",
      "\n",
      "           0       1.00      0.52      0.68        98\n",
      "           1       0.67      1.00      0.80        97\n",
      "\n",
      "    accuracy                           0.76       195\n",
      "   macro avg       0.84      0.76      0.74       195\n",
      "weighted avg       0.84      0.76      0.74       195\n",
      "\n"
     ]
    }
   ],
   "source": [
    "print(\"Classification report:\\n{}\".format(classification_report(y_pred, y_test)))"
   ]
  },
  {
   "cell_type": "markdown",
   "id": "745a1b1a",
   "metadata": {},
   "source": [
    "---"
   ]
  },
  {
   "cell_type": "markdown",
   "id": "261320f6",
   "metadata": {},
   "source": [
    "### Importing GridSearchCV and RandomSearchCV with StandardScaler"
   ]
  },
  {
   "cell_type": "code",
   "execution_count": 39,
   "id": "7fa4ecf3",
   "metadata": {},
   "outputs": [],
   "source": [
    "from sklearn.model_selection import GridSearchCV, RandomizedSearchCV\n",
    "from sklearn.preprocessing import StandardScaler\n",
    "import numpy as np"
   ]
  },
  {
   "cell_type": "markdown",
   "id": "c4eb1b12",
   "metadata": {},
   "source": [
    "### Standardization of Data"
   ]
  },
  {
   "cell_type": "code",
   "execution_count": 32,
   "id": "77cda790",
   "metadata": {},
   "outputs": [],
   "source": [
    "scaler = StandardScaler()\n",
    "\n",
    "X = df.iloc[:,1:].values\n",
    "y = df.iloc[:,0].values\n",
    "\n",
    "X = scaler.fit_transform(X)"
   ]
  },
  {
   "cell_type": "markdown",
   "id": "e526716a",
   "metadata": {},
   "source": [
    "### Label encoding"
   ]
  },
  {
   "cell_type": "code",
   "execution_count": 33,
   "id": "8c72c263",
   "metadata": {},
   "outputs": [],
   "source": [
    "target_encoder = LabelEncoder()\n",
    "\n",
    "y = target_encoder.fit_transform(y)"
   ]
  },
  {
   "cell_type": "markdown",
   "id": "03f5fcd1",
   "metadata": {},
   "source": [
    "### Train-test split"
   ]
  },
  {
   "cell_type": "code",
   "execution_count": 34,
   "id": "899da2c3",
   "metadata": {},
   "outputs": [
    {
     "name": "stdout",
     "output_type": "stream",
     "text": [
      "X_train shape = (582, 17)\n"
     ]
    }
   ],
   "source": [
    "X_train, X_test, y_train, y_test = train_test_split(X, y, test_size=0.25, random_state=1)\n",
    "\n",
    "print(\"X_train shape = {}\".format(X_train.shape))"
   ]
  },
  {
   "cell_type": "markdown",
   "id": "cad4367e",
   "metadata": {},
   "source": [
    "### SVC model with kernel = rbf"
   ]
  },
  {
   "cell_type": "code",
   "execution_count": 35,
   "id": "be748cda",
   "metadata": {},
   "outputs": [
    {
     "data": {
      "text/plain": [
       "SVC()"
      ]
     },
     "execution_count": 35,
     "metadata": {},
     "output_type": "execute_result"
    }
   ],
   "source": [
    "model4 = SVC(kernel='rbf')\n",
    "model4.fit(X_train, y_train)"
   ]
  },
  {
   "cell_type": "markdown",
   "id": "3ccae100",
   "metadata": {},
   "source": [
    "### Confusion matrix"
   ]
  },
  {
   "cell_type": "code",
   "execution_count": 36,
   "id": "33191d4f",
   "metadata": {},
   "outputs": [
    {
     "name": "stdout",
     "output_type": "stream",
     "text": [
      "Confusion matrix:\n",
      "[[51 47]\n",
      " [ 0 97]]\n"
     ]
    }
   ],
   "source": [
    "print(\"Confusion matrix:\\n{}\".format(confusion_matrix(y_pred, y_test)))"
   ]
  },
  {
   "cell_type": "markdown",
   "id": "9ce3cb19",
   "metadata": {},
   "source": [
    "### Accuracy Score"
   ]
  },
  {
   "cell_type": "code",
   "execution_count": 37,
   "id": "a42650a9",
   "metadata": {},
   "outputs": [
    {
     "name": "stdout",
     "output_type": "stream",
     "text": [
      "Accuracy Score: 0.7589743589743589\n"
     ]
    }
   ],
   "source": [
    "print(\"Accuracy Score: {}\".format(accuracy_score(y_pred, y_test)))"
   ]
  },
  {
   "cell_type": "markdown",
   "id": "5f8e7969",
   "metadata": {},
   "source": [
    "### Classification Reports"
   ]
  },
  {
   "cell_type": "code",
   "execution_count": 38,
   "id": "0e60f93e",
   "metadata": {},
   "outputs": [
    {
     "name": "stdout",
     "output_type": "stream",
     "text": [
      "Classification report:\n",
      "              precision    recall  f1-score   support\n",
      "\n",
      "           0       1.00      0.52      0.68        98\n",
      "           1       0.67      1.00      0.80        97\n",
      "\n",
      "    accuracy                           0.76       195\n",
      "   macro avg       0.84      0.76      0.74       195\n",
      "weighted avg       0.84      0.76      0.74       195\n",
      "\n"
     ]
    }
   ],
   "source": [
    "print(\"Classification report:\\n{}\".format(classification_report(y_pred, y_test)))"
   ]
  },
  {
   "cell_type": "markdown",
   "id": "44c8f6f3",
   "metadata": {},
   "source": [
    "---"
   ]
  },
  {
   "cell_type": "markdown",
   "id": "4959ef25",
   "metadata": {},
   "source": [
    "### GridSearch CV model"
   ]
  },
  {
   "cell_type": "code",
   "execution_count": 42,
   "id": "1575065b",
   "metadata": {},
   "outputs": [
    {
     "name": "stdout",
     "output_type": "stream",
     "text": [
      "Fitting 5 folds for each of 169 candidates, totalling 845 fits\n",
      "[CV] END ................................C=0.01, gamma=1e-09; total time=   0.0s\n",
      "[CV] END ................................C=0.01, gamma=1e-09; total time=   0.0s\n",
      "[CV] END ................................C=0.01, gamma=1e-09; total time=   0.0s\n",
      "[CV] END ................................C=0.01, gamma=1e-09; total time=   0.0s\n",
      "[CV] END ................................C=0.01, gamma=1e-09; total time=   0.0s\n",
      "[CV] END ................................C=0.01, gamma=1e-08; total time=   0.0s\n",
      "[CV] END ................................C=0.01, gamma=1e-08; total time=   0.0s\n",
      "[CV] END ................................C=0.01, gamma=1e-08; total time=   0.0s\n",
      "[CV] END ................................C=0.01, gamma=1e-08; total time=   0.0s\n",
      "[CV] END ................................C=0.01, gamma=1e-08; total time=   0.0s\n",
      "[CV] END ................................C=0.01, gamma=1e-07; total time=   0.0s\n",
      "[CV] END ................................C=0.01, gamma=1e-07; total time=   0.0s\n",
      "[CV] END ................................C=0.01, gamma=1e-07; total time=   0.0s\n",
      "[CV] END ................................C=0.01, gamma=1e-07; total time=   0.0s\n",
      "[CV] END ................................C=0.01, gamma=1e-07; total time=   0.0s\n",
      "[CV] END ................................C=0.01, gamma=1e-06; total time=   0.0s\n",
      "[CV] END ................................C=0.01, gamma=1e-06; total time=   0.0s\n",
      "[CV] END ................................C=0.01, gamma=1e-06; total time=   0.0s\n",
      "[CV] END ................................C=0.01, gamma=1e-06; total time=   0.0s\n",
      "[CV] END ................................C=0.01, gamma=1e-06; total time=   0.0s\n",
      "[CV] END ................................C=0.01, gamma=1e-05; total time=   0.0s\n",
      "[CV] END ................................C=0.01, gamma=1e-05; total time=   0.0s\n",
      "[CV] END ................................C=0.01, gamma=1e-05; total time=   0.0s\n",
      "[CV] END ................................C=0.01, gamma=1e-05; total time=   0.0s\n",
      "[CV] END ................................C=0.01, gamma=1e-05; total time=   0.0s\n",
      "[CV] END ...............................C=0.01, gamma=0.0001; total time=   0.0s\n",
      "[CV] END ...............................C=0.01, gamma=0.0001; total time=   0.0s\n",
      "[CV] END ...............................C=0.01, gamma=0.0001; total time=   0.0s\n",
      "[CV] END ...............................C=0.01, gamma=0.0001; total time=   0.0s\n",
      "[CV] END ...............................C=0.01, gamma=0.0001; total time=   0.0s\n",
      "[CV] END ................................C=0.01, gamma=0.001; total time=   0.0s\n",
      "[CV] END ................................C=0.01, gamma=0.001; total time=   0.0s\n",
      "[CV] END ................................C=0.01, gamma=0.001; total time=   0.0s\n",
      "[CV] END ................................C=0.01, gamma=0.001; total time=   0.0s\n",
      "[CV] END ................................C=0.01, gamma=0.001; total time=   0.0s\n",
      "[CV] END .................................C=0.01, gamma=0.01; total time=   0.0s\n",
      "[CV] END .................................C=0.01, gamma=0.01; total time=   0.0s\n",
      "[CV] END .................................C=0.01, gamma=0.01; total time=   0.0s\n",
      "[CV] END .................................C=0.01, gamma=0.01; total time=   0.0s\n",
      "[CV] END .................................C=0.01, gamma=0.01; total time=   0.0s\n",
      "[CV] END ..................................C=0.01, gamma=0.1; total time=   0.0s\n",
      "[CV] END ..................................C=0.01, gamma=0.1; total time=   0.0s\n",
      "[CV] END ..................................C=0.01, gamma=0.1; total time=   0.0s\n",
      "[CV] END ..................................C=0.01, gamma=0.1; total time=   0.0s\n",
      "[CV] END ..................................C=0.01, gamma=0.1; total time=   0.0s\n",
      "[CV] END ..................................C=0.01, gamma=1.0; total time=   0.0s\n",
      "[CV] END ..................................C=0.01, gamma=1.0; total time=   0.0s\n",
      "[CV] END ..................................C=0.01, gamma=1.0; total time=   0.0s\n",
      "[CV] END ..................................C=0.01, gamma=1.0; total time=   0.0s\n",
      "[CV] END ..................................C=0.01, gamma=1.0; total time=   0.0s\n",
      "[CV] END .................................C=0.01, gamma=10.0; total time=   0.0s\n",
      "[CV] END .................................C=0.01, gamma=10.0; total time=   0.0s\n",
      "[CV] END .................................C=0.01, gamma=10.0; total time=   0.0s\n",
      "[CV] END .................................C=0.01, gamma=10.0; total time=   0.0s\n",
      "[CV] END .................................C=0.01, gamma=10.0; total time=   0.0s\n",
      "[CV] END ................................C=0.01, gamma=100.0; total time=   0.0s\n",
      "[CV] END ................................C=0.01, gamma=100.0; total time=   0.0s\n",
      "[CV] END ................................C=0.01, gamma=100.0; total time=   0.0s\n",
      "[CV] END ................................C=0.01, gamma=100.0; total time=   0.0s\n",
      "[CV] END ................................C=0.01, gamma=100.0; total time=   0.0s\n",
      "[CV] END ...............................C=0.01, gamma=1000.0; total time=   0.0s\n",
      "[CV] END ...............................C=0.01, gamma=1000.0; total time=   0.0s\n",
      "[CV] END ...............................C=0.01, gamma=1000.0; total time=   0.0s\n",
      "[CV] END ...............................C=0.01, gamma=1000.0; total time=   0.0s\n",
      "[CV] END ...............................C=0.01, gamma=1000.0; total time=   0.0s\n",
      "[CV] END .................................C=0.1, gamma=1e-09; total time=   0.0s\n",
      "[CV] END .................................C=0.1, gamma=1e-09; total time=   0.0s\n",
      "[CV] END .................................C=0.1, gamma=1e-09; total time=   0.0s\n",
      "[CV] END .................................C=0.1, gamma=1e-09; total time=   0.0s\n",
      "[CV] END .................................C=0.1, gamma=1e-09; total time=   0.0s\n",
      "[CV] END .................................C=0.1, gamma=1e-08; total time=   0.0s\n",
      "[CV] END .................................C=0.1, gamma=1e-08; total time=   0.0s\n",
      "[CV] END .................................C=0.1, gamma=1e-08; total time=   0.0s\n",
      "[CV] END .................................C=0.1, gamma=1e-08; total time=   0.0s\n",
      "[CV] END .................................C=0.1, gamma=1e-08; total time=   0.0s\n",
      "[CV] END .................................C=0.1, gamma=1e-07; total time=   0.0s\n",
      "[CV] END .................................C=0.1, gamma=1e-07; total time=   0.0s\n",
      "[CV] END .................................C=0.1, gamma=1e-07; total time=   0.0s\n",
      "[CV] END .................................C=0.1, gamma=1e-07; total time=   0.0s\n",
      "[CV] END .................................C=0.1, gamma=1e-07; total time=   0.0s\n",
      "[CV] END .................................C=0.1, gamma=1e-06; total time=   0.0s\n",
      "[CV] END .................................C=0.1, gamma=1e-06; total time=   0.0s\n",
      "[CV] END .................................C=0.1, gamma=1e-06; total time=   0.0s\n",
      "[CV] END .................................C=0.1, gamma=1e-06; total time=   0.0s\n",
      "[CV] END .................................C=0.1, gamma=1e-06; total time=   0.0s\n",
      "[CV] END .................................C=0.1, gamma=1e-05; total time=   0.0s\n",
      "[CV] END .................................C=0.1, gamma=1e-05; total time=   0.0s\n",
      "[CV] END .................................C=0.1, gamma=1e-05; total time=   0.0s\n",
      "[CV] END .................................C=0.1, gamma=1e-05; total time=   0.0s\n",
      "[CV] END .................................C=0.1, gamma=1e-05; total time=   0.0s\n",
      "[CV] END ................................C=0.1, gamma=0.0001; total time=   0.0s\n",
      "[CV] END ................................C=0.1, gamma=0.0001; total time=   0.0s\n",
      "[CV] END ................................C=0.1, gamma=0.0001; total time=   0.0s\n",
      "[CV] END ................................C=0.1, gamma=0.0001; total time=   0.0s\n",
      "[CV] END ................................C=0.1, gamma=0.0001; total time=   0.0s\n",
      "[CV] END .................................C=0.1, gamma=0.001; total time=   0.0s\n",
      "[CV] END .................................C=0.1, gamma=0.001; total time=   0.0s\n",
      "[CV] END .................................C=0.1, gamma=0.001; total time=   0.0s\n",
      "[CV] END .................................C=0.1, gamma=0.001; total time=   0.0s\n",
      "[CV] END .................................C=0.1, gamma=0.001; total time=   0.0s\n",
      "[CV] END ..................................C=0.1, gamma=0.01; total time=   0.0s\n",
      "[CV] END ..................................C=0.1, gamma=0.01; total time=   0.0s\n",
      "[CV] END ..................................C=0.1, gamma=0.01; total time=   0.0s\n",
      "[CV] END ..................................C=0.1, gamma=0.01; total time=   0.0s\n",
      "[CV] END ..................................C=0.1, gamma=0.01; total time=   0.0s\n",
      "[CV] END ...................................C=0.1, gamma=0.1; total time=   0.0s\n",
      "[CV] END ...................................C=0.1, gamma=0.1; total time=   0.0s\n",
      "[CV] END ...................................C=0.1, gamma=0.1; total time=   0.0s\n",
      "[CV] END ...................................C=0.1, gamma=0.1; total time=   0.0s\n",
      "[CV] END ...................................C=0.1, gamma=0.1; total time=   0.0s\n",
      "[CV] END ...................................C=0.1, gamma=1.0; total time=   0.0s\n",
      "[CV] END ...................................C=0.1, gamma=1.0; total time=   0.0s\n",
      "[CV] END ...................................C=0.1, gamma=1.0; total time=   0.0s\n",
      "[CV] END ...................................C=0.1, gamma=1.0; total time=   0.0s\n"
     ]
    },
    {
     "name": "stdout",
     "output_type": "stream",
     "text": [
      "[CV] END ...................................C=0.1, gamma=1.0; total time=   0.0s\n",
      "[CV] END ..................................C=0.1, gamma=10.0; total time=   0.0s\n",
      "[CV] END ..................................C=0.1, gamma=10.0; total time=   0.0s\n",
      "[CV] END ..................................C=0.1, gamma=10.0; total time=   0.0s\n",
      "[CV] END ..................................C=0.1, gamma=10.0; total time=   0.0s\n",
      "[CV] END ..................................C=0.1, gamma=10.0; total time=   0.0s\n",
      "[CV] END .................................C=0.1, gamma=100.0; total time=   0.0s\n",
      "[CV] END .................................C=0.1, gamma=100.0; total time=   0.0s\n",
      "[CV] END .................................C=0.1, gamma=100.0; total time=   0.0s\n",
      "[CV] END .................................C=0.1, gamma=100.0; total time=   0.0s\n",
      "[CV] END .................................C=0.1, gamma=100.0; total time=   0.0s\n",
      "[CV] END ................................C=0.1, gamma=1000.0; total time=   0.0s\n",
      "[CV] END ................................C=0.1, gamma=1000.0; total time=   0.0s\n",
      "[CV] END ................................C=0.1, gamma=1000.0; total time=   0.0s\n",
      "[CV] END ................................C=0.1, gamma=1000.0; total time=   0.0s\n",
      "[CV] END ................................C=0.1, gamma=1000.0; total time=   0.0s\n",
      "[CV] END .................................C=1.0, gamma=1e-09; total time=   0.0s\n",
      "[CV] END .................................C=1.0, gamma=1e-09; total time=   0.0s\n",
      "[CV] END .................................C=1.0, gamma=1e-09; total time=   0.0s\n",
      "[CV] END .................................C=1.0, gamma=1e-09; total time=   0.0s\n",
      "[CV] END .................................C=1.0, gamma=1e-09; total time=   0.0s\n",
      "[CV] END .................................C=1.0, gamma=1e-08; total time=   0.0s\n",
      "[CV] END .................................C=1.0, gamma=1e-08; total time=   0.0s\n",
      "[CV] END .................................C=1.0, gamma=1e-08; total time=   0.0s\n",
      "[CV] END .................................C=1.0, gamma=1e-08; total time=   0.0s\n",
      "[CV] END .................................C=1.0, gamma=1e-08; total time=   0.0s\n",
      "[CV] END .................................C=1.0, gamma=1e-07; total time=   0.0s\n",
      "[CV] END .................................C=1.0, gamma=1e-07; total time=   0.0s\n",
      "[CV] END .................................C=1.0, gamma=1e-07; total time=   0.0s\n",
      "[CV] END .................................C=1.0, gamma=1e-07; total time=   0.0s\n",
      "[CV] END .................................C=1.0, gamma=1e-07; total time=   0.0s\n",
      "[CV] END .................................C=1.0, gamma=1e-06; total time=   0.0s\n",
      "[CV] END .................................C=1.0, gamma=1e-06; total time=   0.0s\n",
      "[CV] END .................................C=1.0, gamma=1e-06; total time=   0.0s\n",
      "[CV] END .................................C=1.0, gamma=1e-06; total time=   0.0s\n",
      "[CV] END .................................C=1.0, gamma=1e-06; total time=   0.0s\n",
      "[CV] END .................................C=1.0, gamma=1e-05; total time=   0.0s\n",
      "[CV] END .................................C=1.0, gamma=1e-05; total time=   0.0s\n",
      "[CV] END .................................C=1.0, gamma=1e-05; total time=   0.0s\n",
      "[CV] END .................................C=1.0, gamma=1e-05; total time=   0.0s\n",
      "[CV] END .................................C=1.0, gamma=1e-05; total time=   0.0s\n",
      "[CV] END ................................C=1.0, gamma=0.0001; total time=   0.0s\n",
      "[CV] END ................................C=1.0, gamma=0.0001; total time=   0.0s\n",
      "[CV] END ................................C=1.0, gamma=0.0001; total time=   0.0s\n",
      "[CV] END ................................C=1.0, gamma=0.0001; total time=   0.0s\n",
      "[CV] END ................................C=1.0, gamma=0.0001; total time=   0.0s\n",
      "[CV] END .................................C=1.0, gamma=0.001; total time=   0.0s\n",
      "[CV] END .................................C=1.0, gamma=0.001; total time=   0.0s\n",
      "[CV] END .................................C=1.0, gamma=0.001; total time=   0.0s\n",
      "[CV] END .................................C=1.0, gamma=0.001; total time=   0.0s\n",
      "[CV] END .................................C=1.0, gamma=0.001; total time=   0.0s\n",
      "[CV] END ..................................C=1.0, gamma=0.01; total time=   0.0s\n",
      "[CV] END ..................................C=1.0, gamma=0.01; total time=   0.0s\n",
      "[CV] END ..................................C=1.0, gamma=0.01; total time=   0.0s\n",
      "[CV] END ..................................C=1.0, gamma=0.01; total time=   0.0s\n",
      "[CV] END ..................................C=1.0, gamma=0.01; total time=   0.0s\n",
      "[CV] END ...................................C=1.0, gamma=0.1; total time=   0.0s\n",
      "[CV] END ...................................C=1.0, gamma=0.1; total time=   0.0s\n",
      "[CV] END ...................................C=1.0, gamma=0.1; total time=   0.0s\n",
      "[CV] END ...................................C=1.0, gamma=0.1; total time=   0.0s\n",
      "[CV] END ...................................C=1.0, gamma=0.1; total time=   0.0s\n",
      "[CV] END ...................................C=1.0, gamma=1.0; total time=   0.0s\n",
      "[CV] END ...................................C=1.0, gamma=1.0; total time=   0.0s\n",
      "[CV] END ...................................C=1.0, gamma=1.0; total time=   0.0s\n",
      "[CV] END ...................................C=1.0, gamma=1.0; total time=   0.0s\n",
      "[CV] END ...................................C=1.0, gamma=1.0; total time=   0.0s\n",
      "[CV] END ..................................C=1.0, gamma=10.0; total time=   0.0s\n",
      "[CV] END ..................................C=1.0, gamma=10.0; total time=   0.0s\n",
      "[CV] END ..................................C=1.0, gamma=10.0; total time=   0.0s\n",
      "[CV] END ..................................C=1.0, gamma=10.0; total time=   0.0s\n",
      "[CV] END ..................................C=1.0, gamma=10.0; total time=   0.0s\n",
      "[CV] END .................................C=1.0, gamma=100.0; total time=   0.0s\n",
      "[CV] END .................................C=1.0, gamma=100.0; total time=   0.0s\n",
      "[CV] END .................................C=1.0, gamma=100.0; total time=   0.0s\n",
      "[CV] END .................................C=1.0, gamma=100.0; total time=   0.0s\n",
      "[CV] END .................................C=1.0, gamma=100.0; total time=   0.0s\n",
      "[CV] END ................................C=1.0, gamma=1000.0; total time=   0.0s\n",
      "[CV] END ................................C=1.0, gamma=1000.0; total time=   0.0s\n",
      "[CV] END ................................C=1.0, gamma=1000.0; total time=   0.0s\n",
      "[CV] END ................................C=1.0, gamma=1000.0; total time=   0.0s\n",
      "[CV] END ................................C=1.0, gamma=1000.0; total time=   0.0s\n",
      "[CV] END ................................C=10.0, gamma=1e-09; total time=   0.0s\n",
      "[CV] END ................................C=10.0, gamma=1e-09; total time=   0.0s\n",
      "[CV] END ................................C=10.0, gamma=1e-09; total time=   0.0s\n",
      "[CV] END ................................C=10.0, gamma=1e-09; total time=   0.0s\n",
      "[CV] END ................................C=10.0, gamma=1e-09; total time=   0.0s\n",
      "[CV] END ................................C=10.0, gamma=1e-08; total time=   0.0s\n",
      "[CV] END ................................C=10.0, gamma=1e-08; total time=   0.0s\n",
      "[CV] END ................................C=10.0, gamma=1e-08; total time=   0.0s\n",
      "[CV] END ................................C=10.0, gamma=1e-08; total time=   0.0s\n",
      "[CV] END ................................C=10.0, gamma=1e-08; total time=   0.0s\n",
      "[CV] END ................................C=10.0, gamma=1e-07; total time=   0.0s\n",
      "[CV] END ................................C=10.0, gamma=1e-07; total time=   0.0s\n",
      "[CV] END ................................C=10.0, gamma=1e-07; total time=   0.0s\n",
      "[CV] END ................................C=10.0, gamma=1e-07; total time=   0.0s\n",
      "[CV] END ................................C=10.0, gamma=1e-07; total time=   0.0s\n",
      "[CV] END ................................C=10.0, gamma=1e-06; total time=   0.0s\n",
      "[CV] END ................................C=10.0, gamma=1e-06; total time=   0.0s\n",
      "[CV] END ................................C=10.0, gamma=1e-06; total time=   0.0s\n",
      "[CV] END ................................C=10.0, gamma=1e-06; total time=   0.0s\n",
      "[CV] END ................................C=10.0, gamma=1e-06; total time=   0.0s\n",
      "[CV] END ................................C=10.0, gamma=1e-05; total time=   0.0s\n",
      "[CV] END ................................C=10.0, gamma=1e-05; total time=   0.0s\n",
      "[CV] END ................................C=10.0, gamma=1e-05; total time=   0.0s\n"
     ]
    },
    {
     "name": "stdout",
     "output_type": "stream",
     "text": [
      "[CV] END ................................C=10.0, gamma=1e-05; total time=   0.0s\n",
      "[CV] END ................................C=10.0, gamma=1e-05; total time=   0.0s\n",
      "[CV] END ...............................C=10.0, gamma=0.0001; total time=   0.0s\n",
      "[CV] END ...............................C=10.0, gamma=0.0001; total time=   0.0s\n",
      "[CV] END ...............................C=10.0, gamma=0.0001; total time=   0.0s\n",
      "[CV] END ...............................C=10.0, gamma=0.0001; total time=   0.0s\n",
      "[CV] END ...............................C=10.0, gamma=0.0001; total time=   0.0s\n",
      "[CV] END ................................C=10.0, gamma=0.001; total time=   0.0s\n",
      "[CV] END ................................C=10.0, gamma=0.001; total time=   0.0s\n",
      "[CV] END ................................C=10.0, gamma=0.001; total time=   0.0s\n",
      "[CV] END ................................C=10.0, gamma=0.001; total time=   0.0s\n",
      "[CV] END ................................C=10.0, gamma=0.001; total time=   0.0s\n",
      "[CV] END .................................C=10.0, gamma=0.01; total time=   0.0s\n",
      "[CV] END .................................C=10.0, gamma=0.01; total time=   0.0s\n",
      "[CV] END .................................C=10.0, gamma=0.01; total time=   0.0s\n",
      "[CV] END .................................C=10.0, gamma=0.01; total time=   0.0s\n",
      "[CV] END .................................C=10.0, gamma=0.01; total time=   0.0s\n",
      "[CV] END ..................................C=10.0, gamma=0.1; total time=   0.0s\n",
      "[CV] END ..................................C=10.0, gamma=0.1; total time=   0.0s\n",
      "[CV] END ..................................C=10.0, gamma=0.1; total time=   0.0s\n",
      "[CV] END ..................................C=10.0, gamma=0.1; total time=   0.0s\n",
      "[CV] END ..................................C=10.0, gamma=0.1; total time=   0.0s\n",
      "[CV] END ..................................C=10.0, gamma=1.0; total time=   0.0s\n",
      "[CV] END ..................................C=10.0, gamma=1.0; total time=   0.0s\n",
      "[CV] END ..................................C=10.0, gamma=1.0; total time=   0.0s\n",
      "[CV] END ..................................C=10.0, gamma=1.0; total time=   0.0s\n",
      "[CV] END ..................................C=10.0, gamma=1.0; total time=   0.0s\n",
      "[CV] END .................................C=10.0, gamma=10.0; total time=   0.0s\n",
      "[CV] END .................................C=10.0, gamma=10.0; total time=   0.0s\n",
      "[CV] END .................................C=10.0, gamma=10.0; total time=   0.0s\n",
      "[CV] END .................................C=10.0, gamma=10.0; total time=   0.0s\n",
      "[CV] END .................................C=10.0, gamma=10.0; total time=   0.0s\n",
      "[CV] END ................................C=10.0, gamma=100.0; total time=   0.0s\n",
      "[CV] END ................................C=10.0, gamma=100.0; total time=   0.0s\n",
      "[CV] END ................................C=10.0, gamma=100.0; total time=   0.0s\n",
      "[CV] END ................................C=10.0, gamma=100.0; total time=   0.0s\n",
      "[CV] END ................................C=10.0, gamma=100.0; total time=   0.0s\n",
      "[CV] END ...............................C=10.0, gamma=1000.0; total time=   0.0s\n",
      "[CV] END ...............................C=10.0, gamma=1000.0; total time=   0.0s\n",
      "[CV] END ...............................C=10.0, gamma=1000.0; total time=   0.0s\n",
      "[CV] END ...............................C=10.0, gamma=1000.0; total time=   0.0s\n",
      "[CV] END ...............................C=10.0, gamma=1000.0; total time=   0.0s\n",
      "[CV] END ...............................C=100.0, gamma=1e-09; total time=   0.0s\n",
      "[CV] END ...............................C=100.0, gamma=1e-09; total time=   0.0s\n",
      "[CV] END ...............................C=100.0, gamma=1e-09; total time=   0.0s\n",
      "[CV] END ...............................C=100.0, gamma=1e-09; total time=   0.0s\n",
      "[CV] END ...............................C=100.0, gamma=1e-09; total time=   0.0s\n",
      "[CV] END ...............................C=100.0, gamma=1e-08; total time=   0.0s\n",
      "[CV] END ...............................C=100.0, gamma=1e-08; total time=   0.0s\n",
      "[CV] END ...............................C=100.0, gamma=1e-08; total time=   0.0s\n",
      "[CV] END ...............................C=100.0, gamma=1e-08; total time=   0.0s\n",
      "[CV] END ...............................C=100.0, gamma=1e-08; total time=   0.0s\n",
      "[CV] END ...............................C=100.0, gamma=1e-07; total time=   0.0s\n",
      "[CV] END ...............................C=100.0, gamma=1e-07; total time=   0.0s\n",
      "[CV] END ...............................C=100.0, gamma=1e-07; total time=   0.0s\n",
      "[CV] END ...............................C=100.0, gamma=1e-07; total time=   0.0s\n",
      "[CV] END ...............................C=100.0, gamma=1e-07; total time=   0.0s\n",
      "[CV] END ...............................C=100.0, gamma=1e-06; total time=   0.0s\n",
      "[CV] END ...............................C=100.0, gamma=1e-06; total time=   0.0s\n",
      "[CV] END ...............................C=100.0, gamma=1e-06; total time=   0.0s\n",
      "[CV] END ...............................C=100.0, gamma=1e-06; total time=   0.0s\n",
      "[CV] END ...............................C=100.0, gamma=1e-06; total time=   0.0s\n",
      "[CV] END ...............................C=100.0, gamma=1e-05; total time=   0.0s\n",
      "[CV] END ...............................C=100.0, gamma=1e-05; total time=   0.0s\n",
      "[CV] END ...............................C=100.0, gamma=1e-05; total time=   0.0s\n",
      "[CV] END ...............................C=100.0, gamma=1e-05; total time=   0.0s\n",
      "[CV] END ...............................C=100.0, gamma=1e-05; total time=   0.0s\n",
      "[CV] END ..............................C=100.0, gamma=0.0001; total time=   0.0s\n",
      "[CV] END ..............................C=100.0, gamma=0.0001; total time=   0.0s\n",
      "[CV] END ..............................C=100.0, gamma=0.0001; total time=   0.0s\n",
      "[CV] END ..............................C=100.0, gamma=0.0001; total time=   0.0s\n",
      "[CV] END ..............................C=100.0, gamma=0.0001; total time=   0.0s\n",
      "[CV] END ...............................C=100.0, gamma=0.001; total time=   0.0s\n",
      "[CV] END ...............................C=100.0, gamma=0.001; total time=   0.0s\n",
      "[CV] END ...............................C=100.0, gamma=0.001; total time=   0.0s\n",
      "[CV] END ...............................C=100.0, gamma=0.001; total time=   0.0s\n",
      "[CV] END ...............................C=100.0, gamma=0.001; total time=   0.0s\n",
      "[CV] END ................................C=100.0, gamma=0.01; total time=   0.0s\n",
      "[CV] END ................................C=100.0, gamma=0.01; total time=   0.0s\n",
      "[CV] END ................................C=100.0, gamma=0.01; total time=   0.0s\n",
      "[CV] END ................................C=100.0, gamma=0.01; total time=   0.0s\n",
      "[CV] END ................................C=100.0, gamma=0.01; total time=   0.0s\n",
      "[CV] END .................................C=100.0, gamma=0.1; total time=   0.0s\n",
      "[CV] END .................................C=100.0, gamma=0.1; total time=   0.0s\n",
      "[CV] END .................................C=100.0, gamma=0.1; total time=   0.0s\n",
      "[CV] END .................................C=100.0, gamma=0.1; total time=   0.0s\n",
      "[CV] END .................................C=100.0, gamma=0.1; total time=   0.0s\n",
      "[CV] END .................................C=100.0, gamma=1.0; total time=   0.0s\n",
      "[CV] END .................................C=100.0, gamma=1.0; total time=   0.0s\n",
      "[CV] END .................................C=100.0, gamma=1.0; total time=   0.0s\n",
      "[CV] END .................................C=100.0, gamma=1.0; total time=   0.0s\n",
      "[CV] END .................................C=100.0, gamma=1.0; total time=   0.0s\n",
      "[CV] END ................................C=100.0, gamma=10.0; total time=   0.0s\n",
      "[CV] END ................................C=100.0, gamma=10.0; total time=   0.0s\n",
      "[CV] END ................................C=100.0, gamma=10.0; total time=   0.0s\n",
      "[CV] END ................................C=100.0, gamma=10.0; total time=   0.0s\n",
      "[CV] END ................................C=100.0, gamma=10.0; total time=   0.0s\n",
      "[CV] END ...............................C=100.0, gamma=100.0; total time=   0.0s\n",
      "[CV] END ...............................C=100.0, gamma=100.0; total time=   0.0s\n",
      "[CV] END ...............................C=100.0, gamma=100.0; total time=   0.0s\n",
      "[CV] END ...............................C=100.0, gamma=100.0; total time=   0.0s\n",
      "[CV] END ...............................C=100.0, gamma=100.0; total time=   0.0s\n",
      "[CV] END ..............................C=100.0, gamma=1000.0; total time=   0.0s\n",
      "[CV] END ..............................C=100.0, gamma=1000.0; total time=   0.0s\n"
     ]
    },
    {
     "name": "stdout",
     "output_type": "stream",
     "text": [
      "[CV] END ..............................C=100.0, gamma=1000.0; total time=   0.0s\n",
      "[CV] END ..............................C=100.0, gamma=1000.0; total time=   0.0s\n",
      "[CV] END ..............................C=100.0, gamma=1000.0; total time=   0.0s\n",
      "[CV] END ..............................C=1000.0, gamma=1e-09; total time=   0.0s\n",
      "[CV] END ..............................C=1000.0, gamma=1e-09; total time=   0.0s\n",
      "[CV] END ..............................C=1000.0, gamma=1e-09; total time=   0.0s\n",
      "[CV] END ..............................C=1000.0, gamma=1e-09; total time=   0.0s\n",
      "[CV] END ..............................C=1000.0, gamma=1e-09; total time=   0.0s\n",
      "[CV] END ..............................C=1000.0, gamma=1e-08; total time=   0.0s\n",
      "[CV] END ..............................C=1000.0, gamma=1e-08; total time=   0.0s\n",
      "[CV] END ..............................C=1000.0, gamma=1e-08; total time=   0.0s\n",
      "[CV] END ..............................C=1000.0, gamma=1e-08; total time=   0.0s\n",
      "[CV] END ..............................C=1000.0, gamma=1e-08; total time=   0.0s\n",
      "[CV] END ..............................C=1000.0, gamma=1e-07; total time=   0.0s\n",
      "[CV] END ..............................C=1000.0, gamma=1e-07; total time=   0.0s\n",
      "[CV] END ..............................C=1000.0, gamma=1e-07; total time=   0.0s\n",
      "[CV] END ..............................C=1000.0, gamma=1e-07; total time=   0.0s\n",
      "[CV] END ..............................C=1000.0, gamma=1e-07; total time=   0.0s\n",
      "[CV] END ..............................C=1000.0, gamma=1e-06; total time=   0.0s\n",
      "[CV] END ..............................C=1000.0, gamma=1e-06; total time=   0.0s\n",
      "[CV] END ..............................C=1000.0, gamma=1e-06; total time=   0.0s\n",
      "[CV] END ..............................C=1000.0, gamma=1e-06; total time=   0.0s\n",
      "[CV] END ..............................C=1000.0, gamma=1e-06; total time=   0.0s\n",
      "[CV] END ..............................C=1000.0, gamma=1e-05; total time=   0.0s\n",
      "[CV] END ..............................C=1000.0, gamma=1e-05; total time=   0.0s\n",
      "[CV] END ..............................C=1000.0, gamma=1e-05; total time=   0.0s\n",
      "[CV] END ..............................C=1000.0, gamma=1e-05; total time=   0.0s\n",
      "[CV] END ..............................C=1000.0, gamma=1e-05; total time=   0.0s\n",
      "[CV] END .............................C=1000.0, gamma=0.0001; total time=   0.0s\n",
      "[CV] END .............................C=1000.0, gamma=0.0001; total time=   0.0s\n",
      "[CV] END .............................C=1000.0, gamma=0.0001; total time=   0.0s\n",
      "[CV] END .............................C=1000.0, gamma=0.0001; total time=   0.0s\n",
      "[CV] END .............................C=1000.0, gamma=0.0001; total time=   0.0s\n",
      "[CV] END ..............................C=1000.0, gamma=0.001; total time=   0.0s\n",
      "[CV] END ..............................C=1000.0, gamma=0.001; total time=   0.0s\n",
      "[CV] END ..............................C=1000.0, gamma=0.001; total time=   0.0s\n",
      "[CV] END ..............................C=1000.0, gamma=0.001; total time=   0.0s\n",
      "[CV] END ..............................C=1000.0, gamma=0.001; total time=   0.0s\n",
      "[CV] END ...............................C=1000.0, gamma=0.01; total time=   0.0s\n",
      "[CV] END ...............................C=1000.0, gamma=0.01; total time=   0.0s\n",
      "[CV] END ...............................C=1000.0, gamma=0.01; total time=   0.0s\n",
      "[CV] END ...............................C=1000.0, gamma=0.01; total time=   0.0s\n",
      "[CV] END ...............................C=1000.0, gamma=0.01; total time=   0.0s\n",
      "[CV] END ................................C=1000.0, gamma=0.1; total time=   0.0s\n",
      "[CV] END ................................C=1000.0, gamma=0.1; total time=   0.0s\n",
      "[CV] END ................................C=1000.0, gamma=0.1; total time=   0.0s\n",
      "[CV] END ................................C=1000.0, gamma=0.1; total time=   0.0s\n",
      "[CV] END ................................C=1000.0, gamma=0.1; total time=   0.0s\n",
      "[CV] END ................................C=1000.0, gamma=1.0; total time=   0.0s\n",
      "[CV] END ................................C=1000.0, gamma=1.0; total time=   0.0s\n",
      "[CV] END ................................C=1000.0, gamma=1.0; total time=   0.0s\n",
      "[CV] END ................................C=1000.0, gamma=1.0; total time=   0.0s\n",
      "[CV] END ................................C=1000.0, gamma=1.0; total time=   0.0s\n",
      "[CV] END ...............................C=1000.0, gamma=10.0; total time=   0.0s\n",
      "[CV] END ...............................C=1000.0, gamma=10.0; total time=   0.0s\n",
      "[CV] END ...............................C=1000.0, gamma=10.0; total time=   0.0s\n",
      "[CV] END ...............................C=1000.0, gamma=10.0; total time=   0.0s\n",
      "[CV] END ...............................C=1000.0, gamma=10.0; total time=   0.0s\n",
      "[CV] END ..............................C=1000.0, gamma=100.0; total time=   0.0s\n",
      "[CV] END ..............................C=1000.0, gamma=100.0; total time=   0.0s\n",
      "[CV] END ..............................C=1000.0, gamma=100.0; total time=   0.0s\n",
      "[CV] END ..............................C=1000.0, gamma=100.0; total time=   0.0s\n",
      "[CV] END ..............................C=1000.0, gamma=100.0; total time=   0.0s\n",
      "[CV] END .............................C=1000.0, gamma=1000.0; total time=   0.0s\n",
      "[CV] END .............................C=1000.0, gamma=1000.0; total time=   0.0s\n",
      "[CV] END .............................C=1000.0, gamma=1000.0; total time=   0.0s\n",
      "[CV] END .............................C=1000.0, gamma=1000.0; total time=   0.0s\n",
      "[CV] END .............................C=1000.0, gamma=1000.0; total time=   0.0s\n",
      "[CV] END .............................C=10000.0, gamma=1e-09; total time=   0.0s\n",
      "[CV] END .............................C=10000.0, gamma=1e-09; total time=   0.0s\n",
      "[CV] END .............................C=10000.0, gamma=1e-09; total time=   0.0s\n",
      "[CV] END .............................C=10000.0, gamma=1e-09; total time=   0.0s\n",
      "[CV] END .............................C=10000.0, gamma=1e-09; total time=   0.0s\n",
      "[CV] END .............................C=10000.0, gamma=1e-08; total time=   0.0s\n",
      "[CV] END .............................C=10000.0, gamma=1e-08; total time=   0.0s\n",
      "[CV] END .............................C=10000.0, gamma=1e-08; total time=   0.0s\n",
      "[CV] END .............................C=10000.0, gamma=1e-08; total time=   0.0s\n",
      "[CV] END .............................C=10000.0, gamma=1e-08; total time=   0.0s\n",
      "[CV] END .............................C=10000.0, gamma=1e-07; total time=   0.0s\n",
      "[CV] END .............................C=10000.0, gamma=1e-07; total time=   0.0s\n",
      "[CV] END .............................C=10000.0, gamma=1e-07; total time=   0.0s\n",
      "[CV] END .............................C=10000.0, gamma=1e-07; total time=   0.0s\n",
      "[CV] END .............................C=10000.0, gamma=1e-07; total time=   0.0s\n",
      "[CV] END .............................C=10000.0, gamma=1e-06; total time=   0.0s\n",
      "[CV] END .............................C=10000.0, gamma=1e-06; total time=   0.0s\n",
      "[CV] END .............................C=10000.0, gamma=1e-06; total time=   0.0s\n",
      "[CV] END .............................C=10000.0, gamma=1e-06; total time=   0.0s\n",
      "[CV] END .............................C=10000.0, gamma=1e-06; total time=   0.0s\n",
      "[CV] END .............................C=10000.0, gamma=1e-05; total time=   0.0s\n",
      "[CV] END .............................C=10000.0, gamma=1e-05; total time=   0.0s\n",
      "[CV] END .............................C=10000.0, gamma=1e-05; total time=   0.0s\n",
      "[CV] END .............................C=10000.0, gamma=1e-05; total time=   0.0s\n",
      "[CV] END .............................C=10000.0, gamma=1e-05; total time=   0.0s\n",
      "[CV] END ............................C=10000.0, gamma=0.0001; total time=   0.0s\n",
      "[CV] END ............................C=10000.0, gamma=0.0001; total time=   0.0s\n",
      "[CV] END ............................C=10000.0, gamma=0.0001; total time=   0.0s\n",
      "[CV] END ............................C=10000.0, gamma=0.0001; total time=   0.0s\n",
      "[CV] END ............................C=10000.0, gamma=0.0001; total time=   0.0s\n",
      "[CV] END .............................C=10000.0, gamma=0.001; total time=   0.0s\n",
      "[CV] END .............................C=10000.0, gamma=0.001; total time=   0.0s\n",
      "[CV] END .............................C=10000.0, gamma=0.001; total time=   0.0s\n",
      "[CV] END .............................C=10000.0, gamma=0.001; total time=   0.0s\n",
      "[CV] END .............................C=10000.0, gamma=0.001; total time=   0.0s\n",
      "[CV] END ..............................C=10000.0, gamma=0.01; total time=   0.0s\n",
      "[CV] END ..............................C=10000.0, gamma=0.01; total time=   0.0s\n",
      "[CV] END ..............................C=10000.0, gamma=0.01; total time=   0.0s\n",
      "[CV] END ..............................C=10000.0, gamma=0.01; total time=   0.0s\n",
      "[CV] END ..............................C=10000.0, gamma=0.01; total time=   0.0s\n",
      "[CV] END ...............................C=10000.0, gamma=0.1; total time=   0.0s\n",
      "[CV] END ...............................C=10000.0, gamma=0.1; total time=   0.0s\n",
      "[CV] END ...............................C=10000.0, gamma=0.1; total time=   0.0s\n",
      "[CV] END ...............................C=10000.0, gamma=0.1; total time=   0.0s\n",
      "[CV] END ...............................C=10000.0, gamma=0.1; total time=   0.0s\n",
      "[CV] END ...............................C=10000.0, gamma=1.0; total time=   0.0s\n",
      "[CV] END ...............................C=10000.0, gamma=1.0; total time=   0.0s\n",
      "[CV] END ...............................C=10000.0, gamma=1.0; total time=   0.0s\n"
     ]
    },
    {
     "name": "stdout",
     "output_type": "stream",
     "text": [
      "[CV] END ...............................C=10000.0, gamma=1.0; total time=   0.0s\n",
      "[CV] END ...............................C=10000.0, gamma=1.0; total time=   0.0s\n",
      "[CV] END ..............................C=10000.0, gamma=10.0; total time=   0.0s\n",
      "[CV] END ..............................C=10000.0, gamma=10.0; total time=   0.0s\n",
      "[CV] END ..............................C=10000.0, gamma=10.0; total time=   0.0s\n",
      "[CV] END ..............................C=10000.0, gamma=10.0; total time=   0.0s\n",
      "[CV] END ..............................C=10000.0, gamma=10.0; total time=   0.0s\n",
      "[CV] END .............................C=10000.0, gamma=100.0; total time=   0.0s\n",
      "[CV] END .............................C=10000.0, gamma=100.0; total time=   0.0s\n",
      "[CV] END .............................C=10000.0, gamma=100.0; total time=   0.0s\n",
      "[CV] END .............................C=10000.0, gamma=100.0; total time=   0.0s\n",
      "[CV] END .............................C=10000.0, gamma=100.0; total time=   0.0s\n",
      "[CV] END ............................C=10000.0, gamma=1000.0; total time=   0.0s\n",
      "[CV] END ............................C=10000.0, gamma=1000.0; total time=   0.0s\n",
      "[CV] END ............................C=10000.0, gamma=1000.0; total time=   0.0s\n",
      "[CV] END ............................C=10000.0, gamma=1000.0; total time=   0.0s\n",
      "[CV] END ............................C=10000.0, gamma=1000.0; total time=   0.0s\n",
      "[CV] END ............................C=100000.0, gamma=1e-09; total time=   0.0s\n",
      "[CV] END ............................C=100000.0, gamma=1e-09; total time=   0.0s\n",
      "[CV] END ............................C=100000.0, gamma=1e-09; total time=   0.0s\n",
      "[CV] END ............................C=100000.0, gamma=1e-09; total time=   0.0s\n",
      "[CV] END ............................C=100000.0, gamma=1e-09; total time=   0.0s\n",
      "[CV] END ............................C=100000.0, gamma=1e-08; total time=   0.0s\n",
      "[CV] END ............................C=100000.0, gamma=1e-08; total time=   0.0s\n",
      "[CV] END ............................C=100000.0, gamma=1e-08; total time=   0.0s\n",
      "[CV] END ............................C=100000.0, gamma=1e-08; total time=   0.0s\n",
      "[CV] END ............................C=100000.0, gamma=1e-08; total time=   0.0s\n",
      "[CV] END ............................C=100000.0, gamma=1e-07; total time=   0.0s\n",
      "[CV] END ............................C=100000.0, gamma=1e-07; total time=   0.0s\n",
      "[CV] END ............................C=100000.0, gamma=1e-07; total time=   0.0s\n",
      "[CV] END ............................C=100000.0, gamma=1e-07; total time=   0.0s\n",
      "[CV] END ............................C=100000.0, gamma=1e-07; total time=   0.0s\n",
      "[CV] END ............................C=100000.0, gamma=1e-06; total time=   0.0s\n",
      "[CV] END ............................C=100000.0, gamma=1e-06; total time=   0.0s\n",
      "[CV] END ............................C=100000.0, gamma=1e-06; total time=   0.0s\n",
      "[CV] END ............................C=100000.0, gamma=1e-06; total time=   0.0s\n",
      "[CV] END ............................C=100000.0, gamma=1e-06; total time=   0.0s\n",
      "[CV] END ............................C=100000.0, gamma=1e-05; total time=   0.0s\n",
      "[CV] END ............................C=100000.0, gamma=1e-05; total time=   0.0s\n",
      "[CV] END ............................C=100000.0, gamma=1e-05; total time=   0.0s\n",
      "[CV] END ............................C=100000.0, gamma=1e-05; total time=   0.0s\n",
      "[CV] END ............................C=100000.0, gamma=1e-05; total time=   0.0s\n",
      "[CV] END ...........................C=100000.0, gamma=0.0001; total time=   0.0s\n",
      "[CV] END ...........................C=100000.0, gamma=0.0001; total time=   0.0s\n",
      "[CV] END ...........................C=100000.0, gamma=0.0001; total time=   0.0s\n",
      "[CV] END ...........................C=100000.0, gamma=0.0001; total time=   0.0s\n",
      "[CV] END ...........................C=100000.0, gamma=0.0001; total time=   0.0s\n",
      "[CV] END ............................C=100000.0, gamma=0.001; total time=   0.0s\n",
      "[CV] END ............................C=100000.0, gamma=0.001; total time=   0.0s\n",
      "[CV] END ............................C=100000.0, gamma=0.001; total time=   0.0s\n",
      "[CV] END ............................C=100000.0, gamma=0.001; total time=   0.0s\n",
      "[CV] END ............................C=100000.0, gamma=0.001; total time=   0.0s\n",
      "[CV] END .............................C=100000.0, gamma=0.01; total time=   0.0s\n",
      "[CV] END .............................C=100000.0, gamma=0.01; total time=   0.0s\n",
      "[CV] END .............................C=100000.0, gamma=0.01; total time=   0.0s\n",
      "[CV] END .............................C=100000.0, gamma=0.01; total time=   0.0s\n",
      "[CV] END .............................C=100000.0, gamma=0.01; total time=   0.0s\n",
      "[CV] END ..............................C=100000.0, gamma=0.1; total time=   0.0s\n",
      "[CV] END ..............................C=100000.0, gamma=0.1; total time=   0.0s\n",
      "[CV] END ..............................C=100000.0, gamma=0.1; total time=   0.0s\n",
      "[CV] END ..............................C=100000.0, gamma=0.1; total time=   0.0s\n",
      "[CV] END ..............................C=100000.0, gamma=0.1; total time=   0.0s\n",
      "[CV] END ..............................C=100000.0, gamma=1.0; total time=   0.0s\n",
      "[CV] END ..............................C=100000.0, gamma=1.0; total time=   0.0s\n",
      "[CV] END ..............................C=100000.0, gamma=1.0; total time=   0.0s\n",
      "[CV] END ..............................C=100000.0, gamma=1.0; total time=   0.0s\n",
      "[CV] END ..............................C=100000.0, gamma=1.0; total time=   0.0s\n",
      "[CV] END .............................C=100000.0, gamma=10.0; total time=   0.0s\n",
      "[CV] END .............................C=100000.0, gamma=10.0; total time=   0.0s\n",
      "[CV] END .............................C=100000.0, gamma=10.0; total time=   0.0s\n",
      "[CV] END .............................C=100000.0, gamma=10.0; total time=   0.0s\n",
      "[CV] END .............................C=100000.0, gamma=10.0; total time=   0.0s\n",
      "[CV] END ............................C=100000.0, gamma=100.0; total time=   0.0s\n",
      "[CV] END ............................C=100000.0, gamma=100.0; total time=   0.0s\n",
      "[CV] END ............................C=100000.0, gamma=100.0; total time=   0.0s\n",
      "[CV] END ............................C=100000.0, gamma=100.0; total time=   0.0s\n",
      "[CV] END ............................C=100000.0, gamma=100.0; total time=   0.0s\n",
      "[CV] END ...........................C=100000.0, gamma=1000.0; total time=   0.0s\n",
      "[CV] END ...........................C=100000.0, gamma=1000.0; total time=   0.0s\n",
      "[CV] END ...........................C=100000.0, gamma=1000.0; total time=   0.0s\n",
      "[CV] END ...........................C=100000.0, gamma=1000.0; total time=   0.0s\n",
      "[CV] END ...........................C=100000.0, gamma=1000.0; total time=   0.0s\n",
      "[CV] END ...........................C=1000000.0, gamma=1e-09; total time=   0.0s\n",
      "[CV] END ...........................C=1000000.0, gamma=1e-09; total time=   0.0s\n",
      "[CV] END ...........................C=1000000.0, gamma=1e-09; total time=   0.0s\n",
      "[CV] END ...........................C=1000000.0, gamma=1e-09; total time=   0.0s\n",
      "[CV] END ...........................C=1000000.0, gamma=1e-09; total time=   0.0s\n",
      "[CV] END ...........................C=1000000.0, gamma=1e-08; total time=   0.0s\n",
      "[CV] END ...........................C=1000000.0, gamma=1e-08; total time=   0.0s\n",
      "[CV] END ...........................C=1000000.0, gamma=1e-08; total time=   0.0s\n",
      "[CV] END ...........................C=1000000.0, gamma=1e-08; total time=   0.0s\n",
      "[CV] END ...........................C=1000000.0, gamma=1e-08; total time=   0.0s\n",
      "[CV] END ...........................C=1000000.0, gamma=1e-07; total time=   0.0s\n",
      "[CV] END ...........................C=1000000.0, gamma=1e-07; total time=   0.0s\n",
      "[CV] END ...........................C=1000000.0, gamma=1e-07; total time=   0.0s\n",
      "[CV] END ...........................C=1000000.0, gamma=1e-07; total time=   0.0s\n",
      "[CV] END ...........................C=1000000.0, gamma=1e-07; total time=   0.0s\n",
      "[CV] END ...........................C=1000000.0, gamma=1e-06; total time=   0.0s\n",
      "[CV] END ...........................C=1000000.0, gamma=1e-06; total time=   0.0s\n",
      "[CV] END ...........................C=1000000.0, gamma=1e-06; total time=   0.0s\n",
      "[CV] END ...........................C=1000000.0, gamma=1e-06; total time=   0.0s\n",
      "[CV] END ...........................C=1000000.0, gamma=1e-06; total time=   0.0s\n",
      "[CV] END ...........................C=1000000.0, gamma=1e-05; total time=   0.0s\n",
      "[CV] END ...........................C=1000000.0, gamma=1e-05; total time=   0.0s\n",
      "[CV] END ...........................C=1000000.0, gamma=1e-05; total time=   0.0s\n",
      "[CV] END ...........................C=1000000.0, gamma=1e-05; total time=   0.0s\n"
     ]
    },
    {
     "name": "stdout",
     "output_type": "stream",
     "text": [
      "[CV] END ...........................C=1000000.0, gamma=1e-05; total time=   0.0s\n",
      "[CV] END ..........................C=1000000.0, gamma=0.0001; total time=   0.0s\n",
      "[CV] END ..........................C=1000000.0, gamma=0.0001; total time=   0.0s\n",
      "[CV] END ..........................C=1000000.0, gamma=0.0001; total time=   0.0s\n",
      "[CV] END ..........................C=1000000.0, gamma=0.0001; total time=   0.1s\n",
      "[CV] END ..........................C=1000000.0, gamma=0.0001; total time=   0.0s\n",
      "[CV] END ...........................C=1000000.0, gamma=0.001; total time=   0.0s\n",
      "[CV] END ...........................C=1000000.0, gamma=0.001; total time=   0.0s\n",
      "[CV] END ...........................C=1000000.0, gamma=0.001; total time=   0.0s\n",
      "[CV] END ...........................C=1000000.0, gamma=0.001; total time=   0.0s\n",
      "[CV] END ...........................C=1000000.0, gamma=0.001; total time=   0.1s\n",
      "[CV] END ............................C=1000000.0, gamma=0.01; total time=   0.0s\n",
      "[CV] END ............................C=1000000.0, gamma=0.01; total time=   0.0s\n",
      "[CV] END ............................C=1000000.0, gamma=0.01; total time=   0.0s\n",
      "[CV] END ............................C=1000000.0, gamma=0.01; total time=   0.0s\n",
      "[CV] END ............................C=1000000.0, gamma=0.01; total time=   0.0s\n",
      "[CV] END .............................C=1000000.0, gamma=0.1; total time=   0.0s\n",
      "[CV] END .............................C=1000000.0, gamma=0.1; total time=   0.0s\n",
      "[CV] END .............................C=1000000.0, gamma=0.1; total time=   0.0s\n",
      "[CV] END .............................C=1000000.0, gamma=0.1; total time=   0.0s\n",
      "[CV] END .............................C=1000000.0, gamma=0.1; total time=   0.0s\n",
      "[CV] END .............................C=1000000.0, gamma=1.0; total time=   0.0s\n",
      "[CV] END .............................C=1000000.0, gamma=1.0; total time=   0.0s\n",
      "[CV] END .............................C=1000000.0, gamma=1.0; total time=   0.0s\n",
      "[CV] END .............................C=1000000.0, gamma=1.0; total time=   0.0s\n",
      "[CV] END .............................C=1000000.0, gamma=1.0; total time=   0.0s\n",
      "[CV] END ............................C=1000000.0, gamma=10.0; total time=   0.0s\n",
      "[CV] END ............................C=1000000.0, gamma=10.0; total time=   0.0s\n",
      "[CV] END ............................C=1000000.0, gamma=10.0; total time=   0.0s\n",
      "[CV] END ............................C=1000000.0, gamma=10.0; total time=   0.0s\n",
      "[CV] END ............................C=1000000.0, gamma=10.0; total time=   0.0s\n",
      "[CV] END ...........................C=1000000.0, gamma=100.0; total time=   0.0s\n",
      "[CV] END ...........................C=1000000.0, gamma=100.0; total time=   0.0s\n",
      "[CV] END ...........................C=1000000.0, gamma=100.0; total time=   0.0s\n",
      "[CV] END ...........................C=1000000.0, gamma=100.0; total time=   0.0s\n",
      "[CV] END ...........................C=1000000.0, gamma=100.0; total time=   0.0s\n",
      "[CV] END ..........................C=1000000.0, gamma=1000.0; total time=   0.0s\n",
      "[CV] END ..........................C=1000000.0, gamma=1000.0; total time=   0.0s\n",
      "[CV] END ..........................C=1000000.0, gamma=1000.0; total time=   0.0s\n",
      "[CV] END ..........................C=1000000.0, gamma=1000.0; total time=   0.0s\n",
      "[CV] END ..........................C=1000000.0, gamma=1000.0; total time=   0.0s\n",
      "[CV] END ..........................C=10000000.0, gamma=1e-09; total time=   0.0s\n",
      "[CV] END ..........................C=10000000.0, gamma=1e-09; total time=   0.0s\n",
      "[CV] END ..........................C=10000000.0, gamma=1e-09; total time=   0.0s\n",
      "[CV] END ..........................C=10000000.0, gamma=1e-09; total time=   0.0s\n",
      "[CV] END ..........................C=10000000.0, gamma=1e-09; total time=   0.0s\n",
      "[CV] END ..........................C=10000000.0, gamma=1e-08; total time=   0.0s\n",
      "[CV] END ..........................C=10000000.0, gamma=1e-08; total time=   0.0s\n",
      "[CV] END ..........................C=10000000.0, gamma=1e-08; total time=   0.0s\n",
      "[CV] END ..........................C=10000000.0, gamma=1e-08; total time=   0.0s\n",
      "[CV] END ..........................C=10000000.0, gamma=1e-08; total time=   0.0s\n",
      "[CV] END ..........................C=10000000.0, gamma=1e-07; total time=   0.0s\n",
      "[CV] END ..........................C=10000000.0, gamma=1e-07; total time=   0.0s\n",
      "[CV] END ..........................C=10000000.0, gamma=1e-07; total time=   0.0s\n",
      "[CV] END ..........................C=10000000.0, gamma=1e-07; total time=   0.0s\n",
      "[CV] END ..........................C=10000000.0, gamma=1e-07; total time=   0.0s\n",
      "[CV] END ..........................C=10000000.0, gamma=1e-06; total time=   0.0s\n",
      "[CV] END ..........................C=10000000.0, gamma=1e-06; total time=   0.0s\n",
      "[CV] END ..........................C=10000000.0, gamma=1e-06; total time=   0.0s\n",
      "[CV] END ..........................C=10000000.0, gamma=1e-06; total time=   0.0s\n",
      "[CV] END ..........................C=10000000.0, gamma=1e-06; total time=   0.0s\n",
      "[CV] END ..........................C=10000000.0, gamma=1e-05; total time=   0.0s\n",
      "[CV] END ..........................C=10000000.0, gamma=1e-05; total time=   0.0s\n",
      "[CV] END ..........................C=10000000.0, gamma=1e-05; total time=   0.0s\n",
      "[CV] END ..........................C=10000000.0, gamma=1e-05; total time=   0.1s\n",
      "[CV] END ..........................C=10000000.0, gamma=1e-05; total time=   0.0s\n",
      "[CV] END .........................C=10000000.0, gamma=0.0001; total time=   0.3s\n",
      "[CV] END .........................C=10000000.0, gamma=0.0001; total time=   0.5s\n",
      "[CV] END .........................C=10000000.0, gamma=0.0001; total time=   0.7s\n",
      "[CV] END .........................C=10000000.0, gamma=0.0001; total time=   1.3s\n",
      "[CV] END .........................C=10000000.0, gamma=0.0001; total time=   0.4s\n",
      "[CV] END ..........................C=10000000.0, gamma=0.001; total time=   0.0s\n",
      "[CV] END ..........................C=10000000.0, gamma=0.001; total time=   0.0s\n",
      "[CV] END ..........................C=10000000.0, gamma=0.001; total time=   0.0s\n",
      "[CV] END ..........................C=10000000.0, gamma=0.001; total time=   0.0s\n",
      "[CV] END ..........................C=10000000.0, gamma=0.001; total time=   0.1s\n",
      "[CV] END ...........................C=10000000.0, gamma=0.01; total time=   0.0s\n",
      "[CV] END ...........................C=10000000.0, gamma=0.01; total time=   0.0s\n",
      "[CV] END ...........................C=10000000.0, gamma=0.01; total time=   0.0s\n",
      "[CV] END ...........................C=10000000.0, gamma=0.01; total time=   0.0s\n",
      "[CV] END ...........................C=10000000.0, gamma=0.01; total time=   0.0s\n",
      "[CV] END ............................C=10000000.0, gamma=0.1; total time=   0.0s\n",
      "[CV] END ............................C=10000000.0, gamma=0.1; total time=   0.0s\n",
      "[CV] END ............................C=10000000.0, gamma=0.1; total time=   0.0s\n",
      "[CV] END ............................C=10000000.0, gamma=0.1; total time=   0.0s\n",
      "[CV] END ............................C=10000000.0, gamma=0.1; total time=   0.0s\n",
      "[CV] END ............................C=10000000.0, gamma=1.0; total time=   0.0s\n",
      "[CV] END ............................C=10000000.0, gamma=1.0; total time=   0.0s\n",
      "[CV] END ............................C=10000000.0, gamma=1.0; total time=   0.0s\n",
      "[CV] END ............................C=10000000.0, gamma=1.0; total time=   0.0s\n",
      "[CV] END ............................C=10000000.0, gamma=1.0; total time=   0.0s\n",
      "[CV] END ...........................C=10000000.0, gamma=10.0; total time=   0.0s\n",
      "[CV] END ...........................C=10000000.0, gamma=10.0; total time=   0.0s\n",
      "[CV] END ...........................C=10000000.0, gamma=10.0; total time=   0.0s\n",
      "[CV] END ...........................C=10000000.0, gamma=10.0; total time=   0.0s\n",
      "[CV] END ...........................C=10000000.0, gamma=10.0; total time=   0.0s\n",
      "[CV] END ..........................C=10000000.0, gamma=100.0; total time=   0.0s\n",
      "[CV] END ..........................C=10000000.0, gamma=100.0; total time=   0.0s\n",
      "[CV] END ..........................C=10000000.0, gamma=100.0; total time=   0.0s\n",
      "[CV] END ..........................C=10000000.0, gamma=100.0; total time=   0.0s\n",
      "[CV] END ..........................C=10000000.0, gamma=100.0; total time=   0.0s\n",
      "[CV] END .........................C=10000000.0, gamma=1000.0; total time=   0.0s\n",
      "[CV] END .........................C=10000000.0, gamma=1000.0; total time=   0.0s\n",
      "[CV] END .........................C=10000000.0, gamma=1000.0; total time=   0.0s\n",
      "[CV] END .........................C=10000000.0, gamma=1000.0; total time=   0.0s\n",
      "[CV] END .........................C=10000000.0, gamma=1000.0; total time=   0.0s\n",
      "[CV] END .........................C=100000000.0, gamma=1e-09; total time=   0.0s\n"
     ]
    },
    {
     "name": "stdout",
     "output_type": "stream",
     "text": [
      "[CV] END .........................C=100000000.0, gamma=1e-09; total time=   0.0s\n",
      "[CV] END .........................C=100000000.0, gamma=1e-09; total time=   0.0s\n",
      "[CV] END .........................C=100000000.0, gamma=1e-09; total time=   0.0s\n",
      "[CV] END .........................C=100000000.0, gamma=1e-09; total time=   0.0s\n",
      "[CV] END .........................C=100000000.0, gamma=1e-08; total time=   0.0s\n",
      "[CV] END .........................C=100000000.0, gamma=1e-08; total time=   0.0s\n",
      "[CV] END .........................C=100000000.0, gamma=1e-08; total time=   0.0s\n",
      "[CV] END .........................C=100000000.0, gamma=1e-08; total time=   0.0s\n",
      "[CV] END .........................C=100000000.0, gamma=1e-08; total time=   0.0s\n",
      "[CV] END .........................C=100000000.0, gamma=1e-07; total time=   0.0s\n",
      "[CV] END .........................C=100000000.0, gamma=1e-07; total time=   0.0s\n",
      "[CV] END .........................C=100000000.0, gamma=1e-07; total time=   0.0s\n",
      "[CV] END .........................C=100000000.0, gamma=1e-07; total time=   0.0s\n",
      "[CV] END .........................C=100000000.0, gamma=1e-07; total time=   0.0s\n",
      "[CV] END .........................C=100000000.0, gamma=1e-06; total time=   0.0s\n",
      "[CV] END .........................C=100000000.0, gamma=1e-06; total time=   0.0s\n",
      "[CV] END .........................C=100000000.0, gamma=1e-06; total time=   0.0s\n",
      "[CV] END .........................C=100000000.0, gamma=1e-06; total time=   0.0s\n",
      "[CV] END .........................C=100000000.0, gamma=1e-06; total time=   0.0s\n",
      "[CV] END .........................C=100000000.0, gamma=1e-05; total time=   0.0s\n",
      "[CV] END .........................C=100000000.0, gamma=1e-05; total time=   0.1s\n",
      "[CV] END .........................C=100000000.0, gamma=1e-05; total time=   0.0s\n",
      "[CV] END .........................C=100000000.0, gamma=1e-05; total time=   0.2s\n",
      "[CV] END .........................C=100000000.0, gamma=1e-05; total time=   0.2s\n",
      "[CV] END ........................C=100000000.0, gamma=0.0001; total time=   1.5s\n",
      "[CV] END ........................C=100000000.0, gamma=0.0001; total time=   0.7s\n",
      "[CV] END ........................C=100000000.0, gamma=0.0001; total time=   1.1s\n",
      "[CV] END ........................C=100000000.0, gamma=0.0001; total time=   0.5s\n",
      "[CV] END ........................C=100000000.0, gamma=0.0001; total time=   1.4s\n",
      "[CV] END .........................C=100000000.0, gamma=0.001; total time=   0.0s\n",
      "[CV] END .........................C=100000000.0, gamma=0.001; total time=   0.0s\n",
      "[CV] END .........................C=100000000.0, gamma=0.001; total time=   0.0s\n",
      "[CV] END .........................C=100000000.0, gamma=0.001; total time=   0.0s\n",
      "[CV] END .........................C=100000000.0, gamma=0.001; total time=   0.1s\n",
      "[CV] END ..........................C=100000000.0, gamma=0.01; total time=   0.0s\n",
      "[CV] END ..........................C=100000000.0, gamma=0.01; total time=   0.0s\n",
      "[CV] END ..........................C=100000000.0, gamma=0.01; total time=   0.0s\n",
      "[CV] END ..........................C=100000000.0, gamma=0.01; total time=   0.0s\n",
      "[CV] END ..........................C=100000000.0, gamma=0.01; total time=   0.0s\n",
      "[CV] END ...........................C=100000000.0, gamma=0.1; total time=   0.0s\n",
      "[CV] END ...........................C=100000000.0, gamma=0.1; total time=   0.0s\n",
      "[CV] END ...........................C=100000000.0, gamma=0.1; total time=   0.0s\n",
      "[CV] END ...........................C=100000000.0, gamma=0.1; total time=   0.0s\n",
      "[CV] END ...........................C=100000000.0, gamma=0.1; total time=   0.0s\n",
      "[CV] END ...........................C=100000000.0, gamma=1.0; total time=   0.0s\n",
      "[CV] END ...........................C=100000000.0, gamma=1.0; total time=   0.0s\n",
      "[CV] END ...........................C=100000000.0, gamma=1.0; total time=   0.0s\n",
      "[CV] END ...........................C=100000000.0, gamma=1.0; total time=   0.0s\n",
      "[CV] END ...........................C=100000000.0, gamma=1.0; total time=   0.0s\n",
      "[CV] END ..........................C=100000000.0, gamma=10.0; total time=   0.0s\n",
      "[CV] END ..........................C=100000000.0, gamma=10.0; total time=   0.0s\n",
      "[CV] END ..........................C=100000000.0, gamma=10.0; total time=   0.0s\n",
      "[CV] END ..........................C=100000000.0, gamma=10.0; total time=   0.0s\n",
      "[CV] END ..........................C=100000000.0, gamma=10.0; total time=   0.0s\n",
      "[CV] END .........................C=100000000.0, gamma=100.0; total time=   0.0s\n",
      "[CV] END .........................C=100000000.0, gamma=100.0; total time=   0.0s\n",
      "[CV] END .........................C=100000000.0, gamma=100.0; total time=   0.0s\n",
      "[CV] END .........................C=100000000.0, gamma=100.0; total time=   0.0s\n",
      "[CV] END .........................C=100000000.0, gamma=100.0; total time=   0.0s\n",
      "[CV] END ........................C=100000000.0, gamma=1000.0; total time=   0.0s\n",
      "[CV] END ........................C=100000000.0, gamma=1000.0; total time=   0.0s\n",
      "[CV] END ........................C=100000000.0, gamma=1000.0; total time=   0.0s\n",
      "[CV] END ........................C=100000000.0, gamma=1000.0; total time=   0.0s\n",
      "[CV] END ........................C=100000000.0, gamma=1000.0; total time=   0.0s\n",
      "[CV] END ........................C=1000000000.0, gamma=1e-09; total time=   0.0s\n",
      "[CV] END ........................C=1000000000.0, gamma=1e-09; total time=   0.0s\n",
      "[CV] END ........................C=1000000000.0, gamma=1e-09; total time=   0.0s\n",
      "[CV] END ........................C=1000000000.0, gamma=1e-09; total time=   0.0s\n",
      "[CV] END ........................C=1000000000.0, gamma=1e-09; total time=   0.0s\n",
      "[CV] END ........................C=1000000000.0, gamma=1e-08; total time=   0.0s\n",
      "[CV] END ........................C=1000000000.0, gamma=1e-08; total time=   0.0s\n",
      "[CV] END ........................C=1000000000.0, gamma=1e-08; total time=   0.0s\n",
      "[CV] END ........................C=1000000000.0, gamma=1e-08; total time=   0.0s\n",
      "[CV] END ........................C=1000000000.0, gamma=1e-08; total time=   0.0s\n",
      "[CV] END ........................C=1000000000.0, gamma=1e-07; total time=   0.0s\n",
      "[CV] END ........................C=1000000000.0, gamma=1e-07; total time=   0.0s\n",
      "[CV] END ........................C=1000000000.0, gamma=1e-07; total time=   0.0s\n",
      "[CV] END ........................C=1000000000.0, gamma=1e-07; total time=   0.0s\n",
      "[CV] END ........................C=1000000000.0, gamma=1e-07; total time=   0.0s\n",
      "[CV] END ........................C=1000000000.0, gamma=1e-06; total time=   0.0s\n",
      "[CV] END ........................C=1000000000.0, gamma=1e-06; total time=   0.0s\n",
      "[CV] END ........................C=1000000000.0, gamma=1e-06; total time=   0.0s\n",
      "[CV] END ........................C=1000000000.0, gamma=1e-06; total time=   0.0s\n",
      "[CV] END ........................C=1000000000.0, gamma=1e-06; total time=   0.0s\n",
      "[CV] END ........................C=1000000000.0, gamma=1e-05; total time=   0.1s\n",
      "[CV] END ........................C=1000000000.0, gamma=1e-05; total time=   0.1s\n",
      "[CV] END ........................C=1000000000.0, gamma=1e-05; total time=   0.1s\n",
      "[CV] END ........................C=1000000000.0, gamma=1e-05; total time=   0.3s\n",
      "[CV] END ........................C=1000000000.0, gamma=1e-05; total time=   0.3s\n",
      "[CV] END .......................C=1000000000.0, gamma=0.0001; total time=   0.7s\n",
      "[CV] END .......................C=1000000000.0, gamma=0.0001; total time=   1.3s\n",
      "[CV] END .......................C=1000000000.0, gamma=0.0001; total time=   1.1s\n",
      "[CV] END .......................C=1000000000.0, gamma=0.0001; total time=   1.3s\n",
      "[CV] END .......................C=1000000000.0, gamma=0.0001; total time=   4.1s\n",
      "[CV] END ........................C=1000000000.0, gamma=0.001; total time=   0.0s\n",
      "[CV] END ........................C=1000000000.0, gamma=0.001; total time=   0.0s\n",
      "[CV] END ........................C=1000000000.0, gamma=0.001; total time=   0.0s\n",
      "[CV] END ........................C=1000000000.0, gamma=0.001; total time=   0.0s\n",
      "[CV] END ........................C=1000000000.0, gamma=0.001; total time=   0.1s\n",
      "[CV] END .........................C=1000000000.0, gamma=0.01; total time=   0.0s\n",
      "[CV] END .........................C=1000000000.0, gamma=0.01; total time=   0.0s\n",
      "[CV] END .........................C=1000000000.0, gamma=0.01; total time=   0.0s\n",
      "[CV] END .........................C=1000000000.0, gamma=0.01; total time=   0.0s\n",
      "[CV] END .........................C=1000000000.0, gamma=0.01; total time=   0.0s\n",
      "[CV] END ..........................C=1000000000.0, gamma=0.1; total time=   0.0s\n",
      "[CV] END ..........................C=1000000000.0, gamma=0.1; total time=   0.0s\n",
      "[CV] END ..........................C=1000000000.0, gamma=0.1; total time=   0.0s\n",
      "[CV] END ..........................C=1000000000.0, gamma=0.1; total time=   0.0s\n",
      "[CV] END ..........................C=1000000000.0, gamma=0.1; total time=   0.0s\n",
      "[CV] END ..........................C=1000000000.0, gamma=1.0; total time=   0.0s\n",
      "[CV] END ..........................C=1000000000.0, gamma=1.0; total time=   0.0s\n",
      "[CV] END ..........................C=1000000000.0, gamma=1.0; total time=   0.0s\n",
      "[CV] END ..........................C=1000000000.0, gamma=1.0; total time=   0.0s\n",
      "[CV] END ..........................C=1000000000.0, gamma=1.0; total time=   0.0s\n"
     ]
    },
    {
     "name": "stdout",
     "output_type": "stream",
     "text": [
      "[CV] END .........................C=1000000000.0, gamma=10.0; total time=   0.0s\n",
      "[CV] END .........................C=1000000000.0, gamma=10.0; total time=   0.0s\n",
      "[CV] END .........................C=1000000000.0, gamma=10.0; total time=   0.0s\n",
      "[CV] END .........................C=1000000000.0, gamma=10.0; total time=   0.0s\n",
      "[CV] END .........................C=1000000000.0, gamma=10.0; total time=   0.0s\n",
      "[CV] END ........................C=1000000000.0, gamma=100.0; total time=   0.0s\n",
      "[CV] END ........................C=1000000000.0, gamma=100.0; total time=   0.0s\n",
      "[CV] END ........................C=1000000000.0, gamma=100.0; total time=   0.0s\n",
      "[CV] END ........................C=1000000000.0, gamma=100.0; total time=   0.0s\n",
      "[CV] END ........................C=1000000000.0, gamma=100.0; total time=   0.0s\n",
      "[CV] END .......................C=1000000000.0, gamma=1000.0; total time=   0.0s\n",
      "[CV] END .......................C=1000000000.0, gamma=1000.0; total time=   0.0s\n",
      "[CV] END .......................C=1000000000.0, gamma=1000.0; total time=   0.0s\n",
      "[CV] END .......................C=1000000000.0, gamma=1000.0; total time=   0.0s\n",
      "[CV] END .......................C=1000000000.0, gamma=1000.0; total time=   0.0s\n",
      "[CV] END .......................C=10000000000.0, gamma=1e-09; total time=   0.0s\n",
      "[CV] END .......................C=10000000000.0, gamma=1e-09; total time=   0.0s\n",
      "[CV] END .......................C=10000000000.0, gamma=1e-09; total time=   0.0s\n",
      "[CV] END .......................C=10000000000.0, gamma=1e-09; total time=   0.0s\n",
      "[CV] END .......................C=10000000000.0, gamma=1e-09; total time=   0.0s\n",
      "[CV] END .......................C=10000000000.0, gamma=1e-08; total time=   0.0s\n",
      "[CV] END .......................C=10000000000.0, gamma=1e-08; total time=   0.0s\n",
      "[CV] END .......................C=10000000000.0, gamma=1e-08; total time=   0.0s\n",
      "[CV] END .......................C=10000000000.0, gamma=1e-08; total time=   0.0s\n",
      "[CV] END .......................C=10000000000.0, gamma=1e-08; total time=   0.0s\n",
      "[CV] END .......................C=10000000000.0, gamma=1e-07; total time=   0.0s\n",
      "[CV] END .......................C=10000000000.0, gamma=1e-07; total time=   0.0s\n",
      "[CV] END .......................C=10000000000.0, gamma=1e-07; total time=   0.0s\n",
      "[CV] END .......................C=10000000000.0, gamma=1e-07; total time=   0.0s\n",
      "[CV] END .......................C=10000000000.0, gamma=1e-07; total time=   0.0s\n",
      "[CV] END .......................C=10000000000.0, gamma=1e-06; total time=   0.0s\n",
      "[CV] END .......................C=10000000000.0, gamma=1e-06; total time=   0.0s\n",
      "[CV] END .......................C=10000000000.0, gamma=1e-06; total time=   0.0s\n",
      "[CV] END .......................C=10000000000.0, gamma=1e-06; total time=   0.0s\n",
      "[CV] END .......................C=10000000000.0, gamma=1e-06; total time=   0.0s\n",
      "[CV] END .......................C=10000000000.0, gamma=1e-05; total time=   0.3s\n",
      "[CV] END .......................C=10000000000.0, gamma=1e-05; total time=   0.1s\n",
      "[CV] END .......................C=10000000000.0, gamma=1e-05; total time=   0.1s\n",
      "[CV] END .......................C=10000000000.0, gamma=1e-05; total time=   0.4s\n",
      "[CV] END .......................C=10000000000.0, gamma=1e-05; total time=   0.1s\n",
      "[CV] END ......................C=10000000000.0, gamma=0.0001; total time=   1.1s\n",
      "[CV] END ......................C=10000000000.0, gamma=0.0001; total time=   1.8s\n",
      "[CV] END ......................C=10000000000.0, gamma=0.0001; total time=   1.2s\n",
      "[CV] END ......................C=10000000000.0, gamma=0.0001; total time=   2.5s\n",
      "[CV] END ......................C=10000000000.0, gamma=0.0001; total time=   6.9s\n",
      "[CV] END .......................C=10000000000.0, gamma=0.001; total time=   0.0s\n",
      "[CV] END .......................C=10000000000.0, gamma=0.001; total time=   0.0s\n",
      "[CV] END .......................C=10000000000.0, gamma=0.001; total time=   0.0s\n",
      "[CV] END .......................C=10000000000.0, gamma=0.001; total time=   0.0s\n",
      "[CV] END .......................C=10000000000.0, gamma=0.001; total time=   0.1s\n",
      "[CV] END ........................C=10000000000.0, gamma=0.01; total time=   0.0s\n",
      "[CV] END ........................C=10000000000.0, gamma=0.01; total time=   0.0s\n",
      "[CV] END ........................C=10000000000.0, gamma=0.01; total time=   0.0s\n",
      "[CV] END ........................C=10000000000.0, gamma=0.01; total time=   0.0s\n",
      "[CV] END ........................C=10000000000.0, gamma=0.01; total time=   0.0s\n",
      "[CV] END .........................C=10000000000.0, gamma=0.1; total time=   0.0s\n",
      "[CV] END .........................C=10000000000.0, gamma=0.1; total time=   0.0s\n",
      "[CV] END .........................C=10000000000.0, gamma=0.1; total time=   0.0s\n",
      "[CV] END .........................C=10000000000.0, gamma=0.1; total time=   0.0s\n",
      "[CV] END .........................C=10000000000.0, gamma=0.1; total time=   0.0s\n",
      "[CV] END .........................C=10000000000.0, gamma=1.0; total time=   0.0s\n",
      "[CV] END .........................C=10000000000.0, gamma=1.0; total time=   0.0s\n",
      "[CV] END .........................C=10000000000.0, gamma=1.0; total time=   0.0s\n",
      "[CV] END .........................C=10000000000.0, gamma=1.0; total time=   0.0s\n",
      "[CV] END .........................C=10000000000.0, gamma=1.0; total time=   0.0s\n",
      "[CV] END ........................C=10000000000.0, gamma=10.0; total time=   0.0s\n",
      "[CV] END ........................C=10000000000.0, gamma=10.0; total time=   0.0s\n",
      "[CV] END ........................C=10000000000.0, gamma=10.0; total time=   0.0s\n",
      "[CV] END ........................C=10000000000.0, gamma=10.0; total time=   0.0s\n",
      "[CV] END ........................C=10000000000.0, gamma=10.0; total time=   0.0s\n",
      "[CV] END .......................C=10000000000.0, gamma=100.0; total time=   0.0s\n",
      "[CV] END .......................C=10000000000.0, gamma=100.0; total time=   0.0s\n",
      "[CV] END .......................C=10000000000.0, gamma=100.0; total time=   0.0s\n",
      "[CV] END .......................C=10000000000.0, gamma=100.0; total time=   0.0s\n",
      "[CV] END .......................C=10000000000.0, gamma=100.0; total time=   0.0s\n",
      "[CV] END ......................C=10000000000.0, gamma=1000.0; total time=   0.0s\n",
      "[CV] END ......................C=10000000000.0, gamma=1000.0; total time=   0.0s\n",
      "[CV] END ......................C=10000000000.0, gamma=1000.0; total time=   0.0s\n",
      "[CV] END ......................C=10000000000.0, gamma=1000.0; total time=   0.0s\n",
      "[CV] END ......................C=10000000000.0, gamma=1000.0; total time=   0.0s\n",
      "Succesful\n"
     ]
    }
   ],
   "source": [
    "C_range = np.logspace(-2, 10, 13)\n",
    "gamma_range = np.logspace(-9, 3, 13)\n",
    "param_grid = dict( gamma=gamma_range,C=C_range)\n",
    "grid = GridSearchCV(SVC(), param_grid=param_grid,verbose=2)\n",
    "grid.fit(X_train, y_train)"
   ]
  },
  {
   "cell_type": "markdown",
   "id": "9499c27d",
   "metadata": {},
   "source": [
    "### Best Parameter"
   ]
  },
  {
   "cell_type": "code",
   "execution_count": 41,
   "id": "323d281f",
   "metadata": {},
   "outputs": [
    {
     "name": "stdout",
     "output_type": "stream",
     "text": [
      "Best parameter is {'C': 10.0, 'gamma': 0.01}, with score of 0.9415856174476863\n"
     ]
    }
   ],
   "source": [
    "print(\"Best parameter is {}, with score of {}\".format(grid.best_params_, grid.best_score_))"
   ]
  },
  {
   "cell_type": "markdown",
   "id": "9e12e31c",
   "metadata": {},
   "source": [
    "### Predictions"
   ]
  },
  {
   "cell_type": "code",
   "execution_count": 43,
   "id": "0c5f64be",
   "metadata": {},
   "outputs": [],
   "source": [
    "y_pred = grid.predict(X_test)"
   ]
  },
  {
   "cell_type": "markdown",
   "id": "f873cc4f",
   "metadata": {},
   "source": [
    "### Confusion Matrix"
   ]
  },
  {
   "cell_type": "code",
   "execution_count": 44,
   "id": "b066575b",
   "metadata": {},
   "outputs": [
    {
     "name": "stdout",
     "output_type": "stream",
     "text": [
      "Confusion matrix:\n",
      "[[ 44   3]\n",
      " [  7 141]]\n"
     ]
    }
   ],
   "source": [
    "print(\"Confusion matrix:\\n{}\".format(confusion_matrix(y_pred, y_test)))"
   ]
  },
  {
   "cell_type": "markdown",
   "id": "4d669869",
   "metadata": {},
   "source": [
    "### Accuracy Score"
   ]
  },
  {
   "cell_type": "code",
   "execution_count": 45,
   "id": "77eb69eb",
   "metadata": {},
   "outputs": [
    {
     "name": "stdout",
     "output_type": "stream",
     "text": [
      "Accuracy Score: 0.9487179487179487\n"
     ]
    }
   ],
   "source": [
    "print(\"Accuracy Score: {}\".format(accuracy_score(y_pred, y_test)))"
   ]
  },
  {
   "cell_type": "markdown",
   "id": "9fb7c318",
   "metadata": {},
   "source": [
    "### Classification report"
   ]
  },
  {
   "cell_type": "code",
   "execution_count": 47,
   "id": "52fee1ef",
   "metadata": {},
   "outputs": [
    {
     "name": "stdout",
     "output_type": "stream",
     "text": [
      "Classification report:\n",
      "              precision    recall  f1-score   support\n",
      "\n",
      "           0       0.86      0.94      0.90        47\n",
      "           1       0.98      0.95      0.97       148\n",
      "\n",
      "    accuracy                           0.95       195\n",
      "   macro avg       0.92      0.94      0.93       195\n",
      "weighted avg       0.95      0.95      0.95       195\n",
      "\n"
     ]
    }
   ],
   "source": [
    "print(\"Classification report:\\n{}\".format(classification_report(y_pred, y_test)))"
   ]
  },
  {
   "cell_type": "markdown",
   "id": "06271f96",
   "metadata": {},
   "source": [
    "---"
   ]
  },
  {
   "cell_type": "markdown",
   "id": "c5c6cc7e",
   "metadata": {},
   "source": [
    "### RandomSearch CV model"
   ]
  },
  {
   "cell_type": "code",
   "execution_count": 48,
   "id": "0a30cf12",
   "metadata": {},
   "outputs": [
    {
     "name": "stdout",
     "output_type": "stream",
     "text": [
      "{'C': [0.1, 1, 10, 100], 'gamma': [1, 0.1, 0.01, 0.001]}\n",
      "Fitting 10 folds for each of 12 candidates, totalling 120 fits\n",
      "[CV] END .....................................C=0.1, gamma=1; total time=   0.0s\n",
      "[CV] END .....................................C=0.1, gamma=1; total time=   0.0s\n",
      "[CV] END .....................................C=0.1, gamma=1; total time=   0.0s\n",
      "[CV] END .....................................C=0.1, gamma=1; total time=   0.0s\n",
      "[CV] END .....................................C=0.1, gamma=1; total time=   0.0s\n",
      "[CV] END .....................................C=0.1, gamma=1; total time=   0.0s\n",
      "[CV] END .....................................C=0.1, gamma=1; total time=   0.0s\n",
      "[CV] END .....................................C=0.1, gamma=1; total time=   0.0s\n",
      "[CV] END .....................................C=0.1, gamma=1; total time=   0.0s\n",
      "[CV] END .....................................C=0.1, gamma=1; total time=   0.0s\n",
      "[CV] END ...................................C=1, gamma=0.001; total time=   0.0s\n",
      "[CV] END ...................................C=1, gamma=0.001; total time=   0.0s\n",
      "[CV] END ...................................C=1, gamma=0.001; total time=   0.0s\n",
      "[CV] END ...................................C=1, gamma=0.001; total time=   0.0s\n",
      "[CV] END ...................................C=1, gamma=0.001; total time=   0.0s\n",
      "[CV] END ...................................C=1, gamma=0.001; total time=   0.0s\n",
      "[CV] END ...................................C=1, gamma=0.001; total time=   0.0s\n",
      "[CV] END ...................................C=1, gamma=0.001; total time=   0.0s\n",
      "[CV] END ...................................C=1, gamma=0.001; total time=   0.0s\n",
      "[CV] END ...................................C=1, gamma=0.001; total time=   0.0s\n",
      "[CV] END ....................................C=10, gamma=0.1; total time=   0.0s\n",
      "[CV] END ....................................C=10, gamma=0.1; total time=   0.0s\n",
      "[CV] END ....................................C=10, gamma=0.1; total time=   0.0s\n",
      "[CV] END ....................................C=10, gamma=0.1; total time=   0.0s\n",
      "[CV] END ....................................C=10, gamma=0.1; total time=   0.0s\n",
      "[CV] END ....................................C=10, gamma=0.1; total time=   0.0s\n",
      "[CV] END ....................................C=10, gamma=0.1; total time=   0.0s\n",
      "[CV] END ....................................C=10, gamma=0.1; total time=   0.0s\n",
      "[CV] END ....................................C=10, gamma=0.1; total time=   0.0s\n",
      "[CV] END ....................................C=10, gamma=0.1; total time=   0.0s\n",
      "[CV] END .......................................C=1, gamma=1; total time=   0.0s\n",
      "[CV] END .......................................C=1, gamma=1; total time=   0.0s\n",
      "[CV] END .......................................C=1, gamma=1; total time=   0.0s\n",
      "[CV] END .......................................C=1, gamma=1; total time=   0.0s\n",
      "[CV] END .......................................C=1, gamma=1; total time=   0.0s\n",
      "[CV] END .......................................C=1, gamma=1; total time=   0.0s\n",
      "[CV] END .......................................C=1, gamma=1; total time=   0.0s\n",
      "[CV] END .......................................C=1, gamma=1; total time=   0.0s\n",
      "[CV] END .......................................C=1, gamma=1; total time=   0.0s\n",
      "[CV] END .......................................C=1, gamma=1; total time=   0.0s\n",
      "[CV] END .................................C=100, gamma=0.001; total time=   0.0s\n",
      "[CV] END .................................C=100, gamma=0.001; total time=   0.0s\n",
      "[CV] END .................................C=100, gamma=0.001; total time=   0.0s\n",
      "[CV] END .................................C=100, gamma=0.001; total time=   0.0s\n",
      "[CV] END .................................C=100, gamma=0.001; total time=   0.0s\n",
      "[CV] END .................................C=100, gamma=0.001; total time=   0.0s\n",
      "[CV] END .................................C=100, gamma=0.001; total time=   0.0s\n",
      "[CV] END .................................C=100, gamma=0.001; total time=   0.0s\n",
      "[CV] END .................................C=100, gamma=0.001; total time=   0.0s\n",
      "[CV] END .................................C=100, gamma=0.001; total time=   0.0s\n",
      "[CV] END ..................................C=0.1, gamma=0.01; total time=   0.0s\n",
      "[CV] END ..................................C=0.1, gamma=0.01; total time=   0.0s\n",
      "[CV] END ..................................C=0.1, gamma=0.01; total time=   0.0s\n",
      "[CV] END ..................................C=0.1, gamma=0.01; total time=   0.0s\n",
      "[CV] END ..................................C=0.1, gamma=0.01; total time=   0.0s\n",
      "[CV] END ..................................C=0.1, gamma=0.01; total time=   0.0s\n",
      "[CV] END ..................................C=0.1, gamma=0.01; total time=   0.0s\n",
      "[CV] END ..................................C=0.1, gamma=0.01; total time=   0.0s\n",
      "[CV] END ..................................C=0.1, gamma=0.01; total time=   0.0s\n",
      "[CV] END ..................................C=0.1, gamma=0.01; total time=   0.0s\n",
      "[CV] END ....................................C=1, gamma=0.01; total time=   0.0s\n",
      "[CV] END ....................................C=1, gamma=0.01; total time=   0.0s\n",
      "[CV] END ....................................C=1, gamma=0.01; total time=   0.0s\n",
      "[CV] END ....................................C=1, gamma=0.01; total time=   0.0s\n",
      "[CV] END ....................................C=1, gamma=0.01; total time=   0.0s\n",
      "[CV] END ....................................C=1, gamma=0.01; total time=   0.0s\n",
      "[CV] END ....................................C=1, gamma=0.01; total time=   0.0s\n",
      "[CV] END ....................................C=1, gamma=0.01; total time=   0.0s\n",
      "[CV] END ....................................C=1, gamma=0.01; total time=   0.0s\n",
      "[CV] END ....................................C=1, gamma=0.01; total time=   0.0s\n",
      "[CV] END ..................................C=10, gamma=0.001; total time=   0.0s\n",
      "[CV] END ..................................C=10, gamma=0.001; total time=   0.0s\n",
      "[CV] END ..................................C=10, gamma=0.001; total time=   0.0s\n",
      "[CV] END ..................................C=10, gamma=0.001; total time=   0.0s\n",
      "[CV] END ..................................C=10, gamma=0.001; total time=   0.0s\n",
      "[CV] END ..................................C=10, gamma=0.001; total time=   0.0s\n",
      "[CV] END ..................................C=10, gamma=0.001; total time=   0.0s\n",
      "[CV] END ..................................C=10, gamma=0.001; total time=   0.0s\n",
      "[CV] END ..................................C=10, gamma=0.001; total time=   0.0s\n",
      "[CV] END ..................................C=10, gamma=0.001; total time=   0.0s\n",
      "[CV] END .....................................C=1, gamma=0.1; total time=   0.0s\n",
      "[CV] END .....................................C=1, gamma=0.1; total time=   0.0s\n",
      "[CV] END .....................................C=1, gamma=0.1; total time=   0.0s\n",
      "[CV] END .....................................C=1, gamma=0.1; total time=   0.0s\n",
      "[CV] END .....................................C=1, gamma=0.1; total time=   0.0s\n",
      "[CV] END .....................................C=1, gamma=0.1; total time=   0.0s\n",
      "[CV] END .....................................C=1, gamma=0.1; total time=   0.0s\n",
      "[CV] END .....................................C=1, gamma=0.1; total time=   0.0s\n",
      "[CV] END .....................................C=1, gamma=0.1; total time=   0.0s\n",
      "[CV] END .....................................C=1, gamma=0.1; total time=   0.0s\n",
      "[CV] END ...................................C=100, gamma=0.1; total time=   0.0s\n",
      "[CV] END ...................................C=100, gamma=0.1; total time=   0.0s\n",
      "[CV] END ...................................C=100, gamma=0.1; total time=   0.0s\n",
      "[CV] END ...................................C=100, gamma=0.1; total time=   0.0s\n",
      "[CV] END ...................................C=100, gamma=0.1; total time=   0.0s\n",
      "[CV] END ...................................C=100, gamma=0.1; total time=   0.0s\n",
      "[CV] END ...................................C=100, gamma=0.1; total time=   0.0s\n",
      "[CV] END ...................................C=100, gamma=0.1; total time=   0.0s\n",
      "[CV] END ...................................C=100, gamma=0.1; total time=   0.0s\n",
      "[CV] END ...................................C=100, gamma=0.1; total time=   0.0s\n",
      "[CV] END ......................................C=10, gamma=1; total time=   0.0s\n",
      "[CV] END ......................................C=10, gamma=1; total time=   0.0s\n",
      "[CV] END ......................................C=10, gamma=1; total time=   0.0s\n",
      "[CV] END ......................................C=10, gamma=1; total time=   0.0s\n",
      "[CV] END ......................................C=10, gamma=1; total time=   0.0s\n",
      "[CV] END ......................................C=10, gamma=1; total time=   0.0s\n",
      "[CV] END ......................................C=10, gamma=1; total time=   0.0s\n",
      "[CV] END ......................................C=10, gamma=1; total time=   0.0s\n"
     ]
    },
    {
     "name": "stdout",
     "output_type": "stream",
     "text": [
      "[CV] END ......................................C=10, gamma=1; total time=   0.0s\n",
      "[CV] END ......................................C=10, gamma=1; total time=   0.0s\n",
      "[CV] END .....................................C=100, gamma=1; total time=   0.0s\n",
      "[CV] END .....................................C=100, gamma=1; total time=   0.0s\n",
      "[CV] END .....................................C=100, gamma=1; total time=   0.0s\n",
      "[CV] END .....................................C=100, gamma=1; total time=   0.0s\n",
      "[CV] END .....................................C=100, gamma=1; total time=   0.0s\n",
      "[CV] END .....................................C=100, gamma=1; total time=   0.0s\n",
      "[CV] END .....................................C=100, gamma=1; total time=   0.0s\n",
      "[CV] END .....................................C=100, gamma=1; total time=   0.0s\n",
      "[CV] END .....................................C=100, gamma=1; total time=   0.0s\n",
      "[CV] END .....................................C=100, gamma=1; total time=   0.0s\n"
     ]
    },
    {
     "data": {
      "text/plain": [
       "RandomizedSearchCV(cv=10, estimator=SVC(), n_iter=12,\n",
       "                   param_distributions={'C': [0.1, 1, 10, 100],\n",
       "                                        'gamma': [1, 0.1, 0.01, 0.001]},\n",
       "                   verbose=2)"
      ]
     },
     "execution_count": 48,
     "metadata": {},
     "output_type": "execute_result"
    }
   ],
   "source": [
    "params = {'C': [0.1,1, 10, 100], 'gamma': [1,0.1,0.01,0.001]}\n",
    "print (params)\n",
    "rgrid =  RandomizedSearchCV(SVC(), param_distributions=params, n_iter= 12,cv = 10,  verbose=2 )\n",
    "rgrid.fit(X_train, y_train)"
   ]
  },
  {
   "cell_type": "markdown",
   "id": "3822acb0",
   "metadata": {},
   "source": [
    "### Best parameter"
   ]
  },
  {
   "cell_type": "code",
   "execution_count": 49,
   "id": "61078402",
   "metadata": {},
   "outputs": [
    {
     "name": "stdout",
     "output_type": "stream",
     "text": [
      "Best parameter is {'gamma': 0.001, 'C': 10}, with score of 0.9330216247808301\n"
     ]
    }
   ],
   "source": [
    "print(\"Best parameter is {}, with score of {}\".format(rgrid.best_params_, rgrid.best_score_))"
   ]
  },
  {
   "cell_type": "markdown",
   "id": "4d9ed70b",
   "metadata": {},
   "source": [
    "### Confusion Matrix"
   ]
  },
  {
   "cell_type": "code",
   "execution_count": 50,
   "id": "3e5dd5a0",
   "metadata": {},
   "outputs": [
    {
     "name": "stdout",
     "output_type": "stream",
     "text": [
      "Confusion matrix:\n",
      "[[ 44   3]\n",
      " [  7 141]]\n"
     ]
    }
   ],
   "source": [
    "print(\"Confusion matrix:\\n{}\".format(confusion_matrix(y_pred, y_test)))"
   ]
  },
  {
   "cell_type": "markdown",
   "id": "a16c11cf",
   "metadata": {},
   "source": [
    "### Accuracy Score"
   ]
  },
  {
   "cell_type": "code",
   "execution_count": 51,
   "id": "ac1a0478",
   "metadata": {},
   "outputs": [
    {
     "name": "stdout",
     "output_type": "stream",
     "text": [
      "Accuracy Score: 0.9487179487179487\n"
     ]
    }
   ],
   "source": [
    "print(\"Accuracy Score: {}\".format(accuracy_score(y_pred, y_test)))"
   ]
  },
  {
   "cell_type": "markdown",
   "id": "1ebc9649",
   "metadata": {},
   "source": [
    "### Classification report"
   ]
  },
  {
   "cell_type": "code",
   "execution_count": 52,
   "id": "ef1e02f4",
   "metadata": {},
   "outputs": [
    {
     "name": "stdout",
     "output_type": "stream",
     "text": [
      "Classification report:\n",
      "              precision    recall  f1-score   support\n",
      "\n",
      "           0       0.86      0.94      0.90        47\n",
      "           1       0.98      0.95      0.97       148\n",
      "\n",
      "    accuracy                           0.95       195\n",
      "   macro avg       0.92      0.94      0.93       195\n",
      "weighted avg       0.95      0.95      0.95       195\n",
      "\n"
     ]
    }
   ],
   "source": [
    "print(\"Classification report:\\n{}\".format(classification_report(y_pred, y_test)))"
   ]
  },
  {
   "cell_type": "markdown",
   "id": "d8b25554",
   "metadata": {},
   "source": [
    "---"
   ]
  },
  {
   "cell_type": "markdown",
   "id": "43f4df85",
   "metadata": {},
   "source": [
    "---"
   ]
  }
 ],
 "metadata": {
  "kernelspec": {
   "display_name": "Python 3",
   "language": "python",
   "name": "python3"
  },
  "language_info": {
   "codemirror_mode": {
    "name": "ipython",
    "version": 3
   },
   "file_extension": ".py",
   "mimetype": "text/x-python",
   "name": "python",
   "nbconvert_exporter": "python",
   "pygments_lexer": "ipython3",
   "version": "3.8.8"
  }
 },
 "nbformat": 4,
 "nbformat_minor": 5
}
