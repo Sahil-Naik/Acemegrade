{
 "cells": [
  {
   "cell_type": "markdown",
   "id": "256c6238",
   "metadata": {},
   "source": [
    "### Q1. Write a program which will find factors of given number and find whether the factor is even or odd."
   ]
  },
  {
   "cell_type": "code",
   "execution_count": 11,
   "id": "88c144af",
   "metadata": {},
   "outputs": [
    {
     "name": "stdout",
     "output_type": "stream",
     "text": [
      "Factors of 50 are: \n",
      "Factor is  odd: 1\n",
      "Factor is even: 2\n",
      "Factor is  odd: 5\n",
      "Factor is even: 10\n",
      "Factor is  odd: 25\n",
      "Factor is even: 50\n"
     ]
    }
   ],
   "source": [
    "def find_facts(num1):\n",
    "    print(\"Factors of {} are: \".format(num1))\n",
    "    for i in range(1,num1+1):\n",
    "        left = num1%i\n",
    "        if (left == 0):\n",
    "            if (i%2==0):\n",
    "                print(\"Factor is even: {}\".format(i))\n",
    "            else:\n",
    "                print(\"Factor is  odd: {}\".format(i))\n",
    "        else:\n",
    "            pass\n",
    "            \n",
    "find_facts(50)"
   ]
  },
  {
   "cell_type": "markdown",
   "id": "ea8d6b09",
   "metadata": {},
   "source": [
    "---"
   ]
  },
  {
   "cell_type": "markdown",
   "id": "96b25f59",
   "metadata": {},
   "source": [
    "### Q2. Write a code which accepts a sequence of words as input and prints the words in a sequence after sorting them alphabetically."
   ]
  },
  {
   "cell_type": "code",
   "execution_count": 18,
   "id": "3e26f4b5",
   "metadata": {},
   "outputs": [
    {
     "name": "stdout",
     "output_type": "stream",
     "text": [
      "Enter words:  Welcome to Python\n",
      "Sorted sequence is: Python Welcome to "
     ]
    }
   ],
   "source": [
    "def sort_word(the_word):\n",
    "    list_word = the_word.split()\n",
    "    list_word.sort()\n",
    "    print(\"Sorted sequence is: \",end=\"\")\n",
    "    for x in list_word:\n",
    "        print(x,end=\" \")\n",
    "    \n",
    "get_word = input(\"Enter words:  \")\n",
    "sort_word(get_word)"
   ]
  },
  {
   "cell_type": "markdown",
   "id": "55491ce5",
   "metadata": {},
   "source": [
    "---"
   ]
  },
  {
   "cell_type": "markdown",
   "id": "fbc381eb",
   "metadata": {},
   "source": [
    "### Q3. Write a program, which will find all the numbers between 1000 and 3000 (both included) such that each digit of a number is an even number. The numbers obtained should be printed in a comma separated sequence on a single line."
   ]
  },
  {
   "cell_type": "code",
   "execution_count": 31,
   "id": "4d42bcc0",
   "metadata": {},
   "outputs": [
    {
     "name": "stdout",
     "output_type": "stream",
     "text": [
      "2000,\t2002,\t2004,\t2006,\t2008,\t2020,\t2022,\t2024,\t2026,\t2028,\t2040,\t2042,\t2044,\t2046,\t2048,\t2060,\t2062,\t2064,\t2066,\t2068,\t2080,\t2082,\t2084,\t2086,\t2088,\t2100,\t2102,\t2104,\t2106,\t2108,\t2120,\t2122,\t2124,\t2126,\t2128,\t2140,\t2142,\t2144,\t2146,\t2148,\t2160,\t2162,\t2164,\t2166,\t2168,\t2180,\t2182,\t2184,\t2186,\t2188,\t2200,\t2202,\t2204,\t2206,\t2208,\t2220,\t2222,\t2224,\t2226,\t2228,\t2240,\t2242,\t2244,\t2246,\t2248,\t2260,\t2262,\t2264,\t2266,\t2268,\t2280,\t2282,\t2284,\t2286,\t2288,\t2300,\t2302,\t2304,\t2306,\t2308,\t2320,\t2322,\t2324,\t2326,\t2328,\t2340,\t2342,\t2344,\t2346,\t2348,\t2360,\t2362,\t2364,\t2366,\t2368,\t2380,\t2382,\t2384,\t2386,\t2388,\t2400,\t2402,\t2404,\t2406,\t2408,\t2420,\t2422,\t2424,\t2426,\t2428,\t2440,\t2442,\t2444,\t2446,\t2448,\t2460,\t2462,\t2464,\t2466,\t2468,\t2480,\t2482,\t2484,\t2486,\t2488,\t2500,\t2502,\t2504,\t2506,\t2508,\t2520,\t2522,\t2524,\t2526,\t2528,\t2540,\t2542,\t2544,\t2546,\t2548,\t2560,\t2562,\t2564,\t2566,\t2568,\t2580,\t2582,\t2584,\t2586,\t2588,\t2600,\t2602,\t2604,\t2606,\t2608,\t2620,\t2622,\t2624,\t2626,\t2628,\t2640,\t2642,\t2644,\t2646,\t2648,\t2660,\t2662,\t2664,\t2666,\t2668,\t2680,\t2682,\t2684,\t2686,\t2688,\t2700,\t2702,\t2704,\t2706,\t2708,\t2720,\t2722,\t2724,\t2726,\t2728,\t2740,\t2742,\t2744,\t2746,\t2748,\t2760,\t2762,\t2764,\t2766,\t2768,\t2780,\t2782,\t2784,\t2786,\t2788,\t2800,\t2802,\t2804,\t2806,\t2808,\t2820,\t2822,\t2824,\t2826,\t2828,\t2840,\t2842,\t2844,\t2846,\t2848,\t2860,\t2862,\t2864,\t2866,\t2868,\t2880,\t2882,\t2884,\t2886,\t2888,\t2900,\t2902,\t2904,\t2906,\t2908,\t2920,\t2922,\t2924,\t2926,\t2928,\t2940,\t2942,\t2944,\t2946,\t2948,\t2960,\t2962,\t2964,\t2966,\t2968,\t2980,\t2982,\t2984,\t2986,\t2988,\t"
     ]
    }
   ],
   "source": [
    "ran = [x for x in range(1000,3001)]\n",
    "for x in ran:\n",
    "    temp = str(x)\n",
    "    if (int(temp[0])%2==0) and (int(temp[1])%1==0) and (int(temp[2])%2==0) and (int(temp[3])%2==0):\n",
    "        print(temp,end=\",\\t\")"
   ]
  },
  {
   "cell_type": "markdown",
   "id": "5cc7bcf0",
   "metadata": {},
   "source": [
    "---"
   ]
  },
  {
   "cell_type": "markdown",
   "id": "99caef22",
   "metadata": {},
   "source": [
    "### Q4. Write a program that accepts a sentence and calculate the number of letters and digits."
   ]
  },
  {
   "cell_type": "markdown",
   "id": "47d79d4c",
   "metadata": {},
   "source": [
    "**Method-1:** No Built-in modules used."
   ]
  },
  {
   "cell_type": "code",
   "execution_count": 42,
   "id": "8a3e6296",
   "metadata": {},
   "outputs": [
    {
     "name": "stdout",
     "output_type": "stream",
     "text": [
      "Enter a sentence: Hello world 32\n",
      "Number of letters: 10\n",
      "Number of digits: 2\n"
     ]
    }
   ],
   "source": [
    "let = \"ABCDEFGHIJKLMNOPQRSTUVWXYZ\"\n",
    "num = \"1234567890\"\n",
    "\n",
    "count_lets = 0\n",
    "count_nums = 0\n",
    "\n",
    "get_ = input(\"Enter a sentence: \")\n",
    "\n",
    "for x in get_:\n",
    "    if x.capitalize() in let:\n",
    "        count_lets+=1\n",
    "    elif x in num:\n",
    "        count_nums+=1\n",
    "        \n",
    "print(\"Number of letters: {}\\nNumber of digits: {}\".format(count_lets,count_nums))"
   ]
  },
  {
   "cell_type": "markdown",
   "id": "22d6a1e6",
   "metadata": {},
   "source": [
    "**Method-2:** Built-in modules used."
   ]
  },
  {
   "cell_type": "code",
   "execution_count": 44,
   "id": "e5ad50f2",
   "metadata": {},
   "outputs": [
    {
     "name": "stdout",
     "output_type": "stream",
     "text": [
      "Enter a sentence: Python0325\n",
      "Number of letters: 6\n",
      "Number of digits: 4\n"
     ]
    }
   ],
   "source": [
    "count_alpha = 0\n",
    "count_digi = 0\n",
    "\n",
    "get_ = input(\"Enter a sentence: \")\n",
    "\n",
    "for x in get_:\n",
    "    if x.isalpha():\n",
    "        count_alpha+=1\n",
    "    elif x.isdigit():\n",
    "        count_digi+=1\n",
    "        \n",
    "print(\"Number of letters: {}\\nNumber of digits: {}\".format(count_alpha,count_digi))"
   ]
  },
  {
   "cell_type": "markdown",
   "id": "2f0c6afd",
   "metadata": {},
   "source": [
    "---"
   ]
  },
  {
   "cell_type": "markdown",
   "id": "44cd9571",
   "metadata": {},
   "source": [
    "### Q5. Design a code which will find the given number is Palindrome number or not."
   ]
  },
  {
   "cell_type": "code",
   "execution_count": 63,
   "id": "7b35b006",
   "metadata": {},
   "outputs": [
    {
     "name": "stdout",
     "output_type": "stream",
     "text": [
      "Enter a word: NiTin\n",
      "It is Palindrome!\n"
     ]
    }
   ],
   "source": [
    "def is_pali(get_word):\n",
    "    get_word.capitalize()\n",
    "    rev_word = reversed(get_word)\n",
    "    if list(get_word) == list(rev_word):\n",
    "        print(\"It is Palindrome!\")\n",
    "    else:\n",
    "        print(\"It is not a Palindrome!\")\n",
    "        \n",
    "enter_ = input(\"Enter a word: \").upper()\n",
    "is_pali(enter_)"
   ]
  },
  {
   "cell_type": "markdown",
   "id": "d9fb1bf7",
   "metadata": {},
   "source": [
    "---"
   ]
  }
 ],
 "metadata": {
  "kernelspec": {
   "display_name": "Python 3",
   "language": "python",
   "name": "python3"
  },
  "language_info": {
   "codemirror_mode": {
    "name": "ipython",
    "version": 3
   },
   "file_extension": ".py",
   "mimetype": "text/x-python",
   "name": "python",
   "nbconvert_exporter": "python",
   "pygments_lexer": "ipython3",
   "version": "3.8.8"
  }
 },
 "nbformat": 4,
 "nbformat_minor": 5
}
