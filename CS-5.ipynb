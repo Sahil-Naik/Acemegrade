{
 "cells": [
  {
   "cell_type": "markdown",
   "id": "d56fcfe2",
   "metadata": {},
   "source": [
    "### Q1. What is the output of the following code?\n",
    "\n",
    "nums = set([1,1,2,3,3,3,4,4])<br>\n",
    "print(len(nums))"
   ]
  },
  {
   "cell_type": "markdown",
   "id": "26a038d9",
   "metadata": {},
   "source": [
    "### Ans: 4"
   ]
  },
  {
   "cell_type": "markdown",
   "id": "472d0966",
   "metadata": {},
   "source": [
    "---"
   ]
  },
  {
   "cell_type": "markdown",
   "id": "39df410d",
   "metadata": {},
   "source": [
    "### Q2. What will be the output?\n",
    "\n",
    "d = {\"john\":40, \"peter\":45}<br>\n",
    "print(list(d.keys()))"
   ]
  },
  {
   "cell_type": "markdown",
   "id": "3e1702e5",
   "metadata": {},
   "source": [
    "### Ans: john, peter"
   ]
  },
  {
   "cell_type": "markdown",
   "id": "1e6ad4c4",
   "metadata": {},
   "source": [
    "---"
   ]
  },
  {
   "cell_type": "markdown",
   "id": "414af3ce",
   "metadata": {},
   "source": [
    "### Q3. Write a for loop that prints all elements of a list and their position in the list.\n",
    "\n",
    "\n",
    "a = [4,7,3,2,5,9]"
   ]
  },
  {
   "cell_type": "code",
   "execution_count": 7,
   "id": "9f17c8b1",
   "metadata": {},
   "outputs": [
    {
     "name": "stdout",
     "output_type": "stream",
     "text": [
      "Position of 4 in list is at 1.\n",
      "Position of 7 in list is at 2.\n",
      "Position of 3 in list is at 3.\n",
      "Position of 2 in list is at 4.\n",
      "Position of 5 in list is at 5.\n",
      "Position of 9 in list is at 6.\n"
     ]
    }
   ],
   "source": [
    "a = [4,7,3,2,5,9]\n",
    "for i in a:\n",
    "    print(\"Position of {} in list is at {}.\".format(i,a.index(i)+1))"
   ]
  },
  {
   "cell_type": "markdown",
   "id": "c8fca3a6",
   "metadata": {},
   "source": [
    "---"
   ]
  },
  {
   "cell_type": "markdown",
   "id": "76cf91c5",
   "metadata": {},
   "source": [
    "### Q4. Please write a program which accepts a string from console and print the characters that have even indexes."
   ]
  },
  {
   "cell_type": "code",
   "execution_count": 12,
   "id": "146e801a",
   "metadata": {},
   "outputs": [
    {
     "name": "stdout",
     "output_type": "stream",
     "text": [
      "Enter : H1e2l3l4o5w6o7r8l9d\n",
      "Helloworld\n"
     ]
    }
   ],
   "source": [
    "get_sen = input(\"Enter : \")\n",
    "temp_list = [get_sen[::2]]\n",
    "print(temp_list[-1])"
   ]
  },
  {
   "cell_type": "markdown",
   "id": "ab973e61",
   "metadata": {},
   "source": [
    "---"
   ]
  },
  {
   "cell_type": "markdown",
   "id": "54125e4e",
   "metadata": {},
   "source": [
    "### Q5. Please write a program which accepts a string from console and print it in reverse order."
   ]
  },
  {
   "cell_type": "code",
   "execution_count": 15,
   "id": "f6f64e4f",
   "metadata": {},
   "outputs": [
    {
     "name": "stdout",
     "output_type": "stream",
     "text": [
      "Enter: rise to vote sir\n",
      "ris etov ot esir"
     ]
    }
   ],
   "source": [
    "get_word = input(\"Enter: \")\n",
    "rev_word = reversed(get_word)\n",
    "temp = list(rev_word)\n",
    "for i in temp:\n",
    "    print(i,end=\"\")"
   ]
  },
  {
   "cell_type": "markdown",
   "id": "a85f54f4",
   "metadata": {},
   "source": [
    "---"
   ]
  },
  {
   "cell_type": "markdown",
   "id": "12906c27",
   "metadata": {},
   "source": [
    "### Q6. Please write a program which count and print the numbers of each character in a string input by console."
   ]
  },
  {
   "cell_type": "code",
   "execution_count": 31,
   "id": "0a0ce7cb",
   "metadata": {},
   "outputs": [
    {
     "name": "stdout",
     "output_type": "stream",
     "text": [
      "e:1\n",
      "a:2\n",
      "b:2\n",
      "f:1\n",
      "d:1\n",
      "g:1\n",
      "c:2\n"
     ]
    }
   ],
   "source": [
    "def count_alpha(get_word):\n",
    "    temp_set = set(get_word)\n",
    "    for i in temp_set:\n",
    "        print(\"{}:{}\".format(i,get_word.count(i)))\n",
    "        \n",
    "count_alpha(\"abcdefgabc\")"
   ]
  },
  {
   "cell_type": "markdown",
   "id": "65a8681c",
   "metadata": {},
   "source": [
    "---"
   ]
  },
  {
   "cell_type": "markdown",
   "id": "0614b9e5",
   "metadata": {},
   "source": [
    "### Q7. With two given lists [1,3,6,78,35,55] and [12,24,35,24,88,120,155], write a program to make a list whose elements are intersection of the above given lists."
   ]
  },
  {
   "cell_type": "code",
   "execution_count": 41,
   "id": "9e13a900",
   "metadata": {},
   "outputs": [
    {
     "name": "stdout",
     "output_type": "stream",
     "text": [
      "{35}\n"
     ]
    }
   ],
   "source": [
    "lis1 = [1,3,6,78,35,55]\n",
    "lis2 = [12,24,35,24,88,120,155]\n",
    "\n",
    "print(set(lis1).intersection(set(lis2)))"
   ]
  },
  {
   "cell_type": "markdown",
   "id": "d88b05ec",
   "metadata": {},
   "source": [
    "---"
   ]
  },
  {
   "cell_type": "markdown",
   "id": "4e7e0363",
   "metadata": {},
   "source": [
    "### Q8. Write a program to print the list after removing the value 24 in [12,24,35,24,88,120,155]."
   ]
  },
  {
   "cell_type": "code",
   "execution_count": 44,
   "id": "3d376bfe",
   "metadata": {},
   "outputs": [
    {
     "name": "stdout",
     "output_type": "stream",
     "text": [
      "[12, 35, 88, 120, 155]\n"
     ]
    }
   ],
   "source": [
    "list1 = [12,24,35,24,88,120,155]\n",
    "temp2 = [x for x in list1 if x!=24]\n",
    "print(temp2)"
   ]
  },
  {
   "cell_type": "markdown",
   "id": "b9793414",
   "metadata": {},
   "source": [
    "---"
   ]
  },
  {
   "cell_type": "markdown",
   "id": "0d424295",
   "metadata": {},
   "source": [
    "### Q9. Write a program to print the list after removing the 0th,4th,5th numbers in [12,24,35,70,88,120,155]."
   ]
  },
  {
   "cell_type": "code",
   "execution_count": 47,
   "id": "e3688056",
   "metadata": {},
   "outputs": [
    {
     "name": "stdout",
     "output_type": "stream",
     "text": [
      "[24, 35, 70, 155]\n"
     ]
    }
   ],
   "source": [
    "num_list = [12,24,35,70,88,120,155]\n",
    "num_list = [x for (i,x) in enumerate(num_list) if i not in (0,4,5)]\n",
    "        \n",
    "print(num_list)"
   ]
  },
  {
   "cell_type": "markdown",
   "id": "31c4dddc",
   "metadata": {},
   "source": [
    "---"
   ]
  },
  {
   "cell_type": "markdown",
   "id": "b039fe40",
   "metadata": {},
   "source": [
    "### Q10. Write a program to print the list after removing delete numbers which are divisible by 5 and 7 in [12,24,35,70,88,120,155].\n"
   ]
  },
  {
   "cell_type": "code",
   "execution_count": 55,
   "id": "b50869cf",
   "metadata": {},
   "outputs": [
    {
     "name": "stdout",
     "output_type": "stream",
     "text": [
      "[12, 24, 88, 120, 155]\n"
     ]
    }
   ],
   "source": [
    "num_list2 = [12,24,35,70,88,120,155]\n",
    "num_list2 = [x for x in num_list2 if not(x%5==0 and x%7==0)]\n",
    "        \n",
    "print(num_list2)"
   ]
  },
  {
   "cell_type": "markdown",
   "id": "2a7892f7",
   "metadata": {},
   "source": [
    "---"
   ]
  },
  {
   "cell_type": "markdown",
   "id": "560655aa",
   "metadata": {},
   "source": [
    "### Q11. Write a program to compute 1/2+2/3+3/4+...+n/n+1 with a given n input by console (n>0)."
   ]
  },
  {
   "cell_type": "code",
   "execution_count": 87,
   "id": "8c481c9c",
   "metadata": {},
   "outputs": [
    {
     "name": "stdout",
     "output_type": "stream",
     "text": [
      "Enter the number of terms: 5\n",
      "3.55\n"
     ]
    }
   ],
   "source": [
    "n=int(input(\"Enter the number of terms: \"))\n",
    "sum1=[]\n",
    "for i in range(1,n+1):\n",
    "    temp = float(float(i)/(i+1))\n",
    "    sum1.append(temp)\n",
    "    \n",
    "print(round(sum(sum1),3))"
   ]
  },
  {
   "cell_type": "markdown",
   "id": "2c3890cd",
   "metadata": {},
   "source": [
    "---"
   ]
  }
 ],
 "metadata": {
  "kernelspec": {
   "display_name": "Python 3",
   "language": "python",
   "name": "python3"
  },
  "language_info": {
   "codemirror_mode": {
    "name": "ipython",
    "version": 3
   },
   "file_extension": ".py",
   "mimetype": "text/x-python",
   "name": "python",
   "nbconvert_exporter": "python",
   "pygments_lexer": "ipython3",
   "version": "3.8.8"
  }
 },
 "nbformat": 4,
 "nbformat_minor": 5
}
