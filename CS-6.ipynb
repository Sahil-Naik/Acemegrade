{
 "cells": [
  {
   "cell_type": "markdown",
   "id": "6b934303",
   "metadata": {},
   "source": [
    "### Business challenge/requirement\n",
    "LifeTel Telecom is the latest entrant in the highly competitive Telecom market of Singapore. It issues SIM to the verified users. Till now verification was manual through the photocopy of approved id card document. However, government has recently introduced Social ID called Reference ID which is mapped to fingerprint of user. LifeTel should now verify user against the fingerprint and Reference ID\n",
    "\n",
    "**Key issues**<br>\n",
    "Build a system where when user enters Reference ID it is encrypted, so that hackers cannot view the mapping of Reference ID and finger print\n",
    "\n",
    "**Considerations**<br>\n",
    "System should be secure\n",
    "\n",
    "**Data volume:**\n",
    "NA\n",
    "\n",
    "**Additional information:**\n",
    "NA\n",
    "\n",
    "**Business benefits**<br>\n",
    "Company will be able to quickly issue SIM to user and expected gain in volume is approximately 10 times as the manual process of verification is replaced with secure automated system\n",
    "\n",
    "**Approach to Solve**<br>\n",
    "Read the input from command line – Reference ID\n"
   ]
  },
  {
   "cell_type": "code",
   "execution_count": 37,
   "id": "224f9acc",
   "metadata": {},
   "outputs": [
    {
     "name": "stdout",
     "output_type": "stream",
     "text": [
      "\n",
      "1=Encrypt User-ID\n",
      "2=Decrypt User-ID\n",
      "3=Exit\n",
      "Enter Choice: 2\n",
      "Enter ID: MTIzNDU2Nzg5MTAy\n",
      "Decrypted-ID is: b'123456789102'\n",
      "\n",
      "1=Encrypt User-ID\n",
      "2=Decrypt User-ID\n",
      "3=Exit\n",
      "Enter Choice: 3\n"
     ]
    }
   ],
   "source": [
    "import base64\n",
    "\n",
    "\n",
    "def check_valid(get_id):\n",
    "    is_valid = True\n",
    "    \n",
    "    allowed = \"ABCDEFGHIJKLMNOPQRSTUVWXYZ\"+\"abcdefghijklmnopqrstuvwxyz\"+\"0123456789\"\n",
    "    \n",
    "    if len(get_id)!=12:\n",
    "        print(\"Reference ID should be 12 characters.\")\n",
    "        is_valid = False\n",
    "    else:\n",
    "        for x in get_id:\n",
    "            if x not in allowed:\n",
    "                is_valid = False\n",
    "                print(\"Characters Restriction!\")\n",
    "                break\n",
    "            else:\n",
    "                is_valid = True\n",
    "        print(\"Reference Validity : {}\".format(is_valid))\n",
    "        encrypt(get_id)\n",
    "\n",
    "        \n",
    "# Function for Encrpyting given user ID\n",
    "def encrypt(user_id):\n",
    "    user_encrypted = base64.b64encode(user_id.encode())\n",
    "    print(\"Encrypted-ID is: {}\".format(user_encrypted))\n",
    "\n",
    "# Function for Decrpyting given user ID\n",
    "def decrypt(user_en_id):\n",
    "    decoded = base64.b64decode(user_en_id)\n",
    "    print(\"Decrypted-ID is: {}\".format(decoded))\n",
    "\n",
    "    \n",
    "# Choices Code/User Choice Page \n",
    "exit = 0\n",
    "while exit!=1:\n",
    "    choice = int(input(\"\\n1=Encrypt User-ID\\n2=Decrypt User-ID\\n3=Exit\\nEnter Choice: \"))\n",
    "    if choice == 1:\n",
    "        user_id = input(\"Enter ID: \")\n",
    "        check_valid(user_id)\n",
    "        \n",
    "    elif choice == 2:\n",
    "        user_id = input(\"Enter ID: \")\n",
    "        decrypt(user_id)       \n",
    "        \n",
    "    elif choice == 3:\n",
    "        print(\"Exiting...\")\n",
    "        exit+=1\n",
    "        \n",
    "    else:\n",
    "        print(\"Invalid Choice!\")"
   ]
  }
 ],
 "metadata": {
  "kernelspec": {
   "display_name": "Python 3",
   "language": "python",
   "name": "python3"
  },
  "language_info": {
   "codemirror_mode": {
    "name": "ipython",
    "version": 3
   },
   "file_extension": ".py",
   "mimetype": "text/x-python",
   "name": "python",
   "nbconvert_exporter": "python",
   "pygments_lexer": "ipython3",
   "version": "3.8.8"
  }
 },
 "nbformat": 4,
 "nbformat_minor": 5
}
