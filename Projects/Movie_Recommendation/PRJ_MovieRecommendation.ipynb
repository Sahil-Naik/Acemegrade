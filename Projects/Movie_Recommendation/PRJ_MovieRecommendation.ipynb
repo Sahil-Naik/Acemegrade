{
 "cells": [
  {
   "cell_type": "markdown",
   "id": "c4c2af9b",
   "metadata": {},
   "source": [
    "# Project - Movie Recommendation"
   ]
  },
  {
   "cell_type": "markdown",
   "id": "74009213",
   "metadata": {},
   "source": [
    "### Importing libraries"
   ]
  },
  {
   "cell_type": "code",
   "execution_count": 50,
   "id": "ecc8dd90",
   "metadata": {},
   "outputs": [],
   "source": [
    "import numpy as np\n",
    "import pandas as pd\n",
    "import difflib\n",
    "from sklearn.feature_extraction.text import TfidfVectorizer\n",
    "from sklearn.metrics.pairwise import cosine_similarity"
   ]
  },
  {
   "cell_type": "markdown",
   "id": "3906f9bc",
   "metadata": {},
   "source": [
    "### Loading data"
   ]
  },
  {
   "cell_type": "code",
   "execution_count": 51,
   "id": "ee8d2be3",
   "metadata": {},
   "outputs": [
    {
     "data": {
      "text/html": [
       "<div>\n",
       "<style scoped>\n",
       "    .dataframe tbody tr th:only-of-type {\n",
       "        vertical-align: middle;\n",
       "    }\n",
       "\n",
       "    .dataframe tbody tr th {\n",
       "        vertical-align: top;\n",
       "    }\n",
       "\n",
       "    .dataframe thead th {\n",
       "        text-align: right;\n",
       "    }\n",
       "</style>\n",
       "<table border=\"1\" class=\"dataframe\">\n",
       "  <thead>\n",
       "    <tr style=\"text-align: right;\">\n",
       "      <th></th>\n",
       "      <th>index</th>\n",
       "      <th>budget</th>\n",
       "      <th>genres</th>\n",
       "      <th>homepage</th>\n",
       "      <th>id</th>\n",
       "      <th>keywords</th>\n",
       "      <th>original_language</th>\n",
       "      <th>original_title</th>\n",
       "      <th>overview</th>\n",
       "      <th>popularity</th>\n",
       "      <th>...</th>\n",
       "      <th>runtime</th>\n",
       "      <th>spoken_languages</th>\n",
       "      <th>status</th>\n",
       "      <th>tagline</th>\n",
       "      <th>title</th>\n",
       "      <th>vote_average</th>\n",
       "      <th>vote_count</th>\n",
       "      <th>cast</th>\n",
       "      <th>crew</th>\n",
       "      <th>director</th>\n",
       "    </tr>\n",
       "  </thead>\n",
       "  <tbody>\n",
       "    <tr>\n",
       "      <th>0</th>\n",
       "      <td>0</td>\n",
       "      <td>237000000</td>\n",
       "      <td>Action Adventure Fantasy Science Fiction</td>\n",
       "      <td>http://www.avatarmovie.com/</td>\n",
       "      <td>19995</td>\n",
       "      <td>culture clash future space war space colony so...</td>\n",
       "      <td>en</td>\n",
       "      <td>Avatar</td>\n",
       "      <td>In the 22nd century, a paraplegic Marine is di...</td>\n",
       "      <td>150.437577</td>\n",
       "      <td>...</td>\n",
       "      <td>162.0</td>\n",
       "      <td>[{\"iso_639_1\": \"en\", \"name\": \"English\"}, {\"iso...</td>\n",
       "      <td>Released</td>\n",
       "      <td>Enter the World of Pandora.</td>\n",
       "      <td>Avatar</td>\n",
       "      <td>7.2</td>\n",
       "      <td>11800</td>\n",
       "      <td>Sam Worthington Zoe Saldana Sigourney Weaver S...</td>\n",
       "      <td>[{'name': 'Stephen E. Rivkin', 'gender': 0, 'd...</td>\n",
       "      <td>James Cameron</td>\n",
       "    </tr>\n",
       "    <tr>\n",
       "      <th>1</th>\n",
       "      <td>1</td>\n",
       "      <td>300000000</td>\n",
       "      <td>Adventure Fantasy Action</td>\n",
       "      <td>http://disney.go.com/disneypictures/pirates/</td>\n",
       "      <td>285</td>\n",
       "      <td>ocean drug abuse exotic island east india trad...</td>\n",
       "      <td>en</td>\n",
       "      <td>Pirates of the Caribbean: At World's End</td>\n",
       "      <td>Captain Barbossa, long believed to be dead, ha...</td>\n",
       "      <td>139.082615</td>\n",
       "      <td>...</td>\n",
       "      <td>169.0</td>\n",
       "      <td>[{\"iso_639_1\": \"en\", \"name\": \"English\"}]</td>\n",
       "      <td>Released</td>\n",
       "      <td>At the end of the world, the adventure begins.</td>\n",
       "      <td>Pirates of the Caribbean: At World's End</td>\n",
       "      <td>6.9</td>\n",
       "      <td>4500</td>\n",
       "      <td>Johnny Depp Orlando Bloom Keira Knightley Stel...</td>\n",
       "      <td>[{'name': 'Dariusz Wolski', 'gender': 2, 'depa...</td>\n",
       "      <td>Gore Verbinski</td>\n",
       "    </tr>\n",
       "    <tr>\n",
       "      <th>2</th>\n",
       "      <td>2</td>\n",
       "      <td>245000000</td>\n",
       "      <td>Action Adventure Crime</td>\n",
       "      <td>http://www.sonypictures.com/movies/spectre/</td>\n",
       "      <td>206647</td>\n",
       "      <td>spy based on novel secret agent sequel mi6</td>\n",
       "      <td>en</td>\n",
       "      <td>Spectre</td>\n",
       "      <td>A cryptic message from Bond’s past sends him o...</td>\n",
       "      <td>107.376788</td>\n",
       "      <td>...</td>\n",
       "      <td>148.0</td>\n",
       "      <td>[{\"iso_639_1\": \"fr\", \"name\": \"Fran\\u00e7ais\"},...</td>\n",
       "      <td>Released</td>\n",
       "      <td>A Plan No One Escapes</td>\n",
       "      <td>Spectre</td>\n",
       "      <td>6.3</td>\n",
       "      <td>4466</td>\n",
       "      <td>Daniel Craig Christoph Waltz L\\u00e9a Seydoux ...</td>\n",
       "      <td>[{'name': 'Thomas Newman', 'gender': 2, 'depar...</td>\n",
       "      <td>Sam Mendes</td>\n",
       "    </tr>\n",
       "    <tr>\n",
       "      <th>3</th>\n",
       "      <td>3</td>\n",
       "      <td>250000000</td>\n",
       "      <td>Action Crime Drama Thriller</td>\n",
       "      <td>http://www.thedarkknightrises.com/</td>\n",
       "      <td>49026</td>\n",
       "      <td>dc comics crime fighter terrorist secret ident...</td>\n",
       "      <td>en</td>\n",
       "      <td>The Dark Knight Rises</td>\n",
       "      <td>Following the death of District Attorney Harve...</td>\n",
       "      <td>112.312950</td>\n",
       "      <td>...</td>\n",
       "      <td>165.0</td>\n",
       "      <td>[{\"iso_639_1\": \"en\", \"name\": \"English\"}]</td>\n",
       "      <td>Released</td>\n",
       "      <td>The Legend Ends</td>\n",
       "      <td>The Dark Knight Rises</td>\n",
       "      <td>7.6</td>\n",
       "      <td>9106</td>\n",
       "      <td>Christian Bale Michael Caine Gary Oldman Anne ...</td>\n",
       "      <td>[{'name': 'Hans Zimmer', 'gender': 2, 'departm...</td>\n",
       "      <td>Christopher Nolan</td>\n",
       "    </tr>\n",
       "    <tr>\n",
       "      <th>4</th>\n",
       "      <td>4</td>\n",
       "      <td>260000000</td>\n",
       "      <td>Action Adventure Science Fiction</td>\n",
       "      <td>http://movies.disney.com/john-carter</td>\n",
       "      <td>49529</td>\n",
       "      <td>based on novel mars medallion space travel pri...</td>\n",
       "      <td>en</td>\n",
       "      <td>John Carter</td>\n",
       "      <td>John Carter is a war-weary, former military ca...</td>\n",
       "      <td>43.926995</td>\n",
       "      <td>...</td>\n",
       "      <td>132.0</td>\n",
       "      <td>[{\"iso_639_1\": \"en\", \"name\": \"English\"}]</td>\n",
       "      <td>Released</td>\n",
       "      <td>Lost in our world, found in another.</td>\n",
       "      <td>John Carter</td>\n",
       "      <td>6.1</td>\n",
       "      <td>2124</td>\n",
       "      <td>Taylor Kitsch Lynn Collins Samantha Morton Wil...</td>\n",
       "      <td>[{'name': 'Andrew Stanton', 'gender': 2, 'depa...</td>\n",
       "      <td>Andrew Stanton</td>\n",
       "    </tr>\n",
       "  </tbody>\n",
       "</table>\n",
       "<p>5 rows × 24 columns</p>\n",
       "</div>"
      ],
      "text/plain": [
       "   index     budget                                    genres  \\\n",
       "0      0  237000000  Action Adventure Fantasy Science Fiction   \n",
       "1      1  300000000                  Adventure Fantasy Action   \n",
       "2      2  245000000                    Action Adventure Crime   \n",
       "3      3  250000000               Action Crime Drama Thriller   \n",
       "4      4  260000000          Action Adventure Science Fiction   \n",
       "\n",
       "                                       homepage      id  \\\n",
       "0                   http://www.avatarmovie.com/   19995   \n",
       "1  http://disney.go.com/disneypictures/pirates/     285   \n",
       "2   http://www.sonypictures.com/movies/spectre/  206647   \n",
       "3            http://www.thedarkknightrises.com/   49026   \n",
       "4          http://movies.disney.com/john-carter   49529   \n",
       "\n",
       "                                            keywords original_language  \\\n",
       "0  culture clash future space war space colony so...                en   \n",
       "1  ocean drug abuse exotic island east india trad...                en   \n",
       "2         spy based on novel secret agent sequel mi6                en   \n",
       "3  dc comics crime fighter terrorist secret ident...                en   \n",
       "4  based on novel mars medallion space travel pri...                en   \n",
       "\n",
       "                             original_title  \\\n",
       "0                                    Avatar   \n",
       "1  Pirates of the Caribbean: At World's End   \n",
       "2                                   Spectre   \n",
       "3                     The Dark Knight Rises   \n",
       "4                               John Carter   \n",
       "\n",
       "                                            overview  popularity  ... runtime  \\\n",
       "0  In the 22nd century, a paraplegic Marine is di...  150.437577  ...   162.0   \n",
       "1  Captain Barbossa, long believed to be dead, ha...  139.082615  ...   169.0   \n",
       "2  A cryptic message from Bond’s past sends him o...  107.376788  ...   148.0   \n",
       "3  Following the death of District Attorney Harve...  112.312950  ...   165.0   \n",
       "4  John Carter is a war-weary, former military ca...   43.926995  ...   132.0   \n",
       "\n",
       "                                    spoken_languages    status  \\\n",
       "0  [{\"iso_639_1\": \"en\", \"name\": \"English\"}, {\"iso...  Released   \n",
       "1           [{\"iso_639_1\": \"en\", \"name\": \"English\"}]  Released   \n",
       "2  [{\"iso_639_1\": \"fr\", \"name\": \"Fran\\u00e7ais\"},...  Released   \n",
       "3           [{\"iso_639_1\": \"en\", \"name\": \"English\"}]  Released   \n",
       "4           [{\"iso_639_1\": \"en\", \"name\": \"English\"}]  Released   \n",
       "\n",
       "                                          tagline  \\\n",
       "0                     Enter the World of Pandora.   \n",
       "1  At the end of the world, the adventure begins.   \n",
       "2                           A Plan No One Escapes   \n",
       "3                                 The Legend Ends   \n",
       "4            Lost in our world, found in another.   \n",
       "\n",
       "                                      title vote_average vote_count  \\\n",
       "0                                    Avatar          7.2      11800   \n",
       "1  Pirates of the Caribbean: At World's End          6.9       4500   \n",
       "2                                   Spectre          6.3       4466   \n",
       "3                     The Dark Knight Rises          7.6       9106   \n",
       "4                               John Carter          6.1       2124   \n",
       "\n",
       "                                                cast  \\\n",
       "0  Sam Worthington Zoe Saldana Sigourney Weaver S...   \n",
       "1  Johnny Depp Orlando Bloom Keira Knightley Stel...   \n",
       "2  Daniel Craig Christoph Waltz L\\u00e9a Seydoux ...   \n",
       "3  Christian Bale Michael Caine Gary Oldman Anne ...   \n",
       "4  Taylor Kitsch Lynn Collins Samantha Morton Wil...   \n",
       "\n",
       "                                                crew           director  \n",
       "0  [{'name': 'Stephen E. Rivkin', 'gender': 0, 'd...      James Cameron  \n",
       "1  [{'name': 'Dariusz Wolski', 'gender': 2, 'depa...     Gore Verbinski  \n",
       "2  [{'name': 'Thomas Newman', 'gender': 2, 'depar...         Sam Mendes  \n",
       "3  [{'name': 'Hans Zimmer', 'gender': 2, 'departm...  Christopher Nolan  \n",
       "4  [{'name': 'Andrew Stanton', 'gender': 2, 'depa...     Andrew Stanton  \n",
       "\n",
       "[5 rows x 24 columns]"
      ]
     },
     "execution_count": 51,
     "metadata": {},
     "output_type": "execute_result"
    }
   ],
   "source": [
    "df = pd.read_csv(\"dataset/movies.csv\")\n",
    "df.head()"
   ]
  },
  {
   "cell_type": "code",
   "execution_count": 52,
   "id": "c65d3324",
   "metadata": {},
   "outputs": [
    {
     "name": "stdout",
     "output_type": "stream",
     "text": [
      "Shape of given data: (4803, 24)\n"
     ]
    }
   ],
   "source": [
    "print(\"Shape of given data: {}\".format(df.shape))"
   ]
  },
  {
   "cell_type": "markdown",
   "id": "cffdf490",
   "metadata": {},
   "source": [
    "### Displaying information about the dataset"
   ]
  },
  {
   "cell_type": "code",
   "execution_count": 53,
   "id": "d5e0e83f",
   "metadata": {},
   "outputs": [
    {
     "name": "stdout",
     "output_type": "stream",
     "text": [
      "<class 'pandas.core.frame.DataFrame'>\n",
      "RangeIndex: 4803 entries, 0 to 4802\n",
      "Data columns (total 24 columns):\n",
      " #   Column                Non-Null Count  Dtype  \n",
      "---  ------                --------------  -----  \n",
      " 0   index                 4803 non-null   int64  \n",
      " 1   budget                4803 non-null   int64  \n",
      " 2   genres                4775 non-null   object \n",
      " 3   homepage              1712 non-null   object \n",
      " 4   id                    4803 non-null   int64  \n",
      " 5   keywords              4391 non-null   object \n",
      " 6   original_language     4803 non-null   object \n",
      " 7   original_title        4803 non-null   object \n",
      " 8   overview              4800 non-null   object \n",
      " 9   popularity            4803 non-null   float64\n",
      " 10  production_companies  4803 non-null   object \n",
      " 11  production_countries  4803 non-null   object \n",
      " 12  release_date          4802 non-null   object \n",
      " 13  revenue               4803 non-null   int64  \n",
      " 14  runtime               4801 non-null   float64\n",
      " 15  spoken_languages      4803 non-null   object \n",
      " 16  status                4803 non-null   object \n",
      " 17  tagline               3959 non-null   object \n",
      " 18  title                 4803 non-null   object \n",
      " 19  vote_average          4803 non-null   float64\n",
      " 20  vote_count            4803 non-null   int64  \n",
      " 21  cast                  4760 non-null   object \n",
      " 22  crew                  4803 non-null   object \n",
      " 23  director              4773 non-null   object \n",
      "dtypes: float64(3), int64(5), object(16)\n",
      "memory usage: 900.7+ KB\n"
     ]
    }
   ],
   "source": [
    "df.info()"
   ]
  },
  {
   "cell_type": "markdown",
   "id": "4210ce0b",
   "metadata": {},
   "source": [
    "### Checking for any null or nan values in the dataset"
   ]
  },
  {
   "cell_type": "code",
   "execution_count": 54,
   "id": "ac13a8eb",
   "metadata": {},
   "outputs": [
    {
     "data": {
      "text/plain": [
       "index                      0\n",
       "budget                     0\n",
       "genres                    28\n",
       "homepage                3091\n",
       "id                         0\n",
       "keywords                 412\n",
       "original_language          0\n",
       "original_title             0\n",
       "overview                   3\n",
       "popularity                 0\n",
       "production_companies       0\n",
       "production_countries       0\n",
       "release_date               1\n",
       "revenue                    0\n",
       "runtime                    2\n",
       "spoken_languages           0\n",
       "status                     0\n",
       "tagline                  844\n",
       "title                      0\n",
       "vote_average               0\n",
       "vote_count                 0\n",
       "cast                      43\n",
       "crew                       0\n",
       "director                  30\n",
       "dtype: int64"
      ]
     },
     "execution_count": 54,
     "metadata": {},
     "output_type": "execute_result"
    }
   ],
   "source": [
    "df.isnull().sum()"
   ]
  },
  {
   "cell_type": "markdown",
   "id": "8ed25af8",
   "metadata": {},
   "source": [
    "**The feature 'homepage' has the most missing values.**"
   ]
  },
  {
   "cell_type": "markdown",
   "id": "7eba3127",
   "metadata": {},
   "source": [
    "### Extracting relevant features from the given dataset"
   ]
  },
  {
   "cell_type": "code",
   "execution_count": 55,
   "id": "f90123db",
   "metadata": {},
   "outputs": [
    {
     "name": "stdout",
     "output_type": "stream",
     "text": [
      "Important features are: ['genres', 'keywords', 'cast', 'director', 'tagline']\n"
     ]
    }
   ],
   "source": [
    "important_features = ['genres', 'keywords', 'cast', 'director', 'tagline']\n",
    "print(\"Important features are: {}\".format(important_features))"
   ]
  },
  {
   "cell_type": "code",
   "execution_count": 56,
   "id": "524e49fb",
   "metadata": {},
   "outputs": [
    {
     "data": {
      "text/html": [
       "<div>\n",
       "<style scoped>\n",
       "    .dataframe tbody tr th:only-of-type {\n",
       "        vertical-align: middle;\n",
       "    }\n",
       "\n",
       "    .dataframe tbody tr th {\n",
       "        vertical-align: top;\n",
       "    }\n",
       "\n",
       "    .dataframe thead th {\n",
       "        text-align: right;\n",
       "    }\n",
       "</style>\n",
       "<table border=\"1\" class=\"dataframe\">\n",
       "  <thead>\n",
       "    <tr style=\"text-align: right;\">\n",
       "      <th></th>\n",
       "      <th>genres</th>\n",
       "      <th>keywords</th>\n",
       "      <th>cast</th>\n",
       "      <th>director</th>\n",
       "      <th>tagline</th>\n",
       "    </tr>\n",
       "  </thead>\n",
       "  <tbody>\n",
       "    <tr>\n",
       "      <th>0</th>\n",
       "      <td>Action Adventure Fantasy Science Fiction</td>\n",
       "      <td>culture clash future space war space colony so...</td>\n",
       "      <td>Sam Worthington Zoe Saldana Sigourney Weaver S...</td>\n",
       "      <td>James Cameron</td>\n",
       "      <td>Enter the World of Pandora.</td>\n",
       "    </tr>\n",
       "    <tr>\n",
       "      <th>1</th>\n",
       "      <td>Adventure Fantasy Action</td>\n",
       "      <td>ocean drug abuse exotic island east india trad...</td>\n",
       "      <td>Johnny Depp Orlando Bloom Keira Knightley Stel...</td>\n",
       "      <td>Gore Verbinski</td>\n",
       "      <td>At the end of the world, the adventure begins.</td>\n",
       "    </tr>\n",
       "    <tr>\n",
       "      <th>2</th>\n",
       "      <td>Action Adventure Crime</td>\n",
       "      <td>spy based on novel secret agent sequel mi6</td>\n",
       "      <td>Daniel Craig Christoph Waltz L\\u00e9a Seydoux ...</td>\n",
       "      <td>Sam Mendes</td>\n",
       "      <td>A Plan No One Escapes</td>\n",
       "    </tr>\n",
       "    <tr>\n",
       "      <th>3</th>\n",
       "      <td>Action Crime Drama Thriller</td>\n",
       "      <td>dc comics crime fighter terrorist secret ident...</td>\n",
       "      <td>Christian Bale Michael Caine Gary Oldman Anne ...</td>\n",
       "      <td>Christopher Nolan</td>\n",
       "      <td>The Legend Ends</td>\n",
       "    </tr>\n",
       "    <tr>\n",
       "      <th>4</th>\n",
       "      <td>Action Adventure Science Fiction</td>\n",
       "      <td>based on novel mars medallion space travel pri...</td>\n",
       "      <td>Taylor Kitsch Lynn Collins Samantha Morton Wil...</td>\n",
       "      <td>Andrew Stanton</td>\n",
       "      <td>Lost in our world, found in another.</td>\n",
       "    </tr>\n",
       "  </tbody>\n",
       "</table>\n",
       "</div>"
      ],
      "text/plain": [
       "                                     genres  \\\n",
       "0  Action Adventure Fantasy Science Fiction   \n",
       "1                  Adventure Fantasy Action   \n",
       "2                    Action Adventure Crime   \n",
       "3               Action Crime Drama Thriller   \n",
       "4          Action Adventure Science Fiction   \n",
       "\n",
       "                                            keywords  \\\n",
       "0  culture clash future space war space colony so...   \n",
       "1  ocean drug abuse exotic island east india trad...   \n",
       "2         spy based on novel secret agent sequel mi6   \n",
       "3  dc comics crime fighter terrorist secret ident...   \n",
       "4  based on novel mars medallion space travel pri...   \n",
       "\n",
       "                                                cast           director  \\\n",
       "0  Sam Worthington Zoe Saldana Sigourney Weaver S...      James Cameron   \n",
       "1  Johnny Depp Orlando Bloom Keira Knightley Stel...     Gore Verbinski   \n",
       "2  Daniel Craig Christoph Waltz L\\u00e9a Seydoux ...         Sam Mendes   \n",
       "3  Christian Bale Michael Caine Gary Oldman Anne ...  Christopher Nolan   \n",
       "4  Taylor Kitsch Lynn Collins Samantha Morton Wil...     Andrew Stanton   \n",
       "\n",
       "                                          tagline  \n",
       "0                     Enter the World of Pandora.  \n",
       "1  At the end of the world, the adventure begins.  \n",
       "2                           A Plan No One Escapes  \n",
       "3                                 The Legend Ends  \n",
       "4            Lost in our world, found in another.  "
      ]
     },
     "execution_count": 56,
     "metadata": {},
     "output_type": "execute_result"
    }
   ],
   "source": [
    "df[important_features].head()"
   ]
  },
  {
   "cell_type": "markdown",
   "id": "fbbba115",
   "metadata": {},
   "source": [
    "### Checking for any null values from the selected features"
   ]
  },
  {
   "cell_type": "code",
   "execution_count": 57,
   "id": "6d10d420",
   "metadata": {},
   "outputs": [
    {
     "data": {
      "text/plain": [
       "genres       28\n",
       "keywords    412\n",
       "cast         43\n",
       "director     30\n",
       "tagline     844\n",
       "dtype: int64"
      ]
     },
     "execution_count": 57,
     "metadata": {},
     "output_type": "execute_result"
    }
   ],
   "source": [
    "df[important_features].isna().sum()"
   ]
  },
  {
   "cell_type": "markdown",
   "id": "fa433b8a",
   "metadata": {},
   "source": [
    "**There are few null values present among the selected features.**\n",
    "### Fixing null values"
   ]
  },
  {
   "cell_type": "code",
   "execution_count": 58,
   "id": "f04c0cec",
   "metadata": {},
   "outputs": [
    {
     "data": {
      "text/html": [
       "<div>\n",
       "<style scoped>\n",
       "    .dataframe tbody tr th:only-of-type {\n",
       "        vertical-align: middle;\n",
       "    }\n",
       "\n",
       "    .dataframe tbody tr th {\n",
       "        vertical-align: top;\n",
       "    }\n",
       "\n",
       "    .dataframe thead th {\n",
       "        text-align: right;\n",
       "    }\n",
       "</style>\n",
       "<table border=\"1\" class=\"dataframe\">\n",
       "  <thead>\n",
       "    <tr style=\"text-align: right;\">\n",
       "      <th></th>\n",
       "      <th>index</th>\n",
       "      <th>budget</th>\n",
       "      <th>genres</th>\n",
       "      <th>homepage</th>\n",
       "      <th>id</th>\n",
       "      <th>keywords</th>\n",
       "      <th>original_language</th>\n",
       "      <th>original_title</th>\n",
       "      <th>overview</th>\n",
       "      <th>popularity</th>\n",
       "      <th>...</th>\n",
       "      <th>runtime</th>\n",
       "      <th>spoken_languages</th>\n",
       "      <th>status</th>\n",
       "      <th>tagline</th>\n",
       "      <th>title</th>\n",
       "      <th>vote_average</th>\n",
       "      <th>vote_count</th>\n",
       "      <th>cast</th>\n",
       "      <th>crew</th>\n",
       "      <th>director</th>\n",
       "    </tr>\n",
       "  </thead>\n",
       "  <tbody>\n",
       "    <tr>\n",
       "      <th>0</th>\n",
       "      <td>0</td>\n",
       "      <td>237000000</td>\n",
       "      <td>Action Adventure Fantasy Science Fiction</td>\n",
       "      <td>http://www.avatarmovie.com/</td>\n",
       "      <td>19995</td>\n",
       "      <td>culture clash future space war space colony so...</td>\n",
       "      <td>en</td>\n",
       "      <td>Avatar</td>\n",
       "      <td>In the 22nd century, a paraplegic Marine is di...</td>\n",
       "      <td>150.437577</td>\n",
       "      <td>...</td>\n",
       "      <td>162.0</td>\n",
       "      <td>[{\"iso_639_1\": \"en\", \"name\": \"English\"}, {\"iso...</td>\n",
       "      <td>Released</td>\n",
       "      <td>Enter the World of Pandora.</td>\n",
       "      <td>Avatar</td>\n",
       "      <td>7.2</td>\n",
       "      <td>11800</td>\n",
       "      <td>Sam Worthington Zoe Saldana Sigourney Weaver S...</td>\n",
       "      <td>[{'name': 'Stephen E. Rivkin', 'gender': 0, 'd...</td>\n",
       "      <td>James Cameron</td>\n",
       "    </tr>\n",
       "    <tr>\n",
       "      <th>1</th>\n",
       "      <td>1</td>\n",
       "      <td>300000000</td>\n",
       "      <td>Adventure Fantasy Action</td>\n",
       "      <td>http://disney.go.com/disneypictures/pirates/</td>\n",
       "      <td>285</td>\n",
       "      <td>ocean drug abuse exotic island east india trad...</td>\n",
       "      <td>en</td>\n",
       "      <td>Pirates of the Caribbean: At World's End</td>\n",
       "      <td>Captain Barbossa, long believed to be dead, ha...</td>\n",
       "      <td>139.082615</td>\n",
       "      <td>...</td>\n",
       "      <td>169.0</td>\n",
       "      <td>[{\"iso_639_1\": \"en\", \"name\": \"English\"}]</td>\n",
       "      <td>Released</td>\n",
       "      <td>At the end of the world, the adventure begins.</td>\n",
       "      <td>Pirates of the Caribbean: At World's End</td>\n",
       "      <td>6.9</td>\n",
       "      <td>4500</td>\n",
       "      <td>Johnny Depp Orlando Bloom Keira Knightley Stel...</td>\n",
       "      <td>[{'name': 'Dariusz Wolski', 'gender': 2, 'depa...</td>\n",
       "      <td>Gore Verbinski</td>\n",
       "    </tr>\n",
       "    <tr>\n",
       "      <th>2</th>\n",
       "      <td>2</td>\n",
       "      <td>245000000</td>\n",
       "      <td>Action Adventure Crime</td>\n",
       "      <td>http://www.sonypictures.com/movies/spectre/</td>\n",
       "      <td>206647</td>\n",
       "      <td>spy based on novel secret agent sequel mi6</td>\n",
       "      <td>en</td>\n",
       "      <td>Spectre</td>\n",
       "      <td>A cryptic message from Bond’s past sends him o...</td>\n",
       "      <td>107.376788</td>\n",
       "      <td>...</td>\n",
       "      <td>148.0</td>\n",
       "      <td>[{\"iso_639_1\": \"fr\", \"name\": \"Fran\\u00e7ais\"},...</td>\n",
       "      <td>Released</td>\n",
       "      <td>A Plan No One Escapes</td>\n",
       "      <td>Spectre</td>\n",
       "      <td>6.3</td>\n",
       "      <td>4466</td>\n",
       "      <td>Daniel Craig Christoph Waltz L\\u00e9a Seydoux ...</td>\n",
       "      <td>[{'name': 'Thomas Newman', 'gender': 2, 'depar...</td>\n",
       "      <td>Sam Mendes</td>\n",
       "    </tr>\n",
       "    <tr>\n",
       "      <th>3</th>\n",
       "      <td>3</td>\n",
       "      <td>250000000</td>\n",
       "      <td>Action Crime Drama Thriller</td>\n",
       "      <td>http://www.thedarkknightrises.com/</td>\n",
       "      <td>49026</td>\n",
       "      <td>dc comics crime fighter terrorist secret ident...</td>\n",
       "      <td>en</td>\n",
       "      <td>The Dark Knight Rises</td>\n",
       "      <td>Following the death of District Attorney Harve...</td>\n",
       "      <td>112.312950</td>\n",
       "      <td>...</td>\n",
       "      <td>165.0</td>\n",
       "      <td>[{\"iso_639_1\": \"en\", \"name\": \"English\"}]</td>\n",
       "      <td>Released</td>\n",
       "      <td>The Legend Ends</td>\n",
       "      <td>The Dark Knight Rises</td>\n",
       "      <td>7.6</td>\n",
       "      <td>9106</td>\n",
       "      <td>Christian Bale Michael Caine Gary Oldman Anne ...</td>\n",
       "      <td>[{'name': 'Hans Zimmer', 'gender': 2, 'departm...</td>\n",
       "      <td>Christopher Nolan</td>\n",
       "    </tr>\n",
       "    <tr>\n",
       "      <th>4</th>\n",
       "      <td>4</td>\n",
       "      <td>260000000</td>\n",
       "      <td>Action Adventure Science Fiction</td>\n",
       "      <td>http://movies.disney.com/john-carter</td>\n",
       "      <td>49529</td>\n",
       "      <td>based on novel mars medallion space travel pri...</td>\n",
       "      <td>en</td>\n",
       "      <td>John Carter</td>\n",
       "      <td>John Carter is a war-weary, former military ca...</td>\n",
       "      <td>43.926995</td>\n",
       "      <td>...</td>\n",
       "      <td>132.0</td>\n",
       "      <td>[{\"iso_639_1\": \"en\", \"name\": \"English\"}]</td>\n",
       "      <td>Released</td>\n",
       "      <td>Lost in our world, found in another.</td>\n",
       "      <td>John Carter</td>\n",
       "      <td>6.1</td>\n",
       "      <td>2124</td>\n",
       "      <td>Taylor Kitsch Lynn Collins Samantha Morton Wil...</td>\n",
       "      <td>[{'name': 'Andrew Stanton', 'gender': 2, 'depa...</td>\n",
       "      <td>Andrew Stanton</td>\n",
       "    </tr>\n",
       "  </tbody>\n",
       "</table>\n",
       "<p>5 rows × 24 columns</p>\n",
       "</div>"
      ],
      "text/plain": [
       "   index     budget                                    genres  \\\n",
       "0      0  237000000  Action Adventure Fantasy Science Fiction   \n",
       "1      1  300000000                  Adventure Fantasy Action   \n",
       "2      2  245000000                    Action Adventure Crime   \n",
       "3      3  250000000               Action Crime Drama Thriller   \n",
       "4      4  260000000          Action Adventure Science Fiction   \n",
       "\n",
       "                                       homepage      id  \\\n",
       "0                   http://www.avatarmovie.com/   19995   \n",
       "1  http://disney.go.com/disneypictures/pirates/     285   \n",
       "2   http://www.sonypictures.com/movies/spectre/  206647   \n",
       "3            http://www.thedarkknightrises.com/   49026   \n",
       "4          http://movies.disney.com/john-carter   49529   \n",
       "\n",
       "                                            keywords original_language  \\\n",
       "0  culture clash future space war space colony so...                en   \n",
       "1  ocean drug abuse exotic island east india trad...                en   \n",
       "2         spy based on novel secret agent sequel mi6                en   \n",
       "3  dc comics crime fighter terrorist secret ident...                en   \n",
       "4  based on novel mars medallion space travel pri...                en   \n",
       "\n",
       "                             original_title  \\\n",
       "0                                    Avatar   \n",
       "1  Pirates of the Caribbean: At World's End   \n",
       "2                                   Spectre   \n",
       "3                     The Dark Knight Rises   \n",
       "4                               John Carter   \n",
       "\n",
       "                                            overview  popularity  ... runtime  \\\n",
       "0  In the 22nd century, a paraplegic Marine is di...  150.437577  ...   162.0   \n",
       "1  Captain Barbossa, long believed to be dead, ha...  139.082615  ...   169.0   \n",
       "2  A cryptic message from Bond’s past sends him o...  107.376788  ...   148.0   \n",
       "3  Following the death of District Attorney Harve...  112.312950  ...   165.0   \n",
       "4  John Carter is a war-weary, former military ca...   43.926995  ...   132.0   \n",
       "\n",
       "                                    spoken_languages    status  \\\n",
       "0  [{\"iso_639_1\": \"en\", \"name\": \"English\"}, {\"iso...  Released   \n",
       "1           [{\"iso_639_1\": \"en\", \"name\": \"English\"}]  Released   \n",
       "2  [{\"iso_639_1\": \"fr\", \"name\": \"Fran\\u00e7ais\"},...  Released   \n",
       "3           [{\"iso_639_1\": \"en\", \"name\": \"English\"}]  Released   \n",
       "4           [{\"iso_639_1\": \"en\", \"name\": \"English\"}]  Released   \n",
       "\n",
       "                                          tagline  \\\n",
       "0                     Enter the World of Pandora.   \n",
       "1  At the end of the world, the adventure begins.   \n",
       "2                           A Plan No One Escapes   \n",
       "3                                 The Legend Ends   \n",
       "4            Lost in our world, found in another.   \n",
       "\n",
       "                                      title vote_average vote_count  \\\n",
       "0                                    Avatar          7.2      11800   \n",
       "1  Pirates of the Caribbean: At World's End          6.9       4500   \n",
       "2                                   Spectre          6.3       4466   \n",
       "3                     The Dark Knight Rises          7.6       9106   \n",
       "4                               John Carter          6.1       2124   \n",
       "\n",
       "                                                cast  \\\n",
       "0  Sam Worthington Zoe Saldana Sigourney Weaver S...   \n",
       "1  Johnny Depp Orlando Bloom Keira Knightley Stel...   \n",
       "2  Daniel Craig Christoph Waltz L\\u00e9a Seydoux ...   \n",
       "3  Christian Bale Michael Caine Gary Oldman Anne ...   \n",
       "4  Taylor Kitsch Lynn Collins Samantha Morton Wil...   \n",
       "\n",
       "                                                crew           director  \n",
       "0  [{'name': 'Stephen E. Rivkin', 'gender': 0, 'd...      James Cameron  \n",
       "1  [{'name': 'Dariusz Wolski', 'gender': 2, 'depa...     Gore Verbinski  \n",
       "2  [{'name': 'Thomas Newman', 'gender': 2, 'depar...         Sam Mendes  \n",
       "3  [{'name': 'Hans Zimmer', 'gender': 2, 'departm...  Christopher Nolan  \n",
       "4  [{'name': 'Andrew Stanton', 'gender': 2, 'depa...     Andrew Stanton  \n",
       "\n",
       "[5 rows x 24 columns]"
      ]
     },
     "execution_count": 58,
     "metadata": {},
     "output_type": "execute_result"
    }
   ],
   "source": [
    "for feat in important_features:\n",
    "    df[feat] = df[feat].fillna('')\n",
    "    \n",
    "df.head()"
   ]
  },
  {
   "cell_type": "markdown",
   "id": "883f966b",
   "metadata": {},
   "source": [
    "**After fixing null values, lets check again for any missing values.**"
   ]
  },
  {
   "cell_type": "code",
   "execution_count": 59,
   "id": "39acea90",
   "metadata": {},
   "outputs": [
    {
     "data": {
      "text/plain": [
       "genres      0\n",
       "keywords    0\n",
       "cast        0\n",
       "director    0\n",
       "tagline     0\n",
       "dtype: int64"
      ]
     },
     "execution_count": 59,
     "metadata": {},
     "output_type": "execute_result"
    }
   ],
   "source": [
    "df[important_features].isnull().sum()"
   ]
  },
  {
   "cell_type": "markdown",
   "id": "459e33d3",
   "metadata": {},
   "source": [
    "**There are no more missing values left.**\n",
    "### Combining the important features"
   ]
  },
  {
   "cell_type": "code",
   "execution_count": 60,
   "id": "3fb78552",
   "metadata": {},
   "outputs": [],
   "source": [
    "combined_features = df['genres']+' '+df['keywords']+' '+df['tagline']+' '+df['cast']+' '+df['director']"
   ]
  },
  {
   "cell_type": "markdown",
   "id": "189e7266",
   "metadata": {},
   "source": [
    "### Converting Text data into Vectors"
   ]
  },
  {
   "cell_type": "code",
   "execution_count": 61,
   "id": "9a345e05",
   "metadata": {},
   "outputs": [
    {
     "name": "stdout",
     "output_type": "stream",
     "text": [
      "Shape of feature vectors is: (4803, 17318)\n"
     ]
    }
   ],
   "source": [
    "vectorizer = TfidfVectorizer()\n",
    "\n",
    "feature_vectors = vectorizer.fit_transform(combined_features)\n",
    "\n",
    "print(\"Shape of feature vectors is: {}\".format(feature_vectors.shape))"
   ]
  },
  {
   "cell_type": "markdown",
   "id": "4b425bf1",
   "metadata": {},
   "source": [
    "### Cosine Similarity for getting similarity score"
   ]
  },
  {
   "cell_type": "code",
   "execution_count": 62,
   "id": "2f9e8a78",
   "metadata": {},
   "outputs": [
    {
     "name": "stdout",
     "output_type": "stream",
     "text": [
      "Similarity score is:\n",
      "[[1.         0.07219487 0.037733   ... 0.         0.         0.        ]\n",
      " [0.07219487 1.         0.03281499 ... 0.03575545 0.         0.        ]\n",
      " [0.037733   0.03281499 1.         ... 0.         0.05389661 0.        ]\n",
      " ...\n",
      " [0.         0.03575545 0.         ... 1.         0.         0.02651502]\n",
      " [0.         0.         0.05389661 ... 0.         1.         0.        ]\n",
      " [0.         0.         0.         ... 0.02651502 0.         1.        ]]\n"
     ]
    }
   ],
   "source": [
    "similar_score = cosine_similarity(feature_vectors)\n",
    "print(\"Similarity score is:\\n{}\".format(similar_score))"
   ]
  },
  {
   "cell_type": "code",
   "execution_count": 63,
   "id": "4209e61a",
   "metadata": {},
   "outputs": [
    {
     "name": "stdout",
     "output_type": "stream",
     "text": [
      "Shape of similarity score is: (4803, 4803)\n"
     ]
    }
   ],
   "source": [
    "# Displaying shape of similarity score\n",
    "\n",
    "print(\"Shape of similarity score is: {}\".format(similar_score.shape))"
   ]
  },
  {
   "cell_type": "markdown",
   "id": "df125339",
   "metadata": {},
   "source": [
    "### Taking user favourite movie as input"
   ]
  },
  {
   "cell_type": "code",
   "execution_count": 64,
   "id": "eab0154f",
   "metadata": {},
   "outputs": [
    {
     "name": "stdout",
     "output_type": "stream",
     "text": [
      "Enter movie name: john carter\n"
     ]
    }
   ],
   "source": [
    "user_movie = input(\"Enter movie name: \")"
   ]
  },
  {
   "cell_type": "markdown",
   "id": "ca9b7715",
   "metadata": {},
   "source": [
    "### List of all movies from the given dataset"
   ]
  },
  {
   "cell_type": "code",
   "execution_count": 65,
   "id": "72ec7a8b",
   "metadata": {},
   "outputs": [
    {
     "data": {
      "text/plain": [
       "['Avatar',\n",
       " \"Pirates of the Caribbean: At World's End\",\n",
       " 'Spectre',\n",
       " 'The Dark Knight Rises',\n",
       " 'John Carter',\n",
       " 'Spider-Man 3']"
      ]
     },
     "execution_count": 65,
     "metadata": {},
     "output_type": "execute_result"
    }
   ],
   "source": [
    "all_movies_list = df['title'].tolist()\n",
    "all_movies_list[0:6]"
   ]
  },
  {
   "cell_type": "code",
   "execution_count": 66,
   "id": "109f6339",
   "metadata": {},
   "outputs": [
    {
     "name": "stdout",
     "output_type": "stream",
     "text": [
      "Length of movies list is: 4803\n"
     ]
    }
   ],
   "source": [
    "print(\"Length of movies list is: {}\".format(len(all_movies_list)))"
   ]
  },
  {
   "cell_type": "code",
   "execution_count": 67,
   "id": "93fe48da",
   "metadata": {},
   "outputs": [
    {
     "name": "stdout",
     "output_type": "stream",
     "text": [
      "Matching movie titles are: ['John Carter', 'Songcatcher', 'Coach Carter']\n"
     ]
    }
   ],
   "source": [
    "find_matching = difflib.get_close_matches(user_movie, all_movies_list)\n",
    "print(\"Matching movie titles are: {}\".format(find_matching))"
   ]
  },
  {
   "cell_type": "markdown",
   "id": "6de90947",
   "metadata": {},
   "source": [
    "### Find the first close matching and get index of the title"
   ]
  },
  {
   "cell_type": "code",
   "execution_count": 68,
   "id": "2239f81e",
   "metadata": {},
   "outputs": [
    {
     "name": "stdout",
     "output_type": "stream",
     "text": [
      "Close match is: John Carter\n"
     ]
    }
   ],
   "source": [
    "close_match = find_matching[0]\n",
    "print(\"Close match is: {}\".format(close_match))"
   ]
  },
  {
   "cell_type": "code",
   "execution_count": 69,
   "id": "0d19316d",
   "metadata": {},
   "outputs": [
    {
     "name": "stdout",
     "output_type": "stream",
     "text": [
      "Index of the close match is: 4\n"
     ]
    }
   ],
   "source": [
    "id_matching_movie = df[df.title == close_match]['index'].values[0]\n",
    "print(\"Index of the close match is: {}\".format(id_matching_movie))"
   ]
  },
  {
   "cell_type": "markdown",
   "id": "c3e2e878",
   "metadata": {},
   "source": [
    "---"
   ]
  },
  {
   "cell_type": "markdown",
   "id": "3039a6ed",
   "metadata": {},
   "source": [
    "### Similarity Score"
   ]
  },
  {
   "cell_type": "code",
   "execution_count": 70,
   "id": "078cd5ab",
   "metadata": {},
   "outputs": [
    {
     "name": "stdout",
     "output_type": "stream",
     "text": [
      "Similarity score is:\n",
      "[(0, 0.10702574467235304), (1, 0.03305463079248628), (2, 0.05772600875531061), (3, 0.006717078317903558), (4, 1.0), (5, 0.12989685014764749), (6, 0.008020897515385296), (7, 0.060340258968822585), (8, 0.008184976474383678), (9, 0.03832298281222101), (10, 0.05721297692372175), (11, 0.012383886426888273), (12, 0.014233825346334616), (13, 0.012851166932020926), (14, 0.07529319100526179), (15, 0.0747883106730046), (16, 0.05721539202804143), (17, 0.013616306365014916), (18, 0.07706037615219369), (19, 0.012089070811125913), (20, 0.041694129432257705), (21, 0.011699385312773366), (22, 0.00715716767717989), (23, 0.03928703526113247), (24, 0.04857182590109369), (25, 0.010913900929666012), (26, 0.03631511936724096), (27, 0.10989340697547767), (28, 0.03486350003287453), (29, 0.025926729267293502), (30, 0.03636070766215349), (31, 0.04491082754059965), (32, 0.06711474644290759), (33, 0.05996534685041098), (34, 0.0), (35, 0.03670710779261637), (36, 0.033076033414895116), (37, 0.031608715017678674), (38, 0.06816263087248403), (39, 0.03282935334045394), (40, 0.008396412161802914), (41, 0.09103871156565985), (42, 0.0), (43, 0.04364978726080909), (44, 0.00648446439225191), (45, 0.02443402078088839), (46, 0.08782469091700759), (47, 0.06968431031594552), (48, 0.0398183280050164), (49, 0.03554844691198375), (50, 0.013476987840328136), (51, 0.028614917404666505), (52, 0.03149057534592172), (53, 0.04038678215533208), (54, 0.007184972269984322), (55, 0.014665577224822316), (56, 0.07059465253748097), (57, 0.094447121580881), (58, 0.01908454876781147), (59, 0.04804058700009657), (60, 0.0443000966060555), (61, 0.06275591849183887), (62, 0.013802655476240488), (63, 0.08718240210873066), (64, 0.046601263967495275), (65, 0.00613416569239541), (66, 0.028424116673861424), (67, 0.02977547076888122), (68, 0.03268943310073386), (69, 0.0548385303828173), (70, 0.05869452267536668), (71, 0.01832534354756461), (72, 0.03382302075319772), (73, 0.0), (74, 0.02705535664801965), (75, 0.01319383480426756), (76, 0.03514946869133577), (77, 0.0), (78, 0.055569823743046615), (79, 0.05401317798413086), (80, 0.008579555798647278), (81, 0.02996445696228655), (82, 0.0284001187958774), (83, 0.035896813401665645), (84, 0.0315404534100811), (85, 0.06291290668680206), (86, 0.0067643419513154154), (87, 0.06530445578069777), (88, 0.01364173705770321), (89, 0.006795233264578359), (90, 0.00770164862520432), (91, 0.033715446064630096), (92, 0.01644965499944093), (93, 0.041296407479643915), (94, 0.08848380686968996), (95, 0.05112238641018321), (96, 0.034687371115420196), (97, 0.027096274566358453), (98, 0.013110177871295325), (99, 0.005775015986648157), (100, 0.0718707286852689), (101, 0.0951806057664379), (102, 0.0369507154792848), (103, 0.014324684608655325), (104, 0.014242311968792987), (105, 0.0652555306698623), (106, 0.008326867531195152), (107, 0.014766978501348716), (108, 0.0757715825418105), (109, 0.03664800609746381), (110, 0.013997977264108796), (111, 0.14617319309725305), (112, 0.013783679852266594), (113, 0.00805777888834281), (114, 0.00725755366324277), (115, 0.0057901542134055715), (116, 0.08498315559198896), (117, 0.0460651168021897), (118, 0.0), (119, 0.006330512581535526), (120, 0.040013368248581545), (121, 0.023293832187861005), (122, 0.11642573498643403), (123, 0.04720525111656252), (124, 0.04805420015057442), (125, 0.046472238242634814), (126, 0.05901623792630203), (127, 0.03670362194300909), (128, 0.0451261700757396), (129, 0.014091231284482253), (130, 0.0070662402694042815), (131, 0.03226538281947785), (132, 0.007298364617634332), (133, 0.0), (134, 0.013155151079841236), (135, 0.0), (136, 0.0069977603766765975), (137, 0.0), (138, 0.013294129344076304), (139, 0.012534689323003459), (140, 0.006195307778068897), (141, 0.034867400100010236), (142, 0.008608838941833157), (143, 0.008158712362659986), (144, 0.05053222708780044), (145, 0.006539901099246042), (146, 0.0), (147, 0.05051679656188498), (148, 0.0060436331581425525), (149, 0.04910078948454177), (150, 0.07608740156674693), (151, 0.013559001076924294), (152, 0.013096956250090786), (153, 0.013007937343975953), (154, 0.0), (155, 0.04031797389534806), (156, 0.04149000125506485), (157, 0.014649224692294911), (158, 0.09971715055424973), (159, 0.07910312941508459), (160, 0.014018003440528554), (161, 0.0), (162, 0.007320599214926404), (163, 0.04671342090014942), (164, 0.03134492360676513), (165, 0.029763513697224537), (166, 0.04080272661489493), (167, 0.022126770560725262), (168, 0.03322838292860991), (169, 0.05014929735921684), (170, 0.02047584308920896), (171, 0.027764161985861287), (172, 0.03172495838555847), (173, 0.0), (174, 0.053680901369139666), (175, 0.06333606743423884), (176, 0.04634951293026917), (177, 0.0), (178, 0.027946791608301647), (179, 0.008183983504514792), (180, 0.05198296845978274), (181, 0.008143049226802972), (182, 0.05744302311196317), (183, 0.08031289775594626), (184, 0.05465268665574826), (185, 0.028823276884483218), (186, 0.01212787036706765), (187, 0.020713199663761894), (188, 0.006097176106036594), (189, 0.026375511194548874), (190, 0.014857258650082398), (191, 0.007617612548800999), (192, 0.015982972478716148), (193, 0.03672950658933921), (194, 0.0), (195, 0.0074586253381752725), (196, 0.04498115159513035), (197, 0.008058410393509225), (198, 0.006128812036731948), (199, 0.012403732997412832), (200, 0.05283247368467099), (201, 0.045794661744546356), (202, 0.007613022751314922), (203, 0.05404097622855971), (204, 0.005994455311694589), (205, 0.014425449025952488), (206, 0.012840919358668502), (207, 0.08263156449039231), (208, 0.013325731926713772), (209, 0.00619987563958178), (210, 0.0057433773028773465), (211, 0.047112245367892436), (212, 0.048418776774407944), (213, 0.015219397561309803), (214, 0.0), (215, 0.014633949796966809), (216, 0.012894919447229003), (217, 0.02127401938238084), (218, 0.007067249524999124), (219, 0.015425468564256813), (220, 0.0926531298432454), (221, 0.008362564444987624), (222, 0.05693824896497462), (223, 0.09877776592404877), (224, 0.025850799253190167), (225, 0.030001809001192994), (226, 0.0), (227, 0.005927850451274914), (228, 0.059175232153449386), (229, 0.03565094624786087), (230, 0.02737126364028281), (231, 0.0), (232, 0.046114763036811626), (233, 0.028587819721529354), (234, 0.024520573305690102), (235, 0.027241205413493775), (236, 0.022190103450039956), (237, 0.01299005858153945), (238, 0.032014041762383864), (239, 0.11414981559949217), (240, 0.014137007079562258), (241, 0.03762493605971037), (242, 0.03694959337635548), (243, 0.013645480619479622), (244, 0.005065292372905433), (245, 0.031117258802647606), (246, 0.005593763155042879), (247, 0.0), (248, 0.006295361147583542), (249, 0.07141719464125243), (250, 0.0), (251, 0.048801907801662166), (252, 0.006102107466419558), (253, 0.04061820854804446), (254, 0.0306586933354724), (255, 0.0), (256, 0.0867624340278536), (257, 0.026535959239087803), (258, 0.024378951636312676), (259, 0.08207269636188298), (260, 0.07623928437857912), (261, 0.00687216188192055), (262, 0.013609364522522382), (263, 0.01355237661340471), (264, 0.0), (265, 0.0), (266, 0.07016203884510187), (267, 0.029614730028923307), (268, 0.04299714550664135), (269, 0.07927521094528682), (270, 0.13532476682576292), (271, 0.03814082150166783), (272, 0.0), (273, 0.005654476870188399), (274, 0.014923155789137625), (275, 0.10447106285282706), (276, 0.030187853159166646), (277, 0.01391561844596925), (278, 0.08003731324737032), (279, 0.02874447058718737), (280, 0.0), (281, 0.0), (282, 0.005371808871560491), (283, 0.0), (284, 0.022097256900231472), (285, 0.06011536738366944), (286, 0.00603692616457153), (287, 0.0), (288, 0.05122353022873388), (289, 0.007565722525490065), (290, 0.03714969413792807), (291, 0.019721682220771954), (292, 0.05922776093307007), (293, 0.02022708634583944), (294, 0.025527371609865956), (295, 0.005706289178088867), (296, 0.006287769915732659), (297, 0.006101197231263513), (298, 0.0), (299, 0.006180318746726091), (300, 0.052085424688593666), (301, 0.021527355745192194), (302, 0.01838799058065911), (303, 0.028399399423956296), (304, 0.013116512193469387), (305, 0.12112629853579467), (306, 0.028941660038489934), (307, 0.013483963509055334), (308, 0.005125880539762609), (309, 0.00902711926485572), (310, 0.038082889122748514), (311, 0.03429847426577118), (312, 0.012196993826195393), (313, 0.02207848736728628), (314, 0.023421448891782656), (315, 0.02182422527844395), (316, 0.022661492038187583), (317, 0.0), (318, 0.04361784814669785), (319, 0.02852105098754474), (320, 0.006022781157808514), (321, 0.0), (322, 0.036047480772390755), (323, 0.014451502530096196), (324, 0.014526696324549978), (325, 0.043572737068959345), (326, 0.0), (327, 0.0), (328, 0.14670677967731258), (329, 0.055219570216047995), (330, 0.05667337174019157), (331, 0.005738570218704428), (332, 0.031715355290092784), (333, 0.018170934737679268), (334, 0.05322180989765328), (335, 0.02671838332054632), (336, 0.04756811544101744), (337, 0.003932370966369678), (338, 0.0), (339, 0.014851740805101361), (340, 0.016797560249173678), (341, 0.007549901267855718), (342, 0.05728711576005597), (343, 0.0), (344, 0.0049782018449459646), (345, 0.006705372425629079), (346, 0.0), (347, 0.012121510428395047), (348, 0.007765134171567631), (349, 0.007443628978074587), (350, 0.023464851753954505), (351, 0.0), (352, 0.04951619927535943), (353, 0.004891152430914224), (354, 0.04119083892983094), (355, 0.006287631971090996), (356, 0.01434982706069731), (357, 0.0), (358, 0.02650969381663361), (359, 0.007589564823642211), (360, 0.0), (361, 0.02142242058067005), (362, 0.04056054521364638), (363, 0.03544102663655325), (364, 0.0), (365, 0.08248302075488209), (366, 0.0328115541128024), (367, 0.0), (368, 0.006734723734446843), (369, 0.09133586063679103), (370, 0.014215270244796435), (371, 0.02743958929911864), (372, 0.005642826546289418), (373, 0.1442405267812881), (374, 0.006997785947850203), (375, 0.01882598620316878), (376, 0.025255823575204218), (377, 0.0), (378, 0.031744583392750124), (379, 0.011788086250013322), (380, 0.014314330527079576), (381, 0.0073274813351274035), (382, 0.010608795433843065), (383, 0.013008142375900632), (384, 0.023393382595198218), (385, 0.0), (386, 0.05027447885423744), (387, 0.01672721357293925), (388, 0.02327435433382967), (389, 0.04529421192686091), (390, 0.0), (391, 0.08390830809223296), (392, 0.005685965105196216), (393, 0.0), (394, 0.00603878490324579), (395, 0.0), (396, 0.006355775353433577), (397, 0.0), (398, 0.0), (399, 0.006843049329006467), (400, 0.06780514855814682), (401, 0.016337302914972603), (402, 0.013643281091159244), (403, 0.03347357265454952), (404, 0.023756168975641218), (405, 0.013075052414107866), (406, 0.020404691270177085), (407, 0.0), (408, 0.07595031056847897), (409, 0.01272813590138639), (410, 0.06238405289133707), (411, 0.010708599010699635), (412, 0.03218103183280218), (413, 0.02142132718857217), (414, 0.007657959179905623), (415, 0.02852149536717915), (416, 0.0), (417, 0.0), (418, 0.0), (419, 0.07685640071906219), (420, 0.04334808895758826), (421, 0.0), (422, 0.020450140375518743), (423, 0.023372739753053737), (424, 0.013668530235040766), (425, 0.015220526648513696), (426, 0.04777068029295625), (427, 0.0), (428, 0.006351065885650597), (429, 0.0), (430, 0.03317981051144633), (431, 0.0), (432, 0.033372367157149814), (433, 0.006577928758168427), (434, 0.0), (435, 0.0), (436, 0.0), (437, 0.024349104965780098), (438, 0.0), (439, 0.04667161837143631), (440, 0.020841944887579893), (441, 0.020169986223715887), (442, 0.041960273894885), (443, 0.0), (444, 0.057059896935091906), (445, 0.0), (446, 0.016261702072966674), (447, 0.006563741805080766), (448, 0.0), (449, 0.02464640799306692), (450, 0.020429411765908748), (451, 0.06577327459885693), (452, 0.0), (453, 0.006274617269943898), (454, 0.01776351734228925), (455, 0.005850220676939285), (456, 0.02009100019904756), (457, 0.034519533823711056), (458, 0.032844009817608426), (459, 0.007542000298303165), (460, 0.0), (461, 0.0940295663201272), (462, 0.0), (463, 0.0), (464, 0.0), (465, 0.0), (466, 0.046603304120096445), (467, 0.015626404874238005), (468, 0.03758808876647317), (469, 0.012569662242703008), (470, 0.0), (471, 0.0), (472, 0.013391007419017036), (473, 0.0891681864668519), (474, 0.0), (475, 0.011710007233071864), (476, 0.027446293741630063), (477, 0.0), (478, 0.013731433944804009), (479, 0.040633819218054326), (480, 0.07080585147639999), (481, 0.0), (482, 0.0), (483, 0.08698091589486505), (484, 0.026226278796211318), (485, 0.007000266355816941), (486, 0.013269182265575722), (487, 0.07869515192470954), (488, 0.03335031927834711), (489, 0.03831304191535771), (490, 0.06392121506641499), (491, 0.011987779095206638), (492, 0.0), (493, 0.0), (494, 0.06792169580663135), (495, 0.034682753406724026), (496, 0.0), (497, 0.0), (498, 0.0071330770586419175), (499, 0.0), (500, 0.005657443356807309), (501, 0.01612864024916625), (502, 0.0160963634094399), (503, 0.019378632654567858), (504, 0.0), (505, 0.04131193378811687), (506, 0.022884660226436433), (507, 0.03380137845778734), (508, 0.034636566772143884), (509, 0.0), (510, 0.026312856885117603), (511, 0.06091269614715286), (512, 0.028899361991867566), (513, 0.038170341360125794), (514, 0.005891071302150048), (515, 0.0), (516, 0.014887903667999042), (517, 0.0), (518, 0.015756447254408158), (519, 0.0), (520, 0.0), (521, 0.0), (522, 0.0), (523, 0.013999382944369823), (524, 0.024457558021144098), (525, 0.005287133000151386), (526, 0.0), (527, 0.0), (528, 0.03271462218530446), (529, 0.005331546642443843), (530, 0.006521081172621788), (531, 0.050048932761777354), (532, 0.0), (533, 0.0), (534, 0.0068340576257418205), (535, 0.012656670913085623), (536, 0.0), (537, 0.005769273277397045), (538, 0.0), (539, 0.07693281721794555), (540, 0.017799776177646415), (541, 0.05203389261808946), (542, 0.047095199211505276), (543, 0.02484879677667454), (544, 0.013636674336112105), (545, 0.018719992869700768), (546, 0.007319724679759578), (547, 0.006137793616166336), (548, 0.0), (549, 0.06250019442739242), (550, 0.02453341259876557), (551, 0.007525935920670232), (552, 0.0), (553, 0.006053810763171686), (554, 0.0), (555, 0.021341902737750974), (556, 0.0238272245410298), (557, 0.0), (558, 0.03303892640384593), (559, 0.0), (560, 0.0057216269378664005), (561, 0.0054553925562919586), (562, 0.0), (563, 0.021817073139663093), (564, 0.020491144860115995), (565, 0.10737017065333719), (566, 0.007018922858395495), (567, 0.0), (568, 0.013278124163159103), (569, 0.024615922422292054), (570, 0.030719839818060334), (571, 0.02579549098981209), (572, 0.007725284265232059), (573, 0.050554168930929365), (574, 0.0057276214504644336), (575, 0.02076471993608535), (576, 0.0), (577, 0.07206270158514971), (578, 0.0661793820785671), (579, 0.004468616899079955), (580, 0.07602063872126241), (581, 0.05557274318942772), (582, 0.04031090223601368), (583, 0.015064637047177027), (584, 0.0), (585, 0.013204728099361778), (586, 0.05202777942015215), (587, 0.036117277975048906), (588, 0.0), (589, 0.005924125099803781), (590, 0.05190056496593936), (591, 0.05317255602118087), (592, 0.020803787798543024), (593, 0.0), (594, 0.013922606934126253), (595, 0.034678302016472345), (596, 0.03619553422080395), (597, 0.005919107612941014), (598, 0.0), (599, 0.014040639848686896), (600, 0.016260768571942488), (601, 0.028930599747268214), (602, 0.015235435065927571), (603, 0.035983134897755314), (604, 0.013474726167715584), (605, 0.025621004359131283), (606, 0.021216199739639816), (607, 0.03438910426362232), (608, 0.020633057428718835), (609, 0.02768021396270168), (610, 0.012394034356898438), (611, 0.005369547278701922), (612, 0.035341396725774986), (613, 0.026582463296610723), (614, 0.0), (615, 0.0152528542632435), (616, 0.0), (617, 0.0210537139515029), (618, 0.029713576006239063), (619, 0.0), (620, 0.0), (621, 0.027678515860952796), (622, 0.048837790473374394), (623, 0.0), (624, 0.005294316197617501), (625, 0.0), (626, 0.023103416228953216), (627, 0.02219859352622238), (628, 0.014528927128324052), (629, 0.025249510117634835), (630, 0.0), (631, 0.007203096317687439), (632, 0.04411639221930522), (633, 0.0), (634, 0.05637449866078348), (635, 0.0), (636, 0.0), (637, 0.0), (638, 0.010283797770191488), (639, 0.0), (640, 0.013222222973044422), (641, 0.0), (642, 0.014871840051445808), (643, 0.09933251371198507), (644, 0.021520414985760572), (645, 0.05548767168551724), (646, 0.0), (647, 0.014183787416850745), (648, 0.031060012478897916), (649, 0.0), (650, 0.0), (651, 0.0), (652, 0.02341433411123657), (653, 0.005895663197280572), (654, 0.03586501513920849), (655, 0.029148561054021655), (656, 0.010423920383158659), (657, 0.02751580724942368), (658, 0.035631536094733976), (659, 0.005995927252747041), (660, 0.049189427625957585), (661, 0.07630015034906479), (662, 0.0), (663, 0.0), (664, 0.013836295066637631), (665, 0.011750505998528251), (666, 0.020355287139383012), (667, 0.0), (668, 0.029935124917216508), (669, 0.0), (670, 0.058401831518592726), (671, 0.007233540741182896), (672, 0.043117424173398436), (673, 0.027250139158944024), (674, 0.03372760983581269), (675, 0.05545752920065081), (676, 0.03378036538571846), (677, 0.08006850770031704), (678, 0.015722432578751718), (679, 0.0186947075302066), (680, 0.03822141280363851), (681, 0.033250728811307965), (682, 0.0), (683, 0.012401902791577789), (684, 0.0), (685, 0.005955210082294363), (686, 0.0), (687, 0.013096678115290184), (688, 0.0), (689, 0.04873897242542936), (690, 0.04331926916309655), (691, 0.02243934032615405), (692, 0.03882849613869921), (693, 0.03987397703577949), (694, 0.045810462544925344), (695, 0.011987928800394076), (696, 0.04559202102572001), (697, 0.010915730899965137), (698, 0.008498174560602548), (699, 0.0), (700, 0.030430504802477693), (701, 0.0), (702, 0.028427397188015596), (703, 0.0), (704, 0.007894824196213627), (705, 0.0), (706, 0.00834993752032779), (707, 0.008025759943941493), (708, 0.0629481442120274), (709, 0.0), (710, 0.0), (711, 0.011755712329599497), (712, 0.0), (713, 0.022137492976892683), (714, 0.0), (715, 0.016218454157889917), (716, 0.02722796262891168), (717, 0.04314480006276986), (718, 0.037894615795181025), (719, 0.0), (720, 0.03651788218896568), (721, 0.007236021047065405), (722, 0.01524431364714609), (723, 0.017177347226687487), (724, 0.005840577478755235), (725, 0.0), (726, 0.0), (727, 0.0), (728, 0.05784356728833904), (729, 0.0), (730, 0.00667001433711541), (731, 0.014738439889785012), (732, 0.03846224066652143), (733, 0.0), (734, 0.007419355101366595), (735, 0.03374145877879681), (736, 0.005173640162973473), (737, 0.005927590173048757), (738, 0.027517413244641978), (739, 0.020236856625805027), (740, 0.027838913038642814), (741, 0.005621441047697274), (742, 0.036993711796424696), (743, 0.01946097527581593), (744, 0.013397027753972897), (745, 0.005549088283370023), (746, 0.011993475662451982), (747, 0.00603867169455346), (748, 0.00833198021818313), (749, 0.0), (750, 0.007613634821503507), (751, 0.0), (752, 0.040657284302386625), (753, 0.05049961762972125), (754, 0.024071554345908852), (755, 0.03447430970527314), (756, 0.0), (757, 0.0), (758, 0.0), (759, 0.06125805725572824), (760, 0.024367516701458106), (761, 0.005487731298923931), (762, 0.006179049300773647), (763, 0.0), (764, 0.01676054656284293), (765, 0.0), (766, 0.022376900271494245), (767, 0.09229040675810017), (768, 0.06461491782660862), (769, 0.010355605657248803), (770, 0.07266028871569412), (771, 0.040969682860222276), (772, 0.02014320822020554), (773, 0.03334430600012827), (774, 0.0071270064401349675), (775, 0.06373708383792671), (776, 0.044607494615453026), (777, 0.050012027598259894), (778, 0.05560312611095228), (779, 0.042823238788643025), (780, 0.0), (781, 0.014513175767278274), (782, 0.05000313674490788), (783, 0.04880753634994504), (784, 0.014785783664284707), (785, 0.007962517056402238), (786, 0.01491136898692029), (787, 0.08476502778680066), (788, 0.03596373797631411), (789, 0.0), (790, 0.02677316147224525), (791, 0.05590041017383684), (792, 0.03883127114937165), (793, 0.06107304105811257), (794, 0.011076203432424723), (795, 0.0), (796, 0.03269121476213113), (797, 0.023766287201680922), (798, 0.0), (799, 0.030987272138415095), (800, 0.03158827552486931), (801, 0.02524939298175515), (802, 0.0), (803, 0.0), (804, 0.0060172113313088455), (805, 0.02824055432463172), (806, 0.0), (807, 0.0061931588621316515), (808, 0.013692841477227574), (809, 0.04942761019291044), (810, 0.010820161193753806), (811, 0.0), (812, 0.007689971306251591), (813, 0.04826852550842614), (814, 0.018985173653309047), (815, 0.0), (816, 0.1230270378231185), (817, 0.039374102675589454), (818, 0.006183915988937814), (819, 0.0), (820, 0.0), (821, 0.0057595922286871725), (822, 0.0), (823, 0.005914643707757258), (824, 0.0), (825, 0.0), (826, 0.0), (827, 0.03925263079078891), (828, 0.006171730712927853), (829, 0.011784102174575792), (830, 0.005240673776095966), (831, 0.020653266667905814), (832, 0.015862993453330042), (833, 0.08520644360978373), (834, 0.014062052352366787), (835, 0.0), (836, 0.012474651011364699), (837, 0.011307093181175183), (838, 0.05757262031961501), (839, 0.0), (840, 0.012949177011278717), (841, 0.034907501921998374), (842, 0.056666193875519445), (843, 0.0), (844, 0.03994463661883375), (845, 0.0), (846, 0.0), (847, 0.0), (848, 0.008437376754881687), (849, 0.0), (850, 0.05347193990814199), (851, 0.0), (852, 0.0), (853, 0.0), (854, 0.060134090459655884), (855, 0.019094436329253388), (856, 0.00552502668654035), (857, 0.11233376783748897), (858, 0.024812182515915708), (859, 0.03333753821197303), (860, 0.0), (861, 0.0), (862, 0.0), (863, 0.006163544982453864), (864, 0.005538130239965891), (865, 0.0), (866, 0.00667767142032688), (867, 0.010035562692216728), (868, 0.0), (869, 0.0), (870, 0.07464781715884729), (871, 0.0), (872, 0.03681283072488306), (873, 0.013993691180600117), (874, 0.04114215089414861), (875, 0.020177559857915462), (876, 0.0), (877, 0.027458781128967266), (878, 0.013762441062160841), (879, 0.0), (880, 0.026319789888284897), (881, 0.0), (882, 0.0), (883, 0.0), (884, 0.024134132881172957), (885, 0.0), (886, 0.0), (887, 0.0), (888, 0.013372889347305876), (889, 0.05642655275714562), (890, 0.0), (891, 0.0), (892, 0.0), (893, 0.005574007906184172), (894, 0.038801707656319136), (895, 0.0), (896, 0.040000006372382185), (897, 0.0), (898, 0.033870416944474055), (899, 0.03660021721300326), (900, 0.022388771757750295), (901, 0.006684610917057788), (902, 0.0), (903, 0.0), (904, 0.0), (905, 0.0), (906, 0.0), (907, 0.0), (908, 0.022546433304144742), (909, 0.020124125886301296), (910, 0.0), (911, 0.006124835885497249), (912, 0.0), (913, 0.0), (914, 0.019384667964835643), (915, 0.0), (916, 0.12791675874135178), (917, 0.0), (918, 0.06664681395779064), (919, 0.006328121181831707), (920, 0.03237615225628174), (921, 0.1262990082329127), (922, 0.049575748725007626), (923, 0.0), (924, 0.0428984277518385), (925, 0.0), (926, 0.0), (927, 0.0), (928, 0.046413130054179325), (929, 0.05634619148749978), (930, 0.005401998501338383), (931, 0.04065407925458115), (932, 0.0043310455015340785), (933, 0.05962827525746781), (934, 0.006579190915403557), (935, 0.00800905267400009), (936, 0.0), (937, 0.005439810420359384), (938, 0.0), (939, 0.028481555426753263), (940, 0.0), (941, 0.04174502783419576), (942, 0.008174513411663512), (943, 0.0), (944, 0.0), (945, 0.005832601263132875), (946, 0.0), (947, 0.0), (948, 0.0), (949, 0.02129493972833866), (950, 0.012116133671884846), (951, 0.039240918392879805), (952, 0.006488940935182249), (953, 0.0), (954, 0.0), (955, 0.01983370021098623), (956, 0.048432219180238927), (957, 0.0), (958, 0.0), (959, 0.005149176248819518), (960, 0.08047982905363907), (961, 0.016350848046491284), (962, 0.01517198764628782), (963, 0.005303205260732122), (964, 0.0), (965, 0.026022842044930775), (966, 0.0), (967, 0.0), (968, 0.021983243981523758), (969, 0.08502107694548297), (970, 0.022771082434743583), (971, 0.0), (972, 0.1068824169786084), (973, 0.005280961077629483), (974, 0.0), (975, 0.0), (976, 0.03689381154637905), (977, 0.06171912354615696), (978, 0.08374019971837895), (979, 0.031032450820179573), (980, 0.0), (981, 0.006014495240667087), (982, 0.016795033746887532), (983, 0.0), (984, 0.015075207705953907), (985, 0.01562851191731434), (986, 0.06350223171455355), (987, 0.028701448850633464), (988, 0.005724487788609499), (989, 0.04923718747875363), (990, 0.03491078564040277), (991, 0.0), (992, 0.0057280146151972395), (993, 0.0061430228793996865), (994, 0.060519113500198556), (995, 0.0), (996, 0.0), (997, 0.0), (998, 0.0724413577092988), (999, 0.02401825216371912), (1000, 0.005778735436910862), (1001, 0.053450492313654986), (1002, 0.028389599668862536), (1003, 0.028438813375552117), (1004, 0.010056415278692964), (1005, 0.009589831493144583), (1006, 0.026289883132069883), (1007, 0.06134045707589666), (1008, 0.0192107631592322), (1009, 0.0), (1010, 0.0), (1011, 0.0), (1012, 0.01468131413151707), (1013, 0.03946139260061603), (1014, 0.007284724980970316), (1015, 0.03780010637543167), (1016, 0.06717761648214024), (1017, 0.017555171447463828), (1018, 0.00424537965793886), (1019, 0.0), (1020, 0.018313036401594117), (1021, 0.0), (1022, 0.0), (1023, 0.038756112371873055), (1024, 0.03845814325312803), (1025, 0.0), (1026, 0.0), (1027, 0.013210868299781502), (1028, 0.024566831869917392), (1029, 0.03639286673619616), (1030, 0.0), (1031, 0.0), (1032, 0.0), (1033, 0.0), (1034, 0.03209475933752944), (1035, 0.0061213393548027895), (1036, 0.0), (1037, 0.0), (1038, 0.02047918582255041), (1039, 0.0), (1040, 0.020652345892918356), (1041, 0.005243533842635071), (1042, 0.024056754254297825), (1043, 0.027247650006211415), (1044, 0.044931286557093914), (1045, 0.02020459735955197), (1046, 0.0), (1047, 0.0), (1048, 0.0), (1049, 0.005540470218759407), (1050, 0.04363149881339461), (1051, 0.0), (1052, 0.01409923361463274), (1053, 0.05035924177283006), (1054, 0.0), (1055, 0.0), (1056, 0.0052752528918167015), (1057, 0.031363326954927884), (1058, 0.012038275843811706), (1059, 0.007506848594140911), (1060, 0.0), (1061, 0.0), (1062, 0.07766325573711733), (1063, 0.0), (1064, 0.00476442504013644), (1065, 0.0), (1066, 0.0), (1067, 0.0), (1068, 0.07244418621169658), (1069, 0.0), (1070, 0.02754080230530545), (1071, 0.0), (1072, 0.007527915735928057), (1073, 0.01411967319408404), (1074, 0.023891777391596092), (1075, 0.1184241513313847), (1076, 0.014178858499818373), (1077, 0.010938903081592243), (1078, 0.018352997965659184), (1079, 0.045029845936739324), (1080, 0.00783726778839155), (1081, 0.0), (1082, 0.011584356692089008), (1083, 0.035755097684483116), (1084, 0.013418679893643237), (1085, 0.03590154675455611), (1086, 0.03576811353024417), (1087, 0.0), (1088, 0.0), (1089, 0.01387084354197756), (1090, 0.02089896025021932), (1091, 0.0871341019109051), (1092, 0.0), (1093, 0.03260034762592275), (1094, 0.017215883010596685), (1095, 0.005127099543079734), (1096, 0.0055293144320330825), (1097, 0.019698697271584086), (1098, 0.0), (1099, 0.008782399795647424), (1100, 0.012919054292234146), (1101, 0.005483641431808117), (1102, 0.0), (1103, 0.03874127885795499), (1104, 0.005394859990816043), (1105, 0.0), (1106, 0.01254468332515236), (1107, 0.0), (1108, 0.0), (1109, 0.004991783711318133), (1110, 0.025599610386316536), (1111, 0.04014406727898756), (1112, 0.08801194248892114), (1113, 0.0211291001696708), (1114, 0.0067699964786363965), (1115, 0.02426274496674134), (1116, 0.0), (1117, 0.040238821837391046), (1118, 0.00617757110461247), (1119, 0.02499459976501659), (1120, 0.04407819072677346), (1121, 0.018241460008243043), (1122, 0.01044405226771628), (1123, 0.0), (1124, 0.012401680556892622), (1125, 0.03817433430376167), (1126, 0.0), (1127, 0.04254721307541581), (1128, 0.0), (1129, 0.04659689707673571), (1130, 0.0), (1131, 0.0131963952567928), (1132, 0.0), (1133, 0.006377357058095796), (1134, 0.08346376038998603), (1135, 0.027773603434504576), (1136, 0.011825072578315039), (1137, 0.04521687940521589), (1138, 0.005022561252963968), (1139, 0.013640690999042594), (1140, 0.0050436974817167305), (1141, 0.0433793914253366), (1142, 0.006222989134194729), (1143, 0.014333050362504459), (1144, 0.07159568385991306), (1145, 0.0), (1146, 0.005445266313982843), (1147, 0.046753761083835624), (1148, 0.0), (1149, 0.0), (1150, 0.0), (1151, 0.0), (1152, 0.024011921636367065), (1153, 0.01949509882882359), (1154, 0.06345754945954643), (1155, 0.03065983863769961), (1156, 0.0), (1157, 0.0), (1158, 0.11377447636173509), (1159, 0.014645512083879141), (1160, 0.0), (1161, 0.024041903127649707), (1162, 0.0), (1163, 0.0), (1164, 0.0), (1165, 0.04289812761701258), (1166, 0.025108736291114094), (1167, 0.0), (1168, 0.024702901440090887), (1169, 0.0), (1170, 0.0), (1171, 0.0), (1172, 0.014243762383688916), (1173, 0.0), (1174, 0.06296098552181525), (1175, 0.012758323912679594), (1176, 0.02514460962913553), (1177, 0.07575032772538515), (1178, 0.006253909557767986), (1179, 0.0), (1180, 0.0), (1181, 0.0), (1182, 0.0), (1183, 0.007279982825012993), (1184, 0.0), (1185, 0.010026907881558387), (1186, 0.018387214055587308), (1187, 0.035633563043869304), (1188, 0.005602156023121698), (1189, 0.0), (1190, 0.0), (1191, 0.03070397605598546), (1192, 0.0734094652731318), (1193, 0.02807698837708815), (1194, 0.0), (1195, 0.005741809682852772), (1196, 0.0), (1197, 0.0), (1198, 0.027204389917232744), (1199, 0.011833843902951134), (1200, 0.01300805475290987), (1201, 0.031300907867539696), (1202, 0.007136306883814362), (1203, 0.0), (1204, 0.009736409463947174), (1205, 0.0), (1206, 0.0), (1207, 0.0), (1208, 0.02939868956397356), (1209, 0.0), (1210, 0.0), (1211, 0.03033980606141561), (1212, 0.015011149003153635), (1213, 0.05139702630941095), (1214, 0.01984693142750265), (1215, 0.036244313367261485), (1216, 0.0), (1217, 0.0680641249146497), (1218, 0.0), (1219, 0.0), (1220, 0.0), (1221, 0.0), (1222, 0.0), (1223, 0.0), (1224, 0.0), (1225, 0.0), (1226, 0.0), (1227, 0.0), (1228, 0.0), (1229, 0.0), (1230, 0.03614488539476604), (1231, 0.05674342400270389), (1232, 0.0), (1233, 0.0), (1234, 0.013503090359381135), (1235, 0.0), (1236, 0.0), (1237, 0.06201775456151856), (1238, 0.020502538260708768), (1239, 0.013696091743063948), (1240, 0.020924485157357654), (1241, 0.0), (1242, 0.0), (1243, 0.076738425277045), (1244, 0.0), (1245, 0.00627000737732176), (1246, 0.0), (1247, 0.0), (1248, 0.009240956978976077), (1249, 0.006220547191105122), (1250, 0.03827834629900566), (1251, 0.0), (1252, 0.0), (1253, 0.007804539714368817), (1254, 0.006130651809696024), (1255, 0.0), (1256, 0.015009868832382936), (1257, 0.008228935756474815), (1258, 0.0), (1259, 0.033463701378755165), (1260, 0.0), (1261, 0.0), (1262, 0.022255589987857646), (1263, 0.007324304615523465), (1264, 0.0), (1265, 0.0), (1266, 0.023545326956445907), (1267, 0.00815955296669503), (1268, 0.0), (1269, 0.04348587552939967), (1270, 0.023392079937292698), (1271, 0.039580292845199885), (1272, 0.049744196689349554), (1273, 0.014799930465411624), (1274, 0.07711131180547716), (1275, 0.06231992227144578), (1276, 0.0), (1277, 0.036556491191172366), (1278, 0.006775528642861552), (1279, 0.029067586193210267), (1280, 0.0), (1281, 0.005252339042011737), (1282, 0.027288572381374818), (1283, 0.0), (1284, 0.006140718024157136), (1285, 0.006190935531807922), (1286, 0.04752159432554842), (1287, 0.007600172093830975), (1288, 0.007868627829213836), (1289, 0.006444213715322171), (1290, 0.012319183274584034), (1291, 0.04984819727396039), (1292, 0.0), (1293, 0.0), (1294, 0.03368347475101986), (1295, 0.0), (1296, 0.06133090631893209), (1297, 0.0), (1298, 0.011288432963345096), (1299, 0.0), (1300, 0.010642955179476483), (1301, 0.04785122926257296), (1302, 0.014131974879899471), (1303, 0.05625244493514255), (1304, 0.019258229664095017), (1305, 0.010516386492141153), (1306, 0.009187306220129228), (1307, 0.0), (1308, 0.0), (1309, 0.0), (1310, 0.00525831090172099), (1311, 0.0), (1312, 0.010255129451388843), (1313, 0.0), (1314, 0.0), (1315, 0.0), (1316, 0.0), (1317, 0.006210853578095895), (1318, 0.04684955689675324), (1319, 0.02629342809876263), (1320, 0.014320983282403027), (1321, 0.006202540450499561), (1322, 0.031887564083369305), (1323, 0.01970726816045829), (1324, 0.03576338568561809), (1325, 0.03612916212435363), (1326, 0.06639748698729483), (1327, 0.0), (1328, 0.039585597618798735), (1329, 0.041593693963136245), (1330, 0.0), (1331, 0.01569949605534366), (1332, 0.01926821716760222), (1333, 0.01944326468080302), (1334, 0.0057150271762926265), (1335, 0.046295206839301335), (1336, 0.0), (1337, 0.03205422056569947), (1338, 0.0), (1339, 0.005971522426053396), (1340, 0.0), (1341, 0.04269437363870444), (1342, 0.006407273839429302), (1343, 0.012503997502461173), (1344, 0.05813901634575078), (1345, 0.0), (1346, 0.010711059921880811), (1347, 0.005630890845131077), (1348, 0.0), (1349, 0.0), (1350, 0.0), (1351, 0.0), (1352, 0.047115425859330345), (1353, 0.057808110558434704), (1354, 0.055123547311484444), (1355, 0.032917911566650485), (1356, 0.03845947043916149), (1357, 0.0475524010631747), (1358, 0.05181216289786935), (1359, 0.024929726723526918), (1360, 0.0), (1361, 0.02212889041011181), (1362, 0.025528540553720003), (1363, 0.012812228109567643), (1364, 0.0), (1365, 0.04896757139596279), (1366, 0.013830513896566227), (1367, 0.0350684280689346), (1368, 0.0), (1369, 0.041907390558657956), (1370, 0.0), (1371, 0.0), (1372, 0.03885445904330564), (1373, 0.13976314835137943), (1374, 0.0), (1375, 0.023699347820476238), (1376, 0.0), (1377, 0.0674030056558132), (1378, 0.0), (1379, 0.019448433243053283), (1380, 0.013733931249760899), (1381, 0.0), (1382, 0.009024445755283), (1383, 0.0), (1384, 0.0), (1385, 0.0), (1386, 0.0), (1387, 0.0), (1388, 0.0), (1389, 0.0), (1390, 0.03633328507013282), (1391, 0.023161140588724847), (1392, 0.0), (1393, 0.0), (1394, 0.0276730631071053), (1395, 0.026990526326866965), (1396, 0.0), (1397, 0.03730975703171021), (1398, 0.07741859108883281), (1399, 0.05683069691121495), (1400, 0.03867692811088525), (1401, 0.04414424320918267), (1402, 0.10361099975690685), (1403, 0.0), (1404, 0.031242887902132803), (1405, 0.01899062373053231), (1406, 0.013828523055928745), (1407, 0.0), (1408, 0.018840889077001138), (1409, 0.040335919704123195), (1410, 0.010399429354428572), (1411, 0.0), (1412, 0.04699858418245475), (1413, 0.033038297482283735), (1414, 0.0), (1415, 0.01901674523920336), (1416, 0.0), (1417, 0.0066822600764529505), (1418, 0.0), (1419, 0.005903791763496167), (1420, 0.0), (1421, 0.0), (1422, 0.021540948685375254), (1423, 0.04423762362225113), (1424, 0.0), (1425, 0.0733407236241196), (1426, 0.007850516779930513), (1427, 0.04397557695028144), (1428, 0.023368406496603697), (1429, 0.0), (1430, 0.0), (1431, 0.005494110366586159), (1432, 0.016800318313051902), (1433, 0.006835252960274714), (1434, 0.07055633637895545), (1435, 0.019375526937544928), (1436, 0.0), (1437, 0.014704174803336637), (1438, 0.026488003322371757), (1439, 0.04110039004961204), (1440, 0.10057538439678701), (1441, 0.0), (1442, 0.03970660506716326), (1443, 0.00564167745472642), (1444, 0.0), (1445, 0.030800815447558375), (1446, 0.0), (1447, 0.012908822709095026), (1448, 0.006305411081302285), (1449, 0.0), (1450, 0.005432353334463019), (1451, 0.014987816713659386), (1452, 0.03231531381679492), (1453, 0.03859583450445797), (1454, 0.0), (1455, 0.0), (1456, 0.023376390775261657), (1457, 0.005729517934461217), (1458, 0.0), (1459, 0.03772098465565674), (1460, 0.007844664701770056), (1461, 0.016885769388037847), (1462, 0.0), (1463, 0.0052297880378442295), (1464, 0.0), (1465, 0.0657936989577561), (1466, 0.0), (1467, 0.054407350602605736), (1468, 0.028551711703349067), (1469, 0.02440734465058353), (1470, 0.021509959169930454), (1471, 0.014033508459859373), (1472, 0.03680783579217966), (1473, 0.14421212750841966), (1474, 0.017155755764176085), (1475, 0.0), (1476, 0.0), (1477, 0.0), (1478, 0.0), (1479, 0.006695171539842593), (1480, 0.0), (1481, 0.05076594314293009), (1482, 0.04828435858564741), (1483, 0.013473915182334708), (1484, 0.014706280763118508), (1485, 0.0), (1486, 0.026920269847161893), (1487, 0.0), (1488, 0.006717974163726649), (1489, 0.0), (1490, 0.06373267358902888), (1491, 0.025304132229463268), (1492, 0.0), (1493, 0.0), (1494, 0.0), (1495, 0.04012086902565435), (1496, 0.007268111460766386), (1497, 0.018923852746366942), (1498, 0.0), (1499, 0.0), (1500, 0.02120978689740189), (1501, 0.02133827458782681), (1502, 0.0), (1503, 0.007301822155594743), (1504, 0.0), (1505, 0.006389252906676622), (1506, 0.022534652838758804), (1507, 0.012781073672652543), (1508, 0.09771056440358794), (1509, 0.008563168204222697), (1510, 0.021737760843808292), (1511, 0.026446082031298043), (1512, 0.0), (1513, 0.05372108180609466), (1514, 0.006026944052101579), (1515, 0.02830596868911156), (1516, 0.0), (1517, 0.03895841417554542), (1518, 0.04894234741806836), (1519, 0.0), (1520, 0.0), (1521, 0.0), (1522, 0.0), (1523, 0.0), (1524, 0.009436335225406564), (1525, 0.0), (1526, 0.0), (1527, 0.01839764270197259), (1528, 0.006702266576811578), (1529, 0.02517973988411388), (1530, 0.0), (1531, 0.0959660188495482), (1532, 0.0), (1533, 0.019683415899312672), (1534, 0.0), (1535, 0.02258360489253924), (1536, 0.0), (1537, 0.04255280913499775), (1538, 0.026805211660455863), (1539, 0.0), (1540, 0.04173127886076328), (1541, 0.0), (1542, 0.053726108629425916), (1543, 0.028180095250180563), (1544, 0.0), (1545, 0.0), (1546, 0.014809635294075503), (1547, 0.0), (1548, 0.02457429408260698), (1549, 0.0), (1550, 0.007300739258695691), (1551, 0.0387882130662816), (1552, 0.0), (1553, 0.0), (1554, 0.018803424073422507), (1555, 0.0), (1556, 0.03120193015075414), (1557, 0.0), (1558, 0.017210503401210286), (1559, 0.0), (1560, 0.0), (1561, 0.020272448442619925), (1562, 0.00744363027572256), (1563, 0.0), (1564, 0.095663016280577), (1565, 0.010580198100380606), (1566, 0.0), (1567, 0.0), (1568, 0.05380959619330949), (1569, 0.028049493836125476), (1570, 0.0), (1571, 0.0), (1572, 0.0), (1573, 0.005574785936681113), (1574, 0.021238925023250546), (1575, 0.0), (1576, 0.0), (1577, 0.04501219693279995), (1578, 0.01911285627528263), (1579, 0.0507916200111964), (1580, 0.009035580783054518), (1581, 0.03250263126517635), (1582, 0.07224247316495913), (1583, 0.034589501984047734), (1584, 0.0), (1585, 0.010106445898344429), (1586, 0.014049281119234015), (1587, 0.018354451034604858), (1588, 0.0), (1589, 0.0), (1590, 0.03359656383148331), (1591, 0.0), (1592, 0.005613119310018271), (1593, 0.0), (1594, 0.0), (1595, 0.0), (1596, 0.04765895013175438), (1597, 0.034266635803166336), (1598, 0.018058897129920835), (1599, 0.0), (1600, 0.0), (1601, 0.0), (1602, 0.008178191744744835), (1603, 0.0), (1604, 0.0), (1605, 0.018256276601718826), (1606, 0.0), (1607, 0.006656956519726902), (1608, 0.022131463622602307), (1609, 0.0), (1610, 0.01368210453946157), (1611, 0.10020884872624654), (1612, 0.0), (1613, 0.03884483576567701), (1614, 0.0), (1615, 0.013610637463658553), (1616, 0.005330088154274614), (1617, 0.08717721772852989), (1618, 0.0), (1619, 0.04327033313658538), (1620, 0.0), (1621, 0.0), (1622, 0.0), (1623, 0.027350279199904126), (1624, 0.0), (1625, 0.024856206220986624), (1626, 0.005066495520031266), (1627, 0.0), (1628, 0.014313344407833968), (1629, 0.0), (1630, 0.0), (1631, 0.0), (1632, 0.0), (1633, 0.03835884012448613), (1634, 0.0), (1635, 0.0055379181970440184), (1636, 0.00635233434398981), (1637, 0.0040572159254915405), (1638, 0.04959554956980902), (1639, 0.0), (1640, 0.019787463117838005), (1641, 0.0), (1642, 0.026500311189535317), (1643, 0.0179732270923449), (1644, 0.022525687749916125), (1645, 0.01282220193167229), (1646, 0.04375805281523431), (1647, 0.0), (1648, 0.0), (1649, 0.01582150745747948), (1650, 0.09955176934497963), (1651, 0.04211331032636108), (1652, 0.03545966944835957), (1653, 0.035498974093118585), (1654, 0.019347685354919555), (1655, 0.0349381581121706), (1656, 0.0), (1657, 0.010012143812275356), (1658, 0.009319466356134119), (1659, 0.0), (1660, 0.0), (1661, 0.0056642858333724195), (1662, 0.0), (1663, 0.0), (1664, 0.005522101787483377), (1665, 0.08197423836146242), (1666, 0.0), (1667, 0.01761578916905661), (1668, 0.0), (1669, 0.005500794146936889), (1670, 0.009756444751848142), (1671, 0.03114919665121749), (1672, 0.01215350105440545), (1673, 0.0), (1674, 0.0), (1675, 0.006782955951639682), (1676, 0.01743063507812379), (1677, 0.0), (1678, 0.022179387998696284), (1679, 0.0), (1680, 0.006213827140958048), (1681, 0.0), (1682, 0.00802476818322661), (1683, 0.0), (1684, 0.0), (1685, 0.03691219440369839), (1686, 0.01209510993140733), (1687, 0.0), (1688, 0.0), (1689, 0.020452149257498914), (1690, 0.0), (1691, 0.0), (1692, 0.0), (1693, 0.0), (1694, 0.0), (1695, 0.05774683342030082), (1696, 0.0), (1697, 0.01921124920588641), (1698, 0.0), (1699, 0.0060947766078583545), (1700, 0.0), (1701, 0.007717967626649893), (1702, 0.0460127726245811), (1703, 0.0), (1704, 0.0), (1705, 0.020633846973735277), (1706, 0.01957659948631923), (1707, 0.005321106764650194), (1708, 0.0), (1709, 0.020961287759766706), (1710, 0.0), (1711, 0.0), (1712, 0.0), (1713, 0.046656666749269514), (1714, 0.0), (1715, 0.06282187138874129), (1716, 0.01983176840346206), (1717, 0.03872999820117553), (1718, 0.0), (1719, 0.0), (1720, 0.030109495253279467), (1721, 0.05487781253037812), (1722, 0.01999218207359105), (1723, 0.03939301286431103), (1724, 0.0), (1725, 0.018925389259774168), (1726, 0.006193366063561437), (1727, 0.0066254401431924004), (1728, 0.010102723723498162), (1729, 0.0), (1730, 0.0), (1731, 0.018978305698797944), (1732, 0.01165322669688363), (1733, 0.006484512788644792), (1734, 0.007095768420248164), (1735, 0.030552200796050477), (1736, 0.0), (1737, 0.04385623622008643), (1738, 0.0), (1739, 0.0), (1740, 0.03843915884968147), (1741, 0.005989658641332946), (1742, 0.005811841905122211), (1743, 0.012421202576055878), (1744, 0.0), (1745, 0.019321768591386245), (1746, 0.0), (1747, 0.021833521665818964), (1748, 0.13237311082393202), (1749, 0.0), (1750, 0.030729639297804354), (1751, 0.0), (1752, 0.0), (1753, 0.015811476083936533), (1754, 0.0075208929970167525), (1755, 0.0), (1756, 0.0), (1757, 0.026819995989551187), (1758, 0.020542263024874906), (1759, 0.06471619478713729), (1760, 0.0), (1761, 0.07125305217023538), (1762, 0.03962557691530695), (1763, 0.02411913432356674), (1764, 0.015268264746109301), (1765, 0.00530255852468643), (1766, 0.0), (1767, 0.0), (1768, 0.0), (1769, 0.006999937187641484), (1770, 0.0), (1771, 0.025135383889803808), (1772, 0.0), (1773, 0.02970052745131199), (1774, 0.0), (1775, 0.03362635519027905), (1776, 0.0), (1777, 0.014946548914511896), (1778, 0.017132898798075117), (1779, 0.0), (1780, 0.0), (1781, 0.04177864917677884), (1782, 0.0), (1783, 0.027408480319531157), (1784, 0.0), (1785, 0.0), (1786, 0.020634753859998755), (1787, 0.014036287790417766), (1788, 0.0), (1789, 0.0), (1790, 0.013812053577830077), (1791, 0.0), (1792, 0.005932830454158482), (1793, 0.018722593887713107), (1794, 0.0790662582033907), (1795, 0.013735563552772808), (1796, 0.05664466818020263), (1797, 0.007740393391490276), (1798, 0.0), (1799, 0.0), (1800, 0.0), (1801, 0.0), (1802, 0.04480136184604888), (1803, 0.0), (1804, 0.0), (1805, 0.0), (1806, 0.0), (1807, 0.02698832593459638), (1808, 0.01771536352588339), (1809, 0.0), (1810, 0.0), (1811, 0.016235819300064708), (1812, 0.0), (1813, 0.0), (1814, 0.0), (1815, 0.005694838561915923), (1816, 0.0), (1817, 0.02076000555008682), (1818, 0.027112735481385188), (1819, 0.06499366828282958), (1820, 0.01415222859182289), (1821, 0.029561592887845694), (1822, 0.06517099228484943), (1823, 0.0), (1824, 0.0), (1825, 0.012977319731989189), (1826, 0.06343860403644606), (1827, 0.02982362078713738), (1828, 0.0), (1829, 0.0), (1830, 0.04426921354807606), (1831, 0.0), (1832, 0.015133349548905222), (1833, 0.0), (1834, 0.0), (1835, 0.0), (1836, 0.013483225261975457), (1837, 0.021427595697265406), (1838, 0.0), (1839, 0.0), (1840, 0.08809543843748081), (1841, 0.006991799437429697), (1842, 0.0), (1843, 0.0), (1844, 0.017555760153086627), (1845, 0.0), (1846, 0.02085649602562996), (1847, 0.06772926354518076), (1848, 0.0195920872212327), (1849, 0.02045663294310509), (1850, 0.023329541238043587), (1851, 0.013329331466489278), (1852, 0.046216554805185946), (1853, 0.005755412527777551), (1854, 0.012880521834526357), (1855, 0.01855827546404798), (1856, 0.03478095683425052), (1857, 0.0), (1858, 0.012399977495474923), (1859, 0.0), (1860, 0.0065100693211671565), (1861, 0.0), (1862, 0.0), (1863, 0.0), (1864, 0.06298303021453912), (1865, 0.021877146409348805), (1866, 0.0), (1867, 0.0), (1868, 0.006058461195053507), (1869, 0.0), (1870, 0.0), (1871, 0.07396210361943628), (1872, 0.03544030283932091), (1873, 0.026433896572372346), (1874, 0.0), (1875, 0.0), (1876, 0.0), (1877, 0.03149463720834614), (1878, 0.006431964642651085), (1879, 0.0), (1880, 0.006063937066627358), (1881, 0.0), (1882, 0.026433224674320688), (1883, 0.01896895624827526), (1884, 0.023660556338885884), (1885, 0.026183090354666344), (1886, 0.0), (1887, 0.0), (1888, 0.0), (1889, 0.0), (1890, 0.029114147613073887), (1891, 0.060243956782701086), (1892, 0.011926148866196695), (1893, 0.0), (1894, 0.006352358861017137), (1895, 0.06385293359085745), (1896, 0.02058124848977348), (1897, 0.006699011182909161), (1898, 0.0), (1899, 0.0), (1900, 0.05039571212401362), (1901, 0.031305292465568034), (1902, 0.02114097866502437), (1903, 0.0), (1904, 0.0), (1905, 0.0), (1906, 0.0), (1907, 0.03135023827025409), (1908, 0.00545145660373251), (1909, 0.02547443026110091), (1910, 0.027717552046124062), (1911, 0.0), (1912, 0.0), (1913, 0.011965268743254735), (1914, 0.06621154169112954), (1915, 0.0), (1916, 0.0), (1917, 0.024568542143239697), (1918, 0.023125298364009), (1919, 0.0), (1920, 0.00647047882052457), (1921, 0.0), (1922, 0.0), (1923, 0.0), (1924, 0.0), (1925, 0.019013369940444096), (1926, 0.0), (1927, 0.0), (1928, 0.0), (1929, 0.021935307221456025), (1930, 0.005370666593844823), (1931, 0.04739184868828714), (1932, 0.0456721800134889), (1933, 0.006630784578305649), (1934, 0.0), (1935, 0.0), (1936, 0.04070968768045989), (1937, 0.007532688285787505), (1938, 0.020925836580621592), (1939, 0.037130017837294034), (1940, 0.0), (1941, 0.0), (1942, 0.02374185786602016), (1943, 0.0), (1944, 0.03923864197720643), (1945, 0.0), (1946, 0.0), (1947, 0.0), (1948, 0.0), (1949, 0.025348359670605128), (1950, 0.005417047884945179), (1951, 0.07270667258674254), (1952, 0.0), (1953, 0.014569864159424219), (1954, 0.006295505829985126), (1955, 0.005075394581192167), (1956, 0.006131029669061289), (1957, 0.0), (1958, 0.05394504895920184), (1959, 0.10765674459223615), (1960, 0.0), (1961, 0.0), (1962, 0.00809988153598294), (1963, 0.0), (1964, 0.06782814698588122), (1965, 0.0), (1966, 0.0), (1967, 0.0), (1968, 0.0), (1969, 0.0), (1970, 0.0), (1971, 0.0), (1972, 0.0), (1973, 0.022975511186640225), (1974, 0.037763087850058), (1975, 0.021898247008235987), (1976, 0.04899536103066983), (1977, 0.04330898553263455), (1978, 0.006784248156578958), (1979, 0.0), (1980, 0.01912794019022641), (1981, 0.039977958398126956), (1982, 0.020210898145763243), (1983, 0.024807171189651322), (1984, 0.08740525510851385), (1985, 0.045537231771273806), (1986, 0.006759235341186628), (1987, 0.006771903835203264), (1988, 0.0), (1989, 0.0), (1990, 0.07170401164507964), (1991, 0.0060238614446140966), (1992, 0.0), (1993, 0.0), (1994, 0.0), (1995, 0.04089252835510379), (1996, 0.0), (1997, 0.019419642853179507), (1998, 0.0), (1999, 0.06960581599645085), (2000, 0.0), (2001, 0.008484306371717617), (2002, 0.006149688806510183), (2003, 0.007603480398893002), (2004, 0.0), (2005, 0.0), (2006, 0.0), (2007, 0.004898863048800278), (2008, 0.0), (2009, 0.0), (2010, 0.0), (2011, 0.0), (2012, 0.009798262713167917), (2013, 0.004791083329196239), (2014, 0.01934297853260889), (2015, 0.04517734693017947), (2016, 0.03187120369342813), (2017, 0.0), (2018, 0.024469260131817713), (2019, 0.0), (2020, 0.0), (2021, 0.019174302598314798), (2022, 0.016928440669189943), (2023, 0.0051682634156916644), (2024, 0.030531477468825785), (2025, 0.03757166825704645), (2026, 0.01897986218761772), (2027, 0.0), (2028, 0.0), (2029, 0.006623602533289957), (2030, 0.04304638448899705), (2031, 0.026603664132870124), (2032, 0.0), (2033, 0.0), (2034, 0.0), (2035, 0.04718983411306717), (2036, 0.019194039407041313), (2037, 0.0), (2038, 0.0), (2039, 0.0), (2040, 0.0), (2041, 0.0), (2042, 0.0), (2043, 0.04274849586501954), (2044, 0.03732488237957267), (2045, 0.0), (2046, 0.03467891882357842), (2047, 0.05501019126305491), (2048, 0.0), (2049, 0.024440011005719242), (2050, 0.005570257480989949), (2051, 0.07712406492569387), (2052, 0.031391133570861846), (2053, 0.01399931635880727), (2054, 0.005457098422996242), (2055, 0.0070533029535685575), (2056, 0.0), (2057, 0.02901179902388821), (2058, 0.0), (2059, 0.0), (2060, 0.07920955414277049), (2061, 0.0), (2062, 0.0), (2063, 0.0), (2064, 0.0064054568756753555), (2065, 0.0), (2066, 0.029088382275356074), (2067, 0.0), (2068, 0.017200618932456932), (2069, 0.0620124964780742), (2070, 0.026149153421784078), (2071, 0.04706430856453668), (2072, 0.057157193168352445), (2073, 0.0), (2074, 0.005487598592916341), (2075, 0.005740116542004357), (2076, 0.020556854291636457), (2077, 0.0), (2078, 0.0), (2079, 0.0), (2080, 0.0), (2081, 0.04167753727454899), (2082, 0.0), (2083, 0.0), (2084, 0.10088556786606741), (2085, 0.026575474240775974), (2086, 0.028016577230542957), (2087, 0.020226213304447203), (2088, 0.0), (2089, 0.006487390578810133), (2090, 0.02096455663166755), (2091, 0.03728422433269849), (2092, 0.0), (2093, 0.006148554129461209), (2094, 0.01971378672831403), (2095, 0.006124886676407102), (2096, 0.06450922804374952), (2097, 0.0064973344018778335), (2098, 0.0), (2099, 0.0), (2100, 0.04187331964597026), (2101, 0.0), (2102, 0.021231688708968605), (2103, 0.03170052204764096), (2104, 0.01904850185891891), (2105, 0.0), (2106, 0.0), (2107, 0.0), (2108, 0.0), (2109, 0.0432076527446691), (2110, 0.0), (2111, 0.004690171333013661), (2112, 0.0), (2113, 0.02312200485413847), (2114, 0.008599940154519262), (2115, 0.014855884752920927), (2116, 0.007678920594703808), (2117, 0.0), (2118, 0.050425582125582166), (2119, 0.0), (2120, 0.0), (2121, 0.1401527127089081), (2122, 0.015194010755436232), (2123, 0.0), (2124, 0.0), (2125, 0.0), (2126, 0.0), (2127, 0.05606314038780151), (2128, 0.0), (2129, 0.05967671045590916), (2130, 0.0), (2131, 0.0), (2132, 0.0), (2133, 0.0), (2134, 0.04378501613821571), (2135, 0.0), (2136, 0.03176446045623311), (2137, 0.0), (2138, 0.016175615845719717), (2139, 0.0), (2140, 0.0054986336328109574), (2141, 0.02348302423451228), (2142, 0.005621083836967222), (2143, 0.0), (2144, 0.0), (2145, 0.0), (2146, 0.0), (2147, 0.0), (2148, 0.01750273659780797), (2149, 0.0), (2150, 0.0), (2151, 0.0), (2152, 0.05681053873309201), (2153, 0.0), (2154, 0.006454357656621421), (2155, 0.0397979407584284), (2156, 0.09501883022258932), (2157, 0.11449791498665905), (2158, 0.0), (2159, 0.025106305394287244), (2160, 0.018424198845013992), (2161, 0.050078261793268374), (2162, 0.008233871448675188), (2163, 0.1167647400431644), (2164, 0.02133933743071574), (2165, 0.0), (2166, 0.0), (2167, 0.049584614687905), (2168, 0.0), (2169, 0.06797700158986869), (2170, 0.0), (2171, 0.0), (2172, 0.0), (2173, 0.019797220728558954), (2174, 0.0), (2175, 0.03589187501944109), (2176, 0.0), (2177, 0.02219286602405101), (2178, 0.007085083718309246), (2179, 0.0), (2180, 0.05742829981561933), (2181, 0.00520379739970518), (2182, 0.02284612526519745), (2183, 0.0), (2184, 0.004542524472892672), (2185, 0.00707681303455833), (2186, 0.0177741801526671), (2187, 0.0), (2188, 0.0575413570268087), (2189, 0.0), (2190, 0.08895267670382692), (2191, 0.0), (2192, 0.0), (2193, 0.023588415562963285), (2194, 0.00532970074088609), (2195, 0.005377442947090621), (2196, 0.05618712839314045), (2197, 0.04225529260578398), (2198, 0.05651510970218107), (2199, 0.0), (2200, 0.02773931084803062), (2201, 0.006923824718378118), (2202, 0.04328759460221108), (2203, 0.005285929341302724), (2204, 0.0), (2205, 0.015568751179398859), (2206, 0.0), (2207, 0.01523710280506494), (2208, 0.0), (2209, 0.0340013875602589), (2210, 0.0), (2211, 0.018090963507620652), (2212, 0.018045091884827107), (2213, 0.0), (2214, 0.022339611029159885), (2215, 0.0), (2216, 0.0), (2217, 0.0), (2218, 0.006387990943980962), (2219, 0.0), (2220, 0.0), (2221, 0.02269795607775279), (2222, 0.007147051752970712), (2223, 0.0), (2224, 0.0), (2225, 0.059590264507090346), (2226, 0.0), (2227, 0.017874723860562373), (2228, 0.010214010061061372), (2229, 0.030279616689389152), (2230, 0.0), (2231, 0.0), (2232, 0.0), (2233, 0.016073798923635217), (2234, 0.040442500029552506), (2235, 0.06669225845484139), (2236, 0.0), (2237, 0.005477340238408214), (2238, 0.0), (2239, 0.0), (2240, 0.020200916089288968), (2241, 0.0), (2242, 0.010276124318816937), (2243, 0.0), (2244, 0.0056885969398429255), (2245, 0.00805651910828831), (2246, 0.10382263809090761), (2247, 0.0275765170489805), (2248, 0.0), (2249, 0.0), (2250, 0.014299962301038634), (2251, 0.0), (2252, 0.0), (2253, 0.042423843228622894), (2254, 0.02343917519648002), (2255, 0.027846083068015254), (2256, 0.0), (2257, 0.03152956083173082), (2258, 0.01822070702044987), (2259, 0.0), (2260, 0.023523592191321573), (2261, 0.02957746721609586), (2262, 0.032236742877194545), (2263, 0.04582871758143701), (2264, 0.026201853520935313), (2265, 0.0), (2266, 0.0), (2267, 0.0), (2268, 0.031854402426553415), (2269, 0.0), (2270, 0.008246486621724834), (2271, 0.0), (2272, 0.02570635886787606), (2273, 0.0), (2274, 0.0), (2275, 0.0), (2276, 0.0), (2277, 0.0057793891581682045), (2278, 0.04195580403206242), (2279, 0.0), (2280, 0.0), (2281, 0.0), (2282, 0.0), (2283, 0.0), (2284, 0.0), (2285, 0.04602719987293402), (2286, 0.0), (2287, 0.0), (2288, 0.02641214569704901), (2289, 0.0), (2290, 0.02364270325470956), (2291, 0.02368691553269216), (2292, 0.026891781827230316), (2293, 0.039273655072158804), (2294, 0.006388043007960869), (2295, 0.006013265061508817), (2296, 0.005788213004961272), (2297, 0.015749375347357084), (2298, 0.007969039700596963), (2299, 0.008748851909348241), (2300, 0.017630688869803655), (2301, 0.0), (2302, 0.02665179513552881), (2303, 0.04618753400056448), (2304, 0.0), (2305, 0.0798524726659478), (2306, 0.02499230984710277), (2307, 0.0), (2308, 0.0), (2309, 0.006527801908284258), (2310, 0.006809464038590289), (2311, 0.035980218207048796), (2312, 0.0), (2313, 0.0), (2314, 0.0), (2315, 0.0), (2316, 0.0), (2317, 0.03682021212218301), (2318, 0.0), (2319, 0.0), (2320, 0.027831457850739906), (2321, 0.026408132074847556), (2322, 0.024433566782067703), (2323, 0.0), (2324, 0.019283268188485737), (2325, 0.0), (2326, 0.04822138547764361), (2327, 0.03114986996656295), (2328, 0.0), (2329, 0.011041274058122786), (2330, 0.01641344182497121), (2331, 0.0), (2332, 0.0), (2333, 0.030796180897302638), (2334, 0.0), (2335, 0.0), (2336, 0.012019511381695186), (2337, 0.0), (2338, 0.010852482503660605), (2339, 0.019343330956796922), (2340, 0.04198337309624611), (2341, 0.017651842439436544), (2342, 0.01602075088450973), (2343, 0.042345923994709184), (2344, 0.0), (2345, 0.0), (2346, 0.025953756889973992), (2347, 0.0), (2348, 0.014146648509701655), (2349, 0.005411700914711599), (2350, 0.0), (2351, 0.0), (2352, 0.026789460813687292), (2353, 0.022401340988281063), (2354, 0.0), (2355, 0.0), (2356, 0.048203537366695415), (2357, 0.00997056907816332), (2358, 0.01899528466819645), (2359, 0.0), (2360, 0.03360767689043325), (2361, 0.041872979289633426), (2362, 0.0), (2363, 0.02766191279785507), (2364, 0.0), (2365, 0.0), (2366, 0.023631943599632492), (2367, 0.0), (2368, 0.0), (2369, 0.0), (2370, 0.0), (2371, 0.005943179075410472), (2372, 0.03187493831909365), (2373, 0.0), (2374, 0.0), (2375, 0.030977369967857483), (2376, 0.01982443624842659), (2377, 0.014868467755938003), (2378, 0.0), (2379, 0.0), (2380, 0.02693596078582724), (2381, 0.009421065009440965), (2382, 0.0), (2383, 0.0), (2384, 0.012605509393096527), (2385, 0.0), (2386, 0.046137047008562165), (2387, 0.03172815036678624), (2388, 0.005608787696849992), (2389, 0.024813690885446025), (2390, 0.013625505058333107), (2391, 0.0), (2392, 0.0), (2393, 0.0), (2394, 0.0064155427110218054), (2395, 0.0), (2396, 0.0), (2397, 0.013504382002783337), (2398, 0.005711500400287953), (2399, 0.04280220569891312), (2400, 0.005937669547978305), (2401, 0.0), (2402, 0.01299243784536578), (2403, 0.057382986558847486), (2404, 0.0), (2405, 0.0), (2406, 0.0), (2407, 0.13149317745862238), (2408, 0.0), (2409, 0.0), (2410, 0.024209788878473918), (2411, 0.0), (2412, 0.006027066264702211), (2413, 0.0), (2414, 0.0), (2415, 0.0), (2416, 0.04387527512884138), (2417, 0.019993254831512663), (2418, 0.009867128384944551), (2419, 0.0), (2420, 0.04380941575915989), (2421, 0.0), (2422, 0.0), (2423, 0.0), (2424, 0.0), (2425, 0.0), (2426, 0.0), (2427, 0.0), (2428, 0.0), (2429, 0.0047968797287302216), (2430, 0.024127329054407565), (2431, 0.0), (2432, 0.06677144788437311), (2433, 0.06268025191172336), (2434, 0.0), (2435, 0.02434562465345518), (2436, 0.0), (2437, 0.01923024667566806), (2438, 0.04715012550958582), (2439, 0.022117551459209586), (2440, 0.0), (2441, 0.0), (2442, 0.03589806272281487), (2443, 0.013771207622398977), (2444, 0.08109321830028626), (2445, 0.0), (2446, 0.014823419034087374), (2447, 0.0), (2448, 0.0), (2449, 0.041932439888846484), (2450, 0.0), (2451, 0.0), (2452, 0.0), (2453, 0.0), (2454, 0.0), (2455, 0.019945994776230734), (2456, 0.02249105688243128), (2457, 0.007573436452554417), (2458, 0.0), (2459, 0.0), (2460, 0.0), (2461, 0.0), (2462, 0.021825382496214834), (2463, 0.0), (2464, 0.04233591218996078), (2465, 0.0), (2466, 0.006468173351695412), (2467, 0.0), (2468, 0.0), (2469, 0.0065222867826447905), (2470, 0.022154908186033467), (2471, 0.005929357197228544), (2472, 0.0), (2473, 0.0), (2474, 0.04912562799706385), (2475, 0.0), (2476, 0.0), (2477, 0.0), (2478, 0.0), (2479, 0.017003869593952444), (2480, 0.022406923892237307), (2481, 0.0), (2482, 0.021003912209743337), (2483, 0.019361491690207788), (2484, 0.016456367241196503), (2485, 0.01254733049934177), (2486, 0.0330212769144736), (2487, 0.022193273786343917), (2488, 0.021031378735879454), (2489, 0.0), (2490, 0.013748145887671375), (2491, 0.0), (2492, 0.03360394276195286), (2493, 0.0), (2494, 0.04277751505540881), (2495, 0.0), (2496, 0.0), (2497, 0.0), (2498, 0.0), (2499, 0.0), (2500, 0.0), (2501, 0.0), (2502, 0.0), (2503, 0.04336941142607513), (2504, 0.0217227522731829), (2505, 0.0), (2506, 0.016226365195447647), (2507, 0.0), (2508, 0.010320962695473291), (2509, 0.02141876150529248), (2510, 0.018519991999801436), (2511, 0.0), (2512, 0.0), (2513, 0.0), (2514, 0.005618179102786739), (2515, 0.010677701266779504), (2516, 0.0), (2517, 0.0), (2518, 0.0), (2519, 0.0), (2520, 0.0), (2521, 0.011385654137562026), (2522, 0.014168755995743392), (2523, 0.0), (2524, 0.019405933151690077), (2525, 0.039891104530131866), (2526, 0.0), (2527, 0.014869439331506664), (2528, 0.0), (2529, 0.03517857594320943), (2530, 0.02137033951504253), (2531, 0.0), (2532, 0.08156371755353523), (2533, 0.0), (2534, 0.0), (2535, 0.0), (2536, 0.0), (2537, 0.0), (2538, 0.05330063106351285), (2539, 0.024947694434569852), (2540, 0.0103067747354597), (2541, 0.02107062028969709), (2542, 0.0), (2543, 0.006529683509443382), (2544, 0.0), (2545, 0.0), (2546, 0.020689393159420366), (2547, 0.06946767915461304), (2548, 0.0), (2549, 0.0), (2550, 0.025917714779254995), (2551, 0.0239503005811087), (2552, 0.05470720968858027), (2553, 0.0), (2554, 0.040111631386746206), (2555, 0.0), (2556, 0.006368919623278714), (2557, 0.019689494761194755), (2558, 0.005577557638608343), (2559, 0.0), (2560, 0.020752535136974618), (2561, 0.01831360588393259), (2562, 0.018909723116631815), (2563, 0.0), (2564, 0.024981879050202216), (2565, 0.005874641998374792), (2566, 0.10148220590271996), (2567, 0.0), (2568, 0.026969943091863735), (2569, 0.0), (2570, 0.0), (2571, 0.024571309543172926), (2572, 0.05842352740667684), (2573, 0.012208734066946732), (2574, 0.0), (2575, 0.0), (2576, 0.0), (2577, 0.023347086789678725), (2578, 0.013405911670693535), (2579, 0.0054238780998898265), (2580, 0.0), (2581, 0.041009103683150874), (2582, 0.0), (2583, 0.006236529795382164), (2584, 0.0207796871299166), (2585, 0.022733108033952367), (2586, 0.006794813117913627), (2587, 0.10835307982511137), (2588, 0.08683984840422736), (2589, 0.018944895330098643), (2590, 0.025781746241999127), (2591, 0.0), (2592, 0.039716427358376244), (2593, 0.0), (2594, 0.04304355425911724), (2595, 0.0), (2596, 0.0), (2597, 0.004922679548427905), (2598, 0.022197017475309333), (2599, 0.0), (2600, 0.0), (2601, 0.0), (2602, 0.005014150498106371), (2603, 0.03701148908711618), (2604, 0.0), (2605, 0.019965150615321666), (2606, 0.0), (2607, 0.0), (2608, 0.0), (2609, 0.005461698920246298), (2610, 0.0), (2611, 0.0), (2612, 0.009691480126346885), (2613, 0.0), (2614, 0.0), (2615, 0.03944254852110811), (2616, 0.0), (2617, 0.0), (2618, 0.0), (2619, 0.0), (2620, 0.0), (2621, 0.0), (2622, 0.024419039607859537), (2623, 0.006491281545037057), (2624, 0.05332243429033745), (2625, 0.005909925761093882), (2626, 0.0), (2627, 0.00852685369026859), (2628, 0.0), (2629, 0.0), (2630, 0.08480628888888922), (2631, 0.0), (2632, 0.021824400292447196), (2633, 0.03234086618689686), (2634, 0.0), (2635, 0.0), (2636, 0.039100176271655976), (2637, 0.0), (2638, 0.025509194529140168), (2639, 0.022285732495260745), (2640, 0.0), (2641, 0.005022923956119608), (2642, 0.04263666123375283), (2643, 0.0), (2644, 0.013453505274883634), (2645, 0.05039018172581479), (2646, 0.006450874728217511), (2647, 0.0), (2648, 0.0), (2649, 0.0), (2650, 0.023176732964770158), (2651, 0.0), (2652, 0.0), (2653, 0.016588813799046444), (2654, 0.0175600768683155), (2655, 0.014854548330924859), (2656, 0.0), (2657, 0.004741016568034254), (2658, 0.10377971097839185), (2659, 0.0), (2660, 0.0), (2661, 0.017083032600302632), (2662, 0.021406218218956736), (2663, 0.0), (2664, 0.0), (2665, 0.0690300914092), (2666, 0.03277322475924066), (2667, 0.0), (2668, 0.0), (2669, 0.020935757242336525), (2670, 0.024570883971925753), (2671, 0.06795775348946481), (2672, 0.0), (2673, 0.0), (2674, 0.0), (2675, 0.012885658207947737), (2676, 0.0), (2677, 0.0), (2678, 0.05207696890387089), (2679, 0.0), (2680, 0.0), (2681, 0.01173741660013166), (2682, 0.0), (2683, 0.01323259138335247), (2684, 0.0), (2685, 0.0), (2686, 0.0), (2687, 0.0), (2688, 0.007699531428503852), (2689, 0.0), (2690, 0.0), (2691, 0.017046381296549368), (2692, 0.0), (2693, 0.023576928251456294), (2694, 0.0), (2695, 0.02535815917116327), (2696, 0.0720010985227421), (2697, 0.0), (2698, 0.0), (2699, 0.0), (2700, 0.018690141790102095), (2701, 0.0), (2702, 0.01973371085048619), (2703, 0.0), (2704, 0.004800827344067768), (2705, 0.0), (2706, 0.03834545808307962), (2707, 0.025985631121311067), (2708, 0.020232702982086525), (2709, 0.0), (2710, 0.0), (2711, 0.0), (2712, 0.005735712664101347), (2713, 0.0), (2714, 0.0), (2715, 0.020400627756404412), (2716, 0.041307874775526124), (2717, 0.0), (2718, 0.0), (2719, 0.0), (2720, 0.05898503985232401), (2721, 0.0), (2722, 0.0), (2723, 0.0), (2724, 0.0), (2725, 0.0), (2726, 0.016575904782560855), (2727, 0.0), (2728, 0.00747061152963569), (2729, 0.0), (2730, 0.0181144619741834), (2731, 0.0), (2732, 0.039933809699413056), (2733, 0.0), (2734, 0.0), (2735, 0.0), (2736, 0.012041629669194628), (2737, 0.0), (2738, 0.0), (2739, 0.0), (2740, 0.0), (2741, 0.0), (2742, 0.034190825275641656), (2743, 0.043435143199128556), (2744, 0.0), (2745, 0.0), (2746, 0.016632110169192263), (2747, 0.011474879828450083), (2748, 0.010965065582414179), (2749, 0.0), (2750, 0.0), (2751, 0.036482406260180525), (2752, 0.01943852336117162), (2753, 0.0), (2754, 0.0), (2755, 0.09726805819339027), (2756, 0.01899129292721628), (2757, 0.02169033875763824), (2758, 0.02599740396660744), (2759, 0.03382241028522097), (2760, 0.04210644718503489), (2761, 0.0), (2762, 0.0), (2763, 0.03077429255744035), (2764, 0.0), (2765, 0.0), (2766, 0.014848820323184216), (2767, 0.0348445059674777), (2768, 0.0), (2769, 0.09159054666290023), (2770, 0.0), (2771, 0.02431035944723758), (2772, 0.0), (2773, 0.0), (2774, 0.0), (2775, 0.006024146651154705), (2776, 0.0), (2777, 0.02290697739429668), (2778, 0.0), (2779, 0.0), (2780, 0.029681981244525743), (2781, 0.05061527152738614), (2782, 0.0), (2783, 0.0), (2784, 0.004143179286482452), (2785, 0.021331258023515903), (2786, 0.0), (2787, 0.013093908674009214), (2788, 0.0), (2789, 0.024426550704071747), (2790, 0.005496218210776842), (2791, 0.020031366108726027), (2792, 0.021859390543179646), (2793, 0.0), (2794, 0.0), (2795, 0.0), (2796, 0.006835574684091187), (2797, 0.0), (2798, 0.013184864165072172), (2799, 0.0), (2800, 0.0), (2801, 0.0), (2802, 0.0), (2803, 0.005057703853355186), (2804, 0.0), (2805, 0.014719253837149237), (2806, 0.010593144434968184), (2807, 0.0596574100788343), (2808, 0.02338202662844803), (2809, 0.03072127295450893), (2810, 0.021375465235163073), (2811, 0.0), (2812, 0.013521303719095452), (2813, 0.0), (2814, 0.022715831017130938), (2815, 0.03041365781531246), (2816, 0.0), (2817, 0.020024963094382457), (2818, 0.0193215530859275), (2819, 0.00495531173133724), (2820, 0.0), (2821, 0.0), (2822, 0.027264903403848025), (2823, 0.008469552176794943), (2824, 0.0222557125146108), (2825, 0.0), (2826, 0.055964845971448914), (2827, 0.013530317660580021), (2828, 0.020591112459591412), (2829, 0.01632827973662041), (2830, 0.0), (2831, 0.05425940067290936), (2832, 0.0), (2833, 0.0), (2834, 0.0), (2835, 0.0), (2836, 0.0), (2837, 0.0), (2838, 0.040785264376034386), (2839, 0.0), (2840, 0.0), (2841, 0.021305099632975347), (2842, 0.02045759845376184), (2843, 0.045470589748637706), (2844, 0.0), (2845, 0.018808797328110426), (2846, 0.0), (2847, 0.10842726461716617), (2848, 0.0), (2849, 0.026027526387462592), (2850, 0.0), (2851, 0.043131750641744286), (2852, 0.0), (2853, 0.025318064332722677), (2854, 0.0), (2855, 0.0), (2856, 0.02330714049777286), (2857, 0.0), (2858, 0.04569868830457737), (2859, 0.0), (2860, 0.04690734696353499), (2861, 0.0), (2862, 0.07607779617199086), (2863, 0.013087777486464378), (2864, 0.0), (2865, 0.07659078908783919), (2866, 0.0), (2867, 0.007881179399743416), (2868, 0.049911056989933054), (2869, 0.0), (2870, 0.0), (2871, 0.0), (2872, 0.0), (2873, 0.0), (2874, 0.0), (2875, 0.0), (2876, 0.04706899516413662), (2877, 0.015381811588533096), (2878, 0.008914258392127016), (2879, 0.0), (2880, 0.0), (2881, 0.03883793439598464), (2882, 0.0), (2883, 0.0), (2884, 0.03403093445986213), (2885, 0.0), (2886, 0.007259124706195179), (2887, 0.0), (2888, 0.008605766594147952), (2889, 0.0), (2890, 0.0), (2891, 0.019093659327879597), (2892, 0.0), (2893, 0.0), (2894, 0.01157168017903247), (2895, 0.0), (2896, 0.0), (2897, 0.02153349459966626), (2898, 0.0), (2899, 0.01664208457289055), (2900, 0.01964395295060143), (2901, 0.0), (2902, 0.0), (2903, 0.0), (2904, 0.18017696511612652), (2905, 0.0), (2906, 0.0), (2907, 0.0), (2908, 0.0), (2909, 0.0), (2910, 0.0), (2911, 0.0), (2912, 0.04898677562810463), (2913, 0.0), (2914, 0.012352708739509877), (2915, 0.007750330730643237), (2916, 0.0), (2917, 0.0), (2918, 0.005789777363119807), (2919, 0.03456249161640815), (2920, 0.0), (2921, 0.033902626223051124), (2922, 0.0), (2923, 0.01894646449544529), (2924, 0.0), (2925, 0.03324460198047113), (2926, 0.0), (2927, 0.040635465742317675), (2928, 0.0), (2929, 0.017009598718857197), (2930, 0.007801524851472128), (2931, 0.007226515883152596), (2932, 0.0), (2933, 0.008058099878509332), (2934, 0.04277979639075309), (2935, 0.03963091070876902), (2936, 0.0), (2937, 0.0), (2938, 0.009433273255970216), (2939, 0.04111573689315166), (2940, 0.0), (2941, 0.0), (2942, 0.026283259827768572), (2943, 0.0), (2944, 0.030679919706159478), (2945, 0.0), (2946, 0.019530211713257223), (2947, 0.014876914882950091), (2948, 0.0), (2949, 0.0), (2950, 0.041402820096994745), (2951, 0.0), (2952, 0.029324420283693527), (2953, 0.01271031923834586), (2954, 0.030682155968469436), (2955, 0.0), (2956, 0.0), (2957, 0.0), (2958, 0.0), (2959, 0.005739693213954076), (2960, 0.022099633521067603), (2961, 0.0), (2962, 0.0), (2963, 0.0), (2964, 0.10104566545952727), (2965, 0.0), (2966, 0.034125606090377854), (2967, 0.04229495581694949), (2968, 0.0), (2969, 0.007720477849033802), (2970, 0.0), (2971, 0.04664257994448048), (2972, 0.0070201635182219335), (2973, 0.0), (2974, 0.0), (2975, 0.04036312745584954), (2976, 0.0), (2977, 0.028622792694111557), (2978, 0.020072553772318674), (2979, 0.0), (2980, 0.006485402548266124), (2981, 0.0), (2982, 0.030156080869862593), (2983, 0.0), (2984, 0.06320664233328008), (2985, 0.0), (2986, 0.030066127852589643), (2987, 0.0), (2988, 0.0), (2989, 0.0), (2990, 0.0), (2991, 0.06973849846604928), (2992, 0.0), (2993, 0.039715886255618574), (2994, 0.0885487160657604), (2995, 0.03345691743921488), (2996, 0.013057829033732959), (2997, 0.0), (2998, 0.01986674928816706), (2999, 0.023060292359686367), (3000, 0.0), (3001, 0.01126058251758534), (3002, 0.026314220389766628), (3003, 0.03896464080221204), (3004, 0.09182740990341595), (3005, 0.021010742854643216), (3006, 0.04046281972608465), (3007, 0.00463347393340409), (3008, 0.026768886954054293), (3009, 0.0), (3010, 0.0), (3011, 0.0), (3012, 0.02396441441007742), (3013, 0.007152189803194519), (3014, 0.09035983368683369), (3015, 0.0), (3016, 0.0), (3017, 0.008981837892587644), (3018, 0.0167173543598674), (3019, 0.0), (3020, 0.005830188434793836), (3021, 0.006575589577862803), (3022, 0.0), (3023, 0.0), (3024, 0.021199749032340235), (3025, 0.0), (3026, 0.0), (3027, 0.0), (3028, 0.0), (3029, 0.005395702940127937), (3030, 0.0054922496758770326), (3031, 0.0), (3032, 0.011619270736759363), (3033, 0.005690610142256784), (3034, 0.0), (3035, 0.03142050283575982), (3036, 0.0), (3037, 0.0), (3038, 0.0), (3039, 0.04930679680754403), (3040, 0.005902624450932525), (3041, 0.0), (3042, 0.0), (3043, 0.009829819095541462), (3044, 0.021001897900507285), (3045, 0.0), (3046, 0.0), (3047, 0.0), (3048, 0.0), (3049, 0.009887507541891943), (3050, 0.0), (3051, 0.015615860235122191), (3052, 0.0), (3053, 0.0), (3054, 0.01963009726603312), (3055, 0.03711559211037881), (3056, 0.0), (3057, 0.0), (3058, 0.0), (3059, 0.0), (3060, 0.0), (3061, 0.0), (3062, 0.005771305535196733), (3063, 0.0), (3064, 0.0), (3065, 0.0), (3066, 0.0), (3067, 0.0), (3068, 0.0070509881668786465), (3069, 0.0), (3070, 0.0), (3071, 0.0), (3072, 0.06445400870867896), (3073, 0.0053233991418529395), (3074, 0.005414455635025502), (3075, 0.0), (3076, 0.0), (3077, 0.005926642213598285), (3078, 0.0), (3079, 0.0), (3080, 0.0), (3081, 0.0239552157612718), (3082, 0.045074492046007525), (3083, 0.0224492403810324), (3084, 0.0), (3085, 0.03143866866802561), (3086, 0.0053967158740721765), (3087, 0.020135524651917498), (3088, 0.0), (3089, 0.027742687842826918), (3090, 0.0), (3091, 0.08770157752411274), (3092, 0.0), (3093, 0.0), (3094, 0.02045177865362418), (3095, 0.0), (3096, 0.0), (3097, 0.008916752027249198), (3098, 0.014234227577461789), (3099, 0.004772046406762389), (3100, 0.0), (3101, 0.0), (3102, 0.0), (3103, 0.0), (3104, 0.0), (3105, 0.0), (3106, 0.005554391920040164), (3107, 0.0), (3108, 0.0), (3109, 0.0), (3110, 0.0), (3111, 0.0), (3112, 0.014566580564782767), (3113, 0.0), (3114, 0.0), (3115, 0.0), (3116, 0.05826812140666871), (3117, 0.03459849742048953), (3118, 0.0), (3119, 0.0), (3120, 0.0), (3121, 0.0), (3122, 0.0), (3123, 0.0), (3124, 0.02134651447196322), (3125, 0.02310966526423852), (3126, 0.0), (3127, 0.0), (3128, 0.04832191835440541), (3129, 0.008692278386134554), (3130, 0.08541988594453358), (3131, 0.0), (3132, 0.0), (3133, 0.021232674817310206), (3134, 0.0), (3135, 0.0), (3136, 0.012079758114321845), (3137, 0.0), (3138, 0.02448427322476465), (3139, 0.00900693133451665), (3140, 0.0), (3141, 0.0), (3142, 0.02848730172091315), (3143, 0.01067101662844478), (3144, 0.006452978496920516), (3145, 0.0), (3146, 0.03274462178244684), (3147, 0.019559532776649104), (3148, 0.01230920585769035), (3149, 0.0), (3150, 0.03745262799488461), (3151, 0.0054992384664992525), (3152, 0.019685893401234885), (3153, 0.027894357820418183), (3154, 0.006642913590300622), (3155, 0.01700214843317627), (3156, 0.024048586888073226), (3157, 0.022070357663143112), (3158, 0.16107142159805013), (3159, 0.0), (3160, 0.0), (3161, 0.0), (3162, 0.010936267775394241), (3163, 0.022291997881429278), (3164, 0.0), (3165, 0.005122514508369373), (3166, 0.0), (3167, 0.0), (3168, 0.0), (3169, 0.0), (3170, 0.0), (3171, 0.0072924544706741085), (3172, 0.0), (3173, 0.0), (3174, 0.0), (3175, 0.0), (3176, 0.0), (3177, 0.03238201805788077), (3178, 0.0), (3179, 0.0), (3180, 0.006511247085680836), (3181, 0.022784111855948735), (3182, 0.0), (3183, 0.0), (3184, 0.058678384207377074), (3185, 0.0), (3186, 0.0), (3187, 0.022573463923221466), (3188, 0.0), (3189, 0.0), (3190, 0.0), (3191, 0.0), (3192, 0.0), (3193, 0.0), (3194, 0.0), (3195, 0.06603869840490123), (3196, 0.0), (3197, 0.014614344211773147), (3198, 0.0), (3199, 0.03191141444038018), (3200, 0.0), (3201, 0.0), (3202, 0.030526084507562674), (3203, 0.04500970286479664), (3204, 0.020492331311375237), (3205, 0.011842989002642804), (3206, 0.0), (3207, 0.02187854043149913), (3208, 0.09187742837743756), (3209, 0.005127825774700963), (3210, 0.0), (3211, 0.0), (3212, 0.041642910901557036), (3213, 0.0), (3214, 0.01836130453003868), (3215, 0.006873739651892975), (3216, 0.0), (3217, 0.0), (3218, 0.0), (3219, 0.046801087947434775), (3220, 0.0), (3221, 0.00532377779530828), (3222, 0.0), (3223, 0.0), (3224, 0.01713310407362535), (3225, 0.009498398414834533), (3226, 0.0), (3227, 0.0), (3228, 0.0), (3229, 0.03151467178572277), (3230, 0.060415568854441465), (3231, 0.011044308810009684), (3232, 0.0), (3233, 0.007735242296008253), (3234, 0.0), (3235, 0.0), (3236, 0.05284369302448487), (3237, 0.0), (3238, 0.010368343059638392), (3239, 0.029070786886371353), (3240, 0.015208659194132295), (3241, 0.0), (3242, 0.03596157132572406), (3243, 0.022813521010863633), (3244, 0.03597493068526047), (3245, 0.0), (3246, 0.02167185405449281), (3247, 0.0), (3248, 0.0), (3249, 0.005963304092242937), (3250, 0.0), (3251, 0.01092981886444807), (3252, 0.0), (3253, 0.03528231389021884), (3254, 0.014860990385258815), (3255, 0.0), (3256, 0.008273374061948556), (3257, 0.14420846947181268), (3258, 0.0), (3259, 0.0052418740401678), (3260, 0.043416533685743476), (3261, 0.04743392893923459), (3262, 0.0), (3263, 0.0), (3264, 0.04424427068815581), (3265, 0.07328934842179695), (3266, 0.03644022720995055), (3267, 0.022687624537839655), (3268, 0.0), (3269, 0.0), (3270, 0.04171614620873422), (3271, 0.0), (3272, 0.0), (3273, 0.01837665366271778), (3274, 0.004892598641687064), (3275, 0.0), (3276, 0.019452997483111325), (3277, 0.018306181818109245), (3278, 0.0), (3279, 0.0), (3280, 0.01800507670651452), (3281, 0.0), (3282, 0.0), (3283, 0.0), (3284, 0.03233883047769808), (3285, 0.0), (3286, 0.0), (3287, 0.0), (3288, 0.026608103108993725), (3289, 0.0), (3290, 0.038836981981273895), (3291, 0.0), (3292, 0.03384267532890913), (3293, 0.005881874150670056), (3294, 0.021729002317071443), (3295, 0.0), (3296, 0.029734116625963203), (3297, 0.02699711764188321), (3298, 0.0), (3299, 0.007084260407572845), (3300, 0.0), (3301, 0.0), (3302, 0.011368105174916298), (3303, 0.049215284046067856), (3304, 0.040015710843603856), (3305, 0.030522884715977402), (3306, 0.031147722463896316), (3307, 0.0), (3308, 0.0), (3309, 0.005168515914066196), (3310, 0.0), (3311, 0.039755491183385894), (3312, 0.0), (3313, 0.0), (3314, 0.0), (3315, 0.04137146859469837), (3316, 0.006122178942447776), (3317, 0.0), (3318, 0.013670815472181928), (3319, 0.0), (3320, 0.0), (3321, 0.01958896125442116), (3322, 0.0), (3323, 0.08734248827852903), (3324, 0.0), (3325, 0.06582888990834211), (3326, 0.006383507169925243), (3327, 0.0), (3328, 0.0), (3329, 0.008426112059015863), (3330, 0.0), (3331, 0.0), (3332, 0.0064852366551194736), (3333, 0.0), (3334, 0.0), (3335, 0.0062425240321990864), (3336, 0.013393730469811856), (3337, 0.0), (3338, 0.0), (3339, 0.020936925313338205), (3340, 0.0), (3341, 0.0), (3342, 0.0), (3343, 0.013752208663896016), (3344, 0.0), (3345, 0.0), (3346, 0.0), (3347, 0.009946128697660976), (3348, 0.06232336523536268), (3349, 0.0054641572718196136), (3350, 0.0597796977229457), (3351, 0.012353656027366294), (3352, 0.036297794326136126), (3353, 0.007341364788858977), (3354, 0.0), (3355, 0.03662667740340611), (3356, 0.0), (3357, 0.0), (3358, 0.0), (3359, 0.008232192944507164), (3360, 0.0), (3361, 0.05166759770778792), (3362, 0.0), (3363, 0.0), (3364, 0.04035620584713316), (3365, 0.0), (3366, 0.04778786949335382), (3367, 0.13794651765642174), (3368, 0.0), (3369, 0.0), (3370, 0.011384206073641538), (3371, 0.0), (3372, 0.025184741001600494), (3373, 0.06896254552348002), (3374, 0.0), (3375, 0.0), (3376, 0.0), (3377, 0.0), (3378, 0.1195317044310383), (3379, 0.0), (3380, 0.0), (3381, 0.03919860150337215), (3382, 0.005736410036250109), (3383, 0.0), (3384, 0.0), (3385, 0.014517994259642054), (3386, 0.041179762982294435), (3387, 0.022161379956343107), (3388, 0.04192070779819203), (3389, 0.0), (3390, 0.0), (3391, 0.0), (3392, 0.06339951759341252), (3393, 0.0), (3394, 0.0), (3395, 0.0), (3396, 0.02035027143272749), (3397, 0.0), (3398, 0.0), (3399, 0.06770662761325093), (3400, 0.0), (3401, 0.0), (3402, 0.0), (3403, 0.009107418082999467), (3404, 0.0), (3405, 0.07319066732426054), (3406, 0.0), (3407, 0.0), (3408, 0.0), (3409, 0.0), (3410, 0.0), (3411, 0.015674599619160325), (3412, 0.006437657509932515), (3413, 0.0), (3414, 0.0), (3415, 0.0), (3416, 0.005248591647135405), (3417, 0.020350247626062593), (3418, 0.0), (3419, 0.0), (3420, 0.01927179348044228), (3421, 0.0), (3422, 0.0), (3423, 0.022438292892769846), (3424, 0.030163273799919024), (3425, 0.0), (3426, 0.0), (3427, 0.0326929557450364), (3428, 0.0), (3429, 0.06962570153049331), (3430, 0.0), (3431, 0.0), (3432, 0.0), (3433, 0.018296198118299394), (3434, 0.042424783495896734), (3435, 0.0), (3436, 0.08260976701380732), (3437, 0.018120736746080883), (3438, 0.09050793653376454), (3439, 0.06836145403893923), (3440, 0.02575449048676101), (3441, 0.0), (3442, 0.0), (3443, 0.0), (3444, 0.0), (3445, 0.0825406112659347), (3446, 0.009662714651595114), (3447, 0.0), (3448, 0.0), (3449, 0.02004179651662665), (3450, 0.01786392971472497), (3451, 0.0), (3452, 0.0), (3453, 0.0), (3454, 0.0), (3455, 0.0), (3456, 0.0), (3457, 0.0), (3458, 0.0), (3459, 0.0), (3460, 0.038220374321583955), (3461, 0.0), (3462, 0.019840285676330387), (3463, 0.005968395655616719), (3464, 0.0), (3465, 0.02546688684420187), (3466, 0.018702542062488878), (3467, 0.0), (3468, 0.0), (3469, 0.0), (3470, 0.0), (3471, 0.0), (3472, 0.0), (3473, 0.008441202889982994), (3474, 0.03098734247169287), (3475, 0.0), (3476, 0.0), (3477, 0.005020264632381676), (3478, 0.027548115473633155), (3479, 0.0), (3480, 0.0), (3481, 0.05793720101343015), (3482, 0.0), (3483, 0.0), (3484, 0.0), (3485, 0.006532842793775657), (3486, 0.0), (3487, 0.0), (3488, 0.0), (3489, 0.0), (3490, 0.02345140733099551), (3491, 0.0), (3492, 0.006118888660851663), (3493, 0.10557324200102297), (3494, 0.10695677423506583), (3495, 0.0), (3496, 0.0), (3497, 0.03286515953562436), (3498, 0.0), (3499, 0.020891015862839424), (3500, 0.00900845238948604), (3501, 0.0), (3502, 0.0), (3503, 0.01796987649955189), (3504, 0.04535093534120276), (3505, 0.004855212230329906), (3506, 0.12052007685003181), (3507, 0.010792718009274484), (3508, 0.0), (3509, 0.019917383110148523), (3510, 0.0), (3511, 0.017478579948940615), (3512, 0.0), (3513, 0.0), (3514, 0.031799292021342365), (3515, 0.0), (3516, 0.019043755748835017), (3517, 0.0), (3518, 0.005368573753850905), (3519, 0.0), (3520, 0.0), (3521, 0.0), (3522, 0.014993407054017527), (3523, 0.00618970323303029), (3524, 0.0), (3525, 0.0), (3526, 0.0), (3527, 0.011219027932724035), (3528, 0.0), (3529, 0.023151415523004037), (3530, 0.0), (3531, 0.0), (3532, 0.0), (3533, 0.04639990030635549), (3534, 0.06855421419764286), (3535, 0.0), (3536, 0.0), (3537, 0.0), (3538, 0.0), (3539, 0.0), (3540, 0.0), (3541, 0.0), (3542, 0.0), (3543, 0.0), (3544, 0.0), (3545, 0.048110339402341044), (3546, 0.018042088167151655), (3547, 0.03077972570631376), (3548, 0.008688842371676424), (3549, 0.029324363714657867), (3550, 0.0), (3551, 0.0859813953652659), (3552, 0.04341624102407015), (3553, 0.012214593372536834), (3554, 0.0), (3555, 0.03620202151821647), (3556, 0.041883270147242), (3557, 0.0), (3558, 0.025247396317901155), (3559, 0.020951009026037977), (3560, 0.0), (3561, 0.0), (3562, 0.0), (3563, 0.0), (3564, 0.0205224774046989), (3565, 0.0), (3566, 0.0), (3567, 0.0), (3568, 0.027663249613383862), (3569, 0.06686195971844487), (3570, 0.0), (3571, 0.03971808707570416), (3572, 0.0), (3573, 0.0), (3574, 0.0), (3575, 0.0), (3576, 0.0), (3577, 0.0), (3578, 0.0), (3579, 0.035068523333253145), (3580, 0.021939503112987313), (3581, 0.0), (3582, 0.0), (3583, 0.0), (3584, 0.005311585747981845), (3585, 0.0), (3586, 0.02021849052587804), (3587, 0.0), (3588, 0.02825037461591492), (3589, 0.0), (3590, 0.0), (3591, 0.03554894565326756), (3592, 0.020424526988218204), (3593, 0.0), (3594, 0.0), (3595, 0.0), (3596, 0.0), (3597, 0.0), (3598, 0.041685599688526864), (3599, 0.037519762368057895), (3600, 0.0), (3601, 0.01974991212923816), (3602, 0.0), (3603, 0.005029211231383896), (3604, 0.03905439940738147), (3605, 0.0), (3606, 0.0057519448390540755), (3607, 0.005366073805526835), (3608, 0.02009384622714736), (3609, 0.0), (3610, 0.0), (3611, 0.0), (3612, 0.0), (3613, 0.020498156127308577), (3614, 0.0), (3615, 0.027340525886024338), (3616, 0.022574246342100354), (3617, 0.012577980494647426), (3618, 0.015927974269419637), (3619, 0.0), (3620, 0.0), (3621, 0.0), (3622, 0.015879280897810048), (3623, 0.006757512975560194), (3624, 0.019433991124312062), (3625, 0.0), (3626, 0.0), (3627, 0.0), (3628, 0.019888594199962455), (3629, 0.04594969099769416), (3630, 0.01835621680719582), (3631, 0.014559857829045043), (3632, 0.05030037186694331), (3633, 0.04128532854241885), (3634, 0.01756676844519503), (3635, 0.0), (3636, 0.08957521341819699), (3637, 0.0), (3638, 0.0), (3639, 0.040797311003797354), (3640, 0.021208936590510256), (3641, 0.0), (3642, 0.02029293399297886), (3643, 0.02384942331037011), (3644, 0.0), (3645, 0.0), (3646, 0.0), (3647, 0.0), (3648, 0.018671342895578574), (3649, 0.0), (3650, 0.01506355205360919), (3651, 0.0), (3652, 0.019168736760241008), (3653, 0.0), (3654, 0.0), (3655, 0.0), (3656, 0.054322970445863886), (3657, 0.0), (3658, 0.026992697724125353), (3659, 0.0), (3660, 0.040501689689695974), (3661, 0.04902893567766155), (3662, 0.0), (3663, 0.0), (3664, 0.021138956909408355), (3665, 0.0), (3666, 0.0), (3667, 0.006023222395247887), (3668, 0.02623264929910484), (3669, 0.0), (3670, 0.0), (3671, 0.0), (3672, 0.05488567925281132), (3673, 0.0), (3674, 0.0), (3675, 0.0), (3676, 0.0), (3677, 0.0), (3678, 0.02092786231199123), (3679, 0.01756744430929797), (3680, 0.029087488201144398), (3681, 0.0), (3682, 0.0), (3683, 0.0), (3684, 0.0), (3685, 0.01955158572895904), (3686, 0.0), (3687, 0.0), (3688, 0.0), (3689, 0.006107816085216246), (3690, 0.0), (3691, 0.0), (3692, 0.010954499087758541), (3693, 0.0), (3694, 0.0), (3695, 0.007098038978816858), (3696, 0.0), (3697, 0.03013834570698159), (3698, 0.05201066007842372), (3699, 0.0), (3700, 0.03528478561346526), (3701, 0.0), (3702, 0.0), (3703, 0.0), (3704, 0.0285289709043934), (3705, 0.0), (3706, 0.02997183445900373), (3707, 0.005844830797135105), (3708, 0.0), (3709, 0.0), (3710, 0.0), (3711, 0.0), (3712, 0.0), (3713, 0.0), (3714, 0.007835863217104623), (3715, 0.01273134887349207), (3716, 0.0), (3717, 0.0), (3718, 0.0), (3719, 0.0), (3720, 0.0), (3721, 0.0), (3722, 0.02482467103657964), (3723, 0.045788364276066196), (3724, 0.01458209890944326), (3725, 0.03137814394432401), (3726, 0.023193197192696413), (3727, 0.0), (3728, 0.0), (3729, 0.0), (3730, 0.09629252758307853), (3731, 0.0), (3732, 0.0), (3733, 0.00494346038523352), (3734, 0.0), (3735, 0.0), (3736, 0.0222842753904067), (3737, 0.0), (3738, 0.0333392583026363), (3739, 0.0), (3740, 0.0057681968768176104), (3741, 0.019430042837437978), (3742, 0.0), (3743, 0.0), (3744, 0.0), (3745, 0.0), (3746, 0.0), (3747, 0.07046204264049592), (3748, 0.0), (3749, 0.025433427486836132), (3750, 0.06276522806622065), (3751, 0.014374686642698914), (3752, 0.06713029765619119), (3753, 0.01866479185585427), (3754, 0.0), (3755, 0.02249418848855152), (3756, 0.006336764216705757), (3757, 0.009532569601375265), (3758, 0.02409943648581514), (3759, 0.03832275582693979), (3760, 0.0), (3761, 0.0), (3762, 0.0), (3763, 0.010571093262166605), (3764, 0.004646096833157743), (3765, 0.0), (3766, 0.03810461424042172), (3767, 0.0), (3768, 0.0), (3769, 0.021482050474791084), (3770, 0.019122792111685858), (3771, 0.0), (3772, 0.009380957489434379), (3773, 0.022935468595241783), (3774, 0.006719120795758057), (3775, 0.0), (3776, 0.012856613827404424), (3777, 0.008526637375661604), (3778, 0.0), (3779, 0.0), (3780, 0.09857158785837346), (3781, 0.0), (3782, 0.01594447094817423), (3783, 0.0), (3784, 0.0), (3785, 0.0), (3786, 0.022602145262630928), (3787, 0.0), (3788, 0.0), (3789, 0.020657109961477113), (3790, 0.010487776677062889), (3791, 0.0), (3792, 0.0), (3793, 0.029279929562414726), (3794, 0.03956746732873442), (3795, 0.02815540275641068), (3796, 0.022878505968279797), (3797, 0.018824755314326324), (3798, 0.0), (3799, 0.013920509194090923), (3800, 0.05213118457368618), (3801, 0.0), (3802, 0.0), (3803, 0.0), (3804, 0.016519479518369327), (3805, 0.0), (3806, 0.024295416219573117), (3807, 0.0), (3808, 0.025170121628428337), (3809, 0.0), (3810, 0.010004414968305723), (3811, 0.02051497426010966), (3812, 0.0), (3813, 0.020866129469804356), (3814, 0.0), (3815, 0.0), (3816, 0.00623377368866511), (3817, 0.0), (3818, 0.0), (3819, 0.006379449759585095), (3820, 0.0), (3821, 0.014153840154731426), (3822, 0.03986639741610581), (3823, 0.0), (3824, 0.0), (3825, 0.0), (3826, 0.014365915016162587), (3827, 0.0), (3828, 0.005689831617974457), (3829, 0.0), (3830, 0.0063337638527188106), (3831, 0.0), (3832, 0.018426760641594868), (3833, 0.00567271454833982), (3834, 0.0), (3835, 0.023523161693908064), (3836, 0.006578511472287015), (3837, 0.0), (3838, 0.03975777172265095), (3839, 0.0), (3840, 0.02074140621569597), (3841, 0.019420693279571317), (3842, 0.006060502423272124), (3843, 0.0), (3844, 0.0), (3845, 0.006644012596505712), (3846, 0.0), (3847, 0.0), (3848, 0.026059557491781432), (3849, 0.031964626630457675), (3850, 0.0), (3851, 0.0251069598567656), (3852, 0.0), (3853, 0.0), (3854, 0.040465734296009526), (3855, 0.0), (3856, 0.03896068876766959), (3857, 0.007575371858179388), (3858, 0.0), (3859, 0.021671442864479275), (3860, 0.009257417773574295), (3861, 0.02941417981010195), (3862, 0.0), (3863, 0.0), (3864, 0.0), (3865, 0.0), (3866, 0.0), (3867, 0.0), (3868, 0.024893050923115518), (3869, 0.0), (3870, 0.03726267163252319), (3871, 0.0), (3872, 0.0), (3873, 0.03926919697098278), (3874, 0.0), (3875, 0.09930734567178934), (3876, 0.0), (3877, 0.0), (3878, 0.01690061549696571), (3879, 0.0), (3880, 0.020447937795582488), (3881, 0.0), (3882, 0.00651793299469176), (3883, 0.037032444257414754), (3884, 0.010758564994987552), (3885, 0.01855961446659877), (3886, 0.05973988482947022), (3887, 0.046916974538725176), (3888, 0.0), (3889, 0.04684567756783793), (3890, 0.0), (3891, 0.0), (3892, 0.0), (3893, 0.0), (3894, 0.0), (3895, 0.0185589626466921), (3896, 0.00984561222576754), (3897, 0.0), (3898, 0.05132843964594651), (3899, 0.019724692533644894), (3900, 0.0), (3901, 0.064048539946619), (3902, 0.0), (3903, 0.015186587532200625), (3904, 0.022419197011245933), (3905, 0.021276629485804267), (3906, 0.0), (3907, 0.0318867483903015), (3908, 0.0), (3909, 0.0), (3910, 0.0), (3911, 0.0), (3912, 0.007297319223964664), (3913, 0.0), (3914, 0.028680579140859176), (3915, 0.023391016797725313), (3916, 0.0), (3917, 0.0), (3918, 0.0), (3919, 0.0), (3920, 0.06272305846085047), (3921, 0.0), (3922, 0.0), (3923, 0.0), (3924, 0.0), (3925, 0.0), (3926, 0.0), (3927, 0.0), (3928, 0.04022790569172409), (3929, 0.02422708228834618), (3930, 0.0), (3931, 0.0), (3932, 0.0), (3933, 0.0), (3934, 0.027786230446473936), (3935, 0.0), (3936, 0.03524147493224247), (3937, 0.0), (3938, 0.0), (3939, 0.0), (3940, 0.004340323825889252), (3941, 0.006220213688422089), (3942, 0.005703840751486867), (3943, 0.0070227772986949455), (3944, 0.0), (3945, 0.006852489128053109), (3946, 0.0), (3947, 0.0), (3948, 0.024346640993106426), (3949, 0.0), (3950, 0.0), (3951, 0.0), (3952, 0.0), (3953, 0.0), (3954, 0.024789761889898766), (3955, 0.0), (3956, 0.0558650400944537), (3957, 0.011108595288266092), (3958, 0.0), (3959, 0.0), (3960, 0.0), (3961, 0.0), (3962, 0.0059673504716425295), (3963, 0.0), (3964, 0.02421882795636), (3965, 0.00588609257682422), (3966, 0.03411843576710477), (3967, 0.0), (3968, 0.02590862224661816), (3969, 0.0), (3970, 0.009529362584982807), (3971, 0.03546108804546961), (3972, 0.006726404523270963), (3973, 0.03926556624179308), (3974, 0.0), (3975, 0.0), (3976, 0.006246947766637475), (3977, 0.0), (3978, 0.0), (3979, 0.0), (3980, 0.0), (3981, 0.0390121890260931), (3982, 0.005740801841200931), (3983, 0.0), (3984, 0.0), (3985, 0.0), (3986, 0.04259217941195251), (3987, 0.020694097541084814), (3988, 0.06775169647026906), (3989, 0.0), (3990, 0.0), (3991, 0.005738047809221446), (3992, 0.0), (3993, 0.03742504004891345), (3994, 0.015297037275823707), (3995, 0.0), (3996, 0.0), (3997, 0.0), (3998, 0.0), (3999, 0.0), (4000, 0.0), (4001, 0.0), (4002, 0.0), (4003, 0.03250378745491805), (4004, 0.014858385932647569), (4005, 0.0), (4006, 0.0), (4007, 0.0), (4008, 0.03735071172270849), (4009, 0.0), (4010, 0.01777370866971853), (4011, 0.018968777994673256), (4012, 0.04854077578323441), (4013, 0.005389688071556209), (4014, 0.0), (4015, 0.0), (4016, 0.0), (4017, 0.0), (4018, 0.0), (4019, 0.0), (4020, 0.0532152147994074), (4021, 0.0), (4022, 0.019899231437164714), (4023, 0.0), (4024, 0.035794322875488956), (4025, 0.025221997695471482), (4026, 0.0), (4027, 0.0), (4028, 0.053344913096689046), (4029, 0.0), (4030, 0.0), (4031, 0.0), (4032, 0.017873377681691324), (4033, 0.006516152885704707), (4034, 0.0), (4035, 0.03530807671779444), (4036, 0.0), (4037, 0.014277994810859541), (4038, 0.0), (4039, 0.0488717208623422), (4040, 0.0), (4041, 0.04643723002849311), (4042, 0.03339633000208677), (4043, 0.0), (4044, 0.0), (4045, 0.023924250739181505), (4046, 0.0), (4047, 0.0), (4048, 0.0), (4049, 0.04911653863842002), (4050, 0.02232152666382638), (4051, 0.0), (4052, 0.0), (4053, 0.02179091704325514), (4054, 0.023183078821254276), (4055, 0.0), (4056, 0.0), (4057, 0.0), (4058, 0.0), (4059, 0.0), (4060, 0.0), (4061, 0.01748147650467966), (4062, 0.031090472846319286), (4063, 0.0), (4064, 0.0), (4065, 0.0), (4066, 0.0), (4067, 0.0), (4068, 0.0), (4069, 0.018694090749509337), (4070, 0.048143338985629607), (4071, 0.02444896851770452), (4072, 0.046329205889452094), (4073, 0.018486367722279427), (4074, 0.0), (4075, 0.0), (4076, 0.04501050653206248), (4077, 0.03022594333033292), (4078, 0.004528425760799831), (4079, 0.0), (4080, 0.03744768590791793), (4081, 0.014579479044052216), (4082, 0.0), (4083, 0.0347629376052739), (4084, 0.0056846476794015595), (4085, 0.0065883353909073255), (4086, 0.0), (4087, 0.0), (4088, 0.0), (4089, 0.0), (4090, 0.0), (4091, 0.0), (4092, 0.0), (4093, 0.014527551572304396), (4094, 0.0), (4095, 0.0), (4096, 0.0), (4097, 0.01812476197528077), (4098, 0.0), (4099, 0.005617940952756174), (4100, 0.026098524650071467), (4101, 0.0), (4102, 0.0), (4103, 0.0), (4104, 0.0), (4105, 0.0), (4106, 0.0), (4107, 0.035031449540674525), (4108, 0.0947257542839034), (4109, 0.0), (4110, 0.039720266502550346), (4111, 0.006993536868102224), (4112, 0.0), (4113, 0.03189335409406705), (4114, 0.005425313289008968), (4115, 0.0), (4116, 0.0), (4117, 0.03638548532910433), (4118, 0.0), (4119, 0.0), (4120, 0.0), (4121, 0.0), (4122, 0.0), (4123, 0.0), (4124, 0.006541468408068221), (4125, 0.009332377577555515), (4126, 0.0), (4127, 0.0), (4128, 0.022885756011369125), (4129, 0.006502031652357649), (4130, 0.0), (4131, 0.0415450261407684), (4132, 0.0), (4133, 0.0), (4134, 0.0), (4135, 0.005351633869289817), (4136, 0.0), (4137, 0.02968778079137194), (4138, 0.0), (4139, 0.0), (4140, 0.0), (4141, 0.0), (4142, 0.0), (4143, 0.015729511927010317), (4144, 0.0), (4145, 0.0), (4146, 0.01402089780451499), (4147, 0.0), (4148, 0.0), (4149, 0.02403715186204726), (4150, 0.0), (4151, 0.0), (4152, 0.05118621414022535), (4153, 0.0), (4154, 0.0), (4155, 0.08161592058752246), (4156, 0.0469897448990889), (4157, 0.0), (4158, 0.020285654020429134), (4159, 0.0), (4160, 0.02869429296396553), (4161, 0.007831655943120085), (4162, 0.030856782342236048), (4163, 0.04438731777769356), (4164, 0.030090021750604764), (4165, 0.0), (4166, 0.0), (4167, 0.0), (4168, 0.0), (4169, 0.0), (4170, 0.020943001875696084), (4171, 0.06741872310209492), (4172, 0.018635111943336335), (4173, 0.0), (4174, 0.0), (4175, 0.0), (4176, 0.0347974856318204), (4177, 0.0), (4178, 0.0), (4179, 0.0), (4180, 0.020739849865642472), (4181, 0.0), (4182, 0.022555388877502927), (4183, 0.016792564416599525), (4184, 0.0), (4185, 0.0), (4186, 0.0), (4187, 0.03000447099424827), (4188, 0.0), (4189, 0.004814779656922549), (4190, 0.0), (4191, 0.026268085036957066), (4192, 0.0), (4193, 0.05535500417266477), (4194, 0.0), (4195, 0.0), (4196, 0.0), (4197, 0.0), (4198, 0.0), (4199, 0.0), (4200, 0.0), (4201, 0.0085393699488573), (4202, 0.0), (4203, 0.0), (4204, 0.0), (4205, 0.0), (4206, 0.0), (4207, 0.0), (4208, 0.0), (4209, 0.018257034949777796), (4210, 0.0), (4211, 0.0), (4212, 0.0), (4213, 0.0), (4214, 0.0), (4215, 0.004937498785647358), (4216, 0.0), (4217, 0.0), (4218, 0.0), (4219, 0.020880470801386917), (4220, 0.005136261283258488), (4221, 0.0), (4222, 0.035756020093338364), (4223, 0.0), (4224, 0.0), (4225, 0.06667586174412463), (4226, 0.0), (4227, 0.0), (4228, 0.019957436328224627), (4229, 0.0), (4230, 0.006234828814459888), (4231, 0.01774121254142104), (4232, 0.0), (4233, 0.020667035269017184), (4234, 0.0), (4235, 0.0), (4236, 0.0), (4237, 0.0), (4238, 0.01578910376788848), (4239, 0.02265706006914984), (4240, 0.015554166983368508), (4241, 0.0), (4242, 0.03167198761522815), (4243, 0.08661546204276581), (4244, 0.0), (4245, 0.01943976643642708), (4246, 0.021796127533766512), (4247, 0.0), (4248, 0.0), (4249, 0.01836664582919905), (4250, 0.0), (4251, 0.02325585883787027), (4252, 0.0), (4253, 0.0), (4254, 0.02324068176289834), (4255, 0.022088359067125744), (4256, 0.007862947024356021), (4257, 0.0), (4258, 0.0069775891890863145), (4259, 0.0), (4260, 0.0), (4261, 0.008784616470661496), (4262, 0.009882663329921966), (4263, 0.009034591427131344), (4264, 0.021637889917599303), (4265, 0.0), (4266, 0.0), (4267, 0.045342436093854646), (4268, 0.0), (4269, 0.0), (4270, 0.03879632630550933), (4271, 0.0), (4272, 0.0), (4273, 0.0), (4274, 0.0), (4275, 0.00560749313679435), (4276, 0.03276644082854133), (4277, 0.008329061529102873), (4278, 0.020814566513751208), (4279, 0.0), (4280, 0.0), (4281, 0.04117433882926823), (4282, 0.0), (4283, 0.0), (4284, 0.019599039052398418), (4285, 0.0), (4286, 0.02065367391817934), (4287, 0.0), (4288, 0.013783819221278217), (4289, 0.0), (4290, 0.0), (4291, 0.02376710651666353), (4292, 0.0), (4293, 0.0), (4294, 0.0), (4295, 0.024062830791035425), (4296, 0.0), (4297, 0.0), (4298, 0.0), (4299, 0.0), (4300, 0.0), (4301, 0.04546009348600302), (4302, 0.0), (4303, 0.0), (4304, 0.02715196630949693), (4305, 0.0), (4306, 0.04857858355013503), (4307, 0.0), (4308, 0.0), (4309, 0.0), (4310, 0.007563139716971678), (4311, 0.0), (4312, 0.022521986096301388), (4313, 0.021466949354276166), (4314, 0.0), (4315, 0.012037306616533952), (4316, 0.012084688442880721), (4317, 0.0), (4318, 0.0), (4319, 0.029998540141027836), (4320, 0.021099513203519174), (4321, 0.019496081173655734), (4322, 0.0), (4323, 0.0), (4324, 0.0), (4325, 0.024733872202216897), (4326, 0.0044853905737691465), (4327, 0.023857988632757277), (4328, 0.0), (4329, 0.01887885898017599), (4330, 0.0), (4331, 0.013069001752838271), (4332, 0.1055022078906821), (4333, 0.0), (4334, 0.0), (4335, 0.005942104157259558), (4336, 0.0), (4337, 0.029109158631672245), (4338, 0.0), (4339, 0.0426600427571899), (4340, 0.019459831636072074), (4341, 0.02822410491105955), (4342, 0.0), (4343, 0.0), (4344, 0.028685210350435433), (4345, 0.0), (4346, 0.0), (4347, 0.031194353863576735), (4348, 0.0), (4349, 0.006049573630383301), (4350, 0.0), (4351, 0.005405360933629173), (4352, 0.01896221085170811), (4353, 0.012192612713082033), (4354, 0.030121276372501875), (4355, 0.0), (4356, 0.0), (4357, 0.035282758604674246), (4358, 0.03130963484612238), (4359, 0.0), (4360, 0.0), (4361, 0.0), (4362, 0.0), (4363, 0.0), (4364, 0.0), (4365, 0.0), (4366, 0.0), (4367, 0.02292386852780684), (4368, 0.0), (4369, 0.01712799454495836), (4370, 0.0), (4371, 0.019647989782451622), (4372, 0.0), (4373, 0.0), (4374, 0.0), (4375, 0.0), (4376, 0.0), (4377, 0.0), (4378, 0.0), (4379, 0.020325909160452495), (4380, 0.0), (4381, 0.0), (4382, 0.03056009900895954), (4383, 0.0), (4384, 0.021431853718171766), (4385, 0.0), (4386, 0.008172859823184433), (4387, 0.0), (4388, 0.0056742656933599055), (4389, 0.0), (4390, 0.009175651842550016), (4391, 0.018009871383885344), (4392, 0.015596784637866566), (4393, 0.051910743468069016), (4394, 0.008310967011476935), (4395, 0.15210617290884296), (4396, 0.0), (4397, 0.0), (4398, 0.0183487631121093), (4399, 0.02569929697995747), (4400, 0.0), (4401, 0.15062825815280348), (4402, 0.005171780390561581), (4403, 0.03656493797220579), (4404, 0.0), (4405, 0.0), (4406, 0.0), (4407, 0.023165109640760833), (4408, 0.020850369044619555), (4409, 0.0), (4410, 0.04322087999357292), (4411, 0.0), (4412, 0.0), (4413, 0.0), (4414, 0.0), (4415, 0.0), (4416, 0.0), (4417, 0.0), (4418, 0.0), (4419, 0.0), (4420, 0.0), (4421, 0.0), (4422, 0.0), (4423, 0.01981241579217719), (4424, 0.024836919985269084), (4425, 0.03040308927634814), (4426, 0.0), (4427, 0.019061487512500426), (4428, 0.0), (4429, 0.0), (4430, 0.0), (4431, 0.0), (4432, 0.0), (4433, 0.0), (4434, 0.0), (4435, 0.0), (4436, 0.0), (4437, 0.0), (4438, 0.0), (4439, 0.04322994975845597), (4440, 0.02266822420448738), (4441, 0.0), (4442, 0.020022137817375735), (4443, 0.0), (4444, 0.0), (4445, 0.0), (4446, 0.0), (4447, 0.0223954335266166), (4448, 0.046426642598656476), (4449, 0.08030526382673939), (4450, 0.031629319331091164), (4451, 0.0), (4452, 0.0), (4453, 0.02744683426028059), (4454, 0.0), (4455, 0.0), (4456, 0.0), (4457, 0.0), (4458, 0.0), (4459, 0.0), (4460, 0.006553986637173431), (4461, 0.0), (4462, 0.0), (4463, 0.0), (4464, 0.0), (4465, 0.030364365240465443), (4466, 0.05563301050746494), (4467, 0.021950904986722662), (4468, 0.0), (4469, 0.0), (4470, 0.054976976621327764), (4471, 0.03269224098106794), (4472, 0.0), (4473, 0.0), (4474, 0.0), (4475, 0.0), (4476, 0.0), (4477, 0.0), (4478, 0.0), (4479, 0.020977427444526364), (4480, 0.0), (4481, 0.0), (4482, 0.007824338202518733), (4483, 0.0), (4484, 0.0), (4485, 0.0), (4486, 0.0), (4487, 0.02713818959560146), (4488, 0.0), (4489, 0.025896478848299185), (4490, 0.0), (4491, 0.0), (4492, 0.0), (4493, 0.0), (4494, 0.05553275308651552), (4495, 0.0), (4496, 0.0), (4497, 0.0), (4498, 0.0), (4499, 0.05390738389800665), (4500, 0.0), (4501, 0.0), (4502, 0.0), (4503, 0.0), (4504, 0.0), (4505, 0.02237796437891516), (4506, 0.0), (4507, 0.02217974458175434), (4508, 0.0), (4509, 0.0), (4510, 0.0), (4511, 0.0), (4512, 0.0), (4513, 0.008436798968662212), (4514, 0.0), (4515, 0.027793786544975673), (4516, 0.02882448854037227), (4517, 0.0), (4518, 0.0), (4519, 0.0), (4520, 0.0), (4521, 0.0), (4522, 0.0), (4523, 0.0), (4524, 0.0), (4525, 0.0), (4526, 0.021370250081285156), (4527, 0.0), (4528, 0.0), (4529, 0.0), (4530, 0.0), (4531, 0.0), (4532, 0.0), (4533, 0.0), (4534, 0.0), (4535, 0.004526496317381558), (4536, 0.0), (4537, 0.0), (4538, 0.037846175806398805), (4539, 0.020982955639275325), (4540, 0.0), (4541, 0.0), (4542, 0.01676688865866624), (4543, 0.02467808573115321), (4544, 0.0), (4545, 0.019261316697146254), (4546, 0.006548442545256817), (4547, 0.0), (4548, 0.0), (4549, 0.034160555713879666), (4550, 0.0), (4551, 0.03766077404723488), (4552, 0.0), (4553, 0.0), (4554, 0.006828879282596727), (4555, 0.1371397458723799), (4556, 0.0), (4557, 0.006589914061385123), (4558, 0.02896808854017946), (4559, 0.0), (4560, 0.0), (4561, 0.0), (4562, 0.0), (4563, 0.02126277039143047), (4564, 0.0), (4565, 0.014295881550344664), (4566, 0.0), (4567, 0.0), (4568, 0.0), (4569, 0.0), (4570, 0.0), (4571, 0.0), (4572, 0.022421680022643005), (4573, 0.0), (4574, 0.030930387509386793), (4575, 0.0), (4576, 0.0), (4577, 0.031044993962342168), (4578, 0.0), (4579, 0.03521042036667309), (4580, 0.02435183146765657), (4581, 0.0), (4582, 0.0), (4583, 0.05309534097068787), (4584, 0.0), (4585, 0.013913827055389237), (4586, 0.0), (4587, 0.02173463797283453), (4588, 0.0), (4589, 0.0), (4590, 0.0), (4591, 0.0), (4592, 0.0), (4593, 0.04661630555387166), (4594, 0.0), (4595, 0.019316169041221427), (4596, 0.0), (4597, 0.0), (4598, 0.0), (4599, 0.016046330865348898), (4600, 0.0), (4601, 0.023959922359858252), (4602, 0.030636260304725025), (4603, 0.034265344503257834), (4604, 0.020722272925726544), (4605, 0.0), (4606, 0.025107611265802826), (4607, 0.0), (4608, 0.05079197808018818), (4609, 0.0), (4610, 0.02448728609773142), (4611, 0.0), (4612, 0.0), (4613, 0.012514298609767443), (4614, 0.0), (4615, 0.0), (4616, 0.0), (4617, 0.0), (4618, 0.0), (4619, 0.0), (4620, 0.01547516980967737), (4621, 0.05465040885106848), (4622, 0.0), (4623, 0.06573045725581432), (4624, 0.0), (4625, 0.0), (4626, 0.0), (4627, 0.0), (4628, 0.0), (4629, 0.0), (4630, 0.0), (4631, 0.0), (4632, 0.0), (4633, 0.0), (4634, 0.0), (4635, 0.0), (4636, 0.0), (4637, 0.0), (4638, 0.011793171741810243), (4639, 0.04119492132409521), (4640, 0.0), (4641, 0.0), (4642, 0.0), (4643, 0.0), (4644, 0.0), (4645, 0.03259360779547119), (4646, 0.0645961303874407), (4647, 0.0), (4648, 0.0), (4649, 0.0), (4650, 0.0), (4651, 0.0778446528722201), (4652, 0.0), (4653, 0.03818146249534892), (4654, 0.006574966481045791), (4655, 0.0), (4656, 0.0), (4657, 0.0), (4658, 0.03684344607209496), (4659, 0.0), (4660, 0.0), (4661, 0.016233629248428597), (4662, 0.0), (4663, 0.0), (4664, 0.006644296683352717), (4665, 0.021270800352094114), (4666, 0.009250003485687403), (4667, 0.0), (4668, 0.015992665940197246), (4669, 0.02647922014891728), (4670, 0.03505860406475293), (4671, 0.0), (4672, 0.01672384948981436), (4673, 0.0), (4674, 0.0), (4675, 0.04178823102288367), (4676, 0.0), (4677, 0.010291810887647928), (4678, 0.0), (4679, 0.02513031640729814), (4680, 0.046403549440333765), (4681, 0.0), (4682, 0.0), (4683, 0.0), (4684, 0.023455060183486708), (4685, 0.0), (4686, 0.0), (4687, 0.0), (4688, 0.039173360892996355), (4689, 0.0), (4690, 0.0), (4691, 0.024541413539336115), (4692, 0.0), (4693, 0.02599536729812912), (4694, 0.0), (4695, 0.006860356950476229), (4696, 0.04474080056868008), (4697, 0.0), (4698, 0.0), (4699, 0.0), (4700, 0.020579219195972876), (4701, 0.004171331173175542), (4702, 0.0), (4703, 0.0), (4704, 0.0), (4705, 0.0), (4706, 0.0), (4707, 0.04351802911399583), (4708, 0.00826957780970663), (4709, 0.0), (4710, 0.0), (4711, 0.0), (4712, 0.0), (4713, 0.0), (4714, 0.0), (4715, 0.019342922146968155), (4716, 0.0), (4717, 0.03200936834585872), (4718, 0.0), (4719, 0.0), (4720, 0.0), (4721, 0.0), (4722, 0.0), (4723, 0.031223919548885412), (4724, 0.044554938528514845), (4725, 0.03074112369970427), (4726, 0.04091923604556411), (4727, 0.0229139630476597), (4728, 0.05425001682571673), (4729, 0.0), (4730, 0.0), (4731, 0.0), (4732, 0.0), (4733, 0.0), (4734, 0.030744653793050976), (4735, 0.018148667829438286), (4736, 0.0), (4737, 0.0), (4738, 0.0), (4739, 0.029483966716740015), (4740, 0.00857167976674908), (4741, 0.023023226233560505), (4742, 0.026036402296458955), (4743, 0.0), (4744, 0.01014133444437069), (4745, 0.017879541609319444), (4746, 0.02034460728497136), (4747, 0.0), (4748, 0.0), (4749, 0.0), (4750, 0.0), (4751, 0.0), (4752, 0.0), (4753, 0.0), (4754, 0.0), (4755, 0.0), (4756, 0.029822177538118878), (4757, 0.0), (4758, 0.020180748275271884), (4759, 0.0), (4760, 0.022667059387845568), (4761, 0.0), (4762, 0.0), (4763, 0.0), (4764, 0.024821999888623745), (4765, 0.0), (4766, 0.0), (4767, 0.0199484315396998), (4768, 0.0), (4769, 0.039540350990585525), (4770, 0.06469095925112142), (4771, 0.0), (4772, 0.006147597383395456), (4773, 0.0), (4774, 0.02593491164293646), (4775, 0.03294539655577578), (4776, 0.0), (4777, 0.0), (4778, 0.0058332685986682755), (4779, 0.0), (4780, 0.04543838169468041), (4781, 0.0), (4782, 0.0), (4783, 0.0), (4784, 0.0), (4785, 0.0), (4786, 0.0), (4787, 0.02131995884084569), (4788, 0.019981704343293657), (4789, 0.0), (4790, 0.0), (4791, 0.0), (4792, 0.037904498761931325), (4793, 0.0), (4794, 0.026956259756683462), (4795, 0.0), (4796, 0.04213641290996135), (4797, 0.0), (4798, 0.004313608275622202), (4799, 0.0), (4800, 0.0), (4801, 0.02347920375157729), (4802, 0.0)]\n"
     ]
    }
   ],
   "source": [
    "# This will return the similarity values for the movie entered by the user \n",
    "\n",
    "sim_score = list(enumerate(similar_score[id_matching_movie]))\n",
    "print(\"Similarity score is:\\n{}\".format(sim_score))"
   ]
  },
  {
   "cell_type": "code",
   "execution_count": 71,
   "id": "ee23cea6",
   "metadata": {},
   "outputs": [
    {
     "name": "stdout",
     "output_type": "stream",
     "text": [
      "Length of similarity score is: 4803\n"
     ]
    }
   ],
   "source": [
    "print(\"Length of similarity score is: {}\".format(len(sim_score)))"
   ]
  },
  {
   "cell_type": "markdown",
   "id": "1868227b",
   "metadata": {},
   "source": [
    "### Sorting movies based on similarity score"
   ]
  },
  {
   "cell_type": "code",
   "execution_count": 72,
   "id": "6900b9db",
   "metadata": {},
   "outputs": [
    {
     "name": "stdout",
     "output_type": "stream",
     "text": [
      "[(4, 1.0), (2904, 0.18017696511612652), (3158, 0.16107142159805013), (4395, 0.15210617290884296), (4401, 0.15062825815280348), (328, 0.14670677967731258), (111, 0.14617319309725305), (373, 0.1442405267812881), (1473, 0.14421212750841966), (3257, 0.14420846947181268), (2121, 0.1401527127089081), (1373, 0.13976314835137943), (3367, 0.13794651765642174), (4555, 0.1371397458723799), (270, 0.13532476682576292), (1748, 0.13237311082393202), (2407, 0.13149317745862238), (5, 0.12989685014764749), (916, 0.12791675874135178), (921, 0.1262990082329127), (816, 0.1230270378231185), (305, 0.12112629853579467), (3506, 0.12052007685003181), (3378, 0.1195317044310383), (1075, 0.1184241513313847), (2163, 0.1167647400431644), (122, 0.11642573498643403), (2157, 0.11449791498665905), (239, 0.11414981559949217), (1158, 0.11377447636173509), (857, 0.11233376783748897), (27, 0.10989340697547767), (2847, 0.10842726461716617), (2587, 0.10835307982511137), (1959, 0.10765674459223615), (565, 0.10737017065333719), (0, 0.10702574467235304), (3494, 0.10695677423506583), (972, 0.1068824169786084), (3493, 0.10557324200102297), (4332, 0.1055022078906821), (275, 0.10447106285282706), (2246, 0.10382263809090761), (2658, 0.10377971097839185), (1402, 0.10361099975690685), (2566, 0.10148220590271996), (2964, 0.10104566545952727), (2084, 0.10088556786606741), (1440, 0.10057538439678701), (1611, 0.10020884872624654), (158, 0.09971715055424973), (1650, 0.09955176934497963), (643, 0.09933251371198507), (3875, 0.09930734567178934), (223, 0.09877776592404877), (3780, 0.09857158785837346), (1508, 0.09771056440358794), (2755, 0.09726805819339027), (3730, 0.09629252758307853), (1531, 0.0959660188495482), (1564, 0.095663016280577), (101, 0.0951806057664379), (2156, 0.09501883022258932), (4108, 0.0947257542839034), (57, 0.094447121580881), (461, 0.0940295663201272), (220, 0.0926531298432454), (767, 0.09229040675810017), (3208, 0.09187742837743756), (3004, 0.09182740990341595), (2769, 0.09159054666290023), (369, 0.09133586063679103), (41, 0.09103871156565985), (3438, 0.09050793653376454), (3014, 0.09035983368683369), (3636, 0.08957521341819699), (473, 0.0891681864668519), (2190, 0.08895267670382692), (2994, 0.0885487160657604), (94, 0.08848380686968996), (1840, 0.08809543843748081), (1112, 0.08801194248892114), (46, 0.08782469091700759), (3091, 0.08770157752411274), (1984, 0.08740525510851385), (3323, 0.08734248827852903), (63, 0.08718240210873066), (1617, 0.08717721772852989), (1091, 0.0871341019109051), (483, 0.08698091589486505), (2588, 0.08683984840422736), (256, 0.0867624340278536), (4243, 0.08661546204276581), (3551, 0.0859813953652659), (3130, 0.08541988594453358), (833, 0.08520644360978373), (969, 0.08502107694548297), (116, 0.08498315559198896), (2630, 0.08480628888888922), (787, 0.08476502778680066), (391, 0.08390830809223296), (978, 0.08374019971837895), (1134, 0.08346376038998603), (207, 0.08263156449039231), (3436, 0.08260976701380732), (3445, 0.0825406112659347), (365, 0.08248302075488209), (259, 0.08207269636188298), (1665, 0.08197423836146242), (4155, 0.08161592058752246), (2532, 0.08156371755353523), (2444, 0.08109321830028626), (960, 0.08047982905363907), (183, 0.08031289775594626), (4449, 0.08030526382673939), (677, 0.08006850770031704), (278, 0.08003731324737032), (2305, 0.0798524726659478), (269, 0.07927521094528682), (2060, 0.07920955414277049), (159, 0.07910312941508459), (1794, 0.0790662582033907), (487, 0.07869515192470954), (4651, 0.0778446528722201), (1062, 0.07766325573711733), (1398, 0.07741859108883281), (2051, 0.07712406492569387), (1274, 0.07711131180547716), (18, 0.07706037615219369), (539, 0.07693281721794555), (419, 0.07685640071906219), (1243, 0.076738425277045), (2865, 0.07659078908783919), (661, 0.07630015034906479), (260, 0.07623928437857912), (150, 0.07608740156674693), (2862, 0.07607779617199086), (580, 0.07602063872126241), (408, 0.07595031056847897), (108, 0.0757715825418105), (1177, 0.07575032772538515), (14, 0.07529319100526179), (15, 0.0747883106730046), (870, 0.07464781715884729), (1871, 0.07396210361943628), (1192, 0.0734094652731318), (1425, 0.0733407236241196), (3265, 0.07328934842179695), (3405, 0.07319066732426054), (1951, 0.07270667258674254), (770, 0.07266028871569412), (1068, 0.07244418621169658), (998, 0.0724413577092988), (1582, 0.07224247316495913), (577, 0.07206270158514971), (2696, 0.0720010985227421), (100, 0.0718707286852689), (1990, 0.07170401164507964), (1144, 0.07159568385991306), (249, 0.07141719464125243), (1761, 0.07125305217023538), (480, 0.07080585147639999), (56, 0.07059465253748097), (1434, 0.07055633637895545), (3747, 0.07046204264049592), (266, 0.07016203884510187), (2991, 0.06973849846604928), (47, 0.06968431031594552), (3429, 0.06962570153049331), (1999, 0.06960581599645085), (2547, 0.06946767915461304), (2665, 0.0690300914092), (3373, 0.06896254552348002), (3534, 0.06855421419764286), (3439, 0.06836145403893923), (38, 0.06816263087248403), (1217, 0.0680641249146497), (2169, 0.06797700158986869), (2671, 0.06795775348946481), (494, 0.06792169580663135), (1964, 0.06782814698588122), (400, 0.06780514855814682), (3988, 0.06775169647026906), (1847, 0.06772926354518076), (3399, 0.06770662761325093), (4171, 0.06741872310209492), (1377, 0.0674030056558132), (1016, 0.06717761648214024), (3752, 0.06713029765619119), (32, 0.06711474644290759), (3569, 0.06686195971844487), (2432, 0.06677144788437311), (2235, 0.06669225845484139), (4225, 0.06667586174412463), (918, 0.06664681395779064), (1326, 0.06639748698729483), (1914, 0.06621154169112954), (578, 0.0661793820785671), (3195, 0.06603869840490123), (3325, 0.06582888990834211), (1465, 0.0657936989577561), (451, 0.06577327459885693), (4623, 0.06573045725581432), (87, 0.06530445578069777), (105, 0.0652555306698623), (1822, 0.06517099228484943), (1819, 0.06499366828282958), (1759, 0.06471619478713729), (4770, 0.06469095925112142), (768, 0.06461491782660862), (4646, 0.0645961303874407), (2096, 0.06450922804374952), (3072, 0.06445400870867896), (3901, 0.064048539946619), (490, 0.06392121506641499), (1895, 0.06385293359085745), (775, 0.06373708383792671), (1490, 0.06373267358902888), (986, 0.06350223171455355), (1154, 0.06345754945954643), (1826, 0.06343860403644606), (3392, 0.06339951759341252), (175, 0.06333606743423884), (2984, 0.06320664233328008), (1864, 0.06298303021453912), (1174, 0.06296098552181525), (708, 0.0629481442120274), (85, 0.06291290668680206), (1715, 0.06282187138874129), (3750, 0.06276522806622065), (61, 0.06275591849183887), (3920, 0.06272305846085047), (2433, 0.06268025191172336), (549, 0.06250019442739242), (410, 0.06238405289133707), (3348, 0.06232336523536268), (1275, 0.06231992227144578), (1237, 0.06201775456151856), (2069, 0.0620124964780742), (977, 0.06171912354615696), (1007, 0.06134045707589666), (1296, 0.06133090631893209), (759, 0.06125805725572824), (793, 0.06107304105811257), (511, 0.06091269614715286), (994, 0.060519113500198556), (3230, 0.060415568854441465), (7, 0.060340258968822585), (1891, 0.060243956782701086), (854, 0.060134090459655884), (285, 0.06011536738366944), (33, 0.05996534685041098), (3350, 0.0597796977229457), (3886, 0.05973988482947022), (2129, 0.05967671045590916), (2807, 0.0596574100788343), (933, 0.05962827525746781), (2225, 0.059590264507090346), (292, 0.05922776093307007), (228, 0.059175232153449386), (126, 0.05901623792630203), (2720, 0.05898503985232401), (70, 0.05869452267536668), (3184, 0.058678384207377074), (2572, 0.05842352740667684), (670, 0.058401831518592726), (3116, 0.05826812140666871), (1344, 0.05813901634575078), (3481, 0.05793720101343015), (728, 0.05784356728833904), (1353, 0.057808110558434704), (1695, 0.05774683342030082), (2, 0.05772600875531061), (838, 0.05757262031961501), (2188, 0.0575413570268087), (182, 0.05744302311196317), (2180, 0.05742829981561933), (2403, 0.057382986558847486), (342, 0.05728711576005597), (16, 0.05721539202804143), (10, 0.05721297692372175), (2072, 0.057157193168352445), (444, 0.057059896935091906), (222, 0.05693824896497462), (1399, 0.05683069691121495), (2152, 0.05681053873309201), (1231, 0.05674342400270389), (330, 0.05667337174019157), (842, 0.056666193875519445), (1796, 0.05664466818020263), (2198, 0.05651510970218107), (889, 0.05642655275714562), (634, 0.05637449866078348), (929, 0.05634619148749978), (1303, 0.05625244493514255), (2196, 0.05618712839314045), (2127, 0.05606314038780151), (2826, 0.055964845971448914), (791, 0.05590041017383684), (3956, 0.0558650400944537), (4466, 0.05563301050746494), (778, 0.05560312611095228), (581, 0.05557274318942772), (78, 0.055569823743046615), (4494, 0.05553275308651552), (645, 0.05548767168551724), (675, 0.05545752920065081), (4193, 0.05535500417266477), (329, 0.055219570216047995), (1354, 0.055123547311484444), (2047, 0.05501019126305491), (4470, 0.054976976621327764), (3672, 0.05488567925281132), (1721, 0.05487781253037812), (69, 0.0548385303828173), (2552, 0.05470720968858027), (184, 0.05465268665574826), (4621, 0.05465040885106848), (1467, 0.054407350602605736), (3656, 0.054322970445863886), (2831, 0.05425940067290936), (4728, 0.05425001682571673), (203, 0.05404097622855971), (79, 0.05401317798413086), (1958, 0.05394504895920184), (4499, 0.05390738389800665), (1568, 0.05380959619330949), (1542, 0.053726108629425916), (1513, 0.05372108180609466), (174, 0.053680901369139666), (850, 0.05347193990814199), (1001, 0.053450492313654986), (4028, 0.053344913096689046), (2624, 0.05332243429033745), (2538, 0.05330063106351285), (334, 0.05322180989765328), (4020, 0.0532152147994074), (591, 0.05317255602118087), (4583, 0.05309534097068787), (3236, 0.05284369302448487), (200, 0.05283247368467099), (3800, 0.05213118457368618), (300, 0.052085424688593666), (2678, 0.05207696890387089), (541, 0.05203389261808946), (586, 0.05202777942015215), (3698, 0.05201066007842372), (180, 0.05198296845978274), (4393, 0.051910743468069016), (590, 0.05190056496593936), (1358, 0.05181216289786935), (3361, 0.05166759770778792), (1213, 0.05139702630941095), (3898, 0.05132843964594651), (288, 0.05122353022873388), (4152, 0.05118621414022535), (95, 0.05112238641018321), (4608, 0.05079197808018818), (1579, 0.0507916200111964), (1481, 0.05076594314293009), (2781, 0.05061527152738614), (573, 0.050554168930929365), (144, 0.05053222708780044), (147, 0.05051679656188498), (753, 0.05049961762972125), (2118, 0.050425582125582166), (1900, 0.05039571212401362), (2645, 0.05039018172581479), (1053, 0.05035924177283006), (3632, 0.05030037186694331), (386, 0.05027447885423744), (169, 0.05014929735921684), (2161, 0.050078261793268374), (531, 0.050048932761777354), (777, 0.050012027598259894), (782, 0.05000313674490788), (2868, 0.049911056989933054), (1291, 0.04984819727396039), (1272, 0.049744196689349554), (1638, 0.04959554956980902), (2167, 0.049584614687905), (922, 0.049575748725007626), (352, 0.04951619927535943), (809, 0.04942761019291044), (3039, 0.04930679680754403), (989, 0.04923718747875363), (3303, 0.049215284046067856), (660, 0.049189427625957585), (2474, 0.04912562799706385), (4049, 0.04911653863842002), (149, 0.04910078948454177), (3661, 0.04902893567766155), (1976, 0.04899536103066983), (2912, 0.04898677562810463), (1365, 0.04896757139596279), (1518, 0.04894234741806836), (4039, 0.0488717208623422), (622, 0.048837790473374394), (783, 0.04880753634994504), (251, 0.048801907801662166), (689, 0.04873897242542936), (4306, 0.04857858355013503), (24, 0.04857182590109369), (4012, 0.04854077578323441), (956, 0.048432219180238927), (212, 0.048418776774407944), (3128, 0.04832191835440541), (1482, 0.04828435858564741), (813, 0.04826852550842614), (2326, 0.04822138547764361), (2356, 0.048203537366695415), (4070, 0.048143338985629607), (3545, 0.048110339402341044), (124, 0.04805420015057442), (59, 0.04804058700009657), (1301, 0.04785122926257296), (3366, 0.04778786949335382), (426, 0.04777068029295625), (1596, 0.04765895013175438), (336, 0.04756811544101744), (1357, 0.0475524010631747), (1286, 0.04752159432554842), (3261, 0.04743392893923459), (1931, 0.04739184868828714), (123, 0.04720525111656252), (2035, 0.04718983411306717), (2438, 0.04715012550958582), (1352, 0.047115425859330345), (211, 0.047112245367892436), (542, 0.047095199211505276), (2876, 0.04706899516413662), (2071, 0.04706430856453668), (1412, 0.04699858418245475), (4156, 0.0469897448990889), (3887, 0.046916974538725176), (2860, 0.04690734696353499), (1318, 0.04684955689675324), (3889, 0.04684567756783793), (3219, 0.046801087947434775), (1147, 0.046753761083835624), (163, 0.04671342090014942), (439, 0.04667161837143631), (1713, 0.046656666749269514), (2971, 0.04664257994448048), (4593, 0.04661630555387166), (466, 0.046603304120096445), (64, 0.046601263967495275), (1129, 0.04659689707673571), (125, 0.046472238242634814), (4041, 0.04643723002849311), (4448, 0.046426642598656476), (928, 0.046413130054179325), (4680, 0.046403549440333765), (3533, 0.04639990030635549), (176, 0.04634951293026917), (4072, 0.046329205889452094), (1335, 0.046295206839301335), (1852, 0.046216554805185946), (2303, 0.04618753400056448), (2386, 0.046137047008562165), (232, 0.046114763036811626), (117, 0.0460651168021897), (2285, 0.04602719987293402), (1702, 0.0460127726245811), (3629, 0.04594969099769416), (2263, 0.04582871758143701), (694, 0.045810462544925344), (201, 0.045794661744546356), (3723, 0.045788364276066196), (2858, 0.04569868830457737), (1932, 0.0456721800134889), (696, 0.04559202102572001), (1985, 0.045537231771273806), (2843, 0.045470589748637706), (4301, 0.04546009348600302), (4780, 0.04543838169468041), (3504, 0.04535093534120276), (4267, 0.045342436093854646), (389, 0.04529421192686091), (1137, 0.04521687940521589), (2015, 0.04517734693017947), (128, 0.0451261700757396), (3082, 0.045074492046007525), (1079, 0.045029845936739324), (1577, 0.04501219693279995), (4076, 0.04501050653206248), (3203, 0.04500970286479664), (196, 0.04498115159513035), (1044, 0.044931286557093914), (31, 0.04491082754059965), (1802, 0.04480136184604888), (4696, 0.04474080056868008), (776, 0.044607494615453026), (4724, 0.044554938528514845), (4163, 0.04438731777769356), (60, 0.0443000966060555), (1830, 0.04426921354807606), (3264, 0.04424427068815581), (1423, 0.04423762362225113), (1401, 0.04414424320918267), (632, 0.04411639221930522), (1120, 0.04407819072677346), (1427, 0.04397557695028144), (2416, 0.04387527512884138), (1737, 0.04385623622008643), (2420, 0.04380941575915989), (2134, 0.04378501613821571), (1646, 0.04375805281523431), (43, 0.04364978726080909), (1050, 0.04363149881339461), (318, 0.04361784814669785), (325, 0.043572737068959345), (4707, 0.04351802911399583), (1269, 0.04348587552939967), (2743, 0.043435143199128556), (3260, 0.043416533685743476), (3552, 0.04341624102407015), (1141, 0.0433793914253366), (2503, 0.04336941142607513), (420, 0.04334808895758826), (690, 0.04331926916309655), (1977, 0.04330898553263455), (2202, 0.04328759460221108), (1619, 0.04327033313658538), (4439, 0.04322994975845597), (4410, 0.04322087999357292), (2109, 0.0432076527446691), (717, 0.04314480006276986), (2851, 0.043131750641744286), (672, 0.043117424173398436), (2030, 0.04304638448899705), (2594, 0.04304355425911724), (268, 0.04299714550664135), (924, 0.0428984277518385), (1165, 0.04289812761701258), (779, 0.042823238788643025), (2399, 0.04280220569891312), (2934, 0.04277979639075309), (2494, 0.04277751505540881), (2043, 0.04274849586501954), (1341, 0.04269437363870444), (4339, 0.0426600427571899), (2642, 0.04263666123375283), (3986, 0.04259217941195251), (1537, 0.04255280913499775), (1127, 0.04254721307541581), (3434, 0.042424783495896734), (2253, 0.042423843228622894), (2343, 0.042345923994709184), (2464, 0.04233591218996078), (2967, 0.04229495581694949), (2197, 0.04225529260578398), (4796, 0.04213641290996135), (1651, 0.04211331032636108), (2760, 0.04210644718503489), (2340, 0.04198337309624611), (442, 0.041960273894885), (2278, 0.04195580403206242), (2449, 0.041932439888846484), (3388, 0.04192070779819203), (1369, 0.041907390558657956), (3556, 0.041883270147242), (2100, 0.04187331964597026), (2361, 0.041872979289633426), (4675, 0.04178823102288367), (1781, 0.04177864917677884), (941, 0.04174502783419576), (1540, 0.04173127886076328), (3270, 0.04171614620873422), (20, 0.041694129432257705), (3598, 0.041685599688526864), (2081, 0.04167753727454899), (3212, 0.041642910901557036), (1329, 0.041593693963136245), (4131, 0.0415450261407684), (156, 0.04149000125506485), (2950, 0.041402820096994745), (3315, 0.04137146859469837), (505, 0.04131193378811687), (2716, 0.041307874775526124), (93, 0.041296407479643915), (3633, 0.04128532854241885), (4639, 0.04119492132409521), (354, 0.04119083892983094), (3386, 0.041179762982294435), (4281, 0.04117433882926823), (874, 0.04114215089414861), (2939, 0.04111573689315166), (1439, 0.04110039004961204), (2581, 0.041009103683150874), (771, 0.040969682860222276), (4726, 0.04091923604556411), (1995, 0.04089252835510379), (166, 0.04080272661489493), (3639, 0.040797311003797354), (2838, 0.040785264376034386), (1936, 0.04070968768045989), (752, 0.040657284302386625), (931, 0.04065407925458115), (2927, 0.040635465742317675), (479, 0.040633819218054326), (253, 0.04061820854804446), (362, 0.04056054521364638), (3660, 0.040501689689695974), (3854, 0.040465734296009526), (3006, 0.04046281972608465), (2234, 0.040442500029552506), (53, 0.04038678215533208), (2975, 0.04036312745584954), (3364, 0.04035620584713316), (1409, 0.040335919704123195), (155, 0.04031797389534806), (582, 0.04031090223601368), (1117, 0.040238821837391046), (3928, 0.04022790569172409), (1111, 0.04014406727898756), (1495, 0.04012086902565435), (2554, 0.040111631386746206), (3304, 0.040015710843603856), (120, 0.040013368248581545), (896, 0.040000006372382185), (1981, 0.039977958398126956), (844, 0.03994463661883375), (2732, 0.039933809699413056), (2525, 0.039891104530131866), (693, 0.03987397703577949), (3822, 0.03986639741610581), (48, 0.0398183280050164), (2155, 0.0397979407584284), (3838, 0.03975777172265095), (3311, 0.039755491183385894), (4110, 0.039720266502550346), (3571, 0.03971808707570416), (2592, 0.039716427358376244), (2993, 0.039715886255618574), (1442, 0.03970660506716326), (2935, 0.03963091070876902), (1762, 0.03962557691530695), (1328, 0.039585597618798735), (1271, 0.039580292845199885), (3794, 0.03956746732873442), (4769, 0.039540350990585525), (1013, 0.03946139260061603), (2615, 0.03944254852110811), (1723, 0.03939301286431103), (817, 0.039374102675589454), (23, 0.03928703526113247), (2293, 0.039273655072158804), (3873, 0.03926919697098278), (3973, 0.03926556624179308), (827, 0.03925263079078891), (951, 0.039240918392879805), (1944, 0.03923864197720643), (3381, 0.03919860150337215), (4688, 0.039173360892996355), (2636, 0.039100176271655976), (3604, 0.03905439940738147), (3981, 0.0390121890260931), (3003, 0.03896464080221204), (3856, 0.03896068876766959), (1517, 0.03895841417554542), (1372, 0.03885445904330564), (1613, 0.03884483576567701), (2881, 0.03883793439598464), (3290, 0.038836981981273895), (792, 0.03883127114937165), (692, 0.03882849613869921), (894, 0.038801707656319136), (4270, 0.03879632630550933), (1551, 0.0387882130662816), (1023, 0.038756112371873055), (1103, 0.03874127885795499), (1717, 0.03872999820117553), (1400, 0.03867692811088525), (1453, 0.03859583450445797), (732, 0.03846224066652143), (1356, 0.03845947043916149), (1024, 0.03845814325312803), (1740, 0.03843915884968147), (1633, 0.03835884012448613), (2706, 0.03834545808307962), (9, 0.03832298281222101), (3759, 0.03832275582693979), (489, 0.03831304191535771), (1250, 0.03827834629900566), (680, 0.03822141280363851), (3460, 0.038220374321583955), (4653, 0.03818146249534892), (1125, 0.03817433430376167), (513, 0.038170341360125794), (271, 0.03814082150166783), (3766, 0.03810461424042172), (310, 0.038082889122748514), (4792, 0.037904498761931325), (718, 0.037894615795181025), (4538, 0.037846175806398805), (1015, 0.03780010637543167), (1974, 0.037763087850058), (1459, 0.03772098465565674), (4551, 0.03766077404723488), (241, 0.03762493605971037), (468, 0.03758808876647317), (2025, 0.03757166825704645), (3599, 0.037519762368057895), (3150, 0.03745262799488461), (4080, 0.03744768590791793), (3993, 0.03742504004891345), (4008, 0.03735071172270849), (2044, 0.03732488237957267), (1397, 0.03730975703171021), (2091, 0.03728422433269849), (3870, 0.03726267163252319), (290, 0.03714969413792807), (1939, 0.037130017837294034), (3055, 0.03711559211037881), (3883, 0.037032444257414754), (2603, 0.03701148908711618), (742, 0.036993711796424696), (102, 0.0369507154792848), (242, 0.03694959337635548), (1685, 0.03691219440369839), (976, 0.03689381154637905), (4658, 0.03684344607209496), (2317, 0.03682021212218301), (872, 0.03681283072488306), (1472, 0.03680783579217966), (193, 0.03672950658933921), (35, 0.03670710779261637), (127, 0.03670362194300909), (109, 0.03664800609746381), (3355, 0.03662667740340611), (899, 0.03660021721300326), (4403, 0.03656493797220579), (1277, 0.036556491191172366), (720, 0.03651788218896568), (2751, 0.036482406260180525), (3266, 0.03644022720995055), (1029, 0.03639286673619616), (4117, 0.03638548532910433), (30, 0.03636070766215349), (1390, 0.03633328507013282), (26, 0.03631511936724096), (3352, 0.036297794326136126), (1215, 0.036244313367261485), (3555, 0.03620202151821647), (596, 0.03619553422080395), (1230, 0.03614488539476604), (1325, 0.03612916212435363), (587, 0.036117277975048906), (322, 0.036047480772390755), (603, 0.035983134897755314), (2311, 0.035980218207048796), (3244, 0.03597493068526047), (788, 0.03596373797631411), (3242, 0.03596157132572406), (1085, 0.03590154675455611), (2442, 0.03589806272281487), (83, 0.035896813401665645), (2175, 0.03589187501944109), (654, 0.03586501513920849), (4024, 0.035794322875488956), (1086, 0.03576811353024417), (1324, 0.03576338568561809), (4222, 0.035756020093338364), (1083, 0.035755097684483116), (229, 0.03565094624786087), (1187, 0.035633563043869304), (658, 0.035631536094733976), (3591, 0.03554894565326756), (49, 0.03554844691198375), (1653, 0.035498974093118585), (3971, 0.03546108804546961), (1652, 0.03545966944835957), (363, 0.03544102663655325), (1872, 0.03544030283932091), (612, 0.035341396725774986), (4035, 0.03530807671779444), (3700, 0.03528478561346526), (4357, 0.035282758604674246), (3253, 0.03528231389021884), (3936, 0.03524147493224247), (4579, 0.03521042036667309), (2529, 0.03517857594320943), (76, 0.03514946869133577), (3579, 0.035068523333253145), (1367, 0.0350684280689346), (4670, 0.03505860406475293), (4107, 0.035031449540674525), (1655, 0.0349381581121706), (990, 0.03491078564040277), (841, 0.034907501921998374), (141, 0.034867400100010236), (28, 0.03486350003287453), (2767, 0.0348445059674777), (4176, 0.0347974856318204), (1856, 0.03478095683425052), (4083, 0.0347629376052739), (96, 0.034687371115420196), (495, 0.034682753406724026), (2046, 0.03467891882357842), (595, 0.034678302016472345), (508, 0.034636566772143884), (3117, 0.03459849742048953), (1583, 0.034589501984047734), (2919, 0.03456249161640815), (457, 0.034519533823711056), (755, 0.03447430970527314), (607, 0.03438910426362232), (311, 0.03429847426577118), (1597, 0.034266635803166336), (4603, 0.034265344503257834), (2742, 0.034190825275641656), (4549, 0.034160555713879666), (2966, 0.034125606090377854), (3966, 0.03411843576710477), (2884, 0.03403093445986213), (2209, 0.0340013875602589), (2921, 0.033902626223051124), (898, 0.033870416944474055), (3292, 0.03384267532890913), (72, 0.03382302075319772), (2759, 0.03382241028522097), (507, 0.03380137845778734), (676, 0.03378036538571846), (735, 0.03374145877879681), (674, 0.03372760983581269), (91, 0.033715446064630096), (1294, 0.03368347475101986), (1775, 0.03362635519027905), (2360, 0.03360767689043325), (2492, 0.03360394276195286), (1590, 0.03359656383148331), (403, 0.03347357265454952), (1259, 0.033463701378755165), (2995, 0.03345691743921488), (4042, 0.03339633000208677), (432, 0.033372367157149814), (488, 0.03335031927834711), (773, 0.03334430600012827), (3738, 0.0333392583026363), (859, 0.03333753821197303), (681, 0.033250728811307965), (2925, 0.03324460198047113), (168, 0.03322838292860991), (430, 0.03317981051144633), (36, 0.033076033414895116), (1, 0.03305463079248628), (558, 0.03303892640384593), (1413, 0.033038297482283735), (2486, 0.0330212769144736), (4775, 0.03294539655577578), (1355, 0.032917911566650485), (3497, 0.03286515953562436), (458, 0.032844009817608426), (39, 0.03282935334045394), (366, 0.0328115541128024), (2666, 0.03277322475924066), (4276, 0.03276644082854133), (3146, 0.03274462178244684), (528, 0.03271462218530446), (3427, 0.0326929557450364), (4471, 0.03269224098106794), (796, 0.03269121476213113), (68, 0.03268943310073386), (1093, 0.03260034762592275), (4645, 0.03259360779547119), (4003, 0.03250378745491805), (1581, 0.03250263126517635), (3177, 0.03238201805788077), (920, 0.03237615225628174), (2633, 0.03234086618689686), (3284, 0.03233883047769808), (1452, 0.03231531381679492), (131, 0.03226538281947785), (2262, 0.032236742877194545), (412, 0.03218103183280218), (1034, 0.03209475933752944), (1337, 0.03205422056569947), (238, 0.032014041762383864), (4717, 0.03200936834585872), (3849, 0.031964626630457675), (3199, 0.03191141444038018), (4113, 0.03189335409406705), (1322, 0.031887564083369305), (3907, 0.0318867483903015), (2372, 0.03187493831909365), (2016, 0.03187120369342813), (2268, 0.031854402426553415), (3514, 0.031799292021342365), (2136, 0.03176446045623311), (378, 0.031744583392750124), (2387, 0.03172815036678624), (172, 0.03172495838555847), (332, 0.031715355290092784), (2103, 0.03170052204764096), (4242, 0.03167198761522815), (4450, 0.031629319331091164), (37, 0.031608715017678674), (800, 0.03158827552486931), (84, 0.0315404534100811), (2257, 0.03152956083173082), (3229, 0.03151467178572277), (1877, 0.03149463720834614), (52, 0.03149057534592172), (3085, 0.03143866866802561), (3035, 0.03142050283575982), (2052, 0.031391133570861846), (3725, 0.03137814394432401), (1057, 0.031363326954927884), (1907, 0.03135023827025409), (164, 0.03134492360676513), (4358, 0.03130963484612238), (1901, 0.031305292465568034), (1201, 0.031300907867539696), (1404, 0.031242887902132803), (4723, 0.031223919548885412), (1556, 0.03120193015075414), (4347, 0.031194353863576735), (2327, 0.03114986996656295), (1671, 0.03114919665121749), (3306, 0.031147722463896316), (245, 0.031117258802647606), (4062, 0.031090472846319286), (648, 0.031060012478897916), (4577, 0.031044993962342168), (979, 0.031032450820179573), (3474, 0.03098734247169287), (799, 0.030987272138415095), (2375, 0.030977369967857483), (4574, 0.030930387509386793), (4162, 0.030856782342236048), (1445, 0.030800815447558375), (2333, 0.030796180897302638), (3547, 0.03077972570631376), (2763, 0.03077429255744035), (4734, 0.030744653793050976), (4725, 0.03074112369970427), (1750, 0.030729639297804354), (2809, 0.03072127295450893), (570, 0.030719839818060334), (1191, 0.03070397605598546), (2954, 0.030682155968469436), (2944, 0.030679919706159478), (1155, 0.03065983863769961), (254, 0.0306586933354724), (4602, 0.030636260304725025), (4382, 0.03056009900895954), (1735, 0.030552200796050477), (2024, 0.030531477468825785), (3202, 0.030526084507562674), (3305, 0.030522884715977402), (700, 0.030430504802477693), (2815, 0.03041365781531246), (4425, 0.03040308927634814), (4465, 0.030364365240465443), (1211, 0.03033980606141561), (2229, 0.030279616689389152), (4077, 0.03022594333033292), (276, 0.030187853159166646), (3424, 0.030163273799919024), (2982, 0.030156080869862593), (3697, 0.03013834570698159), (4354, 0.030121276372501875), (1720, 0.030109495253279467), (4164, 0.030090021750604764), (2986, 0.030066127852589643), (4187, 0.03000447099424827), (225, 0.030001809001192994), (4319, 0.029998540141027836), (3706, 0.02997183445900373), (81, 0.02996445696228655), (668, 0.029935124917216508), (1827, 0.02982362078713738), (4756, 0.029822177538118878), (67, 0.02977547076888122), (165, 0.029763513697224537), (3296, 0.029734116625963203), (618, 0.029713576006239063), (1773, 0.02970052745131199), (4137, 0.02968778079137194), (2780, 0.029681981244525743), (267, 0.029614730028923307), (2261, 0.02957746721609586), (1821, 0.029561592887845694), (4739, 0.029483966716740015), (3861, 0.02941417981010195), (1208, 0.02939868956397356), (2952, 0.029324420283693527), (3549, 0.029324363714657867), (3793, 0.029279929562414726), (655, 0.029148561054021655), (1890, 0.029114147613073887), (4337, 0.029109158631672245), (2066, 0.029088382275356074), (3680, 0.029087488201144398), (3239, 0.029070786886371353), (1279, 0.029067586193210267), (2057, 0.02901179902388821), (4558, 0.02896808854017946), (306, 0.028941660038489934), (601, 0.028930599747268214), (512, 0.028899361991867566), (4516, 0.02882448854037227), (185, 0.028823276884483218), (279, 0.02874447058718737), (987, 0.028701448850633464), (4160, 0.02869429296396553), (4344, 0.028685210350435433), (3914, 0.028680579140859176), (2977, 0.028622792694111557), (51, 0.028614917404666505), (233, 0.028587819721529354), (1468, 0.028551711703349067), (3704, 0.0285289709043934), (415, 0.02852149536717915), (319, 0.02852105098754474), (3142, 0.02848730172091315), (939, 0.028481555426753263), (1003, 0.028438813375552117), (702, 0.028427397188015596), (66, 0.028424116673861424), (82, 0.0284001187958774), (303, 0.028399399423956296), (1002, 0.028389599668862536), (1515, 0.02830596868911156), (3588, 0.02825037461591492), (805, 0.02824055432463172), (4341, 0.02822410491105955), (1543, 0.028180095250180563), (3795, 0.02815540275641068), (1193, 0.02807698837708815), (1569, 0.028049493836125476), (2086, 0.028016577230542957), (178, 0.027946791608301647), (3153, 0.027894357820418183), (2255, 0.027846083068015254), (740, 0.027838913038642814), (2320, 0.027831457850739906), (4515, 0.027793786544975673), (3934, 0.027786230446473936), (1135, 0.027773603434504576), (171, 0.027764161985861287), (3089, 0.027742687842826918), (2200, 0.02773931084803062), (1910, 0.027717552046124062), (609, 0.02768021396270168), (621, 0.027678515860952796), (1394, 0.0276730631071053), (3568, 0.027663249613383862), (2363, 0.02766191279785507), (2247, 0.0275765170489805), (3478, 0.027548115473633155), (1070, 0.02754080230530545), (738, 0.027517413244641978), (657, 0.02751580724942368), (877, 0.027458781128967266), (4453, 0.02744683426028059), (476, 0.027446293741630063), (371, 0.02743958929911864), (1783, 0.027408480319531157), (230, 0.02737126364028281), (1623, 0.027350279199904126), (3615, 0.027340525886024338), (1282, 0.027288572381374818), (2822, 0.027264903403848025), (673, 0.027250139158944024), (1043, 0.027247650006211415), (235, 0.027241205413493775), (716, 0.02722796262891168), (1198, 0.027204389917232744), (4304, 0.02715196630949693), (4487, 0.02713818959560146), (1818, 0.027112735481385188), (97, 0.027096274566358453), (74, 0.02705535664801965), (3297, 0.02699711764188321), (3658, 0.026992697724125353), (1395, 0.026990526326866965), (1807, 0.02698832593459638), (2568, 0.026969943091863735), (4794, 0.026956259756683462), (2380, 0.02693596078582724), (1486, 0.026920269847161893), (2292, 0.026891781827230316), (1757, 0.026819995989551187), (1538, 0.026805211660455863), (2352, 0.026789460813687292), (790, 0.02677316147224525), (3008, 0.026768886954054293), (335, 0.02671838332054632), (2302, 0.02665179513552881), (3288, 0.026608103108993725), (2031, 0.026603664132870124), (613, 0.026582463296610723), (2085, 0.026575474240775974), (257, 0.026535959239087803), (358, 0.02650969381663361), (1642, 0.026500311189535317), (1438, 0.026488003322371757), (4669, 0.02647922014891728), (1511, 0.026446082031298043), (1873, 0.026433896572372346), (1882, 0.026433224674320688), (2288, 0.02641214569704901), (2321, 0.026408132074847556), (189, 0.026375511194548874), (880, 0.026319789888284897), (3002, 0.026314220389766628), (510, 0.026312856885117603), (1319, 0.02629342809876263), (1006, 0.026289883132069883), (2942, 0.026283259827768572), (4191, 0.026268085036957066), (3668, 0.02623264929910484), (484, 0.026226278796211318), (2264, 0.026201853520935313), (1885, 0.026183090354666344), (2070, 0.026149153421784078), (4100, 0.026098524650071467), (3848, 0.026059557491781432), (4742, 0.026036402296458955), (2849, 0.026027526387462592), (965, 0.026022842044930775), (2758, 0.02599740396660744), (4693, 0.02599536729812912), (2707, 0.025985631121311067), (2346, 0.025953756889973992), (4774, 0.02593491164293646), (29, 0.025926729267293502), (2550, 0.025917714779254995), (3968, 0.02590862224661816), (4489, 0.025896478848299185), (224, 0.025850799253190167), (571, 0.02579549098981209), (2590, 0.025781746241999127), (3440, 0.02575449048676101), (2272, 0.02570635886787606), (4399, 0.02569929697995747), (605, 0.025621004359131283), (1110, 0.025599610386316536), (1362, 0.025528540553720003), (294, 0.025527371609865956), (2638, 0.025509194529140168), (1909, 0.02547443026110091), (3465, 0.02546688684420187), (3749, 0.025433427486836132), (2695, 0.02535815917116327), (1949, 0.025348359670605128), (2853, 0.025318064332722677), (1491, 0.025304132229463268), (376, 0.025255823575204218), (629, 0.025249510117634835), (801, 0.02524939298175515), (3558, 0.025247396317901155), (4025, 0.025221997695471482), (3372, 0.025184741001600494), (1529, 0.02517973988411388), (3808, 0.025170121628428337), (1176, 0.02514460962913553), (1771, 0.025135383889803808), (4679, 0.02513031640729814), (1166, 0.025108736291114094), (4606, 0.025107611265802826), (3851, 0.0251069598567656), (2159, 0.025106305394287244), (1119, 0.02499459976501659), (2306, 0.02499230984710277), (2564, 0.024981879050202216), (2539, 0.024947694434569852), (1359, 0.024929726723526918), (3868, 0.024893050923115518), (1625, 0.024856206220986624), (543, 0.02484879677667454), (4424, 0.024836919985269084), (3722, 0.02482467103657964), (4764, 0.024821999888623745), (2389, 0.024813690885446025), (858, 0.024812182515915708), (1983, 0.024807171189651322), (3954, 0.024789761889898766), (4325, 0.024733872202216897), (1168, 0.024702901440090887), (4543, 0.02467808573115321), (449, 0.02464640799306692), (569, 0.024615922422292054), (1548, 0.02457429408260698), (2571, 0.024571309543172926), (2670, 0.024570883971925753), (1917, 0.024568542143239697), (1028, 0.024566831869917392), (4691, 0.024541413539336115), (550, 0.02453341259876557), (234, 0.024520573305690102), (4610, 0.02448728609773142), (3138, 0.02448427322476465), (2018, 0.024469260131817713), (524, 0.024457558021144098), (4071, 0.02444896851770452), (2049, 0.024440011005719242), (45, 0.02443402078088839), (2322, 0.024433566782067703), (2789, 0.024426550704071747), (2622, 0.024419039607859537), (1469, 0.02440734465058353), (258, 0.024378951636312676), (760, 0.024367516701458106), (4580, 0.02435183146765657), (437, 0.024349104965780098), (3948, 0.024346640993106426), (2435, 0.02434562465345518), (2771, 0.02431035944723758), (3806, 0.024295416219573117), (1115, 0.02426274496674134), (3929, 0.02422708228834618), (3964, 0.02421882795636), (2410, 0.024209788878473918), (884, 0.024134132881172957), (2430, 0.024127329054407565), (1763, 0.02411913432356674), (3758, 0.02409943648581514), (754, 0.024071554345908852), (4295, 0.024062830791035425), (1042, 0.024056754254297825), (3156, 0.024048586888073226), (1161, 0.024041903127649707), (4149, 0.02403715186204726), (999, 0.02401825216371912), (1152, 0.024011921636367065), (3012, 0.02396441441007742), (4601, 0.023959922359858252), (3081, 0.0239552157612718), (2551, 0.0239503005811087), (4045, 0.023924250739181505), (1074, 0.023891777391596092), (4327, 0.023857988632757277), (3643, 0.02384942331037011), (556, 0.0238272245410298), (4291, 0.02376710651666353), (797, 0.023766287201680922), (404, 0.023756168975641218), (1942, 0.02374185786602016), (1375, 0.023699347820476238), (2291, 0.02368691553269216), (1884, 0.023660556338885884), (2290, 0.02364270325470956), (2366, 0.023631943599632492), (2193, 0.023588415562963285), (2693, 0.023576928251456294), (1266, 0.023545326956445907), (2260, 0.023523592191321573), (3835, 0.023523161693908064), (2141, 0.02348302423451228), (4801, 0.02347920375157729), (350, 0.023464851753954505), (4684, 0.023455060183486708), (3490, 0.02345140733099551), (2254, 0.02343917519648002), (314, 0.023421448891782656), (652, 0.02341433411123657), (384, 0.023393382595198218), (1270, 0.023392079937292698), (3915, 0.023391016797725313), (2808, 0.02338202662844803), (1456, 0.023376390775261657), (423, 0.023372739753053737), (1428, 0.023368406496603697), (2577, 0.023347086789678725), (1850, 0.023329541238043587), (2856, 0.02330714049777286), (121, 0.023293832187861005), (388, 0.02327435433382967), (4251, 0.02325585883787027), (4254, 0.02324068176289834), (3726, 0.023193197192696413), (4054, 0.023183078821254276), (2650, 0.023176732964770158), (4407, 0.023165109640760833), (1391, 0.023161140588724847), (3529, 0.023151415523004037), (1918, 0.023125298364009), (2113, 0.02312200485413847), (3125, 0.02310966526423852), (626, 0.023103416228953216), (2999, 0.023060292359686367), (4741, 0.023023226233560505), (1973, 0.022975511186640225), (3773, 0.022935468595241783), (4367, 0.02292386852780684), (4727, 0.0229139630476597), (2777, 0.02290697739429668), (4128, 0.022885756011369125), (506, 0.022884660226436433), (3796, 0.022878505968279797), (2182, 0.02284612526519745), (3243, 0.022813521010863633), (3181, 0.022784111855948735), (970, 0.022771082434743583), (2585, 0.022733108033952367), (2814, 0.022715831017130938), (2221, 0.02269795607775279), (3267, 0.022687624537839655), (4440, 0.02266822420448738), (4760, 0.022667059387845568), (316, 0.022661492038187583), (4239, 0.02265706006914984), (3786, 0.022602145262630928), (1535, 0.02258360489253924), (3616, 0.022574246342100354), (3187, 0.022573463923221466), (4182, 0.022555388877502927), (908, 0.022546433304144742), (1506, 0.022534652838758804), (1644, 0.022525687749916125), (4312, 0.022521986096301388), (3755, 0.02249418848855152), (2456, 0.02249105688243128), (3083, 0.0224492403810324), (691, 0.02243934032615405), (3423, 0.022438292892769846), (4572, 0.022421680022643005), (3904, 0.022419197011245933), (2480, 0.022406923892237307), (2353, 0.022401340988281063), (4447, 0.0223954335266166), (900, 0.022388771757750295), (4505, 0.02237796437891516), (766, 0.022376900271494245), (2214, 0.022339611029159885), (4050, 0.02232152666382638), (3163, 0.022291997881429278), (2639, 0.022285732495260745), (3736, 0.0222842753904067), (2824, 0.0222557125146108), (1262, 0.022255589987857646), (627, 0.02219859352622238), (2598, 0.022197017475309333), (2487, 0.022193273786343917), (2177, 0.02219286602405101), (236, 0.022190103450039956), (4507, 0.02217974458175434), (1678, 0.022179387998696284), (3387, 0.022161379956343107), (2470, 0.022154908186033467), (713, 0.022137492976892683), (1608, 0.022131463622602307), (1361, 0.02212889041011181), (167, 0.022126770560725262), (2439, 0.022117551459209586), (2960, 0.022099633521067603), (284, 0.022097256900231472), (4255, 0.022088359067125744), (313, 0.02207848736728628), (3157, 0.022070357663143112), (968, 0.021983243981523758), (4467, 0.021950904986722662), (3580, 0.021939503112987313), (1929, 0.021935307221456025), (1975, 0.021898247008235987), (3207, 0.02187854043149913), (1865, 0.021877146409348805), (2792, 0.021859390543179646), (1747, 0.021833521665818964), (2462, 0.021825382496214834), (2632, 0.021824400292447196), (315, 0.02182422527844395), (563, 0.021817073139663093), (4246, 0.021796127533766512), (4053, 0.02179091704325514), (1510, 0.021737760843808292), (4587, 0.02173463797283453), (3294, 0.021729002317071443), (2504, 0.0217227522731829), (2757, 0.02169033875763824), (3246, 0.02167185405449281), (3859, 0.021671442864479275), (4264, 0.021637889917599303), (1422, 0.021540948685375254), (2897, 0.02153349459966626), (301, 0.021527355745192194), (644, 0.021520414985760572), (1470, 0.021509959169930454), (3769, 0.021482050474791084), (4313, 0.021466949354276166), (4384, 0.021431853718171766), (1837, 0.021427595697265406), (361, 0.02142242058067005), (413, 0.02142132718857217), (2509, 0.02141876150529248), (2662, 0.021406218218956736), (2810, 0.021375465235163073), (2530, 0.02137033951504253), (4526, 0.021370250081285156), (3124, 0.02134651447196322), (555, 0.021341902737750974), (2164, 0.02133933743071574), (1501, 0.02133827458782681), (2785, 0.021331258023515903), (4787, 0.02131995884084569), (2841, 0.021305099632975347), (949, 0.02129493972833866), (3905, 0.021276629485804267), (217, 0.02127401938238084), (4665, 0.021270800352094114), (4563, 0.02126277039143047), (1574, 0.021238925023250546), (3133, 0.021232674817310206), (2102, 0.021231688708968605), (606, 0.021216199739639816), (1500, 0.02120978689740189), (3640, 0.021208936590510256), (3024, 0.021199749032340235), (1902, 0.02114097866502437), (3664, 0.021138956909408355), (1113, 0.0211291001696708), (4320, 0.021099513203519174), (2541, 0.02107062028969709), (617, 0.0210537139515029), (2488, 0.021031378735879454), (3005, 0.021010742854643216), (2482, 0.021003912209743337), (3044, 0.021001897900507285), (4539, 0.020982955639275325), (4479, 0.020977427444526364), (2090, 0.02096455663166755), (1709, 0.020961287759766706), (3559, 0.020951009026037977), (4170, 0.020943001875696084), (3339, 0.020936925313338205), (2669, 0.020935757242336525), (3678, 0.02092786231199123), (1938, 0.020925836580621592), (1240, 0.020924485157357654), (1090, 0.02089896025021932), (3499, 0.020891015862839424), (4219, 0.020880470801386917), (3813, 0.020866129469804356), (1846, 0.02085649602562996), (4408, 0.020850369044619555), (440, 0.020841944887579893), (4278, 0.020814566513751208), (592, 0.020803787798543024), (2584, 0.0207796871299166), (575, 0.02076471993608535), (1817, 0.02076000555008682), (2560, 0.020752535136974618), (3840, 0.02074140621569597), (4180, 0.020739849865642472), (4604, 0.020722272925726544), (187, 0.020713199663761894), (3987, 0.020694097541084814), (2546, 0.020689393159420366), (4233, 0.020667035269017184), (3789, 0.020657109961477113), (4286, 0.02065367391817934), (831, 0.020653266667905814), (1040, 0.020652345892918356), (1786, 0.020634753859998755), (1705, 0.020633846973735277), (608, 0.020633057428718835), (2828, 0.020591112459591412), (1896, 0.02058124848977348), (4700, 0.020579219195972876), (2076, 0.020556854291636457), (1758, 0.020542263024874906), (3564, 0.0205224774046989), (3811, 0.02051497426010966), (1238, 0.020502538260708768), (3613, 0.020498156127308577), (3204, 0.020492331311375237), (564, 0.020491144860115995), (1038, 0.02047918582255041), (170, 0.02047584308920896), (2842, 0.02045759845376184), (1849, 0.02045663294310509), (1689, 0.020452149257498914), (3094, 0.02045177865362418), (422, 0.020450140375518743), (3880, 0.020447937795582488), (450, 0.020429411765908748), (3592, 0.020424526988218204), (406, 0.020404691270177085), (2715, 0.020400627756404412), (666, 0.020355287139383012), (3396, 0.02035027143272749), (3417, 0.020350247626062593), (4746, 0.02034460728497136), (4379, 0.020325909160452495), (3642, 0.02029293399297886), (4158, 0.020285654020429134), (1561, 0.020272448442619925), (739, 0.020236856625805027), (2708, 0.020232702982086525), (293, 0.02022708634583944), (2087, 0.020226213304447203), (3586, 0.02021849052587804), (1982, 0.020210898145763243), (1045, 0.02020459735955197), (2240, 0.020200916089288968), (4758, 0.020180748275271884), (875, 0.020177559857915462), (441, 0.020169986223715887), (772, 0.02014320822020554), (3087, 0.020135524651917498), (909, 0.020124125886301296), (3608, 0.02009384622714736), (456, 0.02009100019904756), (2978, 0.020072553772318674), (3449, 0.02004179651662665), (2791, 0.020031366108726027), (2817, 0.020024963094382457), (4442, 0.020022137817375735), (2417, 0.019993254831512663), (1722, 0.01999218207359105), (4788, 0.019981704343293657), (2605, 0.019965150615321666), (4228, 0.019957436328224627), (4767, 0.0199484315396998), (2455, 0.019945994776230734), (3509, 0.019917383110148523), (4022, 0.019899231437164714), (3628, 0.019888594199962455), (2998, 0.01986674928816706), (1214, 0.01984693142750265), (3462, 0.019840285676330387), (955, 0.01983370021098623), (1716, 0.01983176840346206), (2376, 0.01982443624842659), (4423, 0.01981241579217719), (2173, 0.019797220728558954), (1640, 0.019787463117838005), (3601, 0.01974991212923816), (2702, 0.01973371085048619), (3899, 0.019724692533644894), (291, 0.019721682220771954), (2094, 0.01971378672831403), (1323, 0.01970726816045829), (1097, 0.019698697271584086), (2557, 0.019689494761194755), (3152, 0.019685893401234885), (1533, 0.019683415899312672), (4371, 0.019647989782451622), (2900, 0.01964395295060143), (3054, 0.01963009726603312), (4284, 0.019599039052398418), (1848, 0.0195920872212327), (3321, 0.01958896125442116), (1706, 0.01957659948631923), (3147, 0.019559532776649104), (3685, 0.01955158572895904), (2946, 0.019530211713257223), (4321, 0.019496081173655734), (1153, 0.01949509882882359), (743, 0.01946097527581593), (4340, 0.019459831636072074), (3276, 0.019452997483111325), (1379, 0.019448433243053283), (1333, 0.01944326468080302), (4245, 0.01943976643642708), (2752, 0.01943852336117162), (3624, 0.019433991124312062), (3741, 0.019430042837437978), (3841, 0.019420693279571317), (1997, 0.019419642853179507), (2524, 0.019405933151690077), (914, 0.019384667964835643), (503, 0.019378632654567858), (1435, 0.019375526937544928), (2483, 0.019361491690207788), (1654, 0.019347685354919555), (2339, 0.019343330956796922), (2014, 0.01934297853260889), (4715, 0.019342922146968155), (1745, 0.019321768591386245), (2818, 0.0193215530859275), (4595, 0.019316169041221427), (2324, 0.019283268188485737), (3420, 0.01927179348044228), (1332, 0.01926821716760222), (4545, 0.019261316697146254), (1304, 0.019258229664095017), (2437, 0.01923024667566806), (1697, 0.01921124920588641), (1008, 0.0192107631592322), (2036, 0.019194039407041313), (2021, 0.019174302598314798), (3652, 0.019168736760241008), (1980, 0.01912794019022641), (3770, 0.019122792111685858), (1578, 0.01911285627528263), (855, 0.019094436329253388), (2891, 0.019093659327879597), (58, 0.01908454876781147), (4427, 0.019061487512500426), (2104, 0.01904850185891891), (3516, 0.019043755748835017), (1415, 0.01901674523920336), (1925, 0.019013369940444096), (2358, 0.01899528466819645), (2756, 0.01899129292721628), (1405, 0.01899062373053231), (814, 0.018985173653309047), (2026, 0.01897986218761772), (1731, 0.018978305698797944), (1883, 0.01896895624827526), (4011, 0.018968777994673256), (4352, 0.01896221085170811), (2923, 0.01894646449544529), (2589, 0.018944895330098643), (1725, 0.018925389259774168), (1497, 0.018923852746366942), (2562, 0.018909723116631815), (4329, 0.01887885898017599), (1408, 0.018840889077001138), (375, 0.01882598620316878), (3797, 0.018824755314326324), (2845, 0.018808797328110426), (1554, 0.018803424073422507), (1793, 0.018722593887713107), (545, 0.018719992869700768), (3466, 0.018702542062488878), (679, 0.0186947075302066), (4069, 0.018694090749509337), (2700, 0.018690141790102095), (3648, 0.018671342895578574), (3753, 0.01866479185585427), (4172, 0.018635111943336335), (3885, 0.01855961446659877), (3895, 0.0185589626466921), (1855, 0.01855827546404798), (2510, 0.018519991999801436), (4073, 0.018486367722279427), (3832, 0.018426760641594868), (2160, 0.018424198845013992), (1527, 0.01839764270197259), (302, 0.01838799058065911), (1186, 0.018387214055587308), (3273, 0.01837665366271778), (4249, 0.01836664582919905), (3214, 0.01836130453003868), (3630, 0.01835621680719582), (1587, 0.018354451034604858), (1078, 0.018352997965659184), (4398, 0.0183487631121093), (71, 0.01832534354756461), (2561, 0.01831360588393259), (1020, 0.018313036401594117), (3277, 0.018306181818109245), (3433, 0.018296198118299394), (4209, 0.018257034949777796), (1605, 0.018256276601718826), (1121, 0.018241460008243043), (2258, 0.01822070702044987), (333, 0.018170934737679268), (4735, 0.018148667829438286), (4097, 0.01812476197528077), (3437, 0.018120736746080883), (2730, 0.0181144619741834), (2211, 0.018090963507620652), (1598, 0.018058897129920835), (2212, 0.018045091884827107), (3546, 0.018042088167151655), (4391, 0.018009871383885344), (3280, 0.01800507670651452), (1643, 0.0179732270923449), (3503, 0.01796987649955189), (4745, 0.017879541609319444), (2227, 0.017874723860562373), (4032, 0.017873377681691324), (3450, 0.01786392971472497), (540, 0.017799776177646415), (2186, 0.0177741801526671), (4010, 0.01777370866971853), (454, 0.01776351734228925), (4231, 0.01774121254142104), (1808, 0.01771536352588339), (2341, 0.017651842439436544), (2300, 0.017630688869803655), (1667, 0.01761578916905661), (3679, 0.01756744430929797), (3634, 0.01756676844519503), (2654, 0.0175600768683155), (1844, 0.017555760153086627), (1017, 0.017555171447463828), (2148, 0.01750273659780797), (4061, 0.01748147650467966), (3511, 0.017478579948940615), (1676, 0.01743063507812379), (1094, 0.017215883010596685), (1558, 0.017210503401210286), (2068, 0.017200618932456932), (723, 0.017177347226687487), (1474, 0.017155755764176085), (3224, 0.01713310407362535), (1778, 0.017132898798075117), (4369, 0.01712799454495836), (2661, 0.017083032600302632), (2691, 0.017046381296549368), (2929, 0.017009598718857197), (2479, 0.017003869593952444), (3155, 0.01700214843317627), (2022, 0.016928440669189943), (3878, 0.01690061549696571), (1461, 0.016885769388037847), (1432, 0.016800318313051902), (340, 0.016797560249173678), (982, 0.016795033746887532), (4183, 0.016792564416599525), (4542, 0.01676688865866624), (764, 0.01676054656284293), (387, 0.01672721357293925), (4672, 0.01672384948981436), (3018, 0.0167173543598674), (2899, 0.01664208457289055), (2746, 0.016632110169192263), (2653, 0.016588813799046444), (2726, 0.016575904782560855), (3804, 0.016519479518369327), (2484, 0.016456367241196503), (92, 0.01644965499944093), (2330, 0.01641344182497121), (961, 0.016350848046491284), (401, 0.016337302914972603), (2829, 0.01632827973662041), (446, 0.016261702072966674), (600, 0.016260768571942488), (1811, 0.016235819300064708), (4661, 0.016233629248428597), (2506, 0.016226365195447647), (715, 0.016218454157889917), (2138, 0.016175615845719717), (501, 0.01612864024916625), (502, 0.0160963634094399), (2233, 0.016073798923635217), (4599, 0.016046330865348898), (2342, 0.01602075088450973), (4668, 0.015992665940197246), (192, 0.015982972478716148), (3782, 0.01594447094817423), (3618, 0.015927974269419637), (3622, 0.015879280897810048), (832, 0.015862993453330042), (1649, 0.01582150745747948), (1753, 0.015811476083936533), (4238, 0.01578910376788848), (518, 0.015756447254408158), (2297, 0.015749375347357084), (4143, 0.015729511927010317), (678, 0.015722432578751718), (1331, 0.01569949605534366), (3411, 0.015674599619160325), (985, 0.01562851191731434), (467, 0.015626404874238005), (3051, 0.015615860235122191), (4392, 0.015596784637866566), (2205, 0.015568751179398859), (4240, 0.015554166983368508), (4620, 0.01547516980967737), (219, 0.015425468564256813), (2877, 0.015381811588533096), (3994, 0.015297037275823707), (1764, 0.015268264746109301), (615, 0.0152528542632435), (722, 0.01524431364714609), (2207, 0.01523710280506494), (602, 0.015235435065927571), (425, 0.015220526648513696), (213, 0.015219397561309803), (3240, 0.015208659194132295), (2122, 0.015194010755436232), (3903, 0.015186587532200625), (962, 0.01517198764628782), (1832, 0.015133349548905222), (984, 0.015075207705953907), (583, 0.015064637047177027), (3650, 0.01506355205360919), (1212, 0.015011149003153635), (1256, 0.015009868832382936), (3522, 0.014993407054017527), (1451, 0.014987816713659386), (1777, 0.014946548914511896), (274, 0.014923155789137625), (786, 0.01491136898692029), (516, 0.014887903667999042), (2947, 0.014876914882950091), (642, 0.014871840051445808), (2527, 0.014869439331506664), (2377, 0.014868467755938003), (3254, 0.014860990385258815), (4004, 0.014858385932647569), (190, 0.014857258650082398), (2115, 0.014855884752920927), (2655, 0.014854548330924859), (339, 0.014851740805101361), (2766, 0.014848820323184216), (2446, 0.014823419034087374), (1546, 0.014809635294075503), (1273, 0.014799930465411624), (784, 0.014785783664284707), (107, 0.014766978501348716), (731, 0.014738439889785012), (2805, 0.014719253837149237), (1484, 0.014706280763118508), (1437, 0.014704174803336637), (1012, 0.01468131413151707), (55, 0.014665577224822316), (157, 0.014649224692294911), (1159, 0.014645512083879141), (215, 0.014633949796966809), (3197, 0.014614344211773147), (3724, 0.01458209890944326), (4081, 0.014579479044052216), (1953, 0.014569864159424219), (3112, 0.014566580564782767), (3631, 0.014559857829045043), (628, 0.014528927128324052), (4093, 0.014527551572304396), (324, 0.014526696324549978), (3385, 0.014517994259642054), (781, 0.014513175767278274), (323, 0.014451502530096196), (205, 0.014425449025952488), (3751, 0.014374686642698914), (3826, 0.014365915016162587), (356, 0.01434982706069731), (1143, 0.014333050362504459), (103, 0.014324684608655325), (1320, 0.014320983282403027), (380, 0.014314330527079576), (1628, 0.014313344407833968), (2250, 0.014299962301038634), (4565, 0.014295881550344664), (4037, 0.014277994810859541), (1172, 0.014243762383688916), (104, 0.014242311968792987), (3098, 0.014234227577461789), (12, 0.014233825346334616), (370, 0.014215270244796435), (647, 0.014183787416850745), (1076, 0.014178858499818373), (2522, 0.014168755995743392), (3821, 0.014153840154731426), (1820, 0.01415222859182289), (2348, 0.014146648509701655), (240, 0.014137007079562258), (1302, 0.014131974879899471), (1073, 0.01411967319408404), (1052, 0.01409923361463274), (129, 0.014091231284482253), (834, 0.014062052352366787), (1586, 0.014049281119234015), (599, 0.014040639848686896), (1787, 0.014036287790417766), (1471, 0.014033508459859373), (4146, 0.01402089780451499), (160, 0.014018003440528554), (523, 0.013999382944369823), (2053, 0.01399931635880727), (110, 0.013997977264108796), (873, 0.013993691180600117), (594, 0.013922606934126253), (3799, 0.013920509194090923), (277, 0.01391561844596925), (4585, 0.013913827055389237), (1089, 0.01387084354197756), (664, 0.013836295066637631), (1366, 0.013830513896566227), (1406, 0.013828523055928745), (1790, 0.013812053577830077), (62, 0.013802655476240488), (4288, 0.013783819221278217), (112, 0.013783679852266594), (2443, 0.013771207622398977), (878, 0.013762441062160841), (3343, 0.013752208663896016), (2490, 0.013748145887671375), (1795, 0.013735563552772808), (1380, 0.013733931249760899), (478, 0.013731433944804009), (1239, 0.013696091743063948), (808, 0.013692841477227574), (1610, 0.01368210453946157), (3318, 0.013670815472181928), (424, 0.013668530235040766), (243, 0.013645480619479622), (402, 0.013643281091159244), (88, 0.01364173705770321), (1139, 0.013640690999042594), (544, 0.013636674336112105), (2390, 0.013625505058333107), (17, 0.013616306365014916), (1615, 0.013610637463658553), (262, 0.013609364522522382), (151, 0.013559001076924294), (263, 0.01355237661340471), (2827, 0.013530317660580021), (2812, 0.013521303719095452), (2397, 0.013504382002783337), (1234, 0.013503090359381135), (307, 0.013483963509055334), (1836, 0.013483225261975457), (50, 0.013476987840328136), (604, 0.013474726167715584), (1483, 0.013473915182334708), (2644, 0.013453505274883634), (1084, 0.013418679893643237), (2578, 0.013405911670693535), (744, 0.013397027753972897), (3336, 0.013393730469811856), (472, 0.013391007419017036), (888, 0.013372889347305876), (1851, 0.013329331466489278), (208, 0.013325731926713772), (138, 0.013294129344076304), (568, 0.013278124163159103), (486, 0.013269182265575722), (2683, 0.01323259138335247), (640, 0.013222222973044422), (1027, 0.013210868299781502), (585, 0.013204728099361778), (1131, 0.0131963952567928), (75, 0.01319383480426756), (2798, 0.013184864165072172), (134, 0.013155151079841236), (304, 0.013116512193469387), (98, 0.013110177871295325), (152, 0.013096956250090786), (687, 0.013096678115290184), (2787, 0.013093908674009214), (2863, 0.013087777486464378), (405, 0.013075052414107866), (4331, 0.013069001752838271), (2996, 0.013057829033732959), (383, 0.013008142375900632), (1200, 0.01300805475290987), (153, 0.013007937343975953), (2402, 0.01299243784536578), (237, 0.01299005858153945), (1825, 0.012977319731989189), (840, 0.012949177011278717), (1100, 0.012919054292234146), (1447, 0.012908822709095026), (216, 0.012894919447229003), (2675, 0.012885658207947737), (1854, 0.012880521834526357), (3776, 0.012856613827404424), (13, 0.012851166932020926), (206, 0.012840919358668502), (1645, 0.01282220193167229), (1363, 0.012812228109567643), (1507, 0.012781073672652543), (1175, 0.012758323912679594), (3715, 0.01273134887349207), (409, 0.01272813590138639), (2953, 0.01271031923834586), (535, 0.012656670913085623), (2384, 0.012605509393096527), (3617, 0.012577980494647426), (469, 0.012569662242703008), (2485, 0.01254733049934177), (1106, 0.01254468332515236), (139, 0.012534689323003459), (4613, 0.012514298609767443), (1343, 0.012503997502461173), (836, 0.012474651011364699), (1743, 0.012421202576055878), (199, 0.012403732997412832), (683, 0.012401902791577789), (1124, 0.012401680556892622), (1858, 0.012399977495474923), (610, 0.012394034356898438), (11, 0.012383886426888273), (3351, 0.012353656027366294), (2914, 0.012352708739509877), (1290, 0.012319183274584034), (3148, 0.01230920585769035), (3553, 0.012214593372536834), (2573, 0.012208734066946732), (312, 0.012196993826195393), (4353, 0.012192612713082033), (1672, 0.01215350105440545), (186, 0.01212787036706765), (347, 0.012121510428395047), (950, 0.012116133671884846), (1686, 0.01209510993140733), (19, 0.012089070811125913), (4316, 0.012084688442880721), (3136, 0.012079758114321845), (2736, 0.012041629669194628), (1058, 0.012038275843811706), (4315, 0.012037306616533952), (2336, 0.012019511381695186), (746, 0.011993475662451982), (695, 0.011987928800394076), (491, 0.011987779095206638), (1913, 0.011965268743254735), (1892, 0.011926148866196695), (3205, 0.011842989002642804), (1199, 0.011833843902951134), (1136, 0.011825072578315039), (4638, 0.011793171741810243), (379, 0.011788086250013322), (829, 0.011784102174575792), (711, 0.011755712329599497), (665, 0.011750505998528251), (2681, 0.01173741660013166), (475, 0.011710007233071864), (21, 0.011699385312773366), (1732, 0.01165322669688363), (3032, 0.011619270736759363), (1082, 0.011584356692089008), (2894, 0.01157168017903247), (2747, 0.011474879828450083), (2521, 0.011385654137562026), (3370, 0.011384206073641538), (3302, 0.011368105174916298), (837, 0.011307093181175183), (1298, 0.011288432963345096), (3001, 0.01126058251758534), (3527, 0.011219027932724035), (3957, 0.011108595288266092), (794, 0.011076203432424723), (3231, 0.011044308810009684), (2329, 0.011041274058122786), (2748, 0.010965065582414179), (3692, 0.010954499087758541), (1077, 0.010938903081592243), (3162, 0.010936267775394241), (3251, 0.01092981886444807), (697, 0.010915730899965137), (25, 0.010913900929666012), (2338, 0.010852482503660605), (810, 0.010820161193753806), (3507, 0.010792718009274484), (3884, 0.010758564994987552), (1346, 0.010711059921880811), (411, 0.010708599010699635), (2515, 0.010677701266779504), (3143, 0.01067101662844478), (1300, 0.010642955179476483), (382, 0.010608795433843065), (2806, 0.010593144434968184), (1565, 0.010580198100380606), (3763, 0.010571093262166605), (1305, 0.010516386492141153), (3790, 0.010487776677062889), (1122, 0.01044405226771628), (656, 0.010423920383158659), (1410, 0.010399429354428572), (3238, 0.010368343059638392), (769, 0.010355605657248803), (2508, 0.010320962695473291), (2540, 0.0103067747354597), (4677, 0.010291810887647928), (638, 0.010283797770191488), (2242, 0.010276124318816937), (1312, 0.010255129451388843), (2228, 0.010214010061061372), (4744, 0.01014133444437069), (1585, 0.010106445898344429), (1728, 0.010102723723498162), (1004, 0.010056415278692964), (867, 0.010035562692216728), (1185, 0.010026907881558387), (1657, 0.010012143812275356), (3810, 0.010004414968305723), (2357, 0.00997056907816332), (3347, 0.009946128697660976), (3049, 0.009887507541891943), (4262, 0.009882663329921966), (2418, 0.009867128384944551), (3896, 0.00984561222576754), (3043, 0.009829819095541462), (2012, 0.009798262713167917), (1670, 0.009756444751848142), (1204, 0.009736409463947174), (2612, 0.009691480126346885), (3446, 0.009662714651595114), (1005, 0.009589831493144583), (3757, 0.009532569601375265), (3970, 0.009529362584982807), (3225, 0.009498398414834533), (1524, 0.009436335225406564), (2938, 0.009433273255970216), (2381, 0.009421065009440965), (3772, 0.009380957489434379), (4125, 0.009332377577555515), (1658, 0.009319466356134119), (3860, 0.009257417773574295), (4666, 0.009250003485687403), (1248, 0.009240956978976077), (1306, 0.009187306220129228), (4390, 0.009175651842550016), (3403, 0.009107418082999467), (1580, 0.009035580783054518), (4263, 0.009034591427131344), (309, 0.00902711926485572), (1382, 0.009024445755283), (3500, 0.00900845238948604), (3139, 0.00900693133451665), (3017, 0.008981837892587644), (3097, 0.008916752027249198), (2878, 0.008914258392127016), (4261, 0.008784616470661496), (1099, 0.008782399795647424), (2299, 0.008748851909348241), (3129, 0.008692278386134554), (3548, 0.008688842371676424), (142, 0.008608838941833157), (2888, 0.008605766594147952), (2114, 0.008599940154519262), (80, 0.008579555798647278), (4740, 0.00857167976674908), (1509, 0.008563168204222697), (4201, 0.0085393699488573), (2627, 0.00852685369026859), (3777, 0.008526637375661604), (698, 0.008498174560602548), (2001, 0.008484306371717617), (2823, 0.008469552176794943), (3473, 0.008441202889982994), (848, 0.008437376754881687), (4513, 0.008436798968662212), (3329, 0.008426112059015863), (40, 0.008396412161802914), (221, 0.008362564444987624), (706, 0.00834993752032779), (748, 0.00833198021818313), (4277, 0.008329061529102873), (106, 0.008326867531195152), (4394, 0.008310967011476935), (3256, 0.008273374061948556), (4708, 0.00826957780970663), (2270, 0.008246486621724834), (2162, 0.008233871448675188), (3359, 0.008232192944507164), (1257, 0.008228935756474815), (8, 0.008184976474383678), (179, 0.008183983504514792), (1602, 0.008178191744744835), (942, 0.008174513411663512), (4386, 0.008172859823184433), (1267, 0.00815955296669503), (143, 0.008158712362659986), (181, 0.008143049226802972), (1962, 0.00809988153598294), (197, 0.008058410393509225), (2933, 0.008058099878509332), (113, 0.00805777888834281), (2245, 0.00805651910828831), (707, 0.008025759943941493), (1682, 0.00802476818322661), (6, 0.008020897515385296), (935, 0.00800905267400009), (2298, 0.007969039700596963), (785, 0.007962517056402238), (704, 0.007894824196213627), (2867, 0.007881179399743416), (1288, 0.007868627829213836), (4256, 0.007862947024356021), (1426, 0.007850516779930513), (1460, 0.007844664701770056), (1080, 0.00783726778839155), (3714, 0.007835863217104623), (4161, 0.007831655943120085), (4482, 0.007824338202518733), (1253, 0.007804539714368817), (2930, 0.007801524851472128), (348, 0.007765134171567631), (2915, 0.007750330730643237), (1797, 0.007740393391490276), (3233, 0.007735242296008253), (572, 0.007725284265232059), (2969, 0.007720477849033802), (1701, 0.007717967626649893), (90, 0.00770164862520432), (2688, 0.007699531428503852), (812, 0.007689971306251591), (2116, 0.007678920594703808), (414, 0.007657959179905623), (191, 0.007617612548800999), (750, 0.007613634821503507), (202, 0.007613022751314922), (2003, 0.007603480398893002), (1287, 0.007600172093830975), (359, 0.007589564823642211), (3857, 0.007575371858179388), (2457, 0.007573436452554417), (289, 0.007565722525490065), (4310, 0.007563139716971678), (341, 0.007549901267855718), (459, 0.007542000298303165), (1937, 0.007532688285787505), (1072, 0.007527915735928057), (551, 0.007525935920670232), (1754, 0.0075208929970167525), (1059, 0.007506848594140911), (2728, 0.00747061152963569), (195, 0.0074586253381752725), (1562, 0.00744363027572256), (349, 0.007443628978074587), (734, 0.007419355101366595), (3353, 0.007341364788858977), (381, 0.0073274813351274035), (1263, 0.007324304615523465), (162, 0.007320599214926404), (546, 0.007319724679759578), (1503, 0.007301822155594743), (1550, 0.007300739258695691), (132, 0.007298364617634332), (3912, 0.007297319223964664), (3171, 0.0072924544706741085), (1014, 0.007284724980970316), (1183, 0.007279982825012993), (1496, 0.007268111460766386), (2886, 0.007259124706195179), (114, 0.00725755366324277), (721, 0.007236021047065405), (671, 0.007233540741182896), (2931, 0.007226515883152596), (631, 0.007203096317687439), (54, 0.007184972269984322), (22, 0.00715716767717989), (3013, 0.007152189803194519), (2222, 0.007147051752970712), (1202, 0.007136306883814362), (498, 0.0071330770586419175), (774, 0.0071270064401349675), (3695, 0.007098038978816858), (1734, 0.007095768420248164), (2178, 0.007085083718309246), (3299, 0.007084260407572845), (2185, 0.00707681303455833), (218, 0.007067249524999124), (130, 0.0070662402694042815), (2055, 0.0070533029535685575), (3068, 0.0070509881668786465), (3943, 0.0070227772986949455), (2972, 0.0070201635182219335), (566, 0.007018922858395495), (485, 0.007000266355816941), (1769, 0.006999937187641484), (374, 0.006997785947850203), (136, 0.0069977603766765975), (4111, 0.006993536868102224), (1841, 0.006991799437429697), (4258, 0.0069775891890863145), (2201, 0.006923824718378118), (3215, 0.006873739651892975), (261, 0.00687216188192055), (4695, 0.006860356950476229), (3945, 0.006852489128053109), (399, 0.006843049329006467), (2796, 0.006835574684091187), (1433, 0.006835252960274714), (534, 0.0068340576257418205), (4554, 0.006828879282596727), (2310, 0.006809464038590289), (89, 0.006795233264578359), (2586, 0.006794813117913627), (1978, 0.006784248156578958), (1675, 0.006782955951639682), (1278, 0.006775528642861552), (1987, 0.006771903835203264), (1114, 0.0067699964786363965), (86, 0.0067643419513154154), (1986, 0.006759235341186628), (3623, 0.006757512975560194), (368, 0.006734723734446843), (3972, 0.006726404523270963), (3774, 0.006719120795758057), (1488, 0.006717974163726649), (3, 0.006717078317903558), (345, 0.006705372425629079), (1528, 0.006702266576811578), (1897, 0.006699011182909161), (1479, 0.006695171539842593), (901, 0.006684610917057788), (1417, 0.0066822600764529505), (866, 0.00667767142032688), (730, 0.00667001433711541), (1607, 0.006656956519726902), (4664, 0.006644296683352717), (3845, 0.006644012596505712), (3154, 0.006642913590300622), (1933, 0.006630784578305649), (1727, 0.0066254401431924004), (2029, 0.006623602533289957), (4557, 0.006589914061385123), (4085, 0.0065883353909073255), (934, 0.006579190915403557), (3836, 0.006578511472287015), (433, 0.006577928758168427), (3021, 0.006575589577862803), (4654, 0.006574966481045791), (447, 0.006563741805080766), (4460, 0.006553986637173431), (4546, 0.006548442545256817), (4124, 0.006541468408068221), (145, 0.006539901099246042), (3485, 0.006532842793775657), (2543, 0.006529683509443382), (2309, 0.006527801908284258), (2469, 0.0065222867826447905), (530, 0.006521081172621788), (3882, 0.00651793299469176), (4033, 0.006516152885704707), (3180, 0.006511247085680836), (1860, 0.0065100693211671565), (4129, 0.006502031652357649), (2097, 0.0064973344018778335), (2623, 0.006491281545037057), (952, 0.006488940935182249), (2089, 0.006487390578810133), (2980, 0.006485402548266124), (3332, 0.0064852366551194736), (1733, 0.006484512788644792), (44, 0.00648446439225191), (1920, 0.00647047882052457), (2466, 0.006468173351695412), (2154, 0.006454357656621421), (3144, 0.006452978496920516), (2646, 0.006450874728217511), (1289, 0.006444213715322171), (3412, 0.006437657509932515), (1878, 0.006431964642651085), (2394, 0.0064155427110218054), (1342, 0.006407273839429302), (2064, 0.0064054568756753555), (1505, 0.006389252906676622), (2294, 0.006388043007960869), (2218, 0.006387990943980962), (3326, 0.006383507169925243), (3819, 0.006379449759585095), (1133, 0.006377357058095796), (2556, 0.006368919623278714), (396, 0.006355775353433577), (1894, 0.006352358861017137), (1636, 0.00635233434398981), (428, 0.006351065885650597), (3756, 0.006336764216705757), (3830, 0.0063337638527188106), (119, 0.006330512581535526), (919, 0.006328121181831707), (1448, 0.006305411081302285), (1954, 0.006295505829985126), (248, 0.006295361147583542), (296, 0.006287769915732659), (355, 0.006287631971090996), (453, 0.006274617269943898), (1245, 0.00627000737732176), (1178, 0.006253909557767986), (3976, 0.006246947766637475), (3335, 0.0062425240321990864), (2583, 0.006236529795382164), (4230, 0.006234828814459888), (3816, 0.00623377368866511), (1142, 0.006222989134194729), (1249, 0.006220547191105122), (3941, 0.006220213688422089), (1680, 0.006213827140958048), (1317, 0.006210853578095895), (1321, 0.006202540450499561), (209, 0.00619987563958178), (140, 0.006195307778068897), (1726, 0.006193366063561437), (807, 0.0061931588621316515), (1285, 0.006190935531807922), (3523, 0.00618970323303029), (818, 0.006183915988937814), (299, 0.006180318746726091), (762, 0.006179049300773647), (1118, 0.00617757110461247), (828, 0.006171730712927853), (863, 0.006163544982453864), (2002, 0.006149688806510183), (2093, 0.006148554129461209), (4772, 0.006147597383395456), (993, 0.0061430228793996865), (1284, 0.006140718024157136), (547, 0.006137793616166336), (65, 0.00613416569239541), (1956, 0.006131029669061289), (1254, 0.006130651809696024), (198, 0.006128812036731948), (2095, 0.006124886676407102), (911, 0.006124835885497249), (3316, 0.006122178942447776), (1035, 0.0061213393548027895), (3492, 0.006118888660851663), (3689, 0.006107816085216246), (252, 0.006102107466419558), (297, 0.006101197231263513), (188, 0.006097176106036594), (1699, 0.0060947766078583545), (1880, 0.006063937066627358), (3842, 0.006060502423272124), (1868, 0.006058461195053507), (553, 0.006053810763171686), (4349, 0.006049573630383301), (148, 0.0060436331581425525), (394, 0.00603878490324579), (747, 0.00603867169455346), (286, 0.00603692616457153), (2412, 0.006027066264702211), (1514, 0.006026944052101579), (2775, 0.006024146651154705), (1991, 0.0060238614446140966), (3667, 0.006023222395247887), (320, 0.006022781157808514), (804, 0.0060172113313088455), (981, 0.006014495240667087), (2295, 0.006013265061508817), (659, 0.005995927252747041), (204, 0.005994455311694589), (1741, 0.005989658641332946), (1339, 0.005971522426053396), (3463, 0.005968395655616719), (3962, 0.0059673504716425295), (3249, 0.005963304092242937), (685, 0.005955210082294363), (2371, 0.005943179075410472), (4335, 0.005942104157259558), (2400, 0.005937669547978305), (1792, 0.005932830454158482), (2471, 0.005929357197228544), (227, 0.005927850451274914), (737, 0.005927590173048757), (3077, 0.005926642213598285), (589, 0.005924125099803781), (597, 0.005919107612941014), (823, 0.005914643707757258), (2625, 0.005909925761093882), (1419, 0.005903791763496167), (3040, 0.005902624450932525), (653, 0.005895663197280572), (514, 0.005891071302150048), (3965, 0.00588609257682422), (3293, 0.005881874150670056), (2565, 0.005874641998374792), (455, 0.005850220676939285), (3707, 0.005844830797135105), (724, 0.005840577478755235), (4778, 0.0058332685986682755), (945, 0.005832601263132875), (3020, 0.005830188434793836), (1742, 0.005811841905122211), (115, 0.0057901542134055715), (2918, 0.005789777363119807), (2296, 0.005788213004961272), (2277, 0.0057793891581682045), (1000, 0.005778735436910862), (99, 0.005775015986648157), (3062, 0.005771305535196733), (537, 0.005769273277397045), (3740, 0.0057681968768176104), (821, 0.0057595922286871725), (1853, 0.005755412527777551), (3606, 0.0057519448390540755), (210, 0.0057433773028773465), (1195, 0.005741809682852772), (3982, 0.005740801841200931), (2075, 0.005740116542004357), (2959, 0.005739693213954076), (331, 0.005738570218704428), (3991, 0.005738047809221446), (3382, 0.005736410036250109), (2712, 0.005735712664101347), (1457, 0.005729517934461217), (992, 0.0057280146151972395), (574, 0.0057276214504644336), (988, 0.005724487788609499), (560, 0.0057216269378664005), (1334, 0.0057150271762926265), (2398, 0.005711500400287953), (295, 0.005706289178088867), (3942, 0.005703840751486867), (1815, 0.005694838561915923), (3033, 0.005690610142256784), (3828, 0.005689831617974457), (2244, 0.0056885969398429255), (392, 0.005685965105196216), (4084, 0.0056846476794015595), (4388, 0.0056742656933599055), (3833, 0.00567271454833982), (1661, 0.0056642858333724195), (500, 0.005657443356807309), (273, 0.005654476870188399), (372, 0.005642826546289418), (1443, 0.00564167745472642), (1347, 0.005630890845131077), (741, 0.005621441047697274), (2142, 0.005621083836967222), (2514, 0.005618179102786739), (4099, 0.005617940952756174), (1592, 0.005613119310018271), (2388, 0.005608787696849992), (4275, 0.00560749313679435), (1188, 0.005602156023121698), (246, 0.005593763155042879), (2558, 0.005577557638608343), (1573, 0.005574785936681113), (893, 0.005574007906184172), (2050, 0.005570257480989949), (3106, 0.005554391920040164), (745, 0.005549088283370023), (1049, 0.005540470218759407), (864, 0.005538130239965891), (1635, 0.0055379181970440184), (1096, 0.0055293144320330825), (856, 0.00552502668654035), (1664, 0.005522101787483377), (1669, 0.005500794146936889), (3151, 0.0054992384664992525), (2140, 0.0054986336328109574), (2790, 0.005496218210776842), (1431, 0.005494110366586159), (3030, 0.0054922496758770326), (761, 0.005487731298923931), (2074, 0.005487598592916341), (1101, 0.005483641431808117), (2237, 0.005477340238408214), (3349, 0.0054641572718196136), (2609, 0.005461698920246298), (2054, 0.005457098422996242), (561, 0.0054553925562919586), (1908, 0.00545145660373251), (1146, 0.005445266313982843), (937, 0.005439810420359384), (1450, 0.005432353334463019), (4114, 0.005425313289008968), (2579, 0.0054238780998898265), (1950, 0.005417047884945179), (3074, 0.005414455635025502), (2349, 0.005411700914711599), (4351, 0.005405360933629173), (930, 0.005401998501338383), (3086, 0.0053967158740721765), (3029, 0.005395702940127937), (1104, 0.005394859990816043), (4013, 0.005389688071556209), (2195, 0.005377442947090621), (282, 0.005371808871560491), (1930, 0.005370666593844823), (611, 0.005369547278701922), (3518, 0.005368573753850905), (3607, 0.005366073805526835), (4135, 0.005351633869289817), (529, 0.005331546642443843), (1616, 0.005330088154274614), (2194, 0.00532970074088609), (3221, 0.00532377779530828), (3073, 0.0053233991418529395), (1707, 0.005321106764650194), (3584, 0.005311585747981845), (963, 0.005303205260732122), (1765, 0.00530255852468643), (624, 0.005294316197617501), (525, 0.005287133000151386), (2203, 0.005285929341302724), (973, 0.005280961077629483), (1056, 0.0052752528918167015), (1310, 0.00525831090172099), (1281, 0.005252339042011737), (3416, 0.005248591647135405), (1041, 0.005243533842635071), (3259, 0.0052418740401678), (830, 0.005240673776095966), (1463, 0.0052297880378442295), (2181, 0.00520379739970518), (736, 0.005173640162973473), (4402, 0.005171780390561581), (3309, 0.005168515914066196), (2023, 0.0051682634156916644), (959, 0.005149176248819518), (4220, 0.005136261283258488), (3209, 0.005127825774700963), (1095, 0.005127099543079734), (308, 0.005125880539762609), (3165, 0.005122514508369373), (1955, 0.005075394581192167), (1626, 0.005066495520031266), (244, 0.005065292372905433), (2803, 0.005057703853355186), (1140, 0.0050436974817167305), (3603, 0.005029211231383896), (2641, 0.005022923956119608), (1138, 0.005022561252963968), (3477, 0.005020264632381676), (2602, 0.005014150498106371), (1109, 0.004991783711318133), (344, 0.0049782018449459646), (2819, 0.00495531173133724), (3733, 0.00494346038523352), (4215, 0.004937498785647358), (2597, 0.004922679548427905), (2007, 0.004898863048800278), (3274, 0.004892598641687064), (353, 0.004891152430914224), (3505, 0.004855212230329906), (4189, 0.004814779656922549), (2704, 0.004800827344067768), (2429, 0.0047968797287302216), (2013, 0.004791083329196239), (3099, 0.004772046406762389), (1064, 0.00476442504013644), (2657, 0.004741016568034254), (2111, 0.004690171333013661), (3764, 0.004646096833157743), (3007, 0.00463347393340409), (2184, 0.004542524472892672), (4078, 0.004528425760799831), (4535, 0.004526496317381558), (4326, 0.0044853905737691465), (579, 0.004468616899079955), (3940, 0.004340323825889252), (932, 0.0043310455015340785), (4798, 0.004313608275622202), (1018, 0.00424537965793886), (4701, 0.004171331173175542), (2784, 0.004143179286482452), (1637, 0.0040572159254915405), (337, 0.003932370966369678), (34, 0.0), (42, 0.0), (73, 0.0), (77, 0.0), (118, 0.0), (133, 0.0), (135, 0.0), (137, 0.0), (146, 0.0), (154, 0.0), (161, 0.0), (173, 0.0), (177, 0.0), (194, 0.0), (214, 0.0), (226, 0.0), (231, 0.0), (247, 0.0), (250, 0.0), (255, 0.0), (264, 0.0), (265, 0.0), (272, 0.0), (280, 0.0), (281, 0.0), (283, 0.0), (287, 0.0), (298, 0.0), (317, 0.0), (321, 0.0), (326, 0.0), (327, 0.0), (338, 0.0), (343, 0.0), (346, 0.0), (351, 0.0), (357, 0.0), (360, 0.0), (364, 0.0), (367, 0.0), (377, 0.0), (385, 0.0), (390, 0.0), (393, 0.0), (395, 0.0), (397, 0.0), (398, 0.0), (407, 0.0), (416, 0.0), (417, 0.0), (418, 0.0), (421, 0.0), (427, 0.0), (429, 0.0), (431, 0.0), (434, 0.0), (435, 0.0), (436, 0.0), (438, 0.0), (443, 0.0), (445, 0.0), (448, 0.0), (452, 0.0), (460, 0.0), (462, 0.0), (463, 0.0), (464, 0.0), (465, 0.0), (470, 0.0), (471, 0.0), (474, 0.0), (477, 0.0), (481, 0.0), (482, 0.0), (492, 0.0), (493, 0.0), (496, 0.0), (497, 0.0), (499, 0.0), (504, 0.0), (509, 0.0), (515, 0.0), (517, 0.0), (519, 0.0), (520, 0.0), (521, 0.0), (522, 0.0), (526, 0.0), (527, 0.0), (532, 0.0), (533, 0.0), (536, 0.0), (538, 0.0), (548, 0.0), (552, 0.0), (554, 0.0), (557, 0.0), (559, 0.0), (562, 0.0), (567, 0.0), (576, 0.0), (584, 0.0), (588, 0.0), (593, 0.0), (598, 0.0), (614, 0.0), (616, 0.0), (619, 0.0), (620, 0.0), (623, 0.0), (625, 0.0), (630, 0.0), (633, 0.0), (635, 0.0), (636, 0.0), (637, 0.0), (639, 0.0), (641, 0.0), (646, 0.0), (649, 0.0), (650, 0.0), (651, 0.0), (662, 0.0), (663, 0.0), (667, 0.0), (669, 0.0), (682, 0.0), (684, 0.0), (686, 0.0), (688, 0.0), (699, 0.0), (701, 0.0), (703, 0.0), (705, 0.0), (709, 0.0), (710, 0.0), (712, 0.0), (714, 0.0), (719, 0.0), (725, 0.0), (726, 0.0), (727, 0.0), (729, 0.0), (733, 0.0), (749, 0.0), (751, 0.0), (756, 0.0), (757, 0.0), (758, 0.0), (763, 0.0), (765, 0.0), (780, 0.0), (789, 0.0), (795, 0.0), (798, 0.0), (802, 0.0), (803, 0.0), (806, 0.0), (811, 0.0), (815, 0.0), (819, 0.0), (820, 0.0), (822, 0.0), (824, 0.0), (825, 0.0), (826, 0.0), (835, 0.0), (839, 0.0), (843, 0.0), (845, 0.0), (846, 0.0), (847, 0.0), (849, 0.0), (851, 0.0), (852, 0.0), (853, 0.0), (860, 0.0), (861, 0.0), (862, 0.0), (865, 0.0), (868, 0.0), (869, 0.0), (871, 0.0), (876, 0.0), (879, 0.0), (881, 0.0), (882, 0.0), (883, 0.0), (885, 0.0), (886, 0.0), (887, 0.0), (890, 0.0), (891, 0.0), (892, 0.0), (895, 0.0), (897, 0.0), (902, 0.0), (903, 0.0), (904, 0.0), (905, 0.0), (906, 0.0), (907, 0.0), (910, 0.0), (912, 0.0), (913, 0.0), (915, 0.0), (917, 0.0), (923, 0.0), (925, 0.0), (926, 0.0), (927, 0.0), (936, 0.0), (938, 0.0), (940, 0.0), (943, 0.0), (944, 0.0), (946, 0.0), (947, 0.0), (948, 0.0), (953, 0.0), (954, 0.0), (957, 0.0), (958, 0.0), (964, 0.0), (966, 0.0), (967, 0.0), (971, 0.0), (974, 0.0), (975, 0.0), (980, 0.0), (983, 0.0), (991, 0.0), (995, 0.0), (996, 0.0), (997, 0.0), (1009, 0.0), (1010, 0.0), (1011, 0.0), (1019, 0.0), (1021, 0.0), (1022, 0.0), (1025, 0.0), (1026, 0.0), (1030, 0.0), (1031, 0.0), (1032, 0.0), (1033, 0.0), (1036, 0.0), (1037, 0.0), (1039, 0.0), (1046, 0.0), (1047, 0.0), (1048, 0.0), (1051, 0.0), (1054, 0.0), (1055, 0.0), (1060, 0.0), (1061, 0.0), (1063, 0.0), (1065, 0.0), (1066, 0.0), (1067, 0.0), (1069, 0.0), (1071, 0.0), (1081, 0.0), (1087, 0.0), (1088, 0.0), (1092, 0.0), (1098, 0.0), (1102, 0.0), (1105, 0.0), (1107, 0.0), (1108, 0.0), (1116, 0.0), (1123, 0.0), (1126, 0.0), (1128, 0.0), (1130, 0.0), (1132, 0.0), (1145, 0.0), (1148, 0.0), (1149, 0.0), (1150, 0.0), (1151, 0.0), (1156, 0.0), (1157, 0.0), (1160, 0.0), (1162, 0.0), (1163, 0.0), (1164, 0.0), (1167, 0.0), (1169, 0.0), (1170, 0.0), (1171, 0.0), (1173, 0.0), (1179, 0.0), (1180, 0.0), (1181, 0.0), (1182, 0.0), (1184, 0.0), (1189, 0.0), (1190, 0.0), (1194, 0.0), (1196, 0.0), (1197, 0.0), (1203, 0.0), (1205, 0.0), (1206, 0.0), (1207, 0.0), (1209, 0.0), (1210, 0.0), (1216, 0.0), (1218, 0.0), (1219, 0.0), (1220, 0.0), (1221, 0.0), (1222, 0.0), (1223, 0.0), (1224, 0.0), (1225, 0.0), (1226, 0.0), (1227, 0.0), (1228, 0.0), (1229, 0.0), (1232, 0.0), (1233, 0.0), (1235, 0.0), (1236, 0.0), (1241, 0.0), (1242, 0.0), (1244, 0.0), (1246, 0.0), (1247, 0.0), (1251, 0.0), (1252, 0.0), (1255, 0.0), (1258, 0.0), (1260, 0.0), (1261, 0.0), (1264, 0.0), (1265, 0.0), (1268, 0.0), (1276, 0.0), (1280, 0.0), (1283, 0.0), (1292, 0.0), (1293, 0.0), (1295, 0.0), (1297, 0.0), (1299, 0.0), (1307, 0.0), (1308, 0.0), (1309, 0.0), (1311, 0.0), (1313, 0.0), (1314, 0.0), (1315, 0.0), (1316, 0.0), (1327, 0.0), (1330, 0.0), (1336, 0.0), (1338, 0.0), (1340, 0.0), (1345, 0.0), (1348, 0.0), (1349, 0.0), (1350, 0.0), (1351, 0.0), (1360, 0.0), (1364, 0.0), (1368, 0.0), (1370, 0.0), (1371, 0.0), (1374, 0.0), (1376, 0.0), (1378, 0.0), (1381, 0.0), (1383, 0.0), (1384, 0.0), (1385, 0.0), (1386, 0.0), (1387, 0.0), (1388, 0.0), (1389, 0.0), (1392, 0.0), (1393, 0.0), (1396, 0.0), (1403, 0.0), (1407, 0.0), (1411, 0.0), (1414, 0.0), (1416, 0.0), (1418, 0.0), (1420, 0.0), (1421, 0.0), (1424, 0.0), (1429, 0.0), (1430, 0.0), (1436, 0.0), (1441, 0.0), (1444, 0.0), (1446, 0.0), (1449, 0.0), (1454, 0.0), (1455, 0.0), (1458, 0.0), (1462, 0.0), (1464, 0.0), (1466, 0.0), (1475, 0.0), (1476, 0.0), (1477, 0.0), (1478, 0.0), (1480, 0.0), (1485, 0.0), (1487, 0.0), (1489, 0.0), (1492, 0.0), (1493, 0.0), (1494, 0.0), (1498, 0.0), (1499, 0.0), (1502, 0.0), (1504, 0.0), (1512, 0.0), (1516, 0.0), (1519, 0.0), (1520, 0.0), (1521, 0.0), (1522, 0.0), (1523, 0.0), (1525, 0.0), (1526, 0.0), (1530, 0.0), (1532, 0.0), (1534, 0.0), (1536, 0.0), (1539, 0.0), (1541, 0.0), (1544, 0.0), (1545, 0.0), (1547, 0.0), (1549, 0.0), (1552, 0.0), (1553, 0.0), (1555, 0.0), (1557, 0.0), (1559, 0.0), (1560, 0.0), (1563, 0.0), (1566, 0.0), (1567, 0.0), (1570, 0.0), (1571, 0.0), (1572, 0.0), (1575, 0.0), (1576, 0.0), (1584, 0.0), (1588, 0.0), (1589, 0.0), (1591, 0.0), (1593, 0.0), (1594, 0.0), (1595, 0.0), (1599, 0.0), (1600, 0.0), (1601, 0.0), (1603, 0.0), (1604, 0.0), (1606, 0.0), (1609, 0.0), (1612, 0.0), (1614, 0.0), (1618, 0.0), (1620, 0.0), (1621, 0.0), (1622, 0.0), (1624, 0.0), (1627, 0.0), (1629, 0.0), (1630, 0.0), (1631, 0.0), (1632, 0.0), (1634, 0.0), (1639, 0.0), (1641, 0.0), (1647, 0.0), (1648, 0.0), (1656, 0.0), (1659, 0.0), (1660, 0.0), (1662, 0.0), (1663, 0.0), (1666, 0.0), (1668, 0.0), (1673, 0.0), (1674, 0.0), (1677, 0.0), (1679, 0.0), (1681, 0.0), (1683, 0.0), (1684, 0.0), (1687, 0.0), (1688, 0.0), (1690, 0.0), (1691, 0.0), (1692, 0.0), (1693, 0.0), (1694, 0.0), (1696, 0.0), (1698, 0.0), (1700, 0.0), (1703, 0.0), (1704, 0.0), (1708, 0.0), (1710, 0.0), (1711, 0.0), (1712, 0.0), (1714, 0.0), (1718, 0.0), (1719, 0.0), (1724, 0.0), (1729, 0.0), (1730, 0.0), (1736, 0.0), (1738, 0.0), (1739, 0.0), (1744, 0.0), (1746, 0.0), (1749, 0.0), (1751, 0.0), (1752, 0.0), (1755, 0.0), (1756, 0.0), (1760, 0.0), (1766, 0.0), (1767, 0.0), (1768, 0.0), (1770, 0.0), (1772, 0.0), (1774, 0.0), (1776, 0.0), (1779, 0.0), (1780, 0.0), (1782, 0.0), (1784, 0.0), (1785, 0.0), (1788, 0.0), (1789, 0.0), (1791, 0.0), (1798, 0.0), (1799, 0.0), (1800, 0.0), (1801, 0.0), (1803, 0.0), (1804, 0.0), (1805, 0.0), (1806, 0.0), (1809, 0.0), (1810, 0.0), (1812, 0.0), (1813, 0.0), (1814, 0.0), (1816, 0.0), (1823, 0.0), (1824, 0.0), (1828, 0.0), (1829, 0.0), (1831, 0.0), (1833, 0.0), (1834, 0.0), (1835, 0.0), (1838, 0.0), (1839, 0.0), (1842, 0.0), (1843, 0.0), (1845, 0.0), (1857, 0.0), (1859, 0.0), (1861, 0.0), (1862, 0.0), (1863, 0.0), (1866, 0.0), (1867, 0.0), (1869, 0.0), (1870, 0.0), (1874, 0.0), (1875, 0.0), (1876, 0.0), (1879, 0.0), (1881, 0.0), (1886, 0.0), (1887, 0.0), (1888, 0.0), (1889, 0.0), (1893, 0.0), (1898, 0.0), (1899, 0.0), (1903, 0.0), (1904, 0.0), (1905, 0.0), (1906, 0.0), (1911, 0.0), (1912, 0.0), (1915, 0.0), (1916, 0.0), (1919, 0.0), (1921, 0.0), (1922, 0.0), (1923, 0.0), (1924, 0.0), (1926, 0.0), (1927, 0.0), (1928, 0.0), (1934, 0.0), (1935, 0.0), (1940, 0.0), (1941, 0.0), (1943, 0.0), (1945, 0.0), (1946, 0.0), (1947, 0.0), (1948, 0.0), (1952, 0.0), (1957, 0.0), (1960, 0.0), (1961, 0.0), (1963, 0.0), (1965, 0.0), (1966, 0.0), (1967, 0.0), (1968, 0.0), (1969, 0.0), (1970, 0.0), (1971, 0.0), (1972, 0.0), (1979, 0.0), (1988, 0.0), (1989, 0.0), (1992, 0.0), (1993, 0.0), (1994, 0.0), (1996, 0.0), (1998, 0.0), (2000, 0.0), (2004, 0.0), (2005, 0.0), (2006, 0.0), (2008, 0.0), (2009, 0.0), (2010, 0.0), (2011, 0.0), (2017, 0.0), (2019, 0.0), (2020, 0.0), (2027, 0.0), (2028, 0.0), (2032, 0.0), (2033, 0.0), (2034, 0.0), (2037, 0.0), (2038, 0.0), (2039, 0.0), (2040, 0.0), (2041, 0.0), (2042, 0.0), (2045, 0.0), (2048, 0.0), (2056, 0.0), (2058, 0.0), (2059, 0.0), (2061, 0.0), (2062, 0.0), (2063, 0.0), (2065, 0.0), (2067, 0.0), (2073, 0.0), (2077, 0.0), (2078, 0.0), (2079, 0.0), (2080, 0.0), (2082, 0.0), (2083, 0.0), (2088, 0.0), (2092, 0.0), (2098, 0.0), (2099, 0.0), (2101, 0.0), (2105, 0.0), (2106, 0.0), (2107, 0.0), (2108, 0.0), (2110, 0.0), (2112, 0.0), (2117, 0.0), (2119, 0.0), (2120, 0.0), (2123, 0.0), (2124, 0.0), (2125, 0.0), (2126, 0.0), (2128, 0.0), (2130, 0.0), (2131, 0.0), (2132, 0.0), (2133, 0.0), (2135, 0.0), (2137, 0.0), (2139, 0.0), (2143, 0.0), (2144, 0.0), (2145, 0.0), (2146, 0.0), (2147, 0.0), (2149, 0.0), (2150, 0.0), (2151, 0.0), (2153, 0.0), (2158, 0.0), (2165, 0.0), (2166, 0.0), (2168, 0.0), (2170, 0.0), (2171, 0.0), (2172, 0.0), (2174, 0.0), (2176, 0.0), (2179, 0.0), (2183, 0.0), (2187, 0.0), (2189, 0.0), (2191, 0.0), (2192, 0.0), (2199, 0.0), (2204, 0.0), (2206, 0.0), (2208, 0.0), (2210, 0.0), (2213, 0.0), (2215, 0.0), (2216, 0.0), (2217, 0.0), (2219, 0.0), (2220, 0.0), (2223, 0.0), (2224, 0.0), (2226, 0.0), (2230, 0.0), (2231, 0.0), (2232, 0.0), (2236, 0.0), (2238, 0.0), (2239, 0.0), (2241, 0.0), (2243, 0.0), (2248, 0.0), (2249, 0.0), (2251, 0.0), (2252, 0.0), (2256, 0.0), (2259, 0.0), (2265, 0.0), (2266, 0.0), (2267, 0.0), (2269, 0.0), (2271, 0.0), (2273, 0.0), (2274, 0.0), (2275, 0.0), (2276, 0.0), (2279, 0.0), (2280, 0.0), (2281, 0.0), (2282, 0.0), (2283, 0.0), (2284, 0.0), (2286, 0.0), (2287, 0.0), (2289, 0.0), (2301, 0.0), (2304, 0.0), (2307, 0.0), (2308, 0.0), (2312, 0.0), (2313, 0.0), (2314, 0.0), (2315, 0.0), (2316, 0.0), (2318, 0.0), (2319, 0.0), (2323, 0.0), (2325, 0.0), (2328, 0.0), (2331, 0.0), (2332, 0.0), (2334, 0.0), (2335, 0.0), (2337, 0.0), (2344, 0.0), (2345, 0.0), (2347, 0.0), (2350, 0.0), (2351, 0.0), (2354, 0.0), (2355, 0.0), (2359, 0.0), (2362, 0.0), (2364, 0.0), (2365, 0.0), (2367, 0.0), (2368, 0.0), (2369, 0.0), (2370, 0.0), (2373, 0.0), (2374, 0.0), (2378, 0.0), (2379, 0.0), (2382, 0.0), (2383, 0.0), (2385, 0.0), (2391, 0.0), (2392, 0.0), (2393, 0.0), (2395, 0.0), (2396, 0.0), (2401, 0.0), (2404, 0.0), (2405, 0.0), (2406, 0.0), (2408, 0.0), (2409, 0.0), (2411, 0.0), (2413, 0.0), (2414, 0.0), (2415, 0.0), (2419, 0.0), (2421, 0.0), (2422, 0.0), (2423, 0.0), (2424, 0.0), (2425, 0.0), (2426, 0.0), (2427, 0.0), (2428, 0.0), (2431, 0.0), (2434, 0.0), (2436, 0.0), (2440, 0.0), (2441, 0.0), (2445, 0.0), (2447, 0.0), (2448, 0.0), (2450, 0.0), (2451, 0.0), (2452, 0.0), (2453, 0.0), (2454, 0.0), (2458, 0.0), (2459, 0.0), (2460, 0.0), (2461, 0.0), (2463, 0.0), (2465, 0.0), (2467, 0.0), (2468, 0.0), (2472, 0.0), (2473, 0.0), (2475, 0.0), (2476, 0.0), (2477, 0.0), (2478, 0.0), (2481, 0.0), (2489, 0.0), (2491, 0.0), (2493, 0.0), (2495, 0.0), (2496, 0.0), (2497, 0.0), (2498, 0.0), (2499, 0.0), (2500, 0.0), (2501, 0.0), (2502, 0.0), (2505, 0.0), (2507, 0.0), (2511, 0.0), (2512, 0.0), (2513, 0.0), (2516, 0.0), (2517, 0.0), (2518, 0.0), (2519, 0.0), (2520, 0.0), (2523, 0.0), (2526, 0.0), (2528, 0.0), (2531, 0.0), (2533, 0.0), (2534, 0.0), (2535, 0.0), (2536, 0.0), (2537, 0.0), (2542, 0.0), (2544, 0.0), (2545, 0.0), (2548, 0.0), (2549, 0.0), (2553, 0.0), (2555, 0.0), (2559, 0.0), (2563, 0.0), (2567, 0.0), (2569, 0.0), (2570, 0.0), (2574, 0.0), (2575, 0.0), (2576, 0.0), (2580, 0.0), (2582, 0.0), (2591, 0.0), (2593, 0.0), (2595, 0.0), (2596, 0.0), (2599, 0.0), (2600, 0.0), (2601, 0.0), (2604, 0.0), (2606, 0.0), (2607, 0.0), (2608, 0.0), (2610, 0.0), (2611, 0.0), (2613, 0.0), (2614, 0.0), (2616, 0.0), (2617, 0.0), (2618, 0.0), (2619, 0.0), (2620, 0.0), (2621, 0.0), (2626, 0.0), (2628, 0.0), (2629, 0.0), (2631, 0.0), (2634, 0.0), (2635, 0.0), (2637, 0.0), (2640, 0.0), (2643, 0.0), (2647, 0.0), (2648, 0.0), (2649, 0.0), (2651, 0.0), (2652, 0.0), (2656, 0.0), (2659, 0.0), (2660, 0.0), (2663, 0.0), (2664, 0.0), (2667, 0.0), (2668, 0.0), (2672, 0.0), (2673, 0.0), (2674, 0.0), (2676, 0.0), (2677, 0.0), (2679, 0.0), (2680, 0.0), (2682, 0.0), (2684, 0.0), (2685, 0.0), (2686, 0.0), (2687, 0.0), (2689, 0.0), (2690, 0.0), (2692, 0.0), (2694, 0.0), (2697, 0.0), (2698, 0.0), (2699, 0.0), (2701, 0.0), (2703, 0.0), (2705, 0.0), (2709, 0.0), (2710, 0.0), (2711, 0.0), (2713, 0.0), (2714, 0.0), (2717, 0.0), (2718, 0.0), (2719, 0.0), (2721, 0.0), (2722, 0.0), (2723, 0.0), (2724, 0.0), (2725, 0.0), (2727, 0.0), (2729, 0.0), (2731, 0.0), (2733, 0.0), (2734, 0.0), (2735, 0.0), (2737, 0.0), (2738, 0.0), (2739, 0.0), (2740, 0.0), (2741, 0.0), (2744, 0.0), (2745, 0.0), (2749, 0.0), (2750, 0.0), (2753, 0.0), (2754, 0.0), (2761, 0.0), (2762, 0.0), (2764, 0.0), (2765, 0.0), (2768, 0.0), (2770, 0.0), (2772, 0.0), (2773, 0.0), (2774, 0.0), (2776, 0.0), (2778, 0.0), (2779, 0.0), (2782, 0.0), (2783, 0.0), (2786, 0.0), (2788, 0.0), (2793, 0.0), (2794, 0.0), (2795, 0.0), (2797, 0.0), (2799, 0.0), (2800, 0.0), (2801, 0.0), (2802, 0.0), (2804, 0.0), (2811, 0.0), (2813, 0.0), (2816, 0.0), (2820, 0.0), (2821, 0.0), (2825, 0.0), (2830, 0.0), (2832, 0.0), (2833, 0.0), (2834, 0.0), (2835, 0.0), (2836, 0.0), (2837, 0.0), (2839, 0.0), (2840, 0.0), (2844, 0.0), (2846, 0.0), (2848, 0.0), (2850, 0.0), (2852, 0.0), (2854, 0.0), (2855, 0.0), (2857, 0.0), (2859, 0.0), (2861, 0.0), (2864, 0.0), (2866, 0.0), (2869, 0.0), (2870, 0.0), (2871, 0.0), (2872, 0.0), (2873, 0.0), (2874, 0.0), (2875, 0.0), (2879, 0.0), (2880, 0.0), (2882, 0.0), (2883, 0.0), (2885, 0.0), (2887, 0.0), (2889, 0.0), (2890, 0.0), (2892, 0.0), (2893, 0.0), (2895, 0.0), (2896, 0.0), (2898, 0.0), (2901, 0.0), (2902, 0.0), (2903, 0.0), (2905, 0.0), (2906, 0.0), (2907, 0.0), (2908, 0.0), (2909, 0.0), (2910, 0.0), (2911, 0.0), (2913, 0.0), (2916, 0.0), (2917, 0.0), (2920, 0.0), (2922, 0.0), (2924, 0.0), (2926, 0.0), (2928, 0.0), (2932, 0.0), (2936, 0.0), (2937, 0.0), (2940, 0.0), (2941, 0.0), (2943, 0.0), (2945, 0.0), (2948, 0.0), (2949, 0.0), (2951, 0.0), (2955, 0.0), (2956, 0.0), (2957, 0.0), (2958, 0.0), (2961, 0.0), (2962, 0.0), (2963, 0.0), (2965, 0.0), (2968, 0.0), (2970, 0.0), (2973, 0.0), (2974, 0.0), (2976, 0.0), (2979, 0.0), (2981, 0.0), (2983, 0.0), (2985, 0.0), (2987, 0.0), (2988, 0.0), (2989, 0.0), (2990, 0.0), (2992, 0.0), (2997, 0.0), (3000, 0.0), (3009, 0.0), (3010, 0.0), (3011, 0.0), (3015, 0.0), (3016, 0.0), (3019, 0.0), (3022, 0.0), (3023, 0.0), (3025, 0.0), (3026, 0.0), (3027, 0.0), (3028, 0.0), (3031, 0.0), (3034, 0.0), (3036, 0.0), (3037, 0.0), (3038, 0.0), (3041, 0.0), (3042, 0.0), (3045, 0.0), (3046, 0.0), (3047, 0.0), (3048, 0.0), (3050, 0.0), (3052, 0.0), (3053, 0.0), (3056, 0.0), (3057, 0.0), (3058, 0.0), (3059, 0.0), (3060, 0.0), (3061, 0.0), (3063, 0.0), (3064, 0.0), (3065, 0.0), (3066, 0.0), (3067, 0.0), (3069, 0.0), (3070, 0.0), (3071, 0.0), (3075, 0.0), (3076, 0.0), (3078, 0.0), (3079, 0.0), (3080, 0.0), (3084, 0.0), (3088, 0.0), (3090, 0.0), (3092, 0.0), (3093, 0.0), (3095, 0.0), (3096, 0.0), (3100, 0.0), (3101, 0.0), (3102, 0.0), (3103, 0.0), (3104, 0.0), (3105, 0.0), (3107, 0.0), (3108, 0.0), (3109, 0.0), (3110, 0.0), (3111, 0.0), (3113, 0.0), (3114, 0.0), (3115, 0.0), (3118, 0.0), (3119, 0.0), (3120, 0.0), (3121, 0.0), (3122, 0.0), (3123, 0.0), (3126, 0.0), (3127, 0.0), (3131, 0.0), (3132, 0.0), (3134, 0.0), (3135, 0.0), (3137, 0.0), (3140, 0.0), (3141, 0.0), (3145, 0.0), (3149, 0.0), (3159, 0.0), (3160, 0.0), (3161, 0.0), (3164, 0.0), (3166, 0.0), (3167, 0.0), (3168, 0.0), (3169, 0.0), (3170, 0.0), (3172, 0.0), (3173, 0.0), (3174, 0.0), (3175, 0.0), (3176, 0.0), (3178, 0.0), (3179, 0.0), (3182, 0.0), (3183, 0.0), (3185, 0.0), (3186, 0.0), (3188, 0.0), (3189, 0.0), (3190, 0.0), (3191, 0.0), (3192, 0.0), (3193, 0.0), (3194, 0.0), (3196, 0.0), (3198, 0.0), (3200, 0.0), (3201, 0.0), (3206, 0.0), (3210, 0.0), (3211, 0.0), (3213, 0.0), (3216, 0.0), (3217, 0.0), (3218, 0.0), (3220, 0.0), (3222, 0.0), (3223, 0.0), (3226, 0.0), (3227, 0.0), (3228, 0.0), (3232, 0.0), (3234, 0.0), (3235, 0.0), (3237, 0.0), (3241, 0.0), (3245, 0.0), (3247, 0.0), (3248, 0.0), (3250, 0.0), (3252, 0.0), (3255, 0.0), (3258, 0.0), (3262, 0.0), (3263, 0.0), (3268, 0.0), (3269, 0.0), (3271, 0.0), (3272, 0.0), (3275, 0.0), (3278, 0.0), (3279, 0.0), (3281, 0.0), (3282, 0.0), (3283, 0.0), (3285, 0.0), (3286, 0.0), (3287, 0.0), (3289, 0.0), (3291, 0.0), (3295, 0.0), (3298, 0.0), (3300, 0.0), (3301, 0.0), (3307, 0.0), (3308, 0.0), (3310, 0.0), (3312, 0.0), (3313, 0.0), (3314, 0.0), (3317, 0.0), (3319, 0.0), (3320, 0.0), (3322, 0.0), (3324, 0.0), (3327, 0.0), (3328, 0.0), (3330, 0.0), (3331, 0.0), (3333, 0.0), (3334, 0.0), (3337, 0.0), (3338, 0.0), (3340, 0.0), (3341, 0.0), (3342, 0.0), (3344, 0.0), (3345, 0.0), (3346, 0.0), (3354, 0.0), (3356, 0.0), (3357, 0.0), (3358, 0.0), (3360, 0.0), (3362, 0.0), (3363, 0.0), (3365, 0.0), (3368, 0.0), (3369, 0.0), (3371, 0.0), (3374, 0.0), (3375, 0.0), (3376, 0.0), (3377, 0.0), (3379, 0.0), (3380, 0.0), (3383, 0.0), (3384, 0.0), (3389, 0.0), (3390, 0.0), (3391, 0.0), (3393, 0.0), (3394, 0.0), (3395, 0.0), (3397, 0.0), (3398, 0.0), (3400, 0.0), (3401, 0.0), (3402, 0.0), (3404, 0.0), (3406, 0.0), (3407, 0.0), (3408, 0.0), (3409, 0.0), (3410, 0.0), (3413, 0.0), (3414, 0.0), (3415, 0.0), (3418, 0.0), (3419, 0.0), (3421, 0.0), (3422, 0.0), (3425, 0.0), (3426, 0.0), (3428, 0.0), (3430, 0.0), (3431, 0.0), (3432, 0.0), (3435, 0.0), (3441, 0.0), (3442, 0.0), (3443, 0.0), (3444, 0.0), (3447, 0.0), (3448, 0.0), (3451, 0.0), (3452, 0.0), (3453, 0.0), (3454, 0.0), (3455, 0.0), (3456, 0.0), (3457, 0.0), (3458, 0.0), (3459, 0.0), (3461, 0.0), (3464, 0.0), (3467, 0.0), (3468, 0.0), (3469, 0.0), (3470, 0.0), (3471, 0.0), (3472, 0.0), (3475, 0.0), (3476, 0.0), (3479, 0.0), (3480, 0.0), (3482, 0.0), (3483, 0.0), (3484, 0.0), (3486, 0.0), (3487, 0.0), (3488, 0.0), (3489, 0.0), (3491, 0.0), (3495, 0.0), (3496, 0.0), (3498, 0.0), (3501, 0.0), (3502, 0.0), (3508, 0.0), (3510, 0.0), (3512, 0.0), (3513, 0.0), (3515, 0.0), (3517, 0.0), (3519, 0.0), (3520, 0.0), (3521, 0.0), (3524, 0.0), (3525, 0.0), (3526, 0.0), (3528, 0.0), (3530, 0.0), (3531, 0.0), (3532, 0.0), (3535, 0.0), (3536, 0.0), (3537, 0.0), (3538, 0.0), (3539, 0.0), (3540, 0.0), (3541, 0.0), (3542, 0.0), (3543, 0.0), (3544, 0.0), (3550, 0.0), (3554, 0.0), (3557, 0.0), (3560, 0.0), (3561, 0.0), (3562, 0.0), (3563, 0.0), (3565, 0.0), (3566, 0.0), (3567, 0.0), (3570, 0.0), (3572, 0.0), (3573, 0.0), (3574, 0.0), (3575, 0.0), (3576, 0.0), (3577, 0.0), (3578, 0.0), (3581, 0.0), (3582, 0.0), (3583, 0.0), (3585, 0.0), (3587, 0.0), (3589, 0.0), (3590, 0.0), (3593, 0.0), (3594, 0.0), (3595, 0.0), (3596, 0.0), (3597, 0.0), (3600, 0.0), (3602, 0.0), (3605, 0.0), (3609, 0.0), (3610, 0.0), (3611, 0.0), (3612, 0.0), (3614, 0.0), (3619, 0.0), (3620, 0.0), (3621, 0.0), (3625, 0.0), (3626, 0.0), (3627, 0.0), (3635, 0.0), (3637, 0.0), (3638, 0.0), (3641, 0.0), (3644, 0.0), (3645, 0.0), (3646, 0.0), (3647, 0.0), (3649, 0.0), (3651, 0.0), (3653, 0.0), (3654, 0.0), (3655, 0.0), (3657, 0.0), (3659, 0.0), (3662, 0.0), (3663, 0.0), (3665, 0.0), (3666, 0.0), (3669, 0.0), (3670, 0.0), (3671, 0.0), (3673, 0.0), (3674, 0.0), (3675, 0.0), (3676, 0.0), (3677, 0.0), (3681, 0.0), (3682, 0.0), (3683, 0.0), (3684, 0.0), (3686, 0.0), (3687, 0.0), (3688, 0.0), (3690, 0.0), (3691, 0.0), (3693, 0.0), (3694, 0.0), (3696, 0.0), (3699, 0.0), (3701, 0.0), (3702, 0.0), (3703, 0.0), (3705, 0.0), (3708, 0.0), (3709, 0.0), (3710, 0.0), (3711, 0.0), (3712, 0.0), (3713, 0.0), (3716, 0.0), (3717, 0.0), (3718, 0.0), (3719, 0.0), (3720, 0.0), (3721, 0.0), (3727, 0.0), (3728, 0.0), (3729, 0.0), (3731, 0.0), (3732, 0.0), (3734, 0.0), (3735, 0.0), (3737, 0.0), (3739, 0.0), (3742, 0.0), (3743, 0.0), (3744, 0.0), (3745, 0.0), (3746, 0.0), (3748, 0.0), (3754, 0.0), (3760, 0.0), (3761, 0.0), (3762, 0.0), (3765, 0.0), (3767, 0.0), (3768, 0.0), (3771, 0.0), (3775, 0.0), (3778, 0.0), (3779, 0.0), (3781, 0.0), (3783, 0.0), (3784, 0.0), (3785, 0.0), (3787, 0.0), (3788, 0.0), (3791, 0.0), (3792, 0.0), (3798, 0.0), (3801, 0.0), (3802, 0.0), (3803, 0.0), (3805, 0.0), (3807, 0.0), (3809, 0.0), (3812, 0.0), (3814, 0.0), (3815, 0.0), (3817, 0.0), (3818, 0.0), (3820, 0.0), (3823, 0.0), (3824, 0.0), (3825, 0.0), (3827, 0.0), (3829, 0.0), (3831, 0.0), (3834, 0.0), (3837, 0.0), (3839, 0.0), (3843, 0.0), (3844, 0.0), (3846, 0.0), (3847, 0.0), (3850, 0.0), (3852, 0.0), (3853, 0.0), (3855, 0.0), (3858, 0.0), (3862, 0.0), (3863, 0.0), (3864, 0.0), (3865, 0.0), (3866, 0.0), (3867, 0.0), (3869, 0.0), (3871, 0.0), (3872, 0.0), (3874, 0.0), (3876, 0.0), (3877, 0.0), (3879, 0.0), (3881, 0.0), (3888, 0.0), (3890, 0.0), (3891, 0.0), (3892, 0.0), (3893, 0.0), (3894, 0.0), (3897, 0.0), (3900, 0.0), (3902, 0.0), (3906, 0.0), (3908, 0.0), (3909, 0.0), (3910, 0.0), (3911, 0.0), (3913, 0.0), (3916, 0.0), (3917, 0.0), (3918, 0.0), (3919, 0.0), (3921, 0.0), (3922, 0.0), (3923, 0.0), (3924, 0.0), (3925, 0.0), (3926, 0.0), (3927, 0.0), (3930, 0.0), (3931, 0.0), (3932, 0.0), (3933, 0.0), (3935, 0.0), (3937, 0.0), (3938, 0.0), (3939, 0.0), (3944, 0.0), (3946, 0.0), (3947, 0.0), (3949, 0.0), (3950, 0.0), (3951, 0.0), (3952, 0.0), (3953, 0.0), (3955, 0.0), (3958, 0.0), (3959, 0.0), (3960, 0.0), (3961, 0.0), (3963, 0.0), (3967, 0.0), (3969, 0.0), (3974, 0.0), (3975, 0.0), (3977, 0.0), (3978, 0.0), (3979, 0.0), (3980, 0.0), (3983, 0.0), (3984, 0.0), (3985, 0.0), (3989, 0.0), (3990, 0.0), (3992, 0.0), (3995, 0.0), (3996, 0.0), (3997, 0.0), (3998, 0.0), (3999, 0.0), (4000, 0.0), (4001, 0.0), (4002, 0.0), (4005, 0.0), (4006, 0.0), (4007, 0.0), (4009, 0.0), (4014, 0.0), (4015, 0.0), (4016, 0.0), (4017, 0.0), (4018, 0.0), (4019, 0.0), (4021, 0.0), (4023, 0.0), (4026, 0.0), (4027, 0.0), (4029, 0.0), (4030, 0.0), (4031, 0.0), (4034, 0.0), (4036, 0.0), (4038, 0.0), (4040, 0.0), (4043, 0.0), (4044, 0.0), (4046, 0.0), (4047, 0.0), (4048, 0.0), (4051, 0.0), (4052, 0.0), (4055, 0.0), (4056, 0.0), (4057, 0.0), (4058, 0.0), (4059, 0.0), (4060, 0.0), (4063, 0.0), (4064, 0.0), (4065, 0.0), (4066, 0.0), (4067, 0.0), (4068, 0.0), (4074, 0.0), (4075, 0.0), (4079, 0.0), (4082, 0.0), (4086, 0.0), (4087, 0.0), (4088, 0.0), (4089, 0.0), (4090, 0.0), (4091, 0.0), (4092, 0.0), (4094, 0.0), (4095, 0.0), (4096, 0.0), (4098, 0.0), (4101, 0.0), (4102, 0.0), (4103, 0.0), (4104, 0.0), (4105, 0.0), (4106, 0.0), (4109, 0.0), (4112, 0.0), (4115, 0.0), (4116, 0.0), (4118, 0.0), (4119, 0.0), (4120, 0.0), (4121, 0.0), (4122, 0.0), (4123, 0.0), (4126, 0.0), (4127, 0.0), (4130, 0.0), (4132, 0.0), (4133, 0.0), (4134, 0.0), (4136, 0.0), (4138, 0.0), (4139, 0.0), (4140, 0.0), (4141, 0.0), (4142, 0.0), (4144, 0.0), (4145, 0.0), (4147, 0.0), (4148, 0.0), (4150, 0.0), (4151, 0.0), (4153, 0.0), (4154, 0.0), (4157, 0.0), (4159, 0.0), (4165, 0.0), (4166, 0.0), (4167, 0.0), (4168, 0.0), (4169, 0.0), (4173, 0.0), (4174, 0.0), (4175, 0.0), (4177, 0.0), (4178, 0.0), (4179, 0.0), (4181, 0.0), (4184, 0.0), (4185, 0.0), (4186, 0.0), (4188, 0.0), (4190, 0.0), (4192, 0.0), (4194, 0.0), (4195, 0.0), (4196, 0.0), (4197, 0.0), (4198, 0.0), (4199, 0.0), (4200, 0.0), (4202, 0.0), (4203, 0.0), (4204, 0.0), (4205, 0.0), (4206, 0.0), (4207, 0.0), (4208, 0.0), (4210, 0.0), (4211, 0.0), (4212, 0.0), (4213, 0.0), (4214, 0.0), (4216, 0.0), (4217, 0.0), (4218, 0.0), (4221, 0.0), (4223, 0.0), (4224, 0.0), (4226, 0.0), (4227, 0.0), (4229, 0.0), (4232, 0.0), (4234, 0.0), (4235, 0.0), (4236, 0.0), (4237, 0.0), (4241, 0.0), (4244, 0.0), (4247, 0.0), (4248, 0.0), (4250, 0.0), (4252, 0.0), (4253, 0.0), (4257, 0.0), (4259, 0.0), (4260, 0.0), (4265, 0.0), (4266, 0.0), (4268, 0.0), (4269, 0.0), (4271, 0.0), (4272, 0.0), (4273, 0.0), (4274, 0.0), (4279, 0.0), (4280, 0.0), (4282, 0.0), (4283, 0.0), (4285, 0.0), (4287, 0.0), (4289, 0.0), (4290, 0.0), (4292, 0.0), (4293, 0.0), (4294, 0.0), (4296, 0.0), (4297, 0.0), (4298, 0.0), (4299, 0.0), (4300, 0.0), (4302, 0.0), (4303, 0.0), (4305, 0.0), (4307, 0.0), (4308, 0.0), (4309, 0.0), (4311, 0.0), (4314, 0.0), (4317, 0.0), (4318, 0.0), (4322, 0.0), (4323, 0.0), (4324, 0.0), (4328, 0.0), (4330, 0.0), (4333, 0.0), (4334, 0.0), (4336, 0.0), (4338, 0.0), (4342, 0.0), (4343, 0.0), (4345, 0.0), (4346, 0.0), (4348, 0.0), (4350, 0.0), (4355, 0.0), (4356, 0.0), (4359, 0.0), (4360, 0.0), (4361, 0.0), (4362, 0.0), (4363, 0.0), (4364, 0.0), (4365, 0.0), (4366, 0.0), (4368, 0.0), (4370, 0.0), (4372, 0.0), (4373, 0.0), (4374, 0.0), (4375, 0.0), (4376, 0.0), (4377, 0.0), (4378, 0.0), (4380, 0.0), (4381, 0.0), (4383, 0.0), (4385, 0.0), (4387, 0.0), (4389, 0.0), (4396, 0.0), (4397, 0.0), (4400, 0.0), (4404, 0.0), (4405, 0.0), (4406, 0.0), (4409, 0.0), (4411, 0.0), (4412, 0.0), (4413, 0.0), (4414, 0.0), (4415, 0.0), (4416, 0.0), (4417, 0.0), (4418, 0.0), (4419, 0.0), (4420, 0.0), (4421, 0.0), (4422, 0.0), (4426, 0.0), (4428, 0.0), (4429, 0.0), (4430, 0.0), (4431, 0.0), (4432, 0.0), (4433, 0.0), (4434, 0.0), (4435, 0.0), (4436, 0.0), (4437, 0.0), (4438, 0.0), (4441, 0.0), (4443, 0.0), (4444, 0.0), (4445, 0.0), (4446, 0.0), (4451, 0.0), (4452, 0.0), (4454, 0.0), (4455, 0.0), (4456, 0.0), (4457, 0.0), (4458, 0.0), (4459, 0.0), (4461, 0.0), (4462, 0.0), (4463, 0.0), (4464, 0.0), (4468, 0.0), (4469, 0.0), (4472, 0.0), (4473, 0.0), (4474, 0.0), (4475, 0.0), (4476, 0.0), (4477, 0.0), (4478, 0.0), (4480, 0.0), (4481, 0.0), (4483, 0.0), (4484, 0.0), (4485, 0.0), (4486, 0.0), (4488, 0.0), (4490, 0.0), (4491, 0.0), (4492, 0.0), (4493, 0.0), (4495, 0.0), (4496, 0.0), (4497, 0.0), (4498, 0.0), (4500, 0.0), (4501, 0.0), (4502, 0.0), (4503, 0.0), (4504, 0.0), (4506, 0.0), (4508, 0.0), (4509, 0.0), (4510, 0.0), (4511, 0.0), (4512, 0.0), (4514, 0.0), (4517, 0.0), (4518, 0.0), (4519, 0.0), (4520, 0.0), (4521, 0.0), (4522, 0.0), (4523, 0.0), (4524, 0.0), (4525, 0.0), (4527, 0.0), (4528, 0.0), (4529, 0.0), (4530, 0.0), (4531, 0.0), (4532, 0.0), (4533, 0.0), (4534, 0.0), (4536, 0.0), (4537, 0.0), (4540, 0.0), (4541, 0.0), (4544, 0.0), (4547, 0.0), (4548, 0.0), (4550, 0.0), (4552, 0.0), (4553, 0.0), (4556, 0.0), (4559, 0.0), (4560, 0.0), (4561, 0.0), (4562, 0.0), (4564, 0.0), (4566, 0.0), (4567, 0.0), (4568, 0.0), (4569, 0.0), (4570, 0.0), (4571, 0.0), (4573, 0.0), (4575, 0.0), (4576, 0.0), (4578, 0.0), (4581, 0.0), (4582, 0.0), (4584, 0.0), (4586, 0.0), (4588, 0.0), (4589, 0.0), (4590, 0.0), (4591, 0.0), (4592, 0.0), (4594, 0.0), (4596, 0.0), (4597, 0.0), (4598, 0.0), (4600, 0.0), (4605, 0.0), (4607, 0.0), (4609, 0.0), (4611, 0.0), (4612, 0.0), (4614, 0.0), (4615, 0.0), (4616, 0.0), (4617, 0.0), (4618, 0.0), (4619, 0.0), (4622, 0.0), (4624, 0.0), (4625, 0.0), (4626, 0.0), (4627, 0.0), (4628, 0.0), (4629, 0.0), (4630, 0.0), (4631, 0.0), (4632, 0.0), (4633, 0.0), (4634, 0.0), (4635, 0.0), (4636, 0.0), (4637, 0.0), (4640, 0.0), (4641, 0.0), (4642, 0.0), (4643, 0.0), (4644, 0.0), (4647, 0.0), (4648, 0.0), (4649, 0.0), (4650, 0.0), (4652, 0.0), (4655, 0.0), (4656, 0.0), (4657, 0.0), (4659, 0.0), (4660, 0.0), (4662, 0.0), (4663, 0.0), (4667, 0.0), (4671, 0.0), (4673, 0.0), (4674, 0.0), (4676, 0.0), (4678, 0.0), (4681, 0.0), (4682, 0.0), (4683, 0.0), (4685, 0.0), (4686, 0.0), (4687, 0.0), (4689, 0.0), (4690, 0.0), (4692, 0.0), (4694, 0.0), (4697, 0.0), (4698, 0.0), (4699, 0.0), (4702, 0.0), (4703, 0.0), (4704, 0.0), (4705, 0.0), (4706, 0.0), (4709, 0.0), (4710, 0.0), (4711, 0.0), (4712, 0.0), (4713, 0.0), (4714, 0.0), (4716, 0.0), (4718, 0.0), (4719, 0.0), (4720, 0.0), (4721, 0.0), (4722, 0.0), (4729, 0.0), (4730, 0.0), (4731, 0.0), (4732, 0.0), (4733, 0.0), (4736, 0.0), (4737, 0.0), (4738, 0.0), (4743, 0.0), (4747, 0.0), (4748, 0.0), (4749, 0.0), (4750, 0.0), (4751, 0.0), (4752, 0.0), (4753, 0.0), (4754, 0.0), (4755, 0.0), (4757, 0.0), (4759, 0.0), (4761, 0.0), (4762, 0.0), (4763, 0.0), (4765, 0.0), (4766, 0.0), (4768, 0.0), (4771, 0.0), (4773, 0.0), (4776, 0.0), (4777, 0.0), (4779, 0.0), (4781, 0.0), (4782, 0.0), (4783, 0.0), (4784, 0.0), (4785, 0.0), (4786, 0.0), (4789, 0.0), (4790, 0.0), (4791, 0.0), (4793, 0.0), (4795, 0.0), (4797, 0.0), (4799, 0.0), (4800, 0.0), (4802, 0.0)]\n"
     ]
    }
   ],
   "source": [
    "# This will return a sorted list based on the similarity score\n",
    "\n",
    "sorted_similar_movies = sorted(sim_score, key = lambda x:x[1], reverse = True) \n",
    "print(sorted_similar_movies)"
   ]
  },
  {
   "cell_type": "markdown",
   "id": "7e69b3ad",
   "metadata": {},
   "source": [
    "---"
   ]
  },
  {
   "cell_type": "markdown",
   "id": "473700e3",
   "metadata": {},
   "source": [
    "### Top 30 movies based on similarity score"
   ]
  },
  {
   "cell_type": "code",
   "execution_count": 74,
   "id": "54ae12f5",
   "metadata": {},
   "outputs": [
    {
     "name": "stdout",
     "output_type": "stream",
     "text": [
      "Top-30 movies recommended for you are: \n",
      "\n",
      "1. John Carter\n",
      "2. Heaven is for Real\n",
      "3. Alien\n",
      "4. The Specials\n",
      "5. The Helix... Loaded\n",
      "6. Finding Nemo\n",
      "7. Transformers\n",
      "8. Mission to Mars\n",
      "9. The Astronaut's Wife\n",
      "10. American Psycho\n",
      "11. Max\n",
      "12. The English Patient\n",
      "13. The Last Temptation of Christ\n",
      "14. Enter Nowhere\n",
      "15. The Martian\n",
      "16. Notes on a Scandal\n",
      "17. Sideways\n",
      "18. Spider-Man 3\n",
      "19. Daddy's Home\n",
      "20. We Bought a Zoo\n",
      "21. George of the Jungle\n",
      "22. Treasure Planet\n",
      "23. Don McKay\n",
      "24. Auto Focus\n",
      "25. Savages\n",
      "26. The Covenant\n",
      "27. X-Men Origins: Wolverine\n",
      "28. Daybreakers\n",
      "29. Gravity\n",
      "30. Lone Survivor\n"
     ]
    }
   ],
   "source": [
    "print(\"Top-30 movies recommended for you are: \\n\")\n",
    "i = 1\n",
    "for movie in sorted_similar_movies:\n",
    "  index = movie[0]\n",
    "  title_from_index = df[df.index==index]['title'].values[0]\n",
    "  if(i<=30):\n",
    "    print(\"{}. {}\".format(i, title_from_index))\n",
    "    i+=1"
   ]
  },
  {
   "cell_type": "markdown",
   "id": "32b5614c",
   "metadata": {},
   "source": [
    "---"
   ]
  }
 ],
 "metadata": {
  "kernelspec": {
   "display_name": "Python 3",
   "language": "python",
   "name": "python3"
  },
  "language_info": {
   "codemirror_mode": {
    "name": "ipython",
    "version": 3
   },
   "file_extension": ".py",
   "mimetype": "text/x-python",
   "name": "python",
   "nbconvert_exporter": "python",
   "pygments_lexer": "ipython3",
   "version": "3.8.8"
  }
 },
 "nbformat": 4,
 "nbformat_minor": 5
}
